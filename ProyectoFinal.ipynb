{
  "cells": [
    {
      "cell_type": "markdown",
      "metadata": {
        "id": "view-in-github",
        "colab_type": "text"
      },
      "source": [
        "<a href=\"https://colab.research.google.com/github/ConstanzaGarciaOsses/ProyectoFinal---Suicidios/blob/main/ProyectoFinal.ipynb\" target=\"_parent\"><img src=\"https://colab.research.google.com/assets/colab-badge.svg\" alt=\"Open In Colab\"/></a>"
      ]
    },
    {
      "cell_type": "code",
      "execution_count": 272,
      "metadata": {
        "id": "ITMErI11TME5"
      },
      "outputs": [],
      "source": [
        "# ------------------------------- PROYECTO FINAL: TEMA: SUICIDIOS ------------------------------- #"
      ]
    },
    {
      "cell_type": "code",
      "execution_count": 273,
      "metadata": {
        "id": "sNvTl1b0iHWW"
      },
      "outputs": [],
      "source": [
        "# Primero, cargaremos todas las librerias necesarias para trabajar en nuestro proyecto final. Entiendo que\n",
        "# puedo estar cargando mas de lo necesario, pero en estas circunstancias es mejor que sobre a que falte."
      ]
    },
    {
      "cell_type": "code",
      "execution_count": 274,
      "metadata": {
        "id": "HoedRGPpiWs6"
      },
      "outputs": [],
      "source": [
        "# Importar las librerias más que necesarias:\n",
        "\n",
        "import numpy as np\n",
        "import pandas as pd\n",
        "import matplotlib.pyplot as plt\n",
        "import seaborn as sns\n",
        "from sklearn.model_selection import train_test_split\n",
        "from sklearn.preprocessing import StandardScaler\n",
        "from sklearn.pipeline import make_pipeline\n",
        "from sklearn.linear_model import LinearRegression\n",
        "from sklearn.linear_model import LogisticRegression\n",
        "from sklearn.neighbors import KNeighborsClassifier\n",
        "from sklearn.ensemble import RandomForestClassifier\n",
        "from sklearn.metrics import accuracy_score, precision_score, recall_score, classification_report, ConfusionMatrixDisplay\n",
        "from sklearn.compose import make_column_selector, make_column_transformer\n",
        "from sklearn.preprocessing import LabelEncoder\n",
        "from sklearn.preprocessing import OneHotEncoder\n",
        "from sklearn.impute import SimpleImputer\n",
        "from sklearn.metrics import mean_squared_error\n",
        "from sklearn.preprocessing import LabelEncoder, StandardScaler\n",
        "from sklearn.decomposition import PCA\n",
        "from sklearn.cluster import KMeans\n",
        "from sklearn.metrics import silhouette_score\n",
        "from tensorflow.keras.models import Sequential\n",
        "from tensorflow.keras.layers import Dense\n",
        "from sklearn.compose import ColumnTransformer\n",
        "from tensorflow import keras\n",
        "from tensorflow.keras import layers\n",
        "from tensorflow.keras import regularizers\n",
        "from sklearn.metrics import recall_score\n",
        "from sklearn.metrics import r2_score\n",
        "from sklearn.metrics import mean_absolute_error\n",
        "from sklearn.tree import DecisionTreeClassifier\n",
        "from sklearn.ensemble import RandomForestRegressor"
      ]
    },
    {
      "cell_type": "code",
      "execution_count": 275,
      "metadata": {
        "id": "pzTWF4d2igSq"
      },
      "outputs": [],
      "source": [
        "# A continuacion cargaremos las bases de datos. En esta primera instancia, cargaré mas de una porque\n",
        "# quiero primero explorar los datos antes de tomar la decision sobre cuál trabajar."
      ]
    },
    {
      "cell_type": "code",
      "execution_count": 276,
      "metadata": {
        "id": "pIbtXFYhjGO1"
      },
      "outputs": [],
      "source": [
        "# ===================== Primera base de datos: Suicidios en China ===================== #"
      ]
    },
    {
      "cell_type": "code",
      "execution_count": 277,
      "metadata": {
        "id": "AArp2EMviw6x"
      },
      "outputs": [],
      "source": [
        "df_China = pd.read_csv(\"/content/SuicideChina.csv\")"
      ]
    },
    {
      "cell_type": "code",
      "execution_count": 278,
      "metadata": {
        "id": "Pyz3n1FijPVa",
        "colab": {
          "base_uri": "https://localhost:8080/",
          "height": 206
        },
        "outputId": "d3b74383-f57c-4ac3-99ca-4d15f4856193"
      },
      "outputs": [
        {
          "output_type": "execute_result",
          "data": {
            "text/plain": [
              "   Unnamed: 0  Person_ID Hospitalised Died Urban  Year  Month     Sex  Age  \\\n",
              "0           1          1          yes   no    no  2010     12  female   39   \n",
              "1           2          2           no  yes    no  2009      3    male   83   \n",
              "2           3          3           no  yes    no  2010      2    male   60   \n",
              "3           4          4           no  yes    no  2011      1    male   73   \n",
              "4           5          5          yes   no    no  2009      8    male   51   \n",
              "\n",
              "   Education Occupation        method  \n",
              "0  Secondary  household  Other poison  \n",
              "1    primary    farming       Hanging  \n",
              "2    primary    farming       Hanging  \n",
              "3    primary    farming       Hanging  \n",
              "4  Secondary    farming     Pesticide  "
            ],
            "text/html": [
              "\n",
              "  <div id=\"df-aff66db2-ec71-4d7b-bfc2-0e937fe6dfcf\">\n",
              "    <div class=\"colab-df-container\">\n",
              "      <div>\n",
              "<style scoped>\n",
              "    .dataframe tbody tr th:only-of-type {\n",
              "        vertical-align: middle;\n",
              "    }\n",
              "\n",
              "    .dataframe tbody tr th {\n",
              "        vertical-align: top;\n",
              "    }\n",
              "\n",
              "    .dataframe thead th {\n",
              "        text-align: right;\n",
              "    }\n",
              "</style>\n",
              "<table border=\"1\" class=\"dataframe\">\n",
              "  <thead>\n",
              "    <tr style=\"text-align: right;\">\n",
              "      <th></th>\n",
              "      <th>Unnamed: 0</th>\n",
              "      <th>Person_ID</th>\n",
              "      <th>Hospitalised</th>\n",
              "      <th>Died</th>\n",
              "      <th>Urban</th>\n",
              "      <th>Year</th>\n",
              "      <th>Month</th>\n",
              "      <th>Sex</th>\n",
              "      <th>Age</th>\n",
              "      <th>Education</th>\n",
              "      <th>Occupation</th>\n",
              "      <th>method</th>\n",
              "    </tr>\n",
              "  </thead>\n",
              "  <tbody>\n",
              "    <tr>\n",
              "      <th>0</th>\n",
              "      <td>1</td>\n",
              "      <td>1</td>\n",
              "      <td>yes</td>\n",
              "      <td>no</td>\n",
              "      <td>no</td>\n",
              "      <td>2010</td>\n",
              "      <td>12</td>\n",
              "      <td>female</td>\n",
              "      <td>39</td>\n",
              "      <td>Secondary</td>\n",
              "      <td>household</td>\n",
              "      <td>Other poison</td>\n",
              "    </tr>\n",
              "    <tr>\n",
              "      <th>1</th>\n",
              "      <td>2</td>\n",
              "      <td>2</td>\n",
              "      <td>no</td>\n",
              "      <td>yes</td>\n",
              "      <td>no</td>\n",
              "      <td>2009</td>\n",
              "      <td>3</td>\n",
              "      <td>male</td>\n",
              "      <td>83</td>\n",
              "      <td>primary</td>\n",
              "      <td>farming</td>\n",
              "      <td>Hanging</td>\n",
              "    </tr>\n",
              "    <tr>\n",
              "      <th>2</th>\n",
              "      <td>3</td>\n",
              "      <td>3</td>\n",
              "      <td>no</td>\n",
              "      <td>yes</td>\n",
              "      <td>no</td>\n",
              "      <td>2010</td>\n",
              "      <td>2</td>\n",
              "      <td>male</td>\n",
              "      <td>60</td>\n",
              "      <td>primary</td>\n",
              "      <td>farming</td>\n",
              "      <td>Hanging</td>\n",
              "    </tr>\n",
              "    <tr>\n",
              "      <th>3</th>\n",
              "      <td>4</td>\n",
              "      <td>4</td>\n",
              "      <td>no</td>\n",
              "      <td>yes</td>\n",
              "      <td>no</td>\n",
              "      <td>2011</td>\n",
              "      <td>1</td>\n",
              "      <td>male</td>\n",
              "      <td>73</td>\n",
              "      <td>primary</td>\n",
              "      <td>farming</td>\n",
              "      <td>Hanging</td>\n",
              "    </tr>\n",
              "    <tr>\n",
              "      <th>4</th>\n",
              "      <td>5</td>\n",
              "      <td>5</td>\n",
              "      <td>yes</td>\n",
              "      <td>no</td>\n",
              "      <td>no</td>\n",
              "      <td>2009</td>\n",
              "      <td>8</td>\n",
              "      <td>male</td>\n",
              "      <td>51</td>\n",
              "      <td>Secondary</td>\n",
              "      <td>farming</td>\n",
              "      <td>Pesticide</td>\n",
              "    </tr>\n",
              "  </tbody>\n",
              "</table>\n",
              "</div>\n",
              "      <button class=\"colab-df-convert\" onclick=\"convertToInteractive('df-aff66db2-ec71-4d7b-bfc2-0e937fe6dfcf')\"\n",
              "              title=\"Convert this dataframe to an interactive table.\"\n",
              "              style=\"display:none;\">\n",
              "        \n",
              "  <svg xmlns=\"http://www.w3.org/2000/svg\" height=\"24px\"viewBox=\"0 0 24 24\"\n",
              "       width=\"24px\">\n",
              "    <path d=\"M0 0h24v24H0V0z\" fill=\"none\"/>\n",
              "    <path d=\"M18.56 5.44l.94 2.06.94-2.06 2.06-.94-2.06-.94-.94-2.06-.94 2.06-2.06.94zm-11 1L8.5 8.5l.94-2.06 2.06-.94-2.06-.94L8.5 2.5l-.94 2.06-2.06.94zm10 10l.94 2.06.94-2.06 2.06-.94-2.06-.94-.94-2.06-.94 2.06-2.06.94z\"/><path d=\"M17.41 7.96l-1.37-1.37c-.4-.4-.92-.59-1.43-.59-.52 0-1.04.2-1.43.59L10.3 9.45l-7.72 7.72c-.78.78-.78 2.05 0 2.83L4 21.41c.39.39.9.59 1.41.59.51 0 1.02-.2 1.41-.59l7.78-7.78 2.81-2.81c.8-.78.8-2.07 0-2.86zM5.41 20L4 18.59l7.72-7.72 1.47 1.35L5.41 20z\"/>\n",
              "  </svg>\n",
              "      </button>\n",
              "      \n",
              "  <style>\n",
              "    .colab-df-container {\n",
              "      display:flex;\n",
              "      flex-wrap:wrap;\n",
              "      gap: 12px;\n",
              "    }\n",
              "\n",
              "    .colab-df-convert {\n",
              "      background-color: #E8F0FE;\n",
              "      border: none;\n",
              "      border-radius: 50%;\n",
              "      cursor: pointer;\n",
              "      display: none;\n",
              "      fill: #1967D2;\n",
              "      height: 32px;\n",
              "      padding: 0 0 0 0;\n",
              "      width: 32px;\n",
              "    }\n",
              "\n",
              "    .colab-df-convert:hover {\n",
              "      background-color: #E2EBFA;\n",
              "      box-shadow: 0px 1px 2px rgba(60, 64, 67, 0.3), 0px 1px 3px 1px rgba(60, 64, 67, 0.15);\n",
              "      fill: #174EA6;\n",
              "    }\n",
              "\n",
              "    [theme=dark] .colab-df-convert {\n",
              "      background-color: #3B4455;\n",
              "      fill: #D2E3FC;\n",
              "    }\n",
              "\n",
              "    [theme=dark] .colab-df-convert:hover {\n",
              "      background-color: #434B5C;\n",
              "      box-shadow: 0px 1px 3px 1px rgba(0, 0, 0, 0.15);\n",
              "      filter: drop-shadow(0px 1px 2px rgba(0, 0, 0, 0.3));\n",
              "      fill: #FFFFFF;\n",
              "    }\n",
              "  </style>\n",
              "\n",
              "      <script>\n",
              "        const buttonEl =\n",
              "          document.querySelector('#df-aff66db2-ec71-4d7b-bfc2-0e937fe6dfcf button.colab-df-convert');\n",
              "        buttonEl.style.display =\n",
              "          google.colab.kernel.accessAllowed ? 'block' : 'none';\n",
              "\n",
              "        async function convertToInteractive(key) {\n",
              "          const element = document.querySelector('#df-aff66db2-ec71-4d7b-bfc2-0e937fe6dfcf');\n",
              "          const dataTable =\n",
              "            await google.colab.kernel.invokeFunction('convertToInteractive',\n",
              "                                                     [key], {});\n",
              "          if (!dataTable) return;\n",
              "\n",
              "          const docLinkHtml = 'Like what you see? Visit the ' +\n",
              "            '<a target=\"_blank\" href=https://colab.research.google.com/notebooks/data_table.ipynb>data table notebook</a>'\n",
              "            + ' to learn more about interactive tables.';\n",
              "          element.innerHTML = '';\n",
              "          dataTable['output_type'] = 'display_data';\n",
              "          await google.colab.output.renderOutput(dataTable, element);\n",
              "          const docLink = document.createElement('div');\n",
              "          docLink.innerHTML = docLinkHtml;\n",
              "          element.appendChild(docLink);\n",
              "        }\n",
              "      </script>\n",
              "    </div>\n",
              "  </div>\n",
              "  "
            ]
          },
          "metadata": {},
          "execution_count": 278
        }
      ],
      "source": [
        "df_China.head()"
      ]
    },
    {
      "cell_type": "code",
      "execution_count": 279,
      "metadata": {
        "id": "O7goTtg4jFeK",
        "colab": {
          "base_uri": "https://localhost:8080/"
        },
        "outputId": "6da9fbf0-cf5f-4be1-c5ad-c67e4700a5dd"
      },
      "outputs": [
        {
          "output_type": "execute_result",
          "data": {
            "text/plain": [
              "(2571, 12)"
            ]
          },
          "metadata": {},
          "execution_count": 279
        }
      ],
      "source": [
        "df_China.shape"
      ]
    },
    {
      "cell_type": "code",
      "execution_count": 280,
      "metadata": {
        "id": "UKGlqz42jWOi",
        "colab": {
          "base_uri": "https://localhost:8080/"
        },
        "outputId": "779ad3ff-b427-4195-a2de-ebcac624c989"
      },
      "outputs": [
        {
          "output_type": "execute_result",
          "data": {
            "text/plain": [
              "0"
            ]
          },
          "metadata": {},
          "execution_count": 280
        }
      ],
      "source": [
        "df_China.duplicated().sum()"
      ]
    },
    {
      "cell_type": "code",
      "execution_count": 281,
      "metadata": {
        "id": "c3ptdU3JjaG-",
        "colab": {
          "base_uri": "https://localhost:8080/"
        },
        "outputId": "d1e42457-f8bb-44d8-c786-2c5c780ad1ad"
      },
      "outputs": [
        {
          "output_type": "execute_result",
          "data": {
            "text/plain": [
              "Unnamed: 0      0\n",
              "Person_ID       0\n",
              "Hospitalised    0\n",
              "Died            0\n",
              "Urban           0\n",
              "Year            0\n",
              "Month           0\n",
              "Sex             0\n",
              "Age             0\n",
              "Education       0\n",
              "Occupation      0\n",
              "method          0\n",
              "dtype: int64"
            ]
          },
          "metadata": {},
          "execution_count": 281
        }
      ],
      "source": [
        "df_China.isna().sum()"
      ]
    },
    {
      "cell_type": "code",
      "execution_count": 282,
      "metadata": {
        "id": "7P2xVQKfjhPP",
        "colab": {
          "base_uri": "https://localhost:8080/"
        },
        "outputId": "1f2af523-4880-4936-974c-6265f0f2ad9a"
      },
      "outputs": [
        {
          "output_type": "stream",
          "name": "stdout",
          "text": [
            "<class 'pandas.core.frame.DataFrame'>\n",
            "RangeIndex: 2571 entries, 0 to 2570\n",
            "Data columns (total 12 columns):\n",
            " #   Column        Non-Null Count  Dtype \n",
            "---  ------        --------------  ----- \n",
            " 0   Unnamed: 0    2571 non-null   int64 \n",
            " 1   Person_ID     2571 non-null   int64 \n",
            " 2   Hospitalised  2571 non-null   object\n",
            " 3   Died          2571 non-null   object\n",
            " 4   Urban         2571 non-null   object\n",
            " 5   Year          2571 non-null   int64 \n",
            " 6   Month         2571 non-null   int64 \n",
            " 7   Sex           2571 non-null   object\n",
            " 8   Age           2571 non-null   int64 \n",
            " 9   Education     2571 non-null   object\n",
            " 10  Occupation    2571 non-null   object\n",
            " 11  method        2571 non-null   object\n",
            "dtypes: int64(5), object(7)\n",
            "memory usage: 241.2+ KB\n"
          ]
        }
      ],
      "source": [
        "df_China.info()"
      ]
    },
    {
      "cell_type": "code",
      "execution_count": 283,
      "metadata": {
        "id": "bYnK5z_kjmVj",
        "colab": {
          "base_uri": "https://localhost:8080/"
        },
        "outputId": "57d444d0-2f5a-48d3-f3fe-3dd3e67b6c3e"
      },
      "outputs": [
        {
          "output_type": "execute_result",
          "data": {
            "text/plain": [
              "Pesticide        1768\n",
              "Hanging           431\n",
              "Other poison      146\n",
              "Poison unspec     107\n",
              "unspecified        48\n",
              "Cutting            29\n",
              "Drowning           26\n",
              "Jumping            15\n",
              "Others              1\n",
              "Name: method, dtype: int64"
            ]
          },
          "metadata": {},
          "execution_count": 283
        }
      ],
      "source": [
        "df_China[\"method\"].value_counts()"
      ]
    },
    {
      "cell_type": "code",
      "execution_count": 284,
      "metadata": {
        "id": "8DtdzVVbjwnG",
        "colab": {
          "base_uri": "https://localhost:8080/"
        },
        "outputId": "108a8a6a-90b4-426d-a541-68e58f6a80b7"
      },
      "outputs": [
        {
          "output_type": "execute_result",
          "data": {
            "text/plain": [
              "no     1315\n",
              "yes    1256\n",
              "Name: Died, dtype: int64"
            ]
          },
          "metadata": {},
          "execution_count": 284
        }
      ],
      "source": [
        "df_China[\"Died\"].value_counts()"
      ]
    },
    {
      "cell_type": "code",
      "execution_count": 285,
      "metadata": {
        "id": "8jOk0Rc1j6Iv",
        "colab": {
          "base_uri": "https://localhost:8080/"
        },
        "outputId": "985c8120-8c47-4d06-ff17-0cbf339ef961"
      },
      "outputs": [
        {
          "output_type": "execute_result",
          "data": {
            "text/plain": [
              "2010    956\n",
              "2011    866\n",
              "2009    749\n",
              "Name: Year, dtype: int64"
            ]
          },
          "metadata": {},
          "execution_count": 285
        }
      ],
      "source": [
        "df_China[\"Year\"].value_counts()"
      ]
    },
    {
      "cell_type": "code",
      "execution_count": 286,
      "metadata": {
        "id": "9nlD0fT6j70T",
        "colab": {
          "base_uri": "https://localhost:8080/"
        },
        "outputId": "6afc413e-a3c5-42d5-f6b1-a1d144e71c4b"
      },
      "outputs": [
        {
          "output_type": "execute_result",
          "data": {
            "text/plain": [
              "female    1328\n",
              "male      1243\n",
              "Name: Sex, dtype: int64"
            ]
          },
          "metadata": {},
          "execution_count": 286
        }
      ],
      "source": [
        "df_China[\"Sex\"].value_counts()"
      ]
    },
    {
      "cell_type": "code",
      "execution_count": 287,
      "metadata": {
        "id": "4O95THDfj9CK",
        "colab": {
          "base_uri": "https://localhost:8080/"
        },
        "outputId": "5d0a455e-b333-4e0b-c501-30cb5f2fe5af"
      },
      "outputs": [
        {
          "output_type": "execute_result",
          "data": {
            "text/plain": [
              "count    2571.000000\n",
              "mean       52.630883\n",
              "std        19.783878\n",
              "min        12.000000\n",
              "25%        37.000000\n",
              "50%        53.000000\n",
              "75%        69.000000\n",
              "max       100.000000\n",
              "Name: Age, dtype: float64"
            ]
          },
          "metadata": {},
          "execution_count": 287
        }
      ],
      "source": [
        "df_China[\"Age\"].describe()"
      ]
    },
    {
      "cell_type": "code",
      "execution_count": 288,
      "metadata": {
        "id": "3IC6ualdkWhM"
      },
      "outputs": [],
      "source": [
        "# Me resulta bastante interesante este dataset."
      ]
    },
    {
      "cell_type": "code",
      "execution_count": 289,
      "metadata": {
        "id": "UM-RRFThkZrh"
      },
      "outputs": [],
      "source": [
        "# ===================== Segunda base de datos: Suicidios Rate ===================== #"
      ]
    },
    {
      "cell_type": "code",
      "execution_count": 290,
      "metadata": {
        "id": "vImswiM_ki1d"
      },
      "outputs": [],
      "source": [
        "df_rate = pd.read_csv(\"/content/Suicide_Rate.csv\")"
      ]
    },
    {
      "cell_type": "code",
      "execution_count": 291,
      "metadata": {
        "id": "UI06GDpFknSG",
        "colab": {
          "base_uri": "https://localhost:8080/",
          "height": 206
        },
        "outputId": "7368bf59-054f-42fd-f291-a023e8816b0d"
      },
      "outputs": [
        {
          "output_type": "execute_result",
          "data": {
            "text/plain": [
              "  ParentLocation Location  Period         Sex  FactValueNumeric  \\\n",
              "0         Africa   Angola    2019  Both sexes             12.55   \n",
              "1         Africa   Angola    2019        Male             21.71   \n",
              "2         Africa   Angola    2019      Female              4.68   \n",
              "3         Africa   Angola    2018  Both sexes             12.35   \n",
              "4         Africa   Angola    2018        Male             21.28   \n",
              "\n",
              "   FactValueNumericLow  FactValueNumericHigh  \n",
              "0                 7.70                 19.43  \n",
              "1                13.48                 33.23  \n",
              "2                 2.74                  7.49  \n",
              "3                 7.58                 19.05  \n",
              "4                13.21                 32.49  "
            ],
            "text/html": [
              "\n",
              "  <div id=\"df-2f4526ba-cfd0-4c0e-a89a-f9e85d183a18\">\n",
              "    <div class=\"colab-df-container\">\n",
              "      <div>\n",
              "<style scoped>\n",
              "    .dataframe tbody tr th:only-of-type {\n",
              "        vertical-align: middle;\n",
              "    }\n",
              "\n",
              "    .dataframe tbody tr th {\n",
              "        vertical-align: top;\n",
              "    }\n",
              "\n",
              "    .dataframe thead th {\n",
              "        text-align: right;\n",
              "    }\n",
              "</style>\n",
              "<table border=\"1\" class=\"dataframe\">\n",
              "  <thead>\n",
              "    <tr style=\"text-align: right;\">\n",
              "      <th></th>\n",
              "      <th>ParentLocation</th>\n",
              "      <th>Location</th>\n",
              "      <th>Period</th>\n",
              "      <th>Sex</th>\n",
              "      <th>FactValueNumeric</th>\n",
              "      <th>FactValueNumericLow</th>\n",
              "      <th>FactValueNumericHigh</th>\n",
              "    </tr>\n",
              "  </thead>\n",
              "  <tbody>\n",
              "    <tr>\n",
              "      <th>0</th>\n",
              "      <td>Africa</td>\n",
              "      <td>Angola</td>\n",
              "      <td>2019</td>\n",
              "      <td>Both sexes</td>\n",
              "      <td>12.55</td>\n",
              "      <td>7.70</td>\n",
              "      <td>19.43</td>\n",
              "    </tr>\n",
              "    <tr>\n",
              "      <th>1</th>\n",
              "      <td>Africa</td>\n",
              "      <td>Angola</td>\n",
              "      <td>2019</td>\n",
              "      <td>Male</td>\n",
              "      <td>21.71</td>\n",
              "      <td>13.48</td>\n",
              "      <td>33.23</td>\n",
              "    </tr>\n",
              "    <tr>\n",
              "      <th>2</th>\n",
              "      <td>Africa</td>\n",
              "      <td>Angola</td>\n",
              "      <td>2019</td>\n",
              "      <td>Female</td>\n",
              "      <td>4.68</td>\n",
              "      <td>2.74</td>\n",
              "      <td>7.49</td>\n",
              "    </tr>\n",
              "    <tr>\n",
              "      <th>3</th>\n",
              "      <td>Africa</td>\n",
              "      <td>Angola</td>\n",
              "      <td>2018</td>\n",
              "      <td>Both sexes</td>\n",
              "      <td>12.35</td>\n",
              "      <td>7.58</td>\n",
              "      <td>19.05</td>\n",
              "    </tr>\n",
              "    <tr>\n",
              "      <th>4</th>\n",
              "      <td>Africa</td>\n",
              "      <td>Angola</td>\n",
              "      <td>2018</td>\n",
              "      <td>Male</td>\n",
              "      <td>21.28</td>\n",
              "      <td>13.21</td>\n",
              "      <td>32.49</td>\n",
              "    </tr>\n",
              "  </tbody>\n",
              "</table>\n",
              "</div>\n",
              "      <button class=\"colab-df-convert\" onclick=\"convertToInteractive('df-2f4526ba-cfd0-4c0e-a89a-f9e85d183a18')\"\n",
              "              title=\"Convert this dataframe to an interactive table.\"\n",
              "              style=\"display:none;\">\n",
              "        \n",
              "  <svg xmlns=\"http://www.w3.org/2000/svg\" height=\"24px\"viewBox=\"0 0 24 24\"\n",
              "       width=\"24px\">\n",
              "    <path d=\"M0 0h24v24H0V0z\" fill=\"none\"/>\n",
              "    <path d=\"M18.56 5.44l.94 2.06.94-2.06 2.06-.94-2.06-.94-.94-2.06-.94 2.06-2.06.94zm-11 1L8.5 8.5l.94-2.06 2.06-.94-2.06-.94L8.5 2.5l-.94 2.06-2.06.94zm10 10l.94 2.06.94-2.06 2.06-.94-2.06-.94-.94-2.06-.94 2.06-2.06.94z\"/><path d=\"M17.41 7.96l-1.37-1.37c-.4-.4-.92-.59-1.43-.59-.52 0-1.04.2-1.43.59L10.3 9.45l-7.72 7.72c-.78.78-.78 2.05 0 2.83L4 21.41c.39.39.9.59 1.41.59.51 0 1.02-.2 1.41-.59l7.78-7.78 2.81-2.81c.8-.78.8-2.07 0-2.86zM5.41 20L4 18.59l7.72-7.72 1.47 1.35L5.41 20z\"/>\n",
              "  </svg>\n",
              "      </button>\n",
              "      \n",
              "  <style>\n",
              "    .colab-df-container {\n",
              "      display:flex;\n",
              "      flex-wrap:wrap;\n",
              "      gap: 12px;\n",
              "    }\n",
              "\n",
              "    .colab-df-convert {\n",
              "      background-color: #E8F0FE;\n",
              "      border: none;\n",
              "      border-radius: 50%;\n",
              "      cursor: pointer;\n",
              "      display: none;\n",
              "      fill: #1967D2;\n",
              "      height: 32px;\n",
              "      padding: 0 0 0 0;\n",
              "      width: 32px;\n",
              "    }\n",
              "\n",
              "    .colab-df-convert:hover {\n",
              "      background-color: #E2EBFA;\n",
              "      box-shadow: 0px 1px 2px rgba(60, 64, 67, 0.3), 0px 1px 3px 1px rgba(60, 64, 67, 0.15);\n",
              "      fill: #174EA6;\n",
              "    }\n",
              "\n",
              "    [theme=dark] .colab-df-convert {\n",
              "      background-color: #3B4455;\n",
              "      fill: #D2E3FC;\n",
              "    }\n",
              "\n",
              "    [theme=dark] .colab-df-convert:hover {\n",
              "      background-color: #434B5C;\n",
              "      box-shadow: 0px 1px 3px 1px rgba(0, 0, 0, 0.15);\n",
              "      filter: drop-shadow(0px 1px 2px rgba(0, 0, 0, 0.3));\n",
              "      fill: #FFFFFF;\n",
              "    }\n",
              "  </style>\n",
              "\n",
              "      <script>\n",
              "        const buttonEl =\n",
              "          document.querySelector('#df-2f4526ba-cfd0-4c0e-a89a-f9e85d183a18 button.colab-df-convert');\n",
              "        buttonEl.style.display =\n",
              "          google.colab.kernel.accessAllowed ? 'block' : 'none';\n",
              "\n",
              "        async function convertToInteractive(key) {\n",
              "          const element = document.querySelector('#df-2f4526ba-cfd0-4c0e-a89a-f9e85d183a18');\n",
              "          const dataTable =\n",
              "            await google.colab.kernel.invokeFunction('convertToInteractive',\n",
              "                                                     [key], {});\n",
              "          if (!dataTable) return;\n",
              "\n",
              "          const docLinkHtml = 'Like what you see? Visit the ' +\n",
              "            '<a target=\"_blank\" href=https://colab.research.google.com/notebooks/data_table.ipynb>data table notebook</a>'\n",
              "            + ' to learn more about interactive tables.';\n",
              "          element.innerHTML = '';\n",
              "          dataTable['output_type'] = 'display_data';\n",
              "          await google.colab.output.renderOutput(dataTable, element);\n",
              "          const docLink = document.createElement('div');\n",
              "          docLink.innerHTML = docLinkHtml;\n",
              "          element.appendChild(docLink);\n",
              "        }\n",
              "      </script>\n",
              "    </div>\n",
              "  </div>\n",
              "  "
            ]
          },
          "metadata": {},
          "execution_count": 291
        }
      ],
      "source": [
        "df_rate.head()"
      ]
    },
    {
      "cell_type": "code",
      "execution_count": 292,
      "metadata": {
        "id": "SjPZvN-Dkuww",
        "colab": {
          "base_uri": "https://localhost:8080/"
        },
        "outputId": "cb0501d0-79f6-4983-e798-64217269db1a"
      },
      "outputs": [
        {
          "output_type": "execute_result",
          "data": {
            "text/plain": [
              "Europe                   3000\n",
              "Africa                   2820\n",
              "Americas                 1980\n",
              "Eastern Mediterranean    1260\n",
              "Western Pacific          1260\n",
              "South-East Asia           660\n",
              "Name: ParentLocation, dtype: int64"
            ]
          },
          "metadata": {},
          "execution_count": 292
        }
      ],
      "source": [
        "df_rate[\"ParentLocation\"].value_counts()"
      ]
    },
    {
      "cell_type": "code",
      "execution_count": 293,
      "metadata": {
        "id": "RrMkgJVilos1",
        "colab": {
          "base_uri": "https://localhost:8080/",
          "height": 300
        },
        "outputId": "12eb4c25-ccf2-4ed7-8736-7effb9ad0171"
      },
      "outputs": [
        {
          "output_type": "execute_result",
          "data": {
            "text/plain": [
              "            Period  FactValueNumeric  FactValueNumericLow  \\\n",
              "count    60.000000         60.000000            60.000000   \n",
              "mean   2009.500000         10.030833             7.924500   \n",
              "std       5.814943          3.017365             2.140704   \n",
              "min    2000.000000          4.800000             3.760000   \n",
              "25%    2004.750000          7.575000             6.290000   \n",
              "50%    2009.500000          9.825000             8.090000   \n",
              "75%    2014.250000         12.530000             9.900000   \n",
              "max    2019.000000         15.480000            12.640000   \n",
              "\n",
              "       FactValueNumericHigh  \n",
              "count             60.000000  \n",
              "mean              12.043000  \n",
              "std                3.465703  \n",
              "min                5.940000  \n",
              "25%                9.060000  \n",
              "50%               12.050000  \n",
              "75%               14.892500  \n",
              "max               18.030000  "
            ],
            "text/html": [
              "\n",
              "  <div id=\"df-5b8a9c3b-c105-44b5-a06a-e6a9b320cef1\">\n",
              "    <div class=\"colab-df-container\">\n",
              "      <div>\n",
              "<style scoped>\n",
              "    .dataframe tbody tr th:only-of-type {\n",
              "        vertical-align: middle;\n",
              "    }\n",
              "\n",
              "    .dataframe tbody tr th {\n",
              "        vertical-align: top;\n",
              "    }\n",
              "\n",
              "    .dataframe thead th {\n",
              "        text-align: right;\n",
              "    }\n",
              "</style>\n",
              "<table border=\"1\" class=\"dataframe\">\n",
              "  <thead>\n",
              "    <tr style=\"text-align: right;\">\n",
              "      <th></th>\n",
              "      <th>Period</th>\n",
              "      <th>FactValueNumeric</th>\n",
              "      <th>FactValueNumericLow</th>\n",
              "      <th>FactValueNumericHigh</th>\n",
              "    </tr>\n",
              "  </thead>\n",
              "  <tbody>\n",
              "    <tr>\n",
              "      <th>count</th>\n",
              "      <td>60.000000</td>\n",
              "      <td>60.000000</td>\n",
              "      <td>60.000000</td>\n",
              "      <td>60.000000</td>\n",
              "    </tr>\n",
              "    <tr>\n",
              "      <th>mean</th>\n",
              "      <td>2009.500000</td>\n",
              "      <td>10.030833</td>\n",
              "      <td>7.924500</td>\n",
              "      <td>12.043000</td>\n",
              "    </tr>\n",
              "    <tr>\n",
              "      <th>std</th>\n",
              "      <td>5.814943</td>\n",
              "      <td>3.017365</td>\n",
              "      <td>2.140704</td>\n",
              "      <td>3.465703</td>\n",
              "    </tr>\n",
              "    <tr>\n",
              "      <th>min</th>\n",
              "      <td>2000.000000</td>\n",
              "      <td>4.800000</td>\n",
              "      <td>3.760000</td>\n",
              "      <td>5.940000</td>\n",
              "    </tr>\n",
              "    <tr>\n",
              "      <th>25%</th>\n",
              "      <td>2004.750000</td>\n",
              "      <td>7.575000</td>\n",
              "      <td>6.290000</td>\n",
              "      <td>9.060000</td>\n",
              "    </tr>\n",
              "    <tr>\n",
              "      <th>50%</th>\n",
              "      <td>2009.500000</td>\n",
              "      <td>9.825000</td>\n",
              "      <td>8.090000</td>\n",
              "      <td>12.050000</td>\n",
              "    </tr>\n",
              "    <tr>\n",
              "      <th>75%</th>\n",
              "      <td>2014.250000</td>\n",
              "      <td>12.530000</td>\n",
              "      <td>9.900000</td>\n",
              "      <td>14.892500</td>\n",
              "    </tr>\n",
              "    <tr>\n",
              "      <th>max</th>\n",
              "      <td>2019.000000</td>\n",
              "      <td>15.480000</td>\n",
              "      <td>12.640000</td>\n",
              "      <td>18.030000</td>\n",
              "    </tr>\n",
              "  </tbody>\n",
              "</table>\n",
              "</div>\n",
              "      <button class=\"colab-df-convert\" onclick=\"convertToInteractive('df-5b8a9c3b-c105-44b5-a06a-e6a9b320cef1')\"\n",
              "              title=\"Convert this dataframe to an interactive table.\"\n",
              "              style=\"display:none;\">\n",
              "        \n",
              "  <svg xmlns=\"http://www.w3.org/2000/svg\" height=\"24px\"viewBox=\"0 0 24 24\"\n",
              "       width=\"24px\">\n",
              "    <path d=\"M0 0h24v24H0V0z\" fill=\"none\"/>\n",
              "    <path d=\"M18.56 5.44l.94 2.06.94-2.06 2.06-.94-2.06-.94-.94-2.06-.94 2.06-2.06.94zm-11 1L8.5 8.5l.94-2.06 2.06-.94-2.06-.94L8.5 2.5l-.94 2.06-2.06.94zm10 10l.94 2.06.94-2.06 2.06-.94-2.06-.94-.94-2.06-.94 2.06-2.06.94z\"/><path d=\"M17.41 7.96l-1.37-1.37c-.4-.4-.92-.59-1.43-.59-.52 0-1.04.2-1.43.59L10.3 9.45l-7.72 7.72c-.78.78-.78 2.05 0 2.83L4 21.41c.39.39.9.59 1.41.59.51 0 1.02-.2 1.41-.59l7.78-7.78 2.81-2.81c.8-.78.8-2.07 0-2.86zM5.41 20L4 18.59l7.72-7.72 1.47 1.35L5.41 20z\"/>\n",
              "  </svg>\n",
              "      </button>\n",
              "      \n",
              "  <style>\n",
              "    .colab-df-container {\n",
              "      display:flex;\n",
              "      flex-wrap:wrap;\n",
              "      gap: 12px;\n",
              "    }\n",
              "\n",
              "    .colab-df-convert {\n",
              "      background-color: #E8F0FE;\n",
              "      border: none;\n",
              "      border-radius: 50%;\n",
              "      cursor: pointer;\n",
              "      display: none;\n",
              "      fill: #1967D2;\n",
              "      height: 32px;\n",
              "      padding: 0 0 0 0;\n",
              "      width: 32px;\n",
              "    }\n",
              "\n",
              "    .colab-df-convert:hover {\n",
              "      background-color: #E2EBFA;\n",
              "      box-shadow: 0px 1px 2px rgba(60, 64, 67, 0.3), 0px 1px 3px 1px rgba(60, 64, 67, 0.15);\n",
              "      fill: #174EA6;\n",
              "    }\n",
              "\n",
              "    [theme=dark] .colab-df-convert {\n",
              "      background-color: #3B4455;\n",
              "      fill: #D2E3FC;\n",
              "    }\n",
              "\n",
              "    [theme=dark] .colab-df-convert:hover {\n",
              "      background-color: #434B5C;\n",
              "      box-shadow: 0px 1px 3px 1px rgba(0, 0, 0, 0.15);\n",
              "      filter: drop-shadow(0px 1px 2px rgba(0, 0, 0, 0.3));\n",
              "      fill: #FFFFFF;\n",
              "    }\n",
              "  </style>\n",
              "\n",
              "      <script>\n",
              "        const buttonEl =\n",
              "          document.querySelector('#df-5b8a9c3b-c105-44b5-a06a-e6a9b320cef1 button.colab-df-convert');\n",
              "        buttonEl.style.display =\n",
              "          google.colab.kernel.accessAllowed ? 'block' : 'none';\n",
              "\n",
              "        async function convertToInteractive(key) {\n",
              "          const element = document.querySelector('#df-5b8a9c3b-c105-44b5-a06a-e6a9b320cef1');\n",
              "          const dataTable =\n",
              "            await google.colab.kernel.invokeFunction('convertToInteractive',\n",
              "                                                     [key], {});\n",
              "          if (!dataTable) return;\n",
              "\n",
              "          const docLinkHtml = 'Like what you see? Visit the ' +\n",
              "            '<a target=\"_blank\" href=https://colab.research.google.com/notebooks/data_table.ipynb>data table notebook</a>'\n",
              "            + ' to learn more about interactive tables.';\n",
              "          element.innerHTML = '';\n",
              "          dataTable['output_type'] = 'display_data';\n",
              "          await google.colab.output.renderOutput(dataTable, element);\n",
              "          const docLink = document.createElement('div');\n",
              "          docLink.innerHTML = docLinkHtml;\n",
              "          element.appendChild(docLink);\n",
              "        }\n",
              "      </script>\n",
              "    </div>\n",
              "  </div>\n",
              "  "
            ]
          },
          "metadata": {},
          "execution_count": 293
        }
      ],
      "source": [
        "df_rate.loc[(df_rate['Location'] == \"China\")].describe()"
      ]
    },
    {
      "cell_type": "code",
      "execution_count": 294,
      "metadata": {
        "id": "-YulVEubmEx9"
      },
      "outputs": [],
      "source": [
        "# En este codigo que no me gustó tanto tengo 60 datos de China. Pero las demas columnas siento que\n",
        "# no me proporcionan informacion relevante que pudiera añadir al database original."
      ]
    },
    {
      "cell_type": "code",
      "execution_count": 295,
      "metadata": {
        "id": "jqPZMJJ4mIBk"
      },
      "outputs": [],
      "source": [
        "# ===================== Segunda base de datos: Master (suicidios) ===================== #"
      ]
    },
    {
      "cell_type": "code",
      "execution_count": 296,
      "metadata": {
        "id": "CbSGlPI7mPwk"
      },
      "outputs": [],
      "source": [
        "df_master = pd.read_csv(\"/content/master.csv\")"
      ]
    },
    {
      "cell_type": "code",
      "execution_count": 297,
      "metadata": {
        "id": "EdN3OLGumVwr",
        "colab": {
          "base_uri": "https://localhost:8080/",
          "height": 461
        },
        "outputId": "3261c144-c4ce-4e59-be5c-ff3d3e672464"
      },
      "outputs": [
        {
          "output_type": "execute_result",
          "data": {
            "text/plain": [
              "   country  year     sex          age  suicides_no  population  \\\n",
              "0  Albania  1987    male  15-24 years           21      312900   \n",
              "1  Albania  1987    male  35-54 years           16      308000   \n",
              "2  Albania  1987  female  15-24 years           14      289700   \n",
              "3  Albania  1987    male    75+ years            1       21800   \n",
              "4  Albania  1987    male  25-34 years            9      274300   \n",
              "\n",
              "   suicides/100k pop country-year  HDI for year  gdp_for_year ($)   \\\n",
              "0               6.71  Albania1987           NaN      2,156,624,900   \n",
              "1               5.19  Albania1987           NaN      2,156,624,900   \n",
              "2               4.83  Albania1987           NaN      2,156,624,900   \n",
              "3               4.59  Albania1987           NaN      2,156,624,900   \n",
              "4               3.28  Albania1987           NaN      2,156,624,900   \n",
              "\n",
              "   gdp_per_capita ($)       generation  \n",
              "0                 796     Generation X  \n",
              "1                 796           Silent  \n",
              "2                 796     Generation X  \n",
              "3                 796  G.I. Generation  \n",
              "4                 796          Boomers  "
            ],
            "text/html": [
              "\n",
              "  <div id=\"df-2fb1c072-1a55-4d16-beeb-bb7b5e3a6a15\">\n",
              "    <div class=\"colab-df-container\">\n",
              "      <div>\n",
              "<style scoped>\n",
              "    .dataframe tbody tr th:only-of-type {\n",
              "        vertical-align: middle;\n",
              "    }\n",
              "\n",
              "    .dataframe tbody tr th {\n",
              "        vertical-align: top;\n",
              "    }\n",
              "\n",
              "    .dataframe thead th {\n",
              "        text-align: right;\n",
              "    }\n",
              "</style>\n",
              "<table border=\"1\" class=\"dataframe\">\n",
              "  <thead>\n",
              "    <tr style=\"text-align: right;\">\n",
              "      <th></th>\n",
              "      <th>country</th>\n",
              "      <th>year</th>\n",
              "      <th>sex</th>\n",
              "      <th>age</th>\n",
              "      <th>suicides_no</th>\n",
              "      <th>population</th>\n",
              "      <th>suicides/100k pop</th>\n",
              "      <th>country-year</th>\n",
              "      <th>HDI for year</th>\n",
              "      <th>gdp_for_year ($)</th>\n",
              "      <th>gdp_per_capita ($)</th>\n",
              "      <th>generation</th>\n",
              "    </tr>\n",
              "  </thead>\n",
              "  <tbody>\n",
              "    <tr>\n",
              "      <th>0</th>\n",
              "      <td>Albania</td>\n",
              "      <td>1987</td>\n",
              "      <td>male</td>\n",
              "      <td>15-24 years</td>\n",
              "      <td>21</td>\n",
              "      <td>312900</td>\n",
              "      <td>6.71</td>\n",
              "      <td>Albania1987</td>\n",
              "      <td>NaN</td>\n",
              "      <td>2,156,624,900</td>\n",
              "      <td>796</td>\n",
              "      <td>Generation X</td>\n",
              "    </tr>\n",
              "    <tr>\n",
              "      <th>1</th>\n",
              "      <td>Albania</td>\n",
              "      <td>1987</td>\n",
              "      <td>male</td>\n",
              "      <td>35-54 years</td>\n",
              "      <td>16</td>\n",
              "      <td>308000</td>\n",
              "      <td>5.19</td>\n",
              "      <td>Albania1987</td>\n",
              "      <td>NaN</td>\n",
              "      <td>2,156,624,900</td>\n",
              "      <td>796</td>\n",
              "      <td>Silent</td>\n",
              "    </tr>\n",
              "    <tr>\n",
              "      <th>2</th>\n",
              "      <td>Albania</td>\n",
              "      <td>1987</td>\n",
              "      <td>female</td>\n",
              "      <td>15-24 years</td>\n",
              "      <td>14</td>\n",
              "      <td>289700</td>\n",
              "      <td>4.83</td>\n",
              "      <td>Albania1987</td>\n",
              "      <td>NaN</td>\n",
              "      <td>2,156,624,900</td>\n",
              "      <td>796</td>\n",
              "      <td>Generation X</td>\n",
              "    </tr>\n",
              "    <tr>\n",
              "      <th>3</th>\n",
              "      <td>Albania</td>\n",
              "      <td>1987</td>\n",
              "      <td>male</td>\n",
              "      <td>75+ years</td>\n",
              "      <td>1</td>\n",
              "      <td>21800</td>\n",
              "      <td>4.59</td>\n",
              "      <td>Albania1987</td>\n",
              "      <td>NaN</td>\n",
              "      <td>2,156,624,900</td>\n",
              "      <td>796</td>\n",
              "      <td>G.I. Generation</td>\n",
              "    </tr>\n",
              "    <tr>\n",
              "      <th>4</th>\n",
              "      <td>Albania</td>\n",
              "      <td>1987</td>\n",
              "      <td>male</td>\n",
              "      <td>25-34 years</td>\n",
              "      <td>9</td>\n",
              "      <td>274300</td>\n",
              "      <td>3.28</td>\n",
              "      <td>Albania1987</td>\n",
              "      <td>NaN</td>\n",
              "      <td>2,156,624,900</td>\n",
              "      <td>796</td>\n",
              "      <td>Boomers</td>\n",
              "    </tr>\n",
              "  </tbody>\n",
              "</table>\n",
              "</div>\n",
              "      <button class=\"colab-df-convert\" onclick=\"convertToInteractive('df-2fb1c072-1a55-4d16-beeb-bb7b5e3a6a15')\"\n",
              "              title=\"Convert this dataframe to an interactive table.\"\n",
              "              style=\"display:none;\">\n",
              "        \n",
              "  <svg xmlns=\"http://www.w3.org/2000/svg\" height=\"24px\"viewBox=\"0 0 24 24\"\n",
              "       width=\"24px\">\n",
              "    <path d=\"M0 0h24v24H0V0z\" fill=\"none\"/>\n",
              "    <path d=\"M18.56 5.44l.94 2.06.94-2.06 2.06-.94-2.06-.94-.94-2.06-.94 2.06-2.06.94zm-11 1L8.5 8.5l.94-2.06 2.06-.94-2.06-.94L8.5 2.5l-.94 2.06-2.06.94zm10 10l.94 2.06.94-2.06 2.06-.94-2.06-.94-.94-2.06-.94 2.06-2.06.94z\"/><path d=\"M17.41 7.96l-1.37-1.37c-.4-.4-.92-.59-1.43-.59-.52 0-1.04.2-1.43.59L10.3 9.45l-7.72 7.72c-.78.78-.78 2.05 0 2.83L4 21.41c.39.39.9.59 1.41.59.51 0 1.02-.2 1.41-.59l7.78-7.78 2.81-2.81c.8-.78.8-2.07 0-2.86zM5.41 20L4 18.59l7.72-7.72 1.47 1.35L5.41 20z\"/>\n",
              "  </svg>\n",
              "      </button>\n",
              "      \n",
              "  <style>\n",
              "    .colab-df-container {\n",
              "      display:flex;\n",
              "      flex-wrap:wrap;\n",
              "      gap: 12px;\n",
              "    }\n",
              "\n",
              "    .colab-df-convert {\n",
              "      background-color: #E8F0FE;\n",
              "      border: none;\n",
              "      border-radius: 50%;\n",
              "      cursor: pointer;\n",
              "      display: none;\n",
              "      fill: #1967D2;\n",
              "      height: 32px;\n",
              "      padding: 0 0 0 0;\n",
              "      width: 32px;\n",
              "    }\n",
              "\n",
              "    .colab-df-convert:hover {\n",
              "      background-color: #E2EBFA;\n",
              "      box-shadow: 0px 1px 2px rgba(60, 64, 67, 0.3), 0px 1px 3px 1px rgba(60, 64, 67, 0.15);\n",
              "      fill: #174EA6;\n",
              "    }\n",
              "\n",
              "    [theme=dark] .colab-df-convert {\n",
              "      background-color: #3B4455;\n",
              "      fill: #D2E3FC;\n",
              "    }\n",
              "\n",
              "    [theme=dark] .colab-df-convert:hover {\n",
              "      background-color: #434B5C;\n",
              "      box-shadow: 0px 1px 3px 1px rgba(0, 0, 0, 0.15);\n",
              "      filter: drop-shadow(0px 1px 2px rgba(0, 0, 0, 0.3));\n",
              "      fill: #FFFFFF;\n",
              "    }\n",
              "  </style>\n",
              "\n",
              "      <script>\n",
              "        const buttonEl =\n",
              "          document.querySelector('#df-2fb1c072-1a55-4d16-beeb-bb7b5e3a6a15 button.colab-df-convert');\n",
              "        buttonEl.style.display =\n",
              "          google.colab.kernel.accessAllowed ? 'block' : 'none';\n",
              "\n",
              "        async function convertToInteractive(key) {\n",
              "          const element = document.querySelector('#df-2fb1c072-1a55-4d16-beeb-bb7b5e3a6a15');\n",
              "          const dataTable =\n",
              "            await google.colab.kernel.invokeFunction('convertToInteractive',\n",
              "                                                     [key], {});\n",
              "          if (!dataTable) return;\n",
              "\n",
              "          const docLinkHtml = 'Like what you see? Visit the ' +\n",
              "            '<a target=\"_blank\" href=https://colab.research.google.com/notebooks/data_table.ipynb>data table notebook</a>'\n",
              "            + ' to learn more about interactive tables.';\n",
              "          element.innerHTML = '';\n",
              "          dataTable['output_type'] = 'display_data';\n",
              "          await google.colab.output.renderOutput(dataTable, element);\n",
              "          const docLink = document.createElement('div');\n",
              "          docLink.innerHTML = docLinkHtml;\n",
              "          element.appendChild(docLink);\n",
              "        }\n",
              "      </script>\n",
              "    </div>\n",
              "  </div>\n",
              "  "
            ]
          },
          "metadata": {},
          "execution_count": 297
        }
      ],
      "source": [
        "df_master.head()"
      ]
    },
    {
      "cell_type": "code",
      "execution_count": 298,
      "metadata": {
        "id": "yJ3kHvarmer0",
        "colab": {
          "base_uri": "https://localhost:8080/"
        },
        "outputId": "d09f757e-1644-4a90-d050-a350c72faabe"
      },
      "outputs": [
        {
          "output_type": "stream",
          "name": "stdout",
          "text": [
            "<class 'pandas.core.frame.DataFrame'>\n",
            "RangeIndex: 27820 entries, 0 to 27819\n",
            "Data columns (total 12 columns):\n",
            " #   Column              Non-Null Count  Dtype  \n",
            "---  ------              --------------  -----  \n",
            " 0   country             27820 non-null  object \n",
            " 1   year                27820 non-null  int64  \n",
            " 2   sex                 27820 non-null  object \n",
            " 3   age                 27820 non-null  object \n",
            " 4   suicides_no         27820 non-null  int64  \n",
            " 5   population          27820 non-null  int64  \n",
            " 6   suicides/100k pop   27820 non-null  float64\n",
            " 7   country-year        27820 non-null  object \n",
            " 8   HDI for year        8364 non-null   float64\n",
            " 9    gdp_for_year ($)   27820 non-null  object \n",
            " 10  gdp_per_capita ($)  27820 non-null  int64  \n",
            " 11  generation          27820 non-null  object \n",
            "dtypes: float64(2), int64(4), object(6)\n",
            "memory usage: 2.5+ MB\n"
          ]
        }
      ],
      "source": [
        "df_master.info() # Tengo informacion perdida de la variable HDI for year."
      ]
    },
    {
      "cell_type": "code",
      "execution_count": 299,
      "metadata": {
        "id": "kVjvpghSmjfm",
        "colab": {
          "base_uri": "https://localhost:8080/"
        },
        "outputId": "57b57593-2e60-4858-b8d8-73c14516a3c8"
      },
      "outputs": [
        {
          "output_type": "execute_result",
          "data": {
            "text/plain": [
              "(27820, 12)"
            ]
          },
          "metadata": {},
          "execution_count": 299
        }
      ],
      "source": [
        "df_master.shape"
      ]
    },
    {
      "cell_type": "code",
      "execution_count": 300,
      "metadata": {
        "id": "pjqh5uZlmriv",
        "colab": {
          "base_uri": "https://localhost:8080/"
        },
        "outputId": "17eab1b8-ee2c-43b9-c7e6-f55829ce1324"
      },
      "outputs": [
        {
          "output_type": "execute_result",
          "data": {
            "text/plain": [
              "Mauritius                 382\n",
              "Austria                   382\n",
              "Netherlands               382\n",
              "Iceland                   382\n",
              "Brazil                    372\n",
              "                         ... \n",
              "Bosnia and Herzegovina     24\n",
              "Cabo Verde                 12\n",
              "Dominica                   12\n",
              "Macau                      12\n",
              "Mongolia                   10\n",
              "Name: country, Length: 101, dtype: int64"
            ]
          },
          "metadata": {},
          "execution_count": 300
        }
      ],
      "source": [
        "df_master[\"country\"].value_counts()"
      ]
    },
    {
      "cell_type": "code",
      "execution_count": 301,
      "metadata": {
        "id": "3_snrzVvmm6H",
        "colab": {
          "base_uri": "https://localhost:8080/",
          "height": 300
        },
        "outputId": "f4e40c37-e4a8-4f0e-e2d6-52c5e08e844c"
      },
      "outputs": [
        {
          "output_type": "execute_result",
          "data": {
            "text/plain": [
              "       year  suicides_no  population  suicides/100k pop  HDI for year  \\\n",
              "count   0.0          0.0         0.0                0.0           0.0   \n",
              "mean    NaN          NaN         NaN                NaN           NaN   \n",
              "std     NaN          NaN         NaN                NaN           NaN   \n",
              "min     NaN          NaN         NaN                NaN           NaN   \n",
              "25%     NaN          NaN         NaN                NaN           NaN   \n",
              "50%     NaN          NaN         NaN                NaN           NaN   \n",
              "75%     NaN          NaN         NaN                NaN           NaN   \n",
              "max     NaN          NaN         NaN                NaN           NaN   \n",
              "\n",
              "       gdp_per_capita ($)  \n",
              "count                 0.0  \n",
              "mean                  NaN  \n",
              "std                   NaN  \n",
              "min                   NaN  \n",
              "25%                   NaN  \n",
              "50%                   NaN  \n",
              "75%                   NaN  \n",
              "max                   NaN  "
            ],
            "text/html": [
              "\n",
              "  <div id=\"df-f09dd11d-b19a-4178-bd4b-d8fa31626c3a\">\n",
              "    <div class=\"colab-df-container\">\n",
              "      <div>\n",
              "<style scoped>\n",
              "    .dataframe tbody tr th:only-of-type {\n",
              "        vertical-align: middle;\n",
              "    }\n",
              "\n",
              "    .dataframe tbody tr th {\n",
              "        vertical-align: top;\n",
              "    }\n",
              "\n",
              "    .dataframe thead th {\n",
              "        text-align: right;\n",
              "    }\n",
              "</style>\n",
              "<table border=\"1\" class=\"dataframe\">\n",
              "  <thead>\n",
              "    <tr style=\"text-align: right;\">\n",
              "      <th></th>\n",
              "      <th>year</th>\n",
              "      <th>suicides_no</th>\n",
              "      <th>population</th>\n",
              "      <th>suicides/100k pop</th>\n",
              "      <th>HDI for year</th>\n",
              "      <th>gdp_per_capita ($)</th>\n",
              "    </tr>\n",
              "  </thead>\n",
              "  <tbody>\n",
              "    <tr>\n",
              "      <th>count</th>\n",
              "      <td>0.0</td>\n",
              "      <td>0.0</td>\n",
              "      <td>0.0</td>\n",
              "      <td>0.0</td>\n",
              "      <td>0.0</td>\n",
              "      <td>0.0</td>\n",
              "    </tr>\n",
              "    <tr>\n",
              "      <th>mean</th>\n",
              "      <td>NaN</td>\n",
              "      <td>NaN</td>\n",
              "      <td>NaN</td>\n",
              "      <td>NaN</td>\n",
              "      <td>NaN</td>\n",
              "      <td>NaN</td>\n",
              "    </tr>\n",
              "    <tr>\n",
              "      <th>std</th>\n",
              "      <td>NaN</td>\n",
              "      <td>NaN</td>\n",
              "      <td>NaN</td>\n",
              "      <td>NaN</td>\n",
              "      <td>NaN</td>\n",
              "      <td>NaN</td>\n",
              "    </tr>\n",
              "    <tr>\n",
              "      <th>min</th>\n",
              "      <td>NaN</td>\n",
              "      <td>NaN</td>\n",
              "      <td>NaN</td>\n",
              "      <td>NaN</td>\n",
              "      <td>NaN</td>\n",
              "      <td>NaN</td>\n",
              "    </tr>\n",
              "    <tr>\n",
              "      <th>25%</th>\n",
              "      <td>NaN</td>\n",
              "      <td>NaN</td>\n",
              "      <td>NaN</td>\n",
              "      <td>NaN</td>\n",
              "      <td>NaN</td>\n",
              "      <td>NaN</td>\n",
              "    </tr>\n",
              "    <tr>\n",
              "      <th>50%</th>\n",
              "      <td>NaN</td>\n",
              "      <td>NaN</td>\n",
              "      <td>NaN</td>\n",
              "      <td>NaN</td>\n",
              "      <td>NaN</td>\n",
              "      <td>NaN</td>\n",
              "    </tr>\n",
              "    <tr>\n",
              "      <th>75%</th>\n",
              "      <td>NaN</td>\n",
              "      <td>NaN</td>\n",
              "      <td>NaN</td>\n",
              "      <td>NaN</td>\n",
              "      <td>NaN</td>\n",
              "      <td>NaN</td>\n",
              "    </tr>\n",
              "    <tr>\n",
              "      <th>max</th>\n",
              "      <td>NaN</td>\n",
              "      <td>NaN</td>\n",
              "      <td>NaN</td>\n",
              "      <td>NaN</td>\n",
              "      <td>NaN</td>\n",
              "      <td>NaN</td>\n",
              "    </tr>\n",
              "  </tbody>\n",
              "</table>\n",
              "</div>\n",
              "      <button class=\"colab-df-convert\" onclick=\"convertToInteractive('df-f09dd11d-b19a-4178-bd4b-d8fa31626c3a')\"\n",
              "              title=\"Convert this dataframe to an interactive table.\"\n",
              "              style=\"display:none;\">\n",
              "        \n",
              "  <svg xmlns=\"http://www.w3.org/2000/svg\" height=\"24px\"viewBox=\"0 0 24 24\"\n",
              "       width=\"24px\">\n",
              "    <path d=\"M0 0h24v24H0V0z\" fill=\"none\"/>\n",
              "    <path d=\"M18.56 5.44l.94 2.06.94-2.06 2.06-.94-2.06-.94-.94-2.06-.94 2.06-2.06.94zm-11 1L8.5 8.5l.94-2.06 2.06-.94-2.06-.94L8.5 2.5l-.94 2.06-2.06.94zm10 10l.94 2.06.94-2.06 2.06-.94-2.06-.94-.94-2.06-.94 2.06-2.06.94z\"/><path d=\"M17.41 7.96l-1.37-1.37c-.4-.4-.92-.59-1.43-.59-.52 0-1.04.2-1.43.59L10.3 9.45l-7.72 7.72c-.78.78-.78 2.05 0 2.83L4 21.41c.39.39.9.59 1.41.59.51 0 1.02-.2 1.41-.59l7.78-7.78 2.81-2.81c.8-.78.8-2.07 0-2.86zM5.41 20L4 18.59l7.72-7.72 1.47 1.35L5.41 20z\"/>\n",
              "  </svg>\n",
              "      </button>\n",
              "      \n",
              "  <style>\n",
              "    .colab-df-container {\n",
              "      display:flex;\n",
              "      flex-wrap:wrap;\n",
              "      gap: 12px;\n",
              "    }\n",
              "\n",
              "    .colab-df-convert {\n",
              "      background-color: #E8F0FE;\n",
              "      border: none;\n",
              "      border-radius: 50%;\n",
              "      cursor: pointer;\n",
              "      display: none;\n",
              "      fill: #1967D2;\n",
              "      height: 32px;\n",
              "      padding: 0 0 0 0;\n",
              "      width: 32px;\n",
              "    }\n",
              "\n",
              "    .colab-df-convert:hover {\n",
              "      background-color: #E2EBFA;\n",
              "      box-shadow: 0px 1px 2px rgba(60, 64, 67, 0.3), 0px 1px 3px 1px rgba(60, 64, 67, 0.15);\n",
              "      fill: #174EA6;\n",
              "    }\n",
              "\n",
              "    [theme=dark] .colab-df-convert {\n",
              "      background-color: #3B4455;\n",
              "      fill: #D2E3FC;\n",
              "    }\n",
              "\n",
              "    [theme=dark] .colab-df-convert:hover {\n",
              "      background-color: #434B5C;\n",
              "      box-shadow: 0px 1px 3px 1px rgba(0, 0, 0, 0.15);\n",
              "      filter: drop-shadow(0px 1px 2px rgba(0, 0, 0, 0.3));\n",
              "      fill: #FFFFFF;\n",
              "    }\n",
              "  </style>\n",
              "\n",
              "      <script>\n",
              "        const buttonEl =\n",
              "          document.querySelector('#df-f09dd11d-b19a-4178-bd4b-d8fa31626c3a button.colab-df-convert');\n",
              "        buttonEl.style.display =\n",
              "          google.colab.kernel.accessAllowed ? 'block' : 'none';\n",
              "\n",
              "        async function convertToInteractive(key) {\n",
              "          const element = document.querySelector('#df-f09dd11d-b19a-4178-bd4b-d8fa31626c3a');\n",
              "          const dataTable =\n",
              "            await google.colab.kernel.invokeFunction('convertToInteractive',\n",
              "                                                     [key], {});\n",
              "          if (!dataTable) return;\n",
              "\n",
              "          const docLinkHtml = 'Like what you see? Visit the ' +\n",
              "            '<a target=\"_blank\" href=https://colab.research.google.com/notebooks/data_table.ipynb>data table notebook</a>'\n",
              "            + ' to learn more about interactive tables.';\n",
              "          element.innerHTML = '';\n",
              "          dataTable['output_type'] = 'display_data';\n",
              "          await google.colab.output.renderOutput(dataTable, element);\n",
              "          const docLink = document.createElement('div');\n",
              "          docLink.innerHTML = docLinkHtml;\n",
              "          element.appendChild(docLink);\n",
              "        }\n",
              "      </script>\n",
              "    </div>\n",
              "  </div>\n",
              "  "
            ]
          },
          "metadata": {},
          "execution_count": 301
        }
      ],
      "source": [
        "df_master.loc[(df_master['country'] == \"China\")].describe() # Mucha informacion perdida para los datos de China."
      ]
    },
    {
      "cell_type": "code",
      "execution_count": 302,
      "metadata": {
        "id": "8taxsdlonOqJ",
        "colab": {
          "base_uri": "https://localhost:8080/"
        },
        "outputId": "3c572b80-6ed8-4731-95b1-5096c6ea60b9"
      },
      "outputs": [
        {
          "output_type": "execute_result",
          "data": {
            "text/plain": [
              "2009    1068\n",
              "2010    1056\n",
              "2001    1056\n",
              "2002    1032\n",
              "2000    1032\n",
              "2011    1032\n",
              "2007    1032\n",
              "2003    1032\n",
              "2008    1020\n",
              "2006    1020\n",
              "2004    1008\n",
              "2005    1008\n",
              "1999     996\n",
              "2012     972\n",
              "2013     960\n",
              "1998     948\n",
              "1995     936\n",
              "2014     936\n",
              "1997     924\n",
              "1996     924\n",
              "1994     816\n",
              "1993     780\n",
              "1992     780\n",
              "1990     768\n",
              "1991     768\n",
              "2015     744\n",
              "1987     648\n",
              "1989     624\n",
              "1988     588\n",
              "1986     576\n",
              "1985     576\n",
              "2016     160\n",
              "Name: year, dtype: int64"
            ]
          },
          "metadata": {},
          "execution_count": 302
        }
      ],
      "source": [
        "df_master[\"year\"].value_counts()"
      ]
    },
    {
      "cell_type": "code",
      "execution_count": 303,
      "metadata": {
        "id": "jcrT0_LYpc3I"
      },
      "outputs": [],
      "source": [
        "# Pense que podia de alguna forma vincular esta base de datos con la de los suicidios en China, pero no me\n",
        "# reconoce el pais China cuando intento buscarlo."
      ]
    },
    {
      "cell_type": "code",
      "execution_count": 304,
      "metadata": {
        "id": "ByM3y0ryT35a",
        "colab": {
          "base_uri": "https://localhost:8080/",
          "height": 35
        },
        "outputId": "aec2f663-5154-4e23-e318-0dc111fbf861"
      },
      "outputs": [
        {
          "output_type": "execute_result",
          "data": {
            "text/plain": [
              "' ===================== Conclusion: Suicidios en China ===================== '"
            ],
            "application/vnd.google.colaboratory.intrinsic+json": {
              "type": "string"
            }
          },
          "metadata": {},
          "execution_count": 304
        }
      ],
      "source": [
        "\" ===================== Conclusion: Suicidios en China ===================== \"\n",
        "\n",
        "# Una vez explorada las bases de datos, la decision final es que se va a trabajar sobre la base que se\n",
        "# titula Suicidios en China."
      ]
    },
    {
      "cell_type": "code",
      "execution_count": 305,
      "metadata": {
        "id": "oyX7SJjwp4Kg"
      },
      "outputs": [],
      "source": [
        "# ****************************************************************************************************************\n",
        "# ===================================== Primera parte: Revision de la Data ===================================== #\n",
        "# ****************************************************************************************************************"
      ]
    },
    {
      "cell_type": "code",
      "execution_count": 306,
      "metadata": {
        "id": "HFgIds6gpzus"
      },
      "outputs": [],
      "source": [
        "df = pd.read_csv(\"/content/SuicideChina.csv\")"
      ]
    },
    {
      "cell_type": "code",
      "execution_count": 307,
      "metadata": {
        "id": "yncKo4r0r1jd",
        "colab": {
          "base_uri": "https://localhost:8080/",
          "height": 363
        },
        "outputId": "79e9cb0a-92eb-49d2-b99b-c97bf318a591"
      },
      "outputs": [
        {
          "output_type": "execute_result",
          "data": {
            "text/plain": [
              "   Unnamed: 0  Person_ID Hospitalised Died Urban  Year  Month     Sex  Age  \\\n",
              "0           1          1          yes   no    no  2010     12  female   39   \n",
              "1           2          2           no  yes    no  2009      3    male   83   \n",
              "2           3          3           no  yes    no  2010      2    male   60   \n",
              "3           4          4           no  yes    no  2011      1    male   73   \n",
              "4           5          5          yes   no    no  2009      8    male   51   \n",
              "5           6          6           no  yes    no  2009     11    male   62   \n",
              "6           7          7           no  yes    no  2010      1  female   90   \n",
              "7           8          8          yes   no    no  2010     10    male   54   \n",
              "8           9          9           no  yes    no  2010      7    male   66   \n",
              "9          10         10          yes   no    no  2011      1  female   30   \n",
              "\n",
              "   Education      Occupation         method  \n",
              "0  Secondary       household   Other poison  \n",
              "1    primary         farming        Hanging  \n",
              "2    primary         farming        Hanging  \n",
              "3    primary         farming        Hanging  \n",
              "4  Secondary         farming      Pesticide  \n",
              "5  iliterate         farming      Pesticide  \n",
              "6  iliterate         farming      Pesticide  \n",
              "7  Secondary         farming      Pesticide  \n",
              "8    primary         farming        Hanging  \n",
              "9  Secondary  others/unknown  Poison unspec  "
            ],
            "text/html": [
              "\n",
              "  <div id=\"df-5feb4d29-90dc-409a-a41b-278ff403ecc7\">\n",
              "    <div class=\"colab-df-container\">\n",
              "      <div>\n",
              "<style scoped>\n",
              "    .dataframe tbody tr th:only-of-type {\n",
              "        vertical-align: middle;\n",
              "    }\n",
              "\n",
              "    .dataframe tbody tr th {\n",
              "        vertical-align: top;\n",
              "    }\n",
              "\n",
              "    .dataframe thead th {\n",
              "        text-align: right;\n",
              "    }\n",
              "</style>\n",
              "<table border=\"1\" class=\"dataframe\">\n",
              "  <thead>\n",
              "    <tr style=\"text-align: right;\">\n",
              "      <th></th>\n",
              "      <th>Unnamed: 0</th>\n",
              "      <th>Person_ID</th>\n",
              "      <th>Hospitalised</th>\n",
              "      <th>Died</th>\n",
              "      <th>Urban</th>\n",
              "      <th>Year</th>\n",
              "      <th>Month</th>\n",
              "      <th>Sex</th>\n",
              "      <th>Age</th>\n",
              "      <th>Education</th>\n",
              "      <th>Occupation</th>\n",
              "      <th>method</th>\n",
              "    </tr>\n",
              "  </thead>\n",
              "  <tbody>\n",
              "    <tr>\n",
              "      <th>0</th>\n",
              "      <td>1</td>\n",
              "      <td>1</td>\n",
              "      <td>yes</td>\n",
              "      <td>no</td>\n",
              "      <td>no</td>\n",
              "      <td>2010</td>\n",
              "      <td>12</td>\n",
              "      <td>female</td>\n",
              "      <td>39</td>\n",
              "      <td>Secondary</td>\n",
              "      <td>household</td>\n",
              "      <td>Other poison</td>\n",
              "    </tr>\n",
              "    <tr>\n",
              "      <th>1</th>\n",
              "      <td>2</td>\n",
              "      <td>2</td>\n",
              "      <td>no</td>\n",
              "      <td>yes</td>\n",
              "      <td>no</td>\n",
              "      <td>2009</td>\n",
              "      <td>3</td>\n",
              "      <td>male</td>\n",
              "      <td>83</td>\n",
              "      <td>primary</td>\n",
              "      <td>farming</td>\n",
              "      <td>Hanging</td>\n",
              "    </tr>\n",
              "    <tr>\n",
              "      <th>2</th>\n",
              "      <td>3</td>\n",
              "      <td>3</td>\n",
              "      <td>no</td>\n",
              "      <td>yes</td>\n",
              "      <td>no</td>\n",
              "      <td>2010</td>\n",
              "      <td>2</td>\n",
              "      <td>male</td>\n",
              "      <td>60</td>\n",
              "      <td>primary</td>\n",
              "      <td>farming</td>\n",
              "      <td>Hanging</td>\n",
              "    </tr>\n",
              "    <tr>\n",
              "      <th>3</th>\n",
              "      <td>4</td>\n",
              "      <td>4</td>\n",
              "      <td>no</td>\n",
              "      <td>yes</td>\n",
              "      <td>no</td>\n",
              "      <td>2011</td>\n",
              "      <td>1</td>\n",
              "      <td>male</td>\n",
              "      <td>73</td>\n",
              "      <td>primary</td>\n",
              "      <td>farming</td>\n",
              "      <td>Hanging</td>\n",
              "    </tr>\n",
              "    <tr>\n",
              "      <th>4</th>\n",
              "      <td>5</td>\n",
              "      <td>5</td>\n",
              "      <td>yes</td>\n",
              "      <td>no</td>\n",
              "      <td>no</td>\n",
              "      <td>2009</td>\n",
              "      <td>8</td>\n",
              "      <td>male</td>\n",
              "      <td>51</td>\n",
              "      <td>Secondary</td>\n",
              "      <td>farming</td>\n",
              "      <td>Pesticide</td>\n",
              "    </tr>\n",
              "    <tr>\n",
              "      <th>5</th>\n",
              "      <td>6</td>\n",
              "      <td>6</td>\n",
              "      <td>no</td>\n",
              "      <td>yes</td>\n",
              "      <td>no</td>\n",
              "      <td>2009</td>\n",
              "      <td>11</td>\n",
              "      <td>male</td>\n",
              "      <td>62</td>\n",
              "      <td>iliterate</td>\n",
              "      <td>farming</td>\n",
              "      <td>Pesticide</td>\n",
              "    </tr>\n",
              "    <tr>\n",
              "      <th>6</th>\n",
              "      <td>7</td>\n",
              "      <td>7</td>\n",
              "      <td>no</td>\n",
              "      <td>yes</td>\n",
              "      <td>no</td>\n",
              "      <td>2010</td>\n",
              "      <td>1</td>\n",
              "      <td>female</td>\n",
              "      <td>90</td>\n",
              "      <td>iliterate</td>\n",
              "      <td>farming</td>\n",
              "      <td>Pesticide</td>\n",
              "    </tr>\n",
              "    <tr>\n",
              "      <th>7</th>\n",
              "      <td>8</td>\n",
              "      <td>8</td>\n",
              "      <td>yes</td>\n",
              "      <td>no</td>\n",
              "      <td>no</td>\n",
              "      <td>2010</td>\n",
              "      <td>10</td>\n",
              "      <td>male</td>\n",
              "      <td>54</td>\n",
              "      <td>Secondary</td>\n",
              "      <td>farming</td>\n",
              "      <td>Pesticide</td>\n",
              "    </tr>\n",
              "    <tr>\n",
              "      <th>8</th>\n",
              "      <td>9</td>\n",
              "      <td>9</td>\n",
              "      <td>no</td>\n",
              "      <td>yes</td>\n",
              "      <td>no</td>\n",
              "      <td>2010</td>\n",
              "      <td>7</td>\n",
              "      <td>male</td>\n",
              "      <td>66</td>\n",
              "      <td>primary</td>\n",
              "      <td>farming</td>\n",
              "      <td>Hanging</td>\n",
              "    </tr>\n",
              "    <tr>\n",
              "      <th>9</th>\n",
              "      <td>10</td>\n",
              "      <td>10</td>\n",
              "      <td>yes</td>\n",
              "      <td>no</td>\n",
              "      <td>no</td>\n",
              "      <td>2011</td>\n",
              "      <td>1</td>\n",
              "      <td>female</td>\n",
              "      <td>30</td>\n",
              "      <td>Secondary</td>\n",
              "      <td>others/unknown</td>\n",
              "      <td>Poison unspec</td>\n",
              "    </tr>\n",
              "  </tbody>\n",
              "</table>\n",
              "</div>\n",
              "      <button class=\"colab-df-convert\" onclick=\"convertToInteractive('df-5feb4d29-90dc-409a-a41b-278ff403ecc7')\"\n",
              "              title=\"Convert this dataframe to an interactive table.\"\n",
              "              style=\"display:none;\">\n",
              "        \n",
              "  <svg xmlns=\"http://www.w3.org/2000/svg\" height=\"24px\"viewBox=\"0 0 24 24\"\n",
              "       width=\"24px\">\n",
              "    <path d=\"M0 0h24v24H0V0z\" fill=\"none\"/>\n",
              "    <path d=\"M18.56 5.44l.94 2.06.94-2.06 2.06-.94-2.06-.94-.94-2.06-.94 2.06-2.06.94zm-11 1L8.5 8.5l.94-2.06 2.06-.94-2.06-.94L8.5 2.5l-.94 2.06-2.06.94zm10 10l.94 2.06.94-2.06 2.06-.94-2.06-.94-.94-2.06-.94 2.06-2.06.94z\"/><path d=\"M17.41 7.96l-1.37-1.37c-.4-.4-.92-.59-1.43-.59-.52 0-1.04.2-1.43.59L10.3 9.45l-7.72 7.72c-.78.78-.78 2.05 0 2.83L4 21.41c.39.39.9.59 1.41.59.51 0 1.02-.2 1.41-.59l7.78-7.78 2.81-2.81c.8-.78.8-2.07 0-2.86zM5.41 20L4 18.59l7.72-7.72 1.47 1.35L5.41 20z\"/>\n",
              "  </svg>\n",
              "      </button>\n",
              "      \n",
              "  <style>\n",
              "    .colab-df-container {\n",
              "      display:flex;\n",
              "      flex-wrap:wrap;\n",
              "      gap: 12px;\n",
              "    }\n",
              "\n",
              "    .colab-df-convert {\n",
              "      background-color: #E8F0FE;\n",
              "      border: none;\n",
              "      border-radius: 50%;\n",
              "      cursor: pointer;\n",
              "      display: none;\n",
              "      fill: #1967D2;\n",
              "      height: 32px;\n",
              "      padding: 0 0 0 0;\n",
              "      width: 32px;\n",
              "    }\n",
              "\n",
              "    .colab-df-convert:hover {\n",
              "      background-color: #E2EBFA;\n",
              "      box-shadow: 0px 1px 2px rgba(60, 64, 67, 0.3), 0px 1px 3px 1px rgba(60, 64, 67, 0.15);\n",
              "      fill: #174EA6;\n",
              "    }\n",
              "\n",
              "    [theme=dark] .colab-df-convert {\n",
              "      background-color: #3B4455;\n",
              "      fill: #D2E3FC;\n",
              "    }\n",
              "\n",
              "    [theme=dark] .colab-df-convert:hover {\n",
              "      background-color: #434B5C;\n",
              "      box-shadow: 0px 1px 3px 1px rgba(0, 0, 0, 0.15);\n",
              "      filter: drop-shadow(0px 1px 2px rgba(0, 0, 0, 0.3));\n",
              "      fill: #FFFFFF;\n",
              "    }\n",
              "  </style>\n",
              "\n",
              "      <script>\n",
              "        const buttonEl =\n",
              "          document.querySelector('#df-5feb4d29-90dc-409a-a41b-278ff403ecc7 button.colab-df-convert');\n",
              "        buttonEl.style.display =\n",
              "          google.colab.kernel.accessAllowed ? 'block' : 'none';\n",
              "\n",
              "        async function convertToInteractive(key) {\n",
              "          const element = document.querySelector('#df-5feb4d29-90dc-409a-a41b-278ff403ecc7');\n",
              "          const dataTable =\n",
              "            await google.colab.kernel.invokeFunction('convertToInteractive',\n",
              "                                                     [key], {});\n",
              "          if (!dataTable) return;\n",
              "\n",
              "          const docLinkHtml = 'Like what you see? Visit the ' +\n",
              "            '<a target=\"_blank\" href=https://colab.research.google.com/notebooks/data_table.ipynb>data table notebook</a>'\n",
              "            + ' to learn more about interactive tables.';\n",
              "          element.innerHTML = '';\n",
              "          dataTable['output_type'] = 'display_data';\n",
              "          await google.colab.output.renderOutput(dataTable, element);\n",
              "          const docLink = document.createElement('div');\n",
              "          docLink.innerHTML = docLinkHtml;\n",
              "          element.appendChild(docLink);\n",
              "        }\n",
              "      </script>\n",
              "    </div>\n",
              "  </div>\n",
              "  "
            ]
          },
          "metadata": {},
          "execution_count": 307
        }
      ],
      "source": [
        "df.head(10)"
      ]
    },
    {
      "cell_type": "code",
      "source": [
        "# Este es un primer vistazo al dataset en donde observamos en primera instancia que tenemos un par de columnas\n",
        "# que no nos aporta mucho para la investigación ademas de estar duplicadas.\n",
        "# La mayoria de las variables son categoricas facilmente transformables a numerica."
      ],
      "metadata": {
        "id": "uWJjh2wUYqD9"
      },
      "execution_count": 308,
      "outputs": []
    },
    {
      "cell_type": "code",
      "execution_count": 309,
      "metadata": {
        "id": "eMKKNvwOptMn",
        "colab": {
          "base_uri": "https://localhost:8080/"
        },
        "outputId": "6260632a-a83b-4f68-b51e-688e53199be1"
      },
      "outputs": [
        {
          "output_type": "execute_result",
          "data": {
            "text/plain": [
              "(2571, 12)"
            ]
          },
          "metadata": {},
          "execution_count": 309
        }
      ],
      "source": [
        "df.shape"
      ]
    },
    {
      "cell_type": "code",
      "source": [
        " # Estamos trabajando sobre 2571 filas y 12 columnas"
      ],
      "metadata": {
        "id": "YruDlfVjZZSl"
      },
      "execution_count": 310,
      "outputs": []
    },
    {
      "cell_type": "code",
      "execution_count": 311,
      "metadata": {
        "id": "sTr1A6La1CMe",
        "colab": {
          "base_uri": "https://localhost:8080/"
        },
        "outputId": "e8493812-13de-4908-a165-5c2fba9a0af7"
      },
      "outputs": [
        {
          "output_type": "execute_result",
          "data": {
            "text/plain": [
              "yes    1553\n",
              "no     1018\n",
              "Name: Hospitalised, dtype: int64"
            ]
          },
          "metadata": {},
          "execution_count": 311
        }
      ],
      "source": [
        "df[\"Hospitalised\"].value_counts()"
      ]
    },
    {
      "cell_type": "code",
      "source": [
        "# Entre las personas que fueron hospitalizadas versus las que no, tenemos una diferencia de 535 personas."
      ],
      "metadata": {
        "id": "8BhuwzuyZZzo"
      },
      "execution_count": 312,
      "outputs": []
    },
    {
      "cell_type": "code",
      "execution_count": 313,
      "metadata": {
        "id": "aE1hn1Pe1Jdo",
        "colab": {
          "base_uri": "https://localhost:8080/"
        },
        "outputId": "81836d2a-afa1-4bd3-d32d-483d6fafb0e3"
      },
      "outputs": [
        {
          "output_type": "execute_result",
          "data": {
            "text/plain": [
              "no     1315\n",
              "yes    1256\n",
              "Name: Died, dtype: int64"
            ]
          },
          "metadata": {},
          "execution_count": 313
        }
      ],
      "source": [
        "df[\"Died\"].value_counts()"
      ]
    },
    {
      "cell_type": "code",
      "source": [
        "# Es bastante homogeneo la cantidad de personas que fallecieron y las que no, teniendo una diferencia entre ambas de 59."
      ],
      "metadata": {
        "id": "DCAqzyIuZivw"
      },
      "execution_count": 314,
      "outputs": []
    },
    {
      "cell_type": "code",
      "execution_count": 315,
      "metadata": {
        "id": "qJOlwSF11J00",
        "colab": {
          "base_uri": "https://localhost:8080/"
        },
        "outputId": "bba4d197-5c80-4f1b-f805-4b1c398596ff"
      },
      "outputs": [
        {
          "output_type": "execute_result",
          "data": {
            "text/plain": [
              "no         2213\n",
              "yes         277\n",
              "unknown      81\n",
              "Name: Urban, dtype: int64"
            ]
          },
          "metadata": {},
          "execution_count": 315
        }
      ],
      "source": [
        "df[\"Urban\"].value_counts()"
      ]
    },
    {
      "cell_type": "code",
      "source": [
        "# La mayoria de las personas encuestadas pertenecen a la zona rural de Shandong"
      ],
      "metadata": {
        "id": "M4SgvEJRZtTP"
      },
      "execution_count": 316,
      "outputs": []
    },
    {
      "cell_type": "code",
      "execution_count": 317,
      "metadata": {
        "id": "_Y5jj-za1P7l",
        "colab": {
          "base_uri": "https://localhost:8080/"
        },
        "outputId": "9b228920-03fd-430f-f187-704ca7a7adc9"
      },
      "outputs": [
        {
          "output_type": "execute_result",
          "data": {
            "text/plain": [
              "2010    956\n",
              "2011    866\n",
              "2009    749\n",
              "Name: Year, dtype: int64"
            ]
          },
          "metadata": {},
          "execution_count": 317
        }
      ],
      "source": [
        "df[\"Year\"].value_counts()"
      ]
    },
    {
      "cell_type": "code",
      "source": [
        "# Como se mencionó en un principio, el dataset trabaja sobre los años 2009 al 2011."
      ],
      "metadata": {
        "id": "gvqWiAdTZ1Dl"
      },
      "execution_count": 318,
      "outputs": []
    },
    {
      "cell_type": "code",
      "execution_count": 319,
      "metadata": {
        "id": "SPTBGjao1KjE",
        "colab": {
          "base_uri": "https://localhost:8080/"
        },
        "outputId": "23fda64e-4edc-4a7e-d77f-46a4f62dd24a"
      },
      "outputs": [
        {
          "output_type": "execute_result",
          "data": {
            "text/plain": [
              "6     284\n",
              "5     263\n",
              "7     247\n",
              "9     241\n",
              "8     229\n",
              "10    211\n",
              "2     208\n",
              "4     208\n",
              "1     201\n",
              "3     190\n",
              "11    153\n",
              "12    136\n",
              "Name: Month, dtype: int64"
            ]
          },
          "metadata": {},
          "execution_count": 319
        }
      ],
      "source": [
        "df[\"Month\"].value_counts()"
      ]
    },
    {
      "cell_type": "code",
      "source": [
        "# El patrón de suicidio que sigue en los meses se observará mejor en el grafico que tenemos mas adelante"
      ],
      "metadata": {
        "id": "sqOHNO5faNwT"
      },
      "execution_count": 320,
      "outputs": []
    },
    {
      "cell_type": "code",
      "execution_count": 321,
      "metadata": {
        "id": "amhaz5uf1Wga",
        "colab": {
          "base_uri": "https://localhost:8080/"
        },
        "outputId": "47ae214c-adfb-4262-b1f2-fe0f84faf1df"
      },
      "outputs": [
        {
          "output_type": "execute_result",
          "data": {
            "text/plain": [
              "female    1328\n",
              "male      1243\n",
              "Name: Sex, dtype: int64"
            ]
          },
          "metadata": {},
          "execution_count": 321
        }
      ],
      "source": [
        "df[\"Sex\"].value_counts()"
      ]
    },
    {
      "cell_type": "code",
      "source": [
        "# Los suicidios son bastante homogeneos entre hombres y mujeres, predominando un poco estas ultimas por 85 muertes."
      ],
      "metadata": {
        "id": "v0A3oPWjaUVH"
      },
      "execution_count": 322,
      "outputs": []
    },
    {
      "cell_type": "code",
      "execution_count": 323,
      "metadata": {
        "id": "pD6usRXm1WWX",
        "colab": {
          "base_uri": "https://localhost:8080/"
        },
        "outputId": "ccfd1c2a-5b78-40f8-ee83-748d1fc03ad2"
      },
      "outputs": [
        {
          "output_type": "execute_result",
          "data": {
            "text/plain": [
              "count    2571.000000\n",
              "mean       52.630883\n",
              "std        19.783878\n",
              "min        12.000000\n",
              "25%        37.000000\n",
              "50%        53.000000\n",
              "75%        69.000000\n",
              "max       100.000000\n",
              "Name: Age, dtype: float64"
            ]
          },
          "metadata": {},
          "execution_count": 323
        }
      ],
      "source": [
        "df[\"Age\"].describe()"
      ]
    },
    {
      "cell_type": "code",
      "source": [
        "# La muestra bastante variada siendo la media de 52,6 años."
      ],
      "metadata": {
        "id": "hTVGqZf7ag_x"
      },
      "execution_count": 324,
      "outputs": []
    },
    {
      "cell_type": "code",
      "execution_count": 325,
      "metadata": {
        "id": "C83IFhYO1WNz",
        "colab": {
          "base_uri": "https://localhost:8080/"
        },
        "outputId": "b13dfcca-29b8-431f-e0a5-34b624938462"
      },
      "outputs": [
        {
          "output_type": "execute_result",
          "data": {
            "text/plain": [
              "Secondary    1280\n",
              "primary       659\n",
              "iliterate     533\n",
              "unknown        80\n",
              "Tertiary       19\n",
              "Name: Education, dtype: int64"
            ]
          },
          "metadata": {},
          "execution_count": 325
        }
      ],
      "source": [
        "df[\"Education\"].value_counts()"
      ]
    },
    {
      "cell_type": "code",
      "source": [
        "# Aqui claramente predomina la gente que tuvo educacion secundaria. Esto se debe a que la educación\n",
        "# de los nueve primeros años es gratuita para las zonas rurales desde el año 2007."
      ],
      "metadata": {
        "id": "2xOuW2g7arNr"
      },
      "execution_count": 326,
      "outputs": []
    },
    {
      "cell_type": "code",
      "source": [
        "df.loc[(df['Education'] == \"Secondary\") & (df[\"Occupation\"] == \"farming\")].describe()"
      ],
      "metadata": {
        "colab": {
          "base_uri": "https://localhost:8080/",
          "height": 300
        },
        "id": "-nw_YeIJbQpf",
        "outputId": "08a189ad-8081-4160-97e0-53d7ceaf537b"
      },
      "execution_count": 327,
      "outputs": [
        {
          "output_type": "execute_result",
          "data": {
            "text/plain": [
              "        Unnamed: 0    Person_ID         Year       Month         Age\n",
              "count   990.000000   990.000000   990.000000  990.000000  990.000000\n",
              "mean   1338.380808  1338.380808  2009.996970    6.382828   41.942424\n",
              "std     758.982377   758.982377     0.797488    3.169928   15.079758\n",
              "min       5.000000     5.000000  2009.000000    1.000000   16.000000\n",
              "25%     654.250000   654.250000  2009.000000    4.000000   28.250000\n",
              "50%    1382.500000  1382.500000  2010.000000    6.000000   41.000000\n",
              "75%    2029.500000  2029.500000  2011.000000    9.000000   53.000000\n",
              "max    2570.000000  2570.000000  2011.000000   12.000000   87.000000"
            ],
            "text/html": [
              "\n",
              "  <div id=\"df-92c546bf-4a15-46a5-b12e-aba95bbb4fcc\">\n",
              "    <div class=\"colab-df-container\">\n",
              "      <div>\n",
              "<style scoped>\n",
              "    .dataframe tbody tr th:only-of-type {\n",
              "        vertical-align: middle;\n",
              "    }\n",
              "\n",
              "    .dataframe tbody tr th {\n",
              "        vertical-align: top;\n",
              "    }\n",
              "\n",
              "    .dataframe thead th {\n",
              "        text-align: right;\n",
              "    }\n",
              "</style>\n",
              "<table border=\"1\" class=\"dataframe\">\n",
              "  <thead>\n",
              "    <tr style=\"text-align: right;\">\n",
              "      <th></th>\n",
              "      <th>Unnamed: 0</th>\n",
              "      <th>Person_ID</th>\n",
              "      <th>Year</th>\n",
              "      <th>Month</th>\n",
              "      <th>Age</th>\n",
              "    </tr>\n",
              "  </thead>\n",
              "  <tbody>\n",
              "    <tr>\n",
              "      <th>count</th>\n",
              "      <td>990.000000</td>\n",
              "      <td>990.000000</td>\n",
              "      <td>990.000000</td>\n",
              "      <td>990.000000</td>\n",
              "      <td>990.000000</td>\n",
              "    </tr>\n",
              "    <tr>\n",
              "      <th>mean</th>\n",
              "      <td>1338.380808</td>\n",
              "      <td>1338.380808</td>\n",
              "      <td>2009.996970</td>\n",
              "      <td>6.382828</td>\n",
              "      <td>41.942424</td>\n",
              "    </tr>\n",
              "    <tr>\n",
              "      <th>std</th>\n",
              "      <td>758.982377</td>\n",
              "      <td>758.982377</td>\n",
              "      <td>0.797488</td>\n",
              "      <td>3.169928</td>\n",
              "      <td>15.079758</td>\n",
              "    </tr>\n",
              "    <tr>\n",
              "      <th>min</th>\n",
              "      <td>5.000000</td>\n",
              "      <td>5.000000</td>\n",
              "      <td>2009.000000</td>\n",
              "      <td>1.000000</td>\n",
              "      <td>16.000000</td>\n",
              "    </tr>\n",
              "    <tr>\n",
              "      <th>25%</th>\n",
              "      <td>654.250000</td>\n",
              "      <td>654.250000</td>\n",
              "      <td>2009.000000</td>\n",
              "      <td>4.000000</td>\n",
              "      <td>28.250000</td>\n",
              "    </tr>\n",
              "    <tr>\n",
              "      <th>50%</th>\n",
              "      <td>1382.500000</td>\n",
              "      <td>1382.500000</td>\n",
              "      <td>2010.000000</td>\n",
              "      <td>6.000000</td>\n",
              "      <td>41.000000</td>\n",
              "    </tr>\n",
              "    <tr>\n",
              "      <th>75%</th>\n",
              "      <td>2029.500000</td>\n",
              "      <td>2029.500000</td>\n",
              "      <td>2011.000000</td>\n",
              "      <td>9.000000</td>\n",
              "      <td>53.000000</td>\n",
              "    </tr>\n",
              "    <tr>\n",
              "      <th>max</th>\n",
              "      <td>2570.000000</td>\n",
              "      <td>2570.000000</td>\n",
              "      <td>2011.000000</td>\n",
              "      <td>12.000000</td>\n",
              "      <td>87.000000</td>\n",
              "    </tr>\n",
              "  </tbody>\n",
              "</table>\n",
              "</div>\n",
              "      <button class=\"colab-df-convert\" onclick=\"convertToInteractive('df-92c546bf-4a15-46a5-b12e-aba95bbb4fcc')\"\n",
              "              title=\"Convert this dataframe to an interactive table.\"\n",
              "              style=\"display:none;\">\n",
              "        \n",
              "  <svg xmlns=\"http://www.w3.org/2000/svg\" height=\"24px\"viewBox=\"0 0 24 24\"\n",
              "       width=\"24px\">\n",
              "    <path d=\"M0 0h24v24H0V0z\" fill=\"none\"/>\n",
              "    <path d=\"M18.56 5.44l.94 2.06.94-2.06 2.06-.94-2.06-.94-.94-2.06-.94 2.06-2.06.94zm-11 1L8.5 8.5l.94-2.06 2.06-.94-2.06-.94L8.5 2.5l-.94 2.06-2.06.94zm10 10l.94 2.06.94-2.06 2.06-.94-2.06-.94-.94-2.06-.94 2.06-2.06.94z\"/><path d=\"M17.41 7.96l-1.37-1.37c-.4-.4-.92-.59-1.43-.59-.52 0-1.04.2-1.43.59L10.3 9.45l-7.72 7.72c-.78.78-.78 2.05 0 2.83L4 21.41c.39.39.9.59 1.41.59.51 0 1.02-.2 1.41-.59l7.78-7.78 2.81-2.81c.8-.78.8-2.07 0-2.86zM5.41 20L4 18.59l7.72-7.72 1.47 1.35L5.41 20z\"/>\n",
              "  </svg>\n",
              "      </button>\n",
              "      \n",
              "  <style>\n",
              "    .colab-df-container {\n",
              "      display:flex;\n",
              "      flex-wrap:wrap;\n",
              "      gap: 12px;\n",
              "    }\n",
              "\n",
              "    .colab-df-convert {\n",
              "      background-color: #E8F0FE;\n",
              "      border: none;\n",
              "      border-radius: 50%;\n",
              "      cursor: pointer;\n",
              "      display: none;\n",
              "      fill: #1967D2;\n",
              "      height: 32px;\n",
              "      padding: 0 0 0 0;\n",
              "      width: 32px;\n",
              "    }\n",
              "\n",
              "    .colab-df-convert:hover {\n",
              "      background-color: #E2EBFA;\n",
              "      box-shadow: 0px 1px 2px rgba(60, 64, 67, 0.3), 0px 1px 3px 1px rgba(60, 64, 67, 0.15);\n",
              "      fill: #174EA6;\n",
              "    }\n",
              "\n",
              "    [theme=dark] .colab-df-convert {\n",
              "      background-color: #3B4455;\n",
              "      fill: #D2E3FC;\n",
              "    }\n",
              "\n",
              "    [theme=dark] .colab-df-convert:hover {\n",
              "      background-color: #434B5C;\n",
              "      box-shadow: 0px 1px 3px 1px rgba(0, 0, 0, 0.15);\n",
              "      filter: drop-shadow(0px 1px 2px rgba(0, 0, 0, 0.3));\n",
              "      fill: #FFFFFF;\n",
              "    }\n",
              "  </style>\n",
              "\n",
              "      <script>\n",
              "        const buttonEl =\n",
              "          document.querySelector('#df-92c546bf-4a15-46a5-b12e-aba95bbb4fcc button.colab-df-convert');\n",
              "        buttonEl.style.display =\n",
              "          google.colab.kernel.accessAllowed ? 'block' : 'none';\n",
              "\n",
              "        async function convertToInteractive(key) {\n",
              "          const element = document.querySelector('#df-92c546bf-4a15-46a5-b12e-aba95bbb4fcc');\n",
              "          const dataTable =\n",
              "            await google.colab.kernel.invokeFunction('convertToInteractive',\n",
              "                                                     [key], {});\n",
              "          if (!dataTable) return;\n",
              "\n",
              "          const docLinkHtml = 'Like what you see? Visit the ' +\n",
              "            '<a target=\"_blank\" href=https://colab.research.google.com/notebooks/data_table.ipynb>data table notebook</a>'\n",
              "            + ' to learn more about interactive tables.';\n",
              "          element.innerHTML = '';\n",
              "          dataTable['output_type'] = 'display_data';\n",
              "          await google.colab.output.renderOutput(dataTable, element);\n",
              "          const docLink = document.createElement('div');\n",
              "          docLink.innerHTML = docLinkHtml;\n",
              "          element.appendChild(docLink);\n",
              "        }\n",
              "      </script>\n",
              "    </div>\n",
              "  </div>\n",
              "  "
            ]
          },
          "metadata": {},
          "execution_count": 327
        }
      ]
    },
    {
      "cell_type": "code",
      "source": [
        "df.loc[(df['Education'] == \"primary\") & (df[\"Occupation\"] == \"farming\")].describe()"
      ],
      "metadata": {
        "colab": {
          "base_uri": "https://localhost:8080/",
          "height": 300
        },
        "id": "ClvX1u1pb_vD",
        "outputId": "f323b274-828d-4cef-bba3-987e1ca0c547"
      },
      "execution_count": 328,
      "outputs": [
        {
          "output_type": "execute_result",
          "data": {
            "text/plain": [
              "        Unnamed: 0    Person_ID         Year       Month         Age\n",
              "count   555.000000   555.000000   555.000000  555.000000  555.000000\n",
              "mean   1204.340541  1204.340541  2010.061261    6.304505   61.963964\n",
              "std     709.507739   709.507739     0.767006    3.172404   13.950744\n",
              "min       2.000000     2.000000  2009.000000    1.000000   15.000000\n",
              "25%     634.000000   634.000000  2009.000000    4.000000   53.000000\n",
              "50%    1221.000000  1221.000000  2010.000000    6.000000   62.000000\n",
              "75%    1767.500000  1767.500000  2011.000000    9.000000   72.000000\n",
              "max    2571.000000  2571.000000  2011.000000   12.000000   90.000000"
            ],
            "text/html": [
              "\n",
              "  <div id=\"df-8fa3bdf6-79bf-4acf-b816-33ed24a4d187\">\n",
              "    <div class=\"colab-df-container\">\n",
              "      <div>\n",
              "<style scoped>\n",
              "    .dataframe tbody tr th:only-of-type {\n",
              "        vertical-align: middle;\n",
              "    }\n",
              "\n",
              "    .dataframe tbody tr th {\n",
              "        vertical-align: top;\n",
              "    }\n",
              "\n",
              "    .dataframe thead th {\n",
              "        text-align: right;\n",
              "    }\n",
              "</style>\n",
              "<table border=\"1\" class=\"dataframe\">\n",
              "  <thead>\n",
              "    <tr style=\"text-align: right;\">\n",
              "      <th></th>\n",
              "      <th>Unnamed: 0</th>\n",
              "      <th>Person_ID</th>\n",
              "      <th>Year</th>\n",
              "      <th>Month</th>\n",
              "      <th>Age</th>\n",
              "    </tr>\n",
              "  </thead>\n",
              "  <tbody>\n",
              "    <tr>\n",
              "      <th>count</th>\n",
              "      <td>555.000000</td>\n",
              "      <td>555.000000</td>\n",
              "      <td>555.000000</td>\n",
              "      <td>555.000000</td>\n",
              "      <td>555.000000</td>\n",
              "    </tr>\n",
              "    <tr>\n",
              "      <th>mean</th>\n",
              "      <td>1204.340541</td>\n",
              "      <td>1204.340541</td>\n",
              "      <td>2010.061261</td>\n",
              "      <td>6.304505</td>\n",
              "      <td>61.963964</td>\n",
              "    </tr>\n",
              "    <tr>\n",
              "      <th>std</th>\n",
              "      <td>709.507739</td>\n",
              "      <td>709.507739</td>\n",
              "      <td>0.767006</td>\n",
              "      <td>3.172404</td>\n",
              "      <td>13.950744</td>\n",
              "    </tr>\n",
              "    <tr>\n",
              "      <th>min</th>\n",
              "      <td>2.000000</td>\n",
              "      <td>2.000000</td>\n",
              "      <td>2009.000000</td>\n",
              "      <td>1.000000</td>\n",
              "      <td>15.000000</td>\n",
              "    </tr>\n",
              "    <tr>\n",
              "      <th>25%</th>\n",
              "      <td>634.000000</td>\n",
              "      <td>634.000000</td>\n",
              "      <td>2009.000000</td>\n",
              "      <td>4.000000</td>\n",
              "      <td>53.000000</td>\n",
              "    </tr>\n",
              "    <tr>\n",
              "      <th>50%</th>\n",
              "      <td>1221.000000</td>\n",
              "      <td>1221.000000</td>\n",
              "      <td>2010.000000</td>\n",
              "      <td>6.000000</td>\n",
              "      <td>62.000000</td>\n",
              "    </tr>\n",
              "    <tr>\n",
              "      <th>75%</th>\n",
              "      <td>1767.500000</td>\n",
              "      <td>1767.500000</td>\n",
              "      <td>2011.000000</td>\n",
              "      <td>9.000000</td>\n",
              "      <td>72.000000</td>\n",
              "    </tr>\n",
              "    <tr>\n",
              "      <th>max</th>\n",
              "      <td>2571.000000</td>\n",
              "      <td>2571.000000</td>\n",
              "      <td>2011.000000</td>\n",
              "      <td>12.000000</td>\n",
              "      <td>90.000000</td>\n",
              "    </tr>\n",
              "  </tbody>\n",
              "</table>\n",
              "</div>\n",
              "      <button class=\"colab-df-convert\" onclick=\"convertToInteractive('df-8fa3bdf6-79bf-4acf-b816-33ed24a4d187')\"\n",
              "              title=\"Convert this dataframe to an interactive table.\"\n",
              "              style=\"display:none;\">\n",
              "        \n",
              "  <svg xmlns=\"http://www.w3.org/2000/svg\" height=\"24px\"viewBox=\"0 0 24 24\"\n",
              "       width=\"24px\">\n",
              "    <path d=\"M0 0h24v24H0V0z\" fill=\"none\"/>\n",
              "    <path d=\"M18.56 5.44l.94 2.06.94-2.06 2.06-.94-2.06-.94-.94-2.06-.94 2.06-2.06.94zm-11 1L8.5 8.5l.94-2.06 2.06-.94-2.06-.94L8.5 2.5l-.94 2.06-2.06.94zm10 10l.94 2.06.94-2.06 2.06-.94-2.06-.94-.94-2.06-.94 2.06-2.06.94z\"/><path d=\"M17.41 7.96l-1.37-1.37c-.4-.4-.92-.59-1.43-.59-.52 0-1.04.2-1.43.59L10.3 9.45l-7.72 7.72c-.78.78-.78 2.05 0 2.83L4 21.41c.39.39.9.59 1.41.59.51 0 1.02-.2 1.41-.59l7.78-7.78 2.81-2.81c.8-.78.8-2.07 0-2.86zM5.41 20L4 18.59l7.72-7.72 1.47 1.35L5.41 20z\"/>\n",
              "  </svg>\n",
              "      </button>\n",
              "      \n",
              "  <style>\n",
              "    .colab-df-container {\n",
              "      display:flex;\n",
              "      flex-wrap:wrap;\n",
              "      gap: 12px;\n",
              "    }\n",
              "\n",
              "    .colab-df-convert {\n",
              "      background-color: #E8F0FE;\n",
              "      border: none;\n",
              "      border-radius: 50%;\n",
              "      cursor: pointer;\n",
              "      display: none;\n",
              "      fill: #1967D2;\n",
              "      height: 32px;\n",
              "      padding: 0 0 0 0;\n",
              "      width: 32px;\n",
              "    }\n",
              "\n",
              "    .colab-df-convert:hover {\n",
              "      background-color: #E2EBFA;\n",
              "      box-shadow: 0px 1px 2px rgba(60, 64, 67, 0.3), 0px 1px 3px 1px rgba(60, 64, 67, 0.15);\n",
              "      fill: #174EA6;\n",
              "    }\n",
              "\n",
              "    [theme=dark] .colab-df-convert {\n",
              "      background-color: #3B4455;\n",
              "      fill: #D2E3FC;\n",
              "    }\n",
              "\n",
              "    [theme=dark] .colab-df-convert:hover {\n",
              "      background-color: #434B5C;\n",
              "      box-shadow: 0px 1px 3px 1px rgba(0, 0, 0, 0.15);\n",
              "      filter: drop-shadow(0px 1px 2px rgba(0, 0, 0, 0.3));\n",
              "      fill: #FFFFFF;\n",
              "    }\n",
              "  </style>\n",
              "\n",
              "      <script>\n",
              "        const buttonEl =\n",
              "          document.querySelector('#df-8fa3bdf6-79bf-4acf-b816-33ed24a4d187 button.colab-df-convert');\n",
              "        buttonEl.style.display =\n",
              "          google.colab.kernel.accessAllowed ? 'block' : 'none';\n",
              "\n",
              "        async function convertToInteractive(key) {\n",
              "          const element = document.querySelector('#df-8fa3bdf6-79bf-4acf-b816-33ed24a4d187');\n",
              "          const dataTable =\n",
              "            await google.colab.kernel.invokeFunction('convertToInteractive',\n",
              "                                                     [key], {});\n",
              "          if (!dataTable) return;\n",
              "\n",
              "          const docLinkHtml = 'Like what you see? Visit the ' +\n",
              "            '<a target=\"_blank\" href=https://colab.research.google.com/notebooks/data_table.ipynb>data table notebook</a>'\n",
              "            + ' to learn more about interactive tables.';\n",
              "          element.innerHTML = '';\n",
              "          dataTable['output_type'] = 'display_data';\n",
              "          await google.colab.output.renderOutput(dataTable, element);\n",
              "          const docLink = document.createElement('div');\n",
              "          docLink.innerHTML = docLinkHtml;\n",
              "          element.appendChild(docLink);\n",
              "        }\n",
              "      </script>\n",
              "    </div>\n",
              "  </div>\n",
              "  "
            ]
          },
          "metadata": {},
          "execution_count": 328
        }
      ]
    },
    {
      "cell_type": "code",
      "source": [
        "# Con lo anterior observado podemos decir que 555 campesinos alcanzaron la educacion primaria y 990\n",
        "# campesinos alcanzaron la educacion secundaria. Esto, hace un total de 1545 campesinos con educacion de un total\n",
        "# de 2032 campesinos."
      ],
      "metadata": {
        "id": "OEDui3jkcPxG"
      },
      "execution_count": 329,
      "outputs": []
    },
    {
      "cell_type": "code",
      "execution_count": 330,
      "metadata": {
        "id": "RA6vZIbL1WCK",
        "colab": {
          "base_uri": "https://localhost:8080/"
        },
        "outputId": "7a153d11-9f58-4fb2-919d-06bea63180fd"
      },
      "outputs": [
        {
          "output_type": "execute_result",
          "data": {
            "text/plain": [
              "farming             2032\n",
              "household            248\n",
              "others/unknown       156\n",
              "professional          37\n",
              "student               35\n",
              "unemployed            30\n",
              "business/service      21\n",
              "worker                 6\n",
              "others                 3\n",
              "retiree                3\n",
              "Name: Occupation, dtype: int64"
            ]
          },
          "metadata": {},
          "execution_count": 330
        }
      ],
      "source": [
        "df[\"Occupation\"].value_counts()"
      ]
    },
    {
      "cell_type": "code",
      "source": [
        "# Aqui tenemos que ordenar un poco los datos. \"others\" incluirlo en \"others/unknow\" para evitar duplicidad de categorias."
      ],
      "metadata": {
        "id": "9gsq2vCjdA-g"
      },
      "execution_count": 331,
      "outputs": []
    },
    {
      "cell_type": "code",
      "execution_count": 332,
      "metadata": {
        "id": "w-tC9L471V1t",
        "colab": {
          "base_uri": "https://localhost:8080/"
        },
        "outputId": "1af0b2ea-d48e-4d68-cde1-1f721b3a9801"
      },
      "outputs": [
        {
          "output_type": "execute_result",
          "data": {
            "text/plain": [
              "Pesticide        1768\n",
              "Hanging           431\n",
              "Other poison      146\n",
              "Poison unspec     107\n",
              "unspecified        48\n",
              "Cutting            29\n",
              "Drowning           26\n",
              "Jumping            15\n",
              "Others              1\n",
              "Name: method, dtype: int64"
            ]
          },
          "metadata": {},
          "execution_count": 332
        }
      ],
      "source": [
        "df[\"method\"].value_counts()"
      ]
    },
    {
      "cell_type": "code",
      "source": [
        "# Dado que \"Others\" tiene solo un dato, éste lo incluiremos en \"unspecified\". Pero algo interesante a mencionar es que\n",
        "# \"Others\" no es lo mismo que \"unspecified\" dado que el \"others\" puede estar especificado (ser clara la forma de suicidio)\n",
        "# pero dado que es una forma muy escasa de suicidio, no especificarla, como por ejemplo, inmolarse. Esta, no es una forma\n",
        "# de suicidio muy comun, sin embargo, es especifica (a eso se refiere el others). De todas formas, dado que es un puro dato\n",
        "# que cae dentro de esa categoria, no altera nada cambiarla a \"unspecified\"."
      ],
      "metadata": {
        "id": "p20U0ZxOdNM0"
      },
      "execution_count": 333,
      "outputs": []
    },
    {
      "cell_type": "code",
      "execution_count": 334,
      "metadata": {
        "id": "TX7cj2k57u7N"
      },
      "outputs": [],
      "source": [
        "df = df.drop(columns = ['Unnamed: 0', 'Person_ID'])"
      ]
    },
    {
      "cell_type": "code",
      "source": [
        "# Eliminamos las dos columnas que no aportan información al estudio."
      ],
      "metadata": {
        "id": "MynTnOPrdW3z"
      },
      "execution_count": 335,
      "outputs": []
    },
    {
      "cell_type": "code",
      "execution_count": 336,
      "metadata": {
        "id": "5NJPZ6L67yE0",
        "colab": {
          "base_uri": "https://localhost:8080/",
          "height": 206
        },
        "outputId": "aec1de8a-1ebe-4002-f62e-cc4b44727160"
      },
      "outputs": [
        {
          "output_type": "execute_result",
          "data": {
            "text/plain": [
              "  Hospitalised Died Urban  Year  Month     Sex  Age  Education Occupation  \\\n",
              "0          yes   no    no  2010     12  female   39  Secondary  household   \n",
              "1           no  yes    no  2009      3    male   83    primary    farming   \n",
              "2           no  yes    no  2010      2    male   60    primary    farming   \n",
              "3           no  yes    no  2011      1    male   73    primary    farming   \n",
              "4          yes   no    no  2009      8    male   51  Secondary    farming   \n",
              "\n",
              "         method  \n",
              "0  Other poison  \n",
              "1       Hanging  \n",
              "2       Hanging  \n",
              "3       Hanging  \n",
              "4     Pesticide  "
            ],
            "text/html": [
              "\n",
              "  <div id=\"df-e8d45e40-f37d-4025-83f8-9bc3a4799610\">\n",
              "    <div class=\"colab-df-container\">\n",
              "      <div>\n",
              "<style scoped>\n",
              "    .dataframe tbody tr th:only-of-type {\n",
              "        vertical-align: middle;\n",
              "    }\n",
              "\n",
              "    .dataframe tbody tr th {\n",
              "        vertical-align: top;\n",
              "    }\n",
              "\n",
              "    .dataframe thead th {\n",
              "        text-align: right;\n",
              "    }\n",
              "</style>\n",
              "<table border=\"1\" class=\"dataframe\">\n",
              "  <thead>\n",
              "    <tr style=\"text-align: right;\">\n",
              "      <th></th>\n",
              "      <th>Hospitalised</th>\n",
              "      <th>Died</th>\n",
              "      <th>Urban</th>\n",
              "      <th>Year</th>\n",
              "      <th>Month</th>\n",
              "      <th>Sex</th>\n",
              "      <th>Age</th>\n",
              "      <th>Education</th>\n",
              "      <th>Occupation</th>\n",
              "      <th>method</th>\n",
              "    </tr>\n",
              "  </thead>\n",
              "  <tbody>\n",
              "    <tr>\n",
              "      <th>0</th>\n",
              "      <td>yes</td>\n",
              "      <td>no</td>\n",
              "      <td>no</td>\n",
              "      <td>2010</td>\n",
              "      <td>12</td>\n",
              "      <td>female</td>\n",
              "      <td>39</td>\n",
              "      <td>Secondary</td>\n",
              "      <td>household</td>\n",
              "      <td>Other poison</td>\n",
              "    </tr>\n",
              "    <tr>\n",
              "      <th>1</th>\n",
              "      <td>no</td>\n",
              "      <td>yes</td>\n",
              "      <td>no</td>\n",
              "      <td>2009</td>\n",
              "      <td>3</td>\n",
              "      <td>male</td>\n",
              "      <td>83</td>\n",
              "      <td>primary</td>\n",
              "      <td>farming</td>\n",
              "      <td>Hanging</td>\n",
              "    </tr>\n",
              "    <tr>\n",
              "      <th>2</th>\n",
              "      <td>no</td>\n",
              "      <td>yes</td>\n",
              "      <td>no</td>\n",
              "      <td>2010</td>\n",
              "      <td>2</td>\n",
              "      <td>male</td>\n",
              "      <td>60</td>\n",
              "      <td>primary</td>\n",
              "      <td>farming</td>\n",
              "      <td>Hanging</td>\n",
              "    </tr>\n",
              "    <tr>\n",
              "      <th>3</th>\n",
              "      <td>no</td>\n",
              "      <td>yes</td>\n",
              "      <td>no</td>\n",
              "      <td>2011</td>\n",
              "      <td>1</td>\n",
              "      <td>male</td>\n",
              "      <td>73</td>\n",
              "      <td>primary</td>\n",
              "      <td>farming</td>\n",
              "      <td>Hanging</td>\n",
              "    </tr>\n",
              "    <tr>\n",
              "      <th>4</th>\n",
              "      <td>yes</td>\n",
              "      <td>no</td>\n",
              "      <td>no</td>\n",
              "      <td>2009</td>\n",
              "      <td>8</td>\n",
              "      <td>male</td>\n",
              "      <td>51</td>\n",
              "      <td>Secondary</td>\n",
              "      <td>farming</td>\n",
              "      <td>Pesticide</td>\n",
              "    </tr>\n",
              "  </tbody>\n",
              "</table>\n",
              "</div>\n",
              "      <button class=\"colab-df-convert\" onclick=\"convertToInteractive('df-e8d45e40-f37d-4025-83f8-9bc3a4799610')\"\n",
              "              title=\"Convert this dataframe to an interactive table.\"\n",
              "              style=\"display:none;\">\n",
              "        \n",
              "  <svg xmlns=\"http://www.w3.org/2000/svg\" height=\"24px\"viewBox=\"0 0 24 24\"\n",
              "       width=\"24px\">\n",
              "    <path d=\"M0 0h24v24H0V0z\" fill=\"none\"/>\n",
              "    <path d=\"M18.56 5.44l.94 2.06.94-2.06 2.06-.94-2.06-.94-.94-2.06-.94 2.06-2.06.94zm-11 1L8.5 8.5l.94-2.06 2.06-.94-2.06-.94L8.5 2.5l-.94 2.06-2.06.94zm10 10l.94 2.06.94-2.06 2.06-.94-2.06-.94-.94-2.06-.94 2.06-2.06.94z\"/><path d=\"M17.41 7.96l-1.37-1.37c-.4-.4-.92-.59-1.43-.59-.52 0-1.04.2-1.43.59L10.3 9.45l-7.72 7.72c-.78.78-.78 2.05 0 2.83L4 21.41c.39.39.9.59 1.41.59.51 0 1.02-.2 1.41-.59l7.78-7.78 2.81-2.81c.8-.78.8-2.07 0-2.86zM5.41 20L4 18.59l7.72-7.72 1.47 1.35L5.41 20z\"/>\n",
              "  </svg>\n",
              "      </button>\n",
              "      \n",
              "  <style>\n",
              "    .colab-df-container {\n",
              "      display:flex;\n",
              "      flex-wrap:wrap;\n",
              "      gap: 12px;\n",
              "    }\n",
              "\n",
              "    .colab-df-convert {\n",
              "      background-color: #E8F0FE;\n",
              "      border: none;\n",
              "      border-radius: 50%;\n",
              "      cursor: pointer;\n",
              "      display: none;\n",
              "      fill: #1967D2;\n",
              "      height: 32px;\n",
              "      padding: 0 0 0 0;\n",
              "      width: 32px;\n",
              "    }\n",
              "\n",
              "    .colab-df-convert:hover {\n",
              "      background-color: #E2EBFA;\n",
              "      box-shadow: 0px 1px 2px rgba(60, 64, 67, 0.3), 0px 1px 3px 1px rgba(60, 64, 67, 0.15);\n",
              "      fill: #174EA6;\n",
              "    }\n",
              "\n",
              "    [theme=dark] .colab-df-convert {\n",
              "      background-color: #3B4455;\n",
              "      fill: #D2E3FC;\n",
              "    }\n",
              "\n",
              "    [theme=dark] .colab-df-convert:hover {\n",
              "      background-color: #434B5C;\n",
              "      box-shadow: 0px 1px 3px 1px rgba(0, 0, 0, 0.15);\n",
              "      filter: drop-shadow(0px 1px 2px rgba(0, 0, 0, 0.3));\n",
              "      fill: #FFFFFF;\n",
              "    }\n",
              "  </style>\n",
              "\n",
              "      <script>\n",
              "        const buttonEl =\n",
              "          document.querySelector('#df-e8d45e40-f37d-4025-83f8-9bc3a4799610 button.colab-df-convert');\n",
              "        buttonEl.style.display =\n",
              "          google.colab.kernel.accessAllowed ? 'block' : 'none';\n",
              "\n",
              "        async function convertToInteractive(key) {\n",
              "          const element = document.querySelector('#df-e8d45e40-f37d-4025-83f8-9bc3a4799610');\n",
              "          const dataTable =\n",
              "            await google.colab.kernel.invokeFunction('convertToInteractive',\n",
              "                                                     [key], {});\n",
              "          if (!dataTable) return;\n",
              "\n",
              "          const docLinkHtml = 'Like what you see? Visit the ' +\n",
              "            '<a target=\"_blank\" href=https://colab.research.google.com/notebooks/data_table.ipynb>data table notebook</a>'\n",
              "            + ' to learn more about interactive tables.';\n",
              "          element.innerHTML = '';\n",
              "          dataTable['output_type'] = 'display_data';\n",
              "          await google.colab.output.renderOutput(dataTable, element);\n",
              "          const docLink = document.createElement('div');\n",
              "          docLink.innerHTML = docLinkHtml;\n",
              "          element.appendChild(docLink);\n",
              "        }\n",
              "      </script>\n",
              "    </div>\n",
              "  </div>\n",
              "  "
            ]
          },
          "metadata": {},
          "execution_count": 336
        }
      ],
      "source": [
        "df.head() # Observamos como quedó la data"
      ]
    },
    {
      "cell_type": "code",
      "source": [
        "# Lo que haremos a continuacion será graficar cada variable para entender cuál es su comportamiento en la base de datos."
      ],
      "metadata": {
        "id": "28R-OCX6eCtw"
      },
      "execution_count": 337,
      "outputs": []
    },
    {
      "cell_type": "code",
      "execution_count": 338,
      "metadata": {
        "id": "0M-RJO2K8NWD",
        "colab": {
          "base_uri": "https://localhost:8080/",
          "height": 1000
        },
        "outputId": "e6ca89da-7d28-4ae0-ab9f-194d34477492"
      },
      "outputs": [
        {
          "output_type": "display_data",
          "data": {
            "text/plain": [
              "<Figure size 900x300 with 1 Axes>"
            ],
            "image/png": "[encoded data removed]"
          },
          "metadata": {}
        },
        {
          "output_type": "stream",
          "name": "stdout",
          "text": [
            "Hospitalised: \n",
            " yes    1553\n",
            "no     1018\n",
            "Name: Hospitalised, dtype: int64\n"
          ]
        },
        {
          "output_type": "display_data",
          "data": {
            "text/plain": [
              "<Figure size 900x300 with 1 Axes>"
            ],
            "image/png": "[encoded data removed]"
          },
          "metadata": {}
        },
        {
          "output_type": "stream",
          "name": "stdout",
          "text": [
            "Died: \n",
            " no     1315\n",
            "yes    1256\n",
            "Name: Died, dtype: int64\n"
          ]
        },
        {
          "output_type": "display_data",
          "data": {
            "text/plain": [
              "<Figure size 900x300 with 1 Axes>"
            ],
            "image/png": "[encoded data removed]"
          },
          "metadata": {}
        },
        {
          "output_type": "stream",
          "name": "stdout",
          "text": [
            "Urban: \n",
            " no         2213\n",
            "yes         277\n",
            "unknown      81\n",
            "Name: Urban, dtype: int64\n"
          ]
        },
        {
          "output_type": "display_data",
          "data": {
            "text/plain": [
              "<Figure size 900x300 with 1 Axes>"
            ],
            "image/png": "[encoded data removed]"
          },
          "metadata": {}
        },
        {
          "output_type": "stream",
          "name": "stdout",
          "text": [
            "Sex: \n",
            " female    1328\n",
            "male      1243\n",
            "Name: Sex, dtype: int64\n"
          ]
        },
        {
          "output_type": "display_data",
          "data": {
            "text/plain": [
              "<Figure size 900x300 with 1 Axes>"
            ],
            "image/png": "[encoded data removed]"
          },
          "metadata": {}
        },
        {
          "output_type": "stream",
          "name": "stdout",
          "text": [
            "Education: \n",
            " Secondary    1280\n",
            "primary       659\n",
            "iliterate     533\n",
            "unknown        80\n",
            "Tertiary       19\n",
            "Name: Education, dtype: int64\n"
          ]
        },
        {
          "output_type": "display_data",
          "data": {
            "text/plain": [
              "<Figure size 900x300 with 1 Axes>"
            ],
            "image/png": "[encoded data removed]"
          },
          "metadata": {}
        },
        {
          "output_type": "stream",
          "name": "stdout",
          "text": [
            "Occupation: \n",
            " farming             2032\n",
            "household            248\n",
            "others/unknown       156\n",
            "professional          37\n",
            "student               35\n",
            "unemployed            30\n",
            "business/service      21\n",
            "worker                 6\n",
            "others                 3\n",
            "retiree                3\n",
            "Name: Occupation, dtype: int64\n"
          ]
        },
        {
          "output_type": "display_data",
          "data": {
            "text/plain": [
              "<Figure size 900x300 with 1 Axes>"
            ],
            "image/png": "[encoded data removed]"
          },
          "metadata": {}
        },
        {
          "output_type": "stream",
          "name": "stdout",
          "text": [
            "method: \n",
            " Pesticide        1768\n",
            "Hanging           431\n",
            "Other poison      146\n",
            "Poison unspec     107\n",
            "unspecified        48\n",
            "Cutting            29\n",
            "Drowning           26\n",
            "Jumping            15\n",
            "Others              1\n",
            "Name: method, dtype: int64\n"
          ]
        },
        {
          "output_type": "display_data",
          "data": {
            "text/plain": [
              "<Figure size 900x300 with 1 Axes>"
            ],
            "image/png": "[encoded data removed]"
          },
          "metadata": {}
        },
        {
          "output_type": "stream",
          "name": "stdout",
          "text": [
            "Year: \n",
            " 2010    956\n",
            "2011    866\n",
            "2009    749\n",
            "Name: Year, dtype: int64\n"
          ]
        },
        {
          "output_type": "display_data",
          "data": {
            "text/plain": [
              "<Figure size 900x300 with 1 Axes>"
            ],
            "image/png": "[encoded data removed]"
          },
          "metadata": {}
        },
        {
          "output_type": "stream",
          "name": "stdout",
          "text": [
            "Month: \n",
            " 6     284\n",
            "5     263\n",
            "7     247\n",
            "9     241\n",
            "8     229\n",
            "10    211\n",
            "2     208\n",
            "4     208\n",
            "1     201\n",
            "3     190\n",
            "11    153\n",
            "12    136\n",
            "Name: Month, dtype: int64\n"
          ]
        }
      ],
      "source": [
        "def bar_plot(variable):\n",
        "\n",
        "    var = df[variable]\n",
        "    varValue = var.value_counts()\n",
        "\n",
        "    #visualizacion\n",
        "    plt.figure(figsize = (9,3))\n",
        "    plt.bar(varValue.index, varValue)\n",
        "    plt.xticks(varValue.index, varValue.index.values, rotation = 45)\n",
        "    plt.ylabel(\"Frequency\")\n",
        "    plt.title(variable)\n",
        "    plt.show()\n",
        "    print(\"{}: \\n {}\".format(variable, varValue))\n",
        "category1 = [\"Hospitalised\",\"Died\",\"Urban\", \"Sex\", \"Education\", \"Occupation\",\"method\", \"Year\", \"Month\"]\n",
        "for c in category1:\n",
        "    bar_plot(c)"
      ]
    },
    {
      "cell_type": "code",
      "execution_count": 339,
      "metadata": {
        "id": "BCYmm2wH8een",
        "colab": {
          "base_uri": "https://localhost:8080/",
          "height": 333
        },
        "outputId": "6db8e73c-2dee-4cf3-a69e-8ec4c18ce4ec"
      },
      "outputs": [
        {
          "output_type": "display_data",
          "data": {
            "text/plain": [
              "<Figure size 900x300 with 1 Axes>"
            ],
            "image/png": "[encoded data removed]"
          },
          "metadata": {}
        }
      ],
      "source": [
        "plt.figure(figsize = (9,3))\n",
        "plt.hist(df[\"Age\"], bins = 50)\n",
        "plt.xlabel(\"Edad\")\n",
        "plt.ylabel(\"Frecuencia\")\n",
        "plt.title(\"Distribucion de la edad de suicidios\")\n",
        "plt.grid()\n",
        "plt.show()"
      ]
    },
    {
      "cell_type": "code",
      "source": [
        "# Lo que haremos a continuación será reemplazar aquellas variables categoricas para que sean numericas.\n",
        "# Esto se hará de forma manual (sin el one-hot-encoder) para tener mayor control sobre las variables\n",
        "# y no terminar con demasiadas columnas si no que tener las mismas que en un principio pero numericas.\n",
        "# De esta forma seguimos teniendo control de la información y sigue siendo compacta."
      ],
      "metadata": {
        "id": "MyTVQ0dzeikS"
      },
      "execution_count": 340,
      "outputs": []
    },
    {
      "cell_type": "code",
      "execution_count": 341,
      "metadata": {
        "id": "P4wH9NWMAyR2",
        "colab": {
          "base_uri": "https://localhost:8080/",
          "height": 206
        },
        "outputId": "32734a91-04d7-4fc8-dba5-e52294fbd76c"
      },
      "outputs": [
        {
          "output_type": "execute_result",
          "data": {
            "text/plain": [
              "  Hospitalised Died Urban  Year  Month     Sex  Age  Education Occupation  \\\n",
              "0          yes   no    no  2010     12  female   39  Secondary  household   \n",
              "1           no  yes    no  2009      3    male   83    primary    farming   \n",
              "2           no  yes    no  2010      2    male   60    primary    farming   \n",
              "3           no  yes    no  2011      1    male   73    primary    farming   \n",
              "4          yes   no    no  2009      8    male   51  Secondary    farming   \n",
              "\n",
              "         method  \n",
              "0  Other poison  \n",
              "1       Hanging  \n",
              "2       Hanging  \n",
              "3       Hanging  \n",
              "4     Pesticide  "
            ],
            "text/html": [
              "\n",
              "  <div id=\"df-662afd56-be59-43bc-a254-37dc68ebf42e\">\n",
              "    <div class=\"colab-df-container\">\n",
              "      <div>\n",
              "<style scoped>\n",
              "    .dataframe tbody tr th:only-of-type {\n",
              "        vertical-align: middle;\n",
              "    }\n",
              "\n",
              "    .dataframe tbody tr th {\n",
              "        vertical-align: top;\n",
              "    }\n",
              "\n",
              "    .dataframe thead th {\n",
              "        text-align: right;\n",
              "    }\n",
              "</style>\n",
              "<table border=\"1\" class=\"dataframe\">\n",
              "  <thead>\n",
              "    <tr style=\"text-align: right;\">\n",
              "      <th></th>\n",
              "      <th>Hospitalised</th>\n",
              "      <th>Died</th>\n",
              "      <th>Urban</th>\n",
              "      <th>Year</th>\n",
              "      <th>Month</th>\n",
              "      <th>Sex</th>\n",
              "      <th>Age</th>\n",
              "      <th>Education</th>\n",
              "      <th>Occupation</th>\n",
              "      <th>method</th>\n",
              "    </tr>\n",
              "  </thead>\n",
              "  <tbody>\n",
              "    <tr>\n",
              "      <th>0</th>\n",
              "      <td>yes</td>\n",
              "      <td>no</td>\n",
              "      <td>no</td>\n",
              "      <td>2010</td>\n",
              "      <td>12</td>\n",
              "      <td>female</td>\n",
              "      <td>39</td>\n",
              "      <td>Secondary</td>\n",
              "      <td>household</td>\n",
              "      <td>Other poison</td>\n",
              "    </tr>\n",
              "    <tr>\n",
              "      <th>1</th>\n",
              "      <td>no</td>\n",
              "      <td>yes</td>\n",
              "      <td>no</td>\n",
              "      <td>2009</td>\n",
              "      <td>3</td>\n",
              "      <td>male</td>\n",
              "      <td>83</td>\n",
              "      <td>primary</td>\n",
              "      <td>farming</td>\n",
              "      <td>Hanging</td>\n",
              "    </tr>\n",
              "    <tr>\n",
              "      <th>2</th>\n",
              "      <td>no</td>\n",
              "      <td>yes</td>\n",
              "      <td>no</td>\n",
              "      <td>2010</td>\n",
              "      <td>2</td>\n",
              "      <td>male</td>\n",
              "      <td>60</td>\n",
              "      <td>primary</td>\n",
              "      <td>farming</td>\n",
              "      <td>Hanging</td>\n",
              "    </tr>\n",
              "    <tr>\n",
              "      <th>3</th>\n",
              "      <td>no</td>\n",
              "      <td>yes</td>\n",
              "      <td>no</td>\n",
              "      <td>2011</td>\n",
              "      <td>1</td>\n",
              "      <td>male</td>\n",
              "      <td>73</td>\n",
              "      <td>primary</td>\n",
              "      <td>farming</td>\n",
              "      <td>Hanging</td>\n",
              "    </tr>\n",
              "    <tr>\n",
              "      <th>4</th>\n",
              "      <td>yes</td>\n",
              "      <td>no</td>\n",
              "      <td>no</td>\n",
              "      <td>2009</td>\n",
              "      <td>8</td>\n",
              "      <td>male</td>\n",
              "      <td>51</td>\n",
              "      <td>Secondary</td>\n",
              "      <td>farming</td>\n",
              "      <td>Pesticide</td>\n",
              "    </tr>\n",
              "  </tbody>\n",
              "</table>\n",
              "</div>\n",
              "      <button class=\"colab-df-convert\" onclick=\"convertToInteractive('df-662afd56-be59-43bc-a254-37dc68ebf42e')\"\n",
              "              title=\"Convert this dataframe to an interactive table.\"\n",
              "              style=\"display:none;\">\n",
              "        \n",
              "  <svg xmlns=\"http://www.w3.org/2000/svg\" height=\"24px\"viewBox=\"0 0 24 24\"\n",
              "       width=\"24px\">\n",
              "    <path d=\"M0 0h24v24H0V0z\" fill=\"none\"/>\n",
              "    <path d=\"M18.56 5.44l.94 2.06.94-2.06 2.06-.94-2.06-.94-.94-2.06-.94 2.06-2.06.94zm-11 1L8.5 8.5l.94-2.06 2.06-.94-2.06-.94L8.5 2.5l-.94 2.06-2.06.94zm10 10l.94 2.06.94-2.06 2.06-.94-2.06-.94-.94-2.06-.94 2.06-2.06.94z\"/><path d=\"M17.41 7.96l-1.37-1.37c-.4-.4-.92-.59-1.43-.59-.52 0-1.04.2-1.43.59L10.3 9.45l-7.72 7.72c-.78.78-.78 2.05 0 2.83L4 21.41c.39.39.9.59 1.41.59.51 0 1.02-.2 1.41-.59l7.78-7.78 2.81-2.81c.8-.78.8-2.07 0-2.86zM5.41 20L4 18.59l7.72-7.72 1.47 1.35L5.41 20z\"/>\n",
              "  </svg>\n",
              "      </button>\n",
              "      \n",
              "  <style>\n",
              "    .colab-df-container {\n",
              "      display:flex;\n",
              "      flex-wrap:wrap;\n",
              "      gap: 12px;\n",
              "    }\n",
              "\n",
              "    .colab-df-convert {\n",
              "      background-color: #E8F0FE;\n",
              "      border: none;\n",
              "      border-radius: 50%;\n",
              "      cursor: pointer;\n",
              "      display: none;\n",
              "      fill: #1967D2;\n",
              "      height: 32px;\n",
              "      padding: 0 0 0 0;\n",
              "      width: 32px;\n",
              "    }\n",
              "\n",
              "    .colab-df-convert:hover {\n",
              "      background-color: #E2EBFA;\n",
              "      box-shadow: 0px 1px 2px rgba(60, 64, 67, 0.3), 0px 1px 3px 1px rgba(60, 64, 67, 0.15);\n",
              "      fill: #174EA6;\n",
              "    }\n",
              "\n",
              "    [theme=dark] .colab-df-convert {\n",
              "      background-color: #3B4455;\n",
              "      fill: #D2E3FC;\n",
              "    }\n",
              "\n",
              "    [theme=dark] .colab-df-convert:hover {\n",
              "      background-color: #434B5C;\n",
              "      box-shadow: 0px 1px 3px 1px rgba(0, 0, 0, 0.15);\n",
              "      filter: drop-shadow(0px 1px 2px rgba(0, 0, 0, 0.3));\n",
              "      fill: #FFFFFF;\n",
              "    }\n",
              "  </style>\n",
              "\n",
              "      <script>\n",
              "        const buttonEl =\n",
              "          document.querySelector('#df-662afd56-be59-43bc-a254-37dc68ebf42e button.colab-df-convert');\n",
              "        buttonEl.style.display =\n",
              "          google.colab.kernel.accessAllowed ? 'block' : 'none';\n",
              "\n",
              "        async function convertToInteractive(key) {\n",
              "          const element = document.querySelector('#df-662afd56-be59-43bc-a254-37dc68ebf42e');\n",
              "          const dataTable =\n",
              "            await google.colab.kernel.invokeFunction('convertToInteractive',\n",
              "                                                     [key], {});\n",
              "          if (!dataTable) return;\n",
              "\n",
              "          const docLinkHtml = 'Like what you see? Visit the ' +\n",
              "            '<a target=\"_blank\" href=https://colab.research.google.com/notebooks/data_table.ipynb>data table notebook</a>'\n",
              "            + ' to learn more about interactive tables.';\n",
              "          element.innerHTML = '';\n",
              "          dataTable['output_type'] = 'display_data';\n",
              "          await google.colab.output.renderOutput(dataTable, element);\n",
              "          const docLink = document.createElement('div');\n",
              "          docLink.innerHTML = docLinkHtml;\n",
              "          element.appendChild(docLink);\n",
              "        }\n",
              "      </script>\n",
              "    </div>\n",
              "  </div>\n",
              "  "
            ]
          },
          "metadata": {},
          "execution_count": 341
        }
      ],
      "source": [
        "df.head()"
      ]
    },
    {
      "cell_type": "code",
      "execution_count": 342,
      "metadata": {
        "id": "M4Q3jDPYA0Kd"
      },
      "outputs": [],
      "source": [
        "df[\"Hospitalised\"]= df[\"Hospitalised\"].replace(\"yes\", 1)\n",
        "df[\"Hospitalised\"]= df[\"Hospitalised\"].replace(\"no\", 0)"
      ]
    },
    {
      "cell_type": "code",
      "execution_count": 343,
      "metadata": {
        "id": "Oz8VcUJaBU4k"
      },
      "outputs": [],
      "source": [
        "df[\"Died\"]= df[\"Died\"].replace(\"yes\", 1)\n",
        "df[\"Died\"]= df[\"Died\"].replace(\"no\", 0)"
      ]
    },
    {
      "cell_type": "code",
      "execution_count": 344,
      "metadata": {
        "id": "UDC7mFmbBb7I"
      },
      "outputs": [],
      "source": [
        "df[\"Urban\"]= df[\"Urban\"].replace(\"yes\", 1)\n",
        "df[\"Urban\"]= df[\"Urban\"].replace(\"no\", 0)\n",
        "df[\"Urban\"]= df[\"Urban\"].replace(\"unknown\", 2)"
      ]
    },
    {
      "cell_type": "code",
      "execution_count": 345,
      "metadata": {
        "id": "yBYq_a5XBjIW"
      },
      "outputs": [],
      "source": [
        "df[\"Sex\"]= df[\"Sex\"].replace(\"female\", 1)\n",
        "df[\"Sex\"]= df[\"Sex\"].replace(\"male\", 0)"
      ]
    },
    {
      "cell_type": "code",
      "execution_count": 346,
      "metadata": {
        "id": "qatCRghsBrlt"
      },
      "outputs": [],
      "source": [
        "df[\"Education\"]= df[\"Education\"].replace(\"iliterate\", 0)\n",
        "df[\"Education\"]= df[\"Education\"].replace(\"primary\", 1)\n",
        "df[\"Education\"]= df[\"Education\"].replace(\"Secondary\", 2)\n",
        "df[\"Education\"]= df[\"Education\"].replace(\"Tertiary\", 3)\n",
        "df[\"Education\"]= df[\"Education\"].replace(\"unknown\", 4)"
      ]
    },
    {
      "cell_type": "code",
      "source": [
        "# En este codigo, a diferencua de los anteriores estamos reordenando las categorias. Como se menciono anteriormente,\n",
        "# \"other\" será tratado de la misma manera que la categoria \"Others/unknow\" considerando ademas que son solo 3 datos\n",
        "# los que se estan reagrupando."
      ],
      "metadata": {
        "id": "cnfkT66ifgaE"
      },
      "execution_count": 347,
      "outputs": []
    },
    {
      "cell_type": "code",
      "execution_count": 348,
      "metadata": {
        "id": "7D_vi5FJB6Kz"
      },
      "outputs": [],
      "source": [
        "df[\"Occupation\"]= df[\"Occupation\"].replace(\"farming\", 1)\n",
        "df[\"Occupation\"]= df[\"Occupation\"].replace(\"household\", 2)\n",
        "df[\"Occupation\"]= df[\"Occupation\"].replace(\"others/unknown\", \"others\")\n",
        "df[\"Occupation\"]= df[\"Occupation\"].replace(\"others\", 3)\n",
        "df[\"Occupation\"]= df[\"Occupation\"].replace(\"professional\", 4)\n",
        "df[\"Occupation\"]= df[\"Occupation\"].replace(\"student\", 5)\n",
        "df[\"Occupation\"]= df[\"Occupation\"].replace(\"unemployed\", 6)\n",
        "df[\"Occupation\"]= df[\"Occupation\"].replace(\"business/service\", 7)\n",
        "df[\"Occupation\"]= df[\"Occupation\"].replace(\"worker\", 8)\n",
        "df[\"Occupation\"]= df[\"Occupation\"].replace(\"retiree\", 9)"
      ]
    },
    {
      "cell_type": "code",
      "source": [
        "# De la misma forma que en el codigo anterior, estamos reagrupando la categoria \"Other poison\" con \"Poison unspec\"\n",
        "# Esto es porque se podría considerar que en la base de datos, al colocar other poison no la estamos especificando\n",
        "# por lo que para nosotros sería lo mismo que tratarla como poison unspec. Además \"Others\" es lo mismo, para nosotros\n",
        "# que decir \"unspecified\" dado que con others tampoco se esta especificando el metodo de suicidio, por lo que tambien\n",
        "# la estamos agrupando dentro de la misma categoria."
      ],
      "metadata": {
        "id": "uWn2KwefgBvK"
      },
      "execution_count": 349,
      "outputs": []
    },
    {
      "cell_type": "code",
      "execution_count": 350,
      "metadata": {
        "id": "Yj8YEPCLCvqd"
      },
      "outputs": [],
      "source": [
        "df[\"method\"]= df[\"method\"].replace(\"Pesticide\", 1)\n",
        "df[\"method\"]= df[\"method\"].replace(\"Hanging\", 2)\n",
        "df[\"method\"]= df[\"method\"].replace(\"Other poison\", \"Poison unspec\")\n",
        "df[\"method\"]= df[\"method\"].replace(\"Poison unspec\", 3)\n",
        "df[\"method\"]= df[\"method\"].replace(\"unspecified\", 4)\n",
        "df[\"method\"]= df[\"method\"].replace(\"Cutting\", 5)\n",
        "df[\"method\"]= df[\"method\"].replace(\"Drowning\", 6)\n",
        "df[\"method\"]= df[\"method\"].replace(\"Jumping\", 7)\n",
        "df[\"method\"]= df[\"method\"].replace(\"Others\", 4)"
      ]
    },
    {
      "cell_type": "code",
      "source": [
        "# Vemos cómo quedó la data."
      ],
      "metadata": {
        "id": "jLTsZUlWfRgr"
      },
      "execution_count": 351,
      "outputs": []
    },
    {
      "cell_type": "code",
      "execution_count": 352,
      "metadata": {
        "id": "9rLgFAEwDdEJ",
        "colab": {
          "base_uri": "https://localhost:8080/",
          "height": 206
        },
        "outputId": "61727920-c4df-420d-f242-d11f144c42ce"
      },
      "outputs": [
        {
          "output_type": "execute_result",
          "data": {
            "text/plain": [
              "   Hospitalised  Died  Urban  Year  Month  Sex  Age  Education  Occupation  \\\n",
              "0             1     0      0  2010     12    1   39          2           2   \n",
              "1             0     1      0  2009      3    0   83          1           1   \n",
              "2             0     1      0  2010      2    0   60          1           1   \n",
              "3             0     1      0  2011      1    0   73          1           1   \n",
              "4             1     0      0  2009      8    0   51          2           1   \n",
              "\n",
              "   method  \n",
              "0       3  \n",
              "1       2  \n",
              "2       2  \n",
              "3       2  \n",
              "4       1  "
            ],
            "text/html": [
              "\n",
              "  <div id=\"df-d26e86dd-3628-42fd-a0dd-96eed4e67dca\">\n",
              "    <div class=\"colab-df-container\">\n",
              "      <div>\n",
              "<style scoped>\n",
              "    .dataframe tbody tr th:only-of-type {\n",
              "        vertical-align: middle;\n",
              "    }\n",
              "\n",
              "    .dataframe tbody tr th {\n",
              "        vertical-align: top;\n",
              "    }\n",
              "\n",
              "    .dataframe thead th {\n",
              "        text-align: right;\n",
              "    }\n",
              "</style>\n",
              "<table border=\"1\" class=\"dataframe\">\n",
              "  <thead>\n",
              "    <tr style=\"text-align: right;\">\n",
              "      <th></th>\n",
              "      <th>Hospitalised</th>\n",
              "      <th>Died</th>\n",
              "      <th>Urban</th>\n",
              "      <th>Year</th>\n",
              "      <th>Month</th>\n",
              "      <th>Sex</th>\n",
              "      <th>Age</th>\n",
              "      <th>Education</th>\n",
              "      <th>Occupation</th>\n",
              "      <th>method</th>\n",
              "    </tr>\n",
              "  </thead>\n",
              "  <tbody>\n",
              "    <tr>\n",
              "      <th>0</th>\n",
              "      <td>1</td>\n",
              "      <td>0</td>\n",
              "      <td>0</td>\n",
              "      <td>2010</td>\n",
              "      <td>12</td>\n",
              "      <td>1</td>\n",
              "      <td>39</td>\n",
              "      <td>2</td>\n",
              "      <td>2</td>\n",
              "      <td>3</td>\n",
              "    </tr>\n",
              "    <tr>\n",
              "      <th>1</th>\n",
              "      <td>0</td>\n",
              "      <td>1</td>\n",
              "      <td>0</td>\n",
              "      <td>2009</td>\n",
              "      <td>3</td>\n",
              "      <td>0</td>\n",
              "      <td>83</td>\n",
              "      <td>1</td>\n",
              "      <td>1</td>\n",
              "      <td>2</td>\n",
              "    </tr>\n",
              "    <tr>\n",
              "      <th>2</th>\n",
              "      <td>0</td>\n",
              "      <td>1</td>\n",
              "      <td>0</td>\n",
              "      <td>2010</td>\n",
              "      <td>2</td>\n",
              "      <td>0</td>\n",
              "      <td>60</td>\n",
              "      <td>1</td>\n",
              "      <td>1</td>\n",
              "      <td>2</td>\n",
              "    </tr>\n",
              "    <tr>\n",
              "      <th>3</th>\n",
              "      <td>0</td>\n",
              "      <td>1</td>\n",
              "      <td>0</td>\n",
              "      <td>2011</td>\n",
              "      <td>1</td>\n",
              "      <td>0</td>\n",
              "      <td>73</td>\n",
              "      <td>1</td>\n",
              "      <td>1</td>\n",
              "      <td>2</td>\n",
              "    </tr>\n",
              "    <tr>\n",
              "      <th>4</th>\n",
              "      <td>1</td>\n",
              "      <td>0</td>\n",
              "      <td>0</td>\n",
              "      <td>2009</td>\n",
              "      <td>8</td>\n",
              "      <td>0</td>\n",
              "      <td>51</td>\n",
              "      <td>2</td>\n",
              "      <td>1</td>\n",
              "      <td>1</td>\n",
              "    </tr>\n",
              "  </tbody>\n",
              "</table>\n",
              "</div>\n",
              "      <button class=\"colab-df-convert\" onclick=\"convertToInteractive('df-d26e86dd-3628-42fd-a0dd-96eed4e67dca')\"\n",
              "              title=\"Convert this dataframe to an interactive table.\"\n",
              "              style=\"display:none;\">\n",
              "        \n",
              "  <svg xmlns=\"http://www.w3.org/2000/svg\" height=\"24px\"viewBox=\"0 0 24 24\"\n",
              "       width=\"24px\">\n",
              "    <path d=\"M0 0h24v24H0V0z\" fill=\"none\"/>\n",
              "    <path d=\"M18.56 5.44l.94 2.06.94-2.06 2.06-.94-2.06-.94-.94-2.06-.94 2.06-2.06.94zm-11 1L8.5 8.5l.94-2.06 2.06-.94-2.06-.94L8.5 2.5l-.94 2.06-2.06.94zm10 10l.94 2.06.94-2.06 2.06-.94-2.06-.94-.94-2.06-.94 2.06-2.06.94z\"/><path d=\"M17.41 7.96l-1.37-1.37c-.4-.4-.92-.59-1.43-.59-.52 0-1.04.2-1.43.59L10.3 9.45l-7.72 7.72c-.78.78-.78 2.05 0 2.83L4 21.41c.39.39.9.59 1.41.59.51 0 1.02-.2 1.41-.59l7.78-7.78 2.81-2.81c.8-.78.8-2.07 0-2.86zM5.41 20L4 18.59l7.72-7.72 1.47 1.35L5.41 20z\"/>\n",
              "  </svg>\n",
              "      </button>\n",
              "      \n",
              "  <style>\n",
              "    .colab-df-container {\n",
              "      display:flex;\n",
              "      flex-wrap:wrap;\n",
              "      gap: 12px;\n",
              "    }\n",
              "\n",
              "    .colab-df-convert {\n",
              "      background-color: #E8F0FE;\n",
              "      border: none;\n",
              "      border-radius: 50%;\n",
              "      cursor: pointer;\n",
              "      display: none;\n",
              "      fill: #1967D2;\n",
              "      height: 32px;\n",
              "      padding: 0 0 0 0;\n",
              "      width: 32px;\n",
              "    }\n",
              "\n",
              "    .colab-df-convert:hover {\n",
              "      background-color: #E2EBFA;\n",
              "      box-shadow: 0px 1px 2px rgba(60, 64, 67, 0.3), 0px 1px 3px 1px rgba(60, 64, 67, 0.15);\n",
              "      fill: #174EA6;\n",
              "    }\n",
              "\n",
              "    [theme=dark] .colab-df-convert {\n",
              "      background-color: #3B4455;\n",
              "      fill: #D2E3FC;\n",
              "    }\n",
              "\n",
              "    [theme=dark] .colab-df-convert:hover {\n",
              "      background-color: #434B5C;\n",
              "      box-shadow: 0px 1px 3px 1px rgba(0, 0, 0, 0.15);\n",
              "      filter: drop-shadow(0px 1px 2px rgba(0, 0, 0, 0.3));\n",
              "      fill: #FFFFFF;\n",
              "    }\n",
              "  </style>\n",
              "\n",
              "      <script>\n",
              "        const buttonEl =\n",
              "          document.querySelector('#df-d26e86dd-3628-42fd-a0dd-96eed4e67dca button.colab-df-convert');\n",
              "        buttonEl.style.display =\n",
              "          google.colab.kernel.accessAllowed ? 'block' : 'none';\n",
              "\n",
              "        async function convertToInteractive(key) {\n",
              "          const element = document.querySelector('#df-d26e86dd-3628-42fd-a0dd-96eed4e67dca');\n",
              "          const dataTable =\n",
              "            await google.colab.kernel.invokeFunction('convertToInteractive',\n",
              "                                                     [key], {});\n",
              "          if (!dataTable) return;\n",
              "\n",
              "          const docLinkHtml = 'Like what you see? Visit the ' +\n",
              "            '<a target=\"_blank\" href=https://colab.research.google.com/notebooks/data_table.ipynb>data table notebook</a>'\n",
              "            + ' to learn more about interactive tables.';\n",
              "          element.innerHTML = '';\n",
              "          dataTable['output_type'] = 'display_data';\n",
              "          await google.colab.output.renderOutput(dataTable, element);\n",
              "          const docLink = document.createElement('div');\n",
              "          docLink.innerHTML = docLinkHtml;\n",
              "          element.appendChild(docLink);\n",
              "        }\n",
              "      </script>\n",
              "    </div>\n",
              "  </div>\n",
              "  "
            ]
          },
          "metadata": {},
          "execution_count": 352
        }
      ],
      "source": [
        "df.head()"
      ]
    },
    {
      "cell_type": "code",
      "source": [
        "# A continuacion realizamos un grafico de correlación para entender que tan fuerte (o debil) correlacionan las\n",
        "# variables. Pero de antemano ya podemos entender que encontraremos correlaciones fuertes entre hospitalised y died."
      ],
      "metadata": {
        "id": "OCLRd16RhRJn"
      },
      "execution_count": 353,
      "outputs": []
    },
    {
      "cell_type": "code",
      "execution_count": 354,
      "metadata": {
        "id": "QtV-RPhRDgq0",
        "colab": {
          "base_uri": "https://localhost:8080/",
          "height": 523
        },
        "outputId": "306ab3bb-22f2-4dbf-f4bc-ab518df7c890"
      },
      "outputs": [
        {
          "output_type": "display_data",
          "data": {
            "text/plain": [
              "<Figure size 640x480 with 2 Axes>"
            ],
            "image/png": "[encoded data removed]"
          },
          "metadata": {}
        }
      ],
      "source": [
        "Correlacion = df.corr()\n",
        "sns.heatmap(Correlacion, cmap='Greens', annot=True)\n",
        "plt.title(\"Correlacion en base de datos de suicidios en Shandong\")\n",
        "plt.show()"
      ]
    },
    {
      "cell_type": "code",
      "execution_count": 355,
      "metadata": {
        "id": "s-9oJnSmObVS",
        "colab": {
          "base_uri": "https://localhost:8080/"
        },
        "outputId": "c46e892b-75ec-44e3-a39d-ecf50ef37df5"
      },
      "outputs": [
        {
          "output_type": "stream",
          "name": "stdout",
          "text": [
            "<class 'pandas.core.frame.DataFrame'>\n",
            "RangeIndex: 2571 entries, 0 to 2570\n",
            "Data columns (total 10 columns):\n",
            " #   Column        Non-Null Count  Dtype\n",
            "---  ------        --------------  -----\n",
            " 0   Hospitalised  2571 non-null   int64\n",
            " 1   Died          2571 non-null   int64\n",
            " 2   Urban         2571 non-null   int64\n",
            " 3   Year          2571 non-null   int64\n",
            " 4   Month         2571 non-null   int64\n",
            " 5   Sex           2571 non-null   int64\n",
            " 6   Age           2571 non-null   int64\n",
            " 7   Education     2571 non-null   int64\n",
            " 8   Occupation    2571 non-null   int64\n",
            " 9   method        2571 non-null   int64\n",
            "dtypes: int64(10)\n",
            "memory usage: 201.0 KB\n"
          ]
        }
      ],
      "source": [
        "df.info()"
      ]
    },
    {
      "cell_type": "code",
      "execution_count": 356,
      "metadata": {
        "id": "-7iz-mhJOV8y"
      },
      "outputs": [],
      "source": [
        "# Hasta aqui, terminamos de revisar los datos. Estos estan bien, son todos integer, no hay missing\n",
        "# value, no hay NaN, no hay datos duplicados. Podemos aplicar modelos."
      ]
    },
    {
      "cell_type": "code",
      "execution_count": 357,
      "metadata": {
        "id": "C62qv76pOl4M"
      },
      "outputs": [],
      "source": [
        "# ****************************************************************************************************************\n",
        "# ================================ Segunda parte: Metrica y Modelos Aplicados ================================ #\n",
        "# ****************************************************************************************************************"
      ]
    },
    {
      "cell_type": "code",
      "execution_count": 358,
      "metadata": {
        "id": "8344kmE-St8i",
        "colab": {
          "base_uri": "https://localhost:8080/",
          "height": 35
        },
        "outputId": "37c2222e-034a-4066-9020-52fecf09c383"
      },
      "outputs": [
        {
          "output_type": "execute_result",
          "data": {
            "text/plain": [
              "' ===================== Primer Modelo: Arboles de Decisión ===================== '"
            ],
            "application/vnd.google.colaboratory.intrinsic+json": {
              "type": "string"
            }
          },
          "metadata": {},
          "execution_count": 358
        }
      ],
      "source": [
        "\" ===================== Primer Modelo: Arboles de Decisión ===================== \""
      ]
    },
    {
      "cell_type": "code",
      "execution_count": 359,
      "metadata": {
        "id": "U2Ojj-AKSt0J"
      },
      "outputs": [],
      "source": [
        "# Correré la base de datos de nuevo y todo lo modificado para comenzar a trabajar con el modelo.\n",
        "\n",
        "# Cargamos la base de datps\n",
        "df = pd.read_csv(\"/content/SuicideChina.csv\")\n",
        "\n",
        "# Eliminamos las columnas innecesarias\n",
        "df = df.drop(columns = ['Unnamed: 0', 'Person_ID'])\n",
        "\n",
        "# Cambiamos las columnas que son categoricas como valores numericos:\n",
        "\n",
        "# Si fue Hospitalizado o no\n",
        "df[\"Hospitalised\"]= df[\"Hospitalised\"].replace(\"yes\", 1)\n",
        "df[\"Hospitalised\"]= df[\"Hospitalised\"].replace(\"no\", 0)\n",
        "\n",
        "# Si falleció o no\n",
        "df[\"Died\"]= df[\"Died\"].replace(\"yes\", 1)\n",
        "df[\"Died\"]= df[\"Died\"].replace(\"no\", 0)\n",
        "\n",
        "# si vivia en una zona urbana o rural\n",
        "df[\"Urban\"]= df[\"Urban\"].replace(\"yes\", 1)\n",
        "df[\"Urban\"]= df[\"Urban\"].replace(\"no\", 0)\n",
        "df[\"Urban\"]= df[\"Urban\"].replace(\"unknown\", 2)\n",
        "\n",
        "# De qué genero era\n",
        "df[\"Sex\"]= df[\"Sex\"].replace(\"female\", 1)\n",
        "df[\"Sex\"]= df[\"Sex\"].replace(\"male\", 0)\n",
        "\n",
        "# La educación que tenía\n",
        "df[\"Education\"]= df[\"Education\"].replace(\"iliterate\", 0)\n",
        "df[\"Education\"]= df[\"Education\"].replace(\"primary\", 1)\n",
        "df[\"Education\"]= df[\"Education\"].replace(\"Secondary\", 2)\n",
        "df[\"Education\"]= df[\"Education\"].replace(\"Tertiary\", 3)\n",
        "df[\"Education\"]= df[\"Education\"].replace(\"unknown\", 4)\n",
        "\n",
        "# A qué se dedicaba\n",
        "df[\"Occupation\"]= df[\"Occupation\"].replace(\"farming\", 1)\n",
        "df[\"Occupation\"]= df[\"Occupation\"].replace(\"household\", 2)\n",
        "df[\"Occupation\"]= df[\"Occupation\"].replace(\"others/unknown\", \"others\")\n",
        "df[\"Occupation\"]= df[\"Occupation\"].replace(\"others\", 3)\n",
        "df[\"Occupation\"]= df[\"Occupation\"].replace(\"professional\", 4)\n",
        "df[\"Occupation\"]= df[\"Occupation\"].replace(\"student\", 5)\n",
        "df[\"Occupation\"]= df[\"Occupation\"].replace(\"unemployed\", 6)\n",
        "df[\"Occupation\"]= df[\"Occupation\"].replace(\"business/service\", 7)\n",
        "df[\"Occupation\"]= df[\"Occupation\"].replace(\"worker\", 8)\n",
        "df[\"Occupation\"]= df[\"Occupation\"].replace(\"retiree\", 9)\n",
        "\n",
        "# El metodo que escogio para cometer suicidio (o intento de suicidio)\n",
        "df[\"method\"]= df[\"method\"].replace(\"Pesticide\", 1)\n",
        "df[\"method\"]= df[\"method\"].replace(\"Hanging\", 2)\n",
        "df[\"method\"]= df[\"method\"].replace(\"Other poison\", \"Poison unspec\")\n",
        "df[\"method\"]= df[\"method\"].replace(\"Poison unspec\", 3)\n",
        "df[\"method\"]= df[\"method\"].replace(\"unspecified\", 4)\n",
        "df[\"method\"]= df[\"method\"].replace(\"Cutting\", 5)\n",
        "df[\"method\"]= df[\"method\"].replace(\"Drowning\", 6)\n",
        "df[\"method\"]= df[\"method\"].replace(\"Jumping\", 7)\n",
        "df[\"method\"]= df[\"method\"].replace(\"Others\", 4)"
      ]
    },
    {
      "cell_type": "code",
      "execution_count": 360,
      "metadata": {
        "id": "QkdHdip1Stwj"
      },
      "outputs": [],
      "source": [
        "# Variable objetivo: \"Died\"\n",
        "\n",
        "y = df['Died']\n",
        "X = df.drop(columns = 'Died')"
      ]
    },
    {
      "cell_type": "code",
      "execution_count": 361,
      "metadata": {
        "id": "O06wyKE_Stud"
      },
      "outputs": [],
      "source": [
        "# Hacemos el test train split\n",
        "\n",
        "X_train, X_test, y_train, y_test = train_test_split(X, y, random_state=42)"
      ]
    },
    {
      "cell_type": "code",
      "execution_count": 362,
      "metadata": {
        "id": "P-bsBt2zStsM"
      },
      "outputs": [],
      "source": [
        "# Aplicamos el modelo de arboles de decision\n",
        "\n",
        "DecisionTreeClassifier,\n",
        "dec_tree = DecisionTreeClassifier(random_state = 42)"
      ]
    },
    {
      "cell_type": "code",
      "execution_count": 363,
      "metadata": {
        "id": "6OJWrPJSW77P",
        "colab": {
          "base_uri": "https://localhost:8080/",
          "height": 75
        },
        "outputId": "4b3a4b41-def1-4145-859b-86574a3272f6"
      },
      "outputs": [
        {
          "output_type": "execute_result",
          "data": {
            "text/plain": [
              "DecisionTreeClassifier(random_state=42)"
            ],
            "text/html": [
              "<style>#sk-container-id-13 {color: black;background-color: white;}#sk-container-id-13 pre{padding: 0;}#sk-container-id-13 div.sk-toggleable {background-color: white;}#sk-container-id-13 label.sk-toggleable__label {cursor: pointer;display: block;width: 100%;margin-bottom: 0;padding: 0.3em;box-sizing: border-box;text-align: center;}#sk-container-id-13 label.sk-toggleable__label-arrow:before {content: \"▸\";float: left;margin-right: 0.25em;color: #696969;}#sk-container-id-13 label.sk-toggleable__label-arrow:hover:before {color: black;}#sk-container-id-13 div.sk-estimator:hover label.sk-toggleable__label-arrow:before {color: black;}#sk-container-id-13 div.sk-toggleable__content {max-height: 0;max-width: 0;overflow: hidden;text-align: left;background-color: #f0f8ff;}#sk-container-id-13 div.sk-toggleable__content pre {margin: 0.2em;color: black;border-radius: 0.25em;background-color: #f0f8ff;}#sk-container-id-13 input.sk-toggleable__control:checked~div.sk-toggleable__content {max-height: 200px;max-width: 100%;overflow: auto;}#sk-container-id-13 input.sk-toggleable__control:checked~label.sk-toggleable__label-arrow:before {content: \"▾\";}#sk-container-id-13 div.sk-estimator input.sk-toggleable__control:checked~label.sk-toggleable__label {background-color: #d4ebff;}#sk-container-id-13 div.sk-label input.sk-toggleable__control:checked~label.sk-toggleable__label {background-color: #d4ebff;}#sk-container-id-13 input.sk-hidden--visually {border: 0;clip: rect(1px 1px 1px 1px);clip: rect(1px, 1px, 1px, 1px);height: 1px;margin: -1px;overflow: hidden;padding: 0;position: absolute;width: 1px;}#sk-container-id-13 div.sk-estimator {font-family: monospace;background-color: #f0f8ff;border: 1px dotted black;border-radius: 0.25em;box-sizing: border-box;margin-bottom: 0.5em;}#sk-container-id-13 div.sk-estimator:hover {background-color: #d4ebff;}#sk-container-id-13 div.sk-parallel-item::after {content: \"\";width: 100%;border-bottom: 1px solid gray;flex-grow: 1;}#sk-container-id-13 div.sk-label:hover label.sk-toggleable__label {background-color: #d4ebff;}#sk-container-id-13 div.sk-serial::before {content: \"\";position: absolute;border-left: 1px solid gray;box-sizing: border-box;top: 0;bottom: 0;left: 50%;z-index: 0;}#sk-container-id-13 div.sk-serial {display: flex;flex-direction: column;align-items: center;background-color: white;padding-right: 0.2em;padding-left: 0.2em;position: relative;}#sk-container-id-13 div.sk-item {position: relative;z-index: 1;}#sk-container-id-13 div.sk-parallel {display: flex;align-items: stretch;justify-content: center;background-color: white;position: relative;}#sk-container-id-13 div.sk-item::before, #sk-container-id-13 div.sk-parallel-item::before {content: \"\";position: absolute;border-left: 1px solid gray;box-sizing: border-box;top: 0;bottom: 0;left: 50%;z-index: -1;}#sk-container-id-13 div.sk-parallel-item {display: flex;flex-direction: column;z-index: 1;position: relative;background-color: white;}#sk-container-id-13 div.sk-parallel-item:first-child::after {align-self: flex-end;width: 50%;}#sk-container-id-13 div.sk-parallel-item:last-child::after {align-self: flex-start;width: 50%;}#sk-container-id-13 div.sk-parallel-item:only-child::after {width: 0;}#sk-container-id-13 div.sk-dashed-wrapped {border: 1px dashed gray;margin: 0 0.4em 0.5em 0.4em;box-sizing: border-box;padding-bottom: 0.4em;background-color: white;}#sk-container-id-13 div.sk-label label {font-family: monospace;font-weight: bold;display: inline-block;line-height: 1.2em;}#sk-container-id-13 div.sk-label-container {text-align: center;}#sk-container-id-13 div.sk-container {/* jupyter's `normalize.less` sets `[hidden] { display: none; }` but bootstrap.min.css set `[hidden] { display: none !important; }` so we also need the `!important` here to be able to override the default hidden behavior on the sphinx rendered scikit-learn.org. See: https://github.com/scikit-learn/scikit-learn/issues/21755 */display: inline-block !important;position: relative;}#sk-container-id-13 div.sk-text-repr-fallback {display: none;}</style><div id=\"sk-container-id-13\" class=\"sk-top-container\"><div class=\"sk-text-repr-fallback\"><pre>DecisionTreeClassifier(random_state=42)</pre><b>In a Jupyter environment, please rerun this cell to show the HTML representation or trust the notebook. <br />On GitHub, the HTML representation is unable to render, please try loading this page with nbviewer.org.</b></div><div class=\"sk-container\" hidden><div class=\"sk-item\"><div class=\"sk-estimator sk-toggleable\"><input class=\"sk-toggleable__control sk-hidden--visually\" id=\"sk-estimator-id-33\" type=\"checkbox\" checked><label for=\"sk-estimator-id-33\" class=\"sk-toggleable__label sk-toggleable__label-arrow\">DecisionTreeClassifier</label><div class=\"sk-toggleable__content\"><pre>DecisionTreeClassifier(random_state=42)</pre></div></div></div></div></div>"
            ]
          },
          "metadata": {},
          "execution_count": 363
        }
      ],
      "source": [
        "# Ajustamos el modelo utilizando los datos de entrenamiento\n",
        "\n",
        "dec_tree.fit(X_train, y_train)"
      ]
    },
    {
      "cell_type": "code",
      "execution_count": 364,
      "metadata": {
        "id": "cIP5XNqbW75t"
      },
      "outputs": [],
      "source": [
        "# Predecir los valores objetivos para el conjunto de entrenamiento y de prueba.\n",
        "\n",
        "train_preds = dec_tree.predict(X_train)\n",
        "test_preds = dec_tree.predict(X_test)"
      ]
    },
    {
      "cell_type": "code",
      "execution_count": 365,
      "metadata": {
        "id": "jWOY7uRzW73Y",
        "colab": {
          "base_uri": "https://localhost:8080/"
        },
        "outputId": "381a2feb-3b85-4f12-8aef-8d6310635a64"
      },
      "outputs": [
        {
          "output_type": "stream",
          "name": "stdout",
          "text": [
            "0.9984439834024896\n",
            "0.8444790046656299\n"
          ]
        }
      ],
      "source": [
        "# Y finalmente toca evaluar el modelo:\n",
        "\n",
        "train_score = dec_tree.score(X_train, y_train)\n",
        "test_score = dec_tree.score(X_test, y_test)\n",
        "print(train_score)\n",
        "print(test_score)"
      ]
    },
    {
      "cell_type": "code",
      "source": [
        "# Tenemos un muy buen resultado de este primer modelo. Sigamos revisando otros modelos:"
      ],
      "metadata": {
        "id": "mZqyZy4AjFfB"
      },
      "execution_count": 366,
      "outputs": []
    },
    {
      "cell_type": "code",
      "execution_count": 367,
      "metadata": {
        "id": "PrRJADQ-Ze4S",
        "colab": {
          "base_uri": "https://localhost:8080/",
          "height": 35
        },
        "outputId": "b12f3a64-80de-4e3a-bfdf-a4d3d97a9cba"
      },
      "outputs": [
        {
          "output_type": "execute_result",
          "data": {
            "text/plain": [
              "' ===================== Segundo Modelo: Random Forest ===================== '"
            ],
            "application/vnd.google.colaboratory.intrinsic+json": {
              "type": "string"
            }
          },
          "metadata": {},
          "execution_count": 367
        }
      ],
      "source": [
        "\" ===================== Segundo Modelo: Random Forest ===================== \""
      ]
    },
    {
      "cell_type": "code",
      "execution_count": 368,
      "metadata": {
        "id": "gYycpz8OZe2L"
      },
      "outputs": [],
      "source": [
        "# Correré la base de datos de nuevo y todo lo modificado para comenzar a trabajar con el otro modelo.\n",
        "\n",
        "# Cargamos la base de datps\n",
        "df = pd.read_csv(\"/content/SuicideChina.csv\")\n",
        "\n",
        "# Eliminamos las columnas innecesarias\n",
        "df = df.drop(columns = ['Unnamed: 0', 'Person_ID'])\n",
        "\n",
        "# Cambiamos las columnas que son categoricas como valores numericos:\n",
        "\n",
        "# Si fue Hospitalizado o no\n",
        "df[\"Hospitalised\"]= df[\"Hospitalised\"].replace(\"yes\", 1)\n",
        "df[\"Hospitalised\"]= df[\"Hospitalised\"].replace(\"no\", 0)\n",
        "\n",
        "# Si falleció o no\n",
        "df[\"Died\"]= df[\"Died\"].replace(\"yes\", 1)\n",
        "df[\"Died\"]= df[\"Died\"].replace(\"no\", 0)\n",
        "\n",
        "# si vivia en una zona urbana o rural\n",
        "df[\"Urban\"]= df[\"Urban\"].replace(\"yes\", 1)\n",
        "df[\"Urban\"]= df[\"Urban\"].replace(\"no\", 0)\n",
        "df[\"Urban\"]= df[\"Urban\"].replace(\"unknown\", 2)\n",
        "\n",
        "# De qué genero era\n",
        "df[\"Sex\"]= df[\"Sex\"].replace(\"female\", 1)\n",
        "df[\"Sex\"]= df[\"Sex\"].replace(\"male\", 0)\n",
        "\n",
        "# La educación que tenía\n",
        "df[\"Education\"]= df[\"Education\"].replace(\"iliterate\", 0)\n",
        "df[\"Education\"]= df[\"Education\"].replace(\"primary\", 1)\n",
        "df[\"Education\"]= df[\"Education\"].replace(\"Secondary\", 2)\n",
        "df[\"Education\"]= df[\"Education\"].replace(\"Tertiary\", 3)\n",
        "df[\"Education\"]= df[\"Education\"].replace(\"unknown\", 4)\n",
        "\n",
        "# A qué se dedicaba\n",
        "df[\"Occupation\"]= df[\"Occupation\"].replace(\"farming\", 1)\n",
        "df[\"Occupation\"]= df[\"Occupation\"].replace(\"household\", 2)\n",
        "df[\"Occupation\"]= df[\"Occupation\"].replace(\"others/unknown\", \"others\")\n",
        "df[\"Occupation\"]= df[\"Occupation\"].replace(\"others\", 3)\n",
        "df[\"Occupation\"]= df[\"Occupation\"].replace(\"professional\", 4)\n",
        "df[\"Occupation\"]= df[\"Occupation\"].replace(\"student\", 5)\n",
        "df[\"Occupation\"]= df[\"Occupation\"].replace(\"unemployed\", 6)\n",
        "df[\"Occupation\"]= df[\"Occupation\"].replace(\"business/service\", 7)\n",
        "df[\"Occupation\"]= df[\"Occupation\"].replace(\"worker\", 8)\n",
        "df[\"Occupation\"]= df[\"Occupation\"].replace(\"retiree\", 9)\n",
        "\n",
        "# El metodo que escogio para cometer suicidio (o intento de suicidio)\n",
        "df[\"method\"]= df[\"method\"].replace(\"Pesticide\", 1)\n",
        "df[\"method\"]= df[\"method\"].replace(\"Hanging\", 2)\n",
        "df[\"method\"]= df[\"method\"].replace(\"Other poison\", \"Poison unspec\")\n",
        "df[\"method\"]= df[\"method\"].replace(\"Poison unspec\", 3)\n",
        "df[\"method\"]= df[\"method\"].replace(\"unspecified\", 4)\n",
        "df[\"method\"]= df[\"method\"].replace(\"Cutting\", 5)\n",
        "df[\"method\"]= df[\"method\"].replace(\"Drowning\", 6)\n",
        "df[\"method\"]= df[\"method\"].replace(\"Jumping\", 7)\n",
        "df[\"method\"]= df[\"method\"].replace(\"Others\", 4)"
      ]
    },
    {
      "cell_type": "code",
      "execution_count": 369,
      "metadata": {
        "id": "rKDSeUEvZez5"
      },
      "outputs": [],
      "source": [
        "# Ordenaré los datos en matriz de características y vector objetivo\n",
        "\n",
        "X = df.drop(columns = 'Died')\n",
        "y = df['Died']\n",
        "\n",
        "# Divido los datos para la validación\n",
        "\n",
        "X_train, X_test, y_train, y_test = train_test_split(X, y, random_state=42)"
      ]
    },
    {
      "cell_type": "code",
      "execution_count": 370,
      "metadata": {
        "id": "KqVxf9baZexy"
      },
      "outputs": [],
      "source": [
        "# Aplicamos el modelo\n",
        "\n",
        "rf = RandomForestClassifier(random_state = 42)"
      ]
    },
    {
      "cell_type": "code",
      "execution_count": 371,
      "metadata": {
        "id": "rz_UyDQ5Zevs",
        "colab": {
          "base_uri": "https://localhost:8080/"
        },
        "outputId": "d5005c1a-af87-450d-8120-5704e580bb03"
      },
      "outputs": [
        {
          "output_type": "execute_result",
          "data": {
            "text/plain": [
              "{'bootstrap': True,\n",
              " 'ccp_alpha': 0.0,\n",
              " 'class_weight': None,\n",
              " 'criterion': 'gini',\n",
              " 'max_depth': None,\n",
              " 'max_features': 'sqrt',\n",
              " 'max_leaf_nodes': None,\n",
              " 'max_samples': None,\n",
              " 'min_impurity_decrease': 0.0,\n",
              " 'min_samples_leaf': 1,\n",
              " 'min_samples_split': 2,\n",
              " 'min_weight_fraction_leaf': 0.0,\n",
              " 'n_estimators': 100,\n",
              " 'n_jobs': None,\n",
              " 'oob_score': False,\n",
              " 'random_state': 42,\n",
              " 'verbose': 0,\n",
              " 'warm_start': False}"
            ]
          },
          "metadata": {},
          "execution_count": 371
        }
      ],
      "source": [
        "# Vemos hiperparametros\n",
        "\n",
        "rf.get_params()"
      ]
    },
    {
      "cell_type": "code",
      "execution_count": 372,
      "metadata": {
        "id": "rPXuiqLiZer-",
        "colab": {
          "base_uri": "https://localhost:8080/",
          "height": 75
        },
        "outputId": "b005c50d-f048-4f0f-87dc-819c6f955bae"
      },
      "outputs": [
        {
          "output_type": "execute_result",
          "data": {
            "text/plain": [
              "RandomForestClassifier(random_state=42)"
            ],
            "text/html": [
              "<style>#sk-container-id-14 {color: black;background-color: white;}#sk-container-id-14 pre{padding: 0;}#sk-container-id-14 div.sk-toggleable {background-color: white;}#sk-container-id-14 label.sk-toggleable__label {cursor: pointer;display: block;width: 100%;margin-bottom: 0;padding: 0.3em;box-sizing: border-box;text-align: center;}#sk-container-id-14 label.sk-toggleable__label-arrow:before {content: \"▸\";float: left;margin-right: 0.25em;color: #696969;}#sk-container-id-14 label.sk-toggleable__label-arrow:hover:before {color: black;}#sk-container-id-14 div.sk-estimator:hover label.sk-toggleable__label-arrow:before {color: black;}#sk-container-id-14 div.sk-toggleable__content {max-height: 0;max-width: 0;overflow: hidden;text-align: left;background-color: #f0f8ff;}#sk-container-id-14 div.sk-toggleable__content pre {margin: 0.2em;color: black;border-radius: 0.25em;background-color: #f0f8ff;}#sk-container-id-14 input.sk-toggleable__control:checked~div.sk-toggleable__content {max-height: 200px;max-width: 100%;overflow: auto;}#sk-container-id-14 input.sk-toggleable__control:checked~label.sk-toggleable__label-arrow:before {content: \"▾\";}#sk-container-id-14 div.sk-estimator input.sk-toggleable__control:checked~label.sk-toggleable__label {background-color: #d4ebff;}#sk-container-id-14 div.sk-label input.sk-toggleable__control:checked~label.sk-toggleable__label {background-color: #d4ebff;}#sk-container-id-14 input.sk-hidden--visually {border: 0;clip: rect(1px 1px 1px 1px);clip: rect(1px, 1px, 1px, 1px);height: 1px;margin: -1px;overflow: hidden;padding: 0;position: absolute;width: 1px;}#sk-container-id-14 div.sk-estimator {font-family: monospace;background-color: #f0f8ff;border: 1px dotted black;border-radius: 0.25em;box-sizing: border-box;margin-bottom: 0.5em;}#sk-container-id-14 div.sk-estimator:hover {background-color: #d4ebff;}#sk-container-id-14 div.sk-parallel-item::after {content: \"\";width: 100%;border-bottom: 1px solid gray;flex-grow: 1;}#sk-container-id-14 div.sk-label:hover label.sk-toggleable__label {background-color: #d4ebff;}#sk-container-id-14 div.sk-serial::before {content: \"\";position: absolute;border-left: 1px solid gray;box-sizing: border-box;top: 0;bottom: 0;left: 50%;z-index: 0;}#sk-container-id-14 div.sk-serial {display: flex;flex-direction: column;align-items: center;background-color: white;padding-right: 0.2em;padding-left: 0.2em;position: relative;}#sk-container-id-14 div.sk-item {position: relative;z-index: 1;}#sk-container-id-14 div.sk-parallel {display: flex;align-items: stretch;justify-content: center;background-color: white;position: relative;}#sk-container-id-14 div.sk-item::before, #sk-container-id-14 div.sk-parallel-item::before {content: \"\";position: absolute;border-left: 1px solid gray;box-sizing: border-box;top: 0;bottom: 0;left: 50%;z-index: -1;}#sk-container-id-14 div.sk-parallel-item {display: flex;flex-direction: column;z-index: 1;position: relative;background-color: white;}#sk-container-id-14 div.sk-parallel-item:first-child::after {align-self: flex-end;width: 50%;}#sk-container-id-14 div.sk-parallel-item:last-child::after {align-self: flex-start;width: 50%;}#sk-container-id-14 div.sk-parallel-item:only-child::after {width: 0;}#sk-container-id-14 div.sk-dashed-wrapped {border: 1px dashed gray;margin: 0 0.4em 0.5em 0.4em;box-sizing: border-box;padding-bottom: 0.4em;background-color: white;}#sk-container-id-14 div.sk-label label {font-family: monospace;font-weight: bold;display: inline-block;line-height: 1.2em;}#sk-container-id-14 div.sk-label-container {text-align: center;}#sk-container-id-14 div.sk-container {/* jupyter's `normalize.less` sets `[hidden] { display: none; }` but bootstrap.min.css set `[hidden] { display: none !important; }` so we also need the `!important` here to be able to override the default hidden behavior on the sphinx rendered scikit-learn.org. See: https://github.com/scikit-learn/scikit-learn/issues/21755 */display: inline-block !important;position: relative;}#sk-container-id-14 div.sk-text-repr-fallback {display: none;}</style><div id=\"sk-container-id-14\" class=\"sk-top-container\"><div class=\"sk-text-repr-fallback\"><pre>RandomForestClassifier(random_state=42)</pre><b>In a Jupyter environment, please rerun this cell to show the HTML representation or trust the notebook. <br />On GitHub, the HTML representation is unable to render, please try loading this page with nbviewer.org.</b></div><div class=\"sk-container\" hidden><div class=\"sk-item\"><div class=\"sk-estimator sk-toggleable\"><input class=\"sk-toggleable__control sk-hidden--visually\" id=\"sk-estimator-id-34\" type=\"checkbox\" checked><label for=\"sk-estimator-id-34\" class=\"sk-toggleable__label sk-toggleable__label-arrow\">RandomForestClassifier</label><div class=\"sk-toggleable__content\"><pre>RandomForestClassifier(random_state=42)</pre></div></div></div></div></div>"
            ]
          },
          "metadata": {},
          "execution_count": 372
        }
      ],
      "source": [
        "# Aprende relacion entre X e y\n",
        "\n",
        "rf.fit(X_train, y_train)"
      ]
    },
    {
      "cell_type": "code",
      "execution_count": 373,
      "metadata": {
        "id": "5wXXj1vRZep6",
        "colab": {
          "base_uri": "https://localhost:8080/"
        },
        "outputId": "f434f350-baf9-41ba-b8d5-f5cc0f36fdd7"
      },
      "outputs": [
        {
          "output_type": "execute_result",
          "data": {
            "text/plain": [
              "array([0, 1, 0, 1, 0, 1, 0, 0, 1, 0, 1, 0, 0, 1, 0, 0, 0, 1, 1, 0, 1, 0,\n",
              "       1, 1, 0, 1, 1, 1, 1, 1, 1, 1, 0, 0, 1, 0, 1, 1, 0, 1, 1, 0, 1, 1,\n",
              "       0, 0, 0, 0, 0, 0, 0, 0, 1, 0, 0, 0, 1, 0, 0, 0, 1, 0, 1, 0, 1, 0,\n",
              "       1, 1, 0, 0, 1, 0, 0, 0, 0, 0, 1, 1, 0, 0, 0, 0, 1, 1, 0, 0, 0, 0,\n",
              "       0, 0, 1, 0, 1, 0, 0, 0, 0, 0, 0, 0, 1, 1, 0, 0, 0, 0, 1, 0, 0, 1,\n",
              "       0, 0, 0, 1, 1, 0, 0, 1, 0, 0, 0, 1, 0, 1, 1, 1, 1, 0, 1, 0, 0, 0,\n",
              "       1, 0, 1, 1, 0, 0, 0, 0, 1, 1, 1, 1, 0, 1, 0, 1, 0, 1, 0, 0, 1, 1,\n",
              "       0, 0, 1, 0, 1, 0, 1, 1, 0, 0, 0, 0, 0, 0, 1, 0, 0, 1, 0, 0, 1, 0,\n",
              "       1, 1, 1, 1, 0, 0, 1, 0, 1, 1, 1, 1, 1, 0, 1, 1, 1, 0, 0, 0, 0, 0,\n",
              "       1, 1, 0, 0, 0, 0, 0, 0, 0, 0, 0, 0, 1, 0, 0, 0, 0, 0, 1, 0, 1, 0,\n",
              "       1, 0, 0, 0, 1, 0, 1, 1, 0, 0, 1, 0, 1, 0, 0, 1, 0, 0, 1, 0, 0, 0,\n",
              "       0, 0, 0, 0, 1, 0, 0, 0, 0, 1, 1, 1, 0, 0, 0, 1, 0, 0, 0, 0, 1, 0,\n",
              "       0, 0, 0, 0, 0, 1, 0, 0, 0, 0, 1, 1, 0, 1, 0, 1, 0, 1, 0, 0, 1, 1,\n",
              "       1, 0, 1, 0, 0, 1, 0, 0, 0, 1, 0, 1, 0, 0, 0, 1, 1, 0, 0, 0, 0, 0,\n",
              "       0, 0, 1, 1, 1, 1, 0, 0, 1, 1, 1, 0, 0, 0, 0, 1, 1, 1, 0, 0, 0, 0,\n",
              "       0, 0, 0, 0, 0, 1, 1, 1, 0, 0, 1, 1, 1, 0, 1, 0, 0, 0, 0, 1, 1, 0,\n",
              "       0, 0, 1, 1, 1, 0, 0, 1, 0, 0, 1, 0, 1, 1, 0, 0, 0, 0, 0, 0, 1, 0,\n",
              "       1, 0, 1, 0, 0, 1, 1, 0, 0, 1, 1, 0, 1, 1, 1, 1, 1, 0, 0, 0, 0, 1,\n",
              "       1, 0, 1, 1, 1, 0, 0, 0, 0, 1, 0, 0, 0, 1, 0, 1, 1, 0, 0, 1, 1, 1,\n",
              "       0, 1, 1, 1, 0, 1, 0, 1, 0, 1, 0, 0, 1, 0, 1, 1, 1, 0, 0, 0, 1, 0,\n",
              "       0, 0, 0, 0, 1, 0, 0, 1, 0, 0, 1, 1, 0, 1, 1, 0, 0, 0, 1, 1, 1, 1,\n",
              "       0, 0, 1, 0, 0, 1, 1, 1, 1, 0, 0, 1, 0, 0, 0, 1, 0, 0, 0, 0, 0, 0,\n",
              "       0, 0, 0, 1, 0, 0, 0, 0, 1, 0, 0, 1, 0, 0, 1, 1, 1, 1, 1, 0, 0, 0,\n",
              "       0, 0, 1, 1, 0, 0, 1, 1, 0, 0, 0, 1, 0, 0, 1, 0, 0, 0, 0, 1, 1, 0,\n",
              "       0, 1, 0, 1, 0, 0, 0, 0, 1, 0, 1, 0, 0, 1, 1, 0, 1, 0, 0, 1, 1, 1,\n",
              "       0, 0, 0, 1, 0, 1, 1, 1, 1, 1, 1, 0, 1, 1, 0, 1, 0, 1, 1, 1, 0, 0,\n",
              "       0, 1, 0, 1, 1, 0, 0, 0, 1, 0, 1, 1, 1, 0, 0, 0, 1, 0, 0, 1, 0, 0,\n",
              "       0, 1, 0, 0, 0, 0, 0, 1, 0, 1, 1, 0, 0, 0, 0, 1, 0, 1, 1, 1, 0, 0,\n",
              "       0, 0, 1, 0, 0, 0, 1, 0, 1, 0, 0, 1, 1, 0, 1, 0, 0, 1, 0, 1, 0, 0,\n",
              "       1, 0, 1, 1, 0])"
            ]
          },
          "metadata": {},
          "execution_count": 373
        }
      ],
      "source": [
        "# Predecir los valores para y\n",
        "\n",
        "rf.predict(X_test)"
      ]
    },
    {
      "cell_type": "code",
      "execution_count": 374,
      "metadata": {
        "id": "By0NfsfgZenz",
        "colab": {
          "base_uri": "https://localhost:8080/"
        },
        "outputId": "b65c52bf-9b08-4b55-ff83-e21eae6f403e"
      },
      "outputs": [
        {
          "output_type": "stream",
          "name": "stdout",
          "text": [
            "0.9984439834024896\n",
            "0.8724727838258165\n"
          ]
        }
      ],
      "source": [
        "# Evaluar el modelo\n",
        "\n",
        "rf_train_score = rf.score(X_train, y_train)\n",
        "rf_test_score = rf.score(X_test, y_test)\n",
        "print(rf_train_score)\n",
        "print(rf_test_score)"
      ]
    },
    {
      "cell_type": "code",
      "execution_count": 375,
      "metadata": {
        "id": "bjZuRzUYaGQm"
      },
      "outputs": [],
      "source": [
        "# Aunque estos resultados son super favorables para el modelo, consideraremos que este esta sobreajustado\n",
        "# solo para indagar si es que puede llegar a estar mejor."
      ]
    },
    {
      "cell_type": "code",
      "execution_count": 376,
      "metadata": {
        "id": "QdzDQEayaGOg",
        "colab": {
          "base_uri": "https://localhost:8080/"
        },
        "outputId": "bb80c3a8-bc1e-41f6-df5a-abb8d6abdeef"
      },
      "outputs": [
        {
          "output_type": "stream",
          "name": "stdout",
          "text": [
            "0.9154564315352697\n",
            "0.8833592534992224\n"
          ]
        }
      ],
      "source": [
        "rf_2 = RandomForestClassifier(max_depth = 2, random_state = 42)\n",
        "rf_2.fit(X_train, y_train)\n",
        "rf_2_train_score = rf_2.score(X_train, y_train)\n",
        "rf_2_test_score = rf_2.score(X_test, y_test)\n",
        "print(rf_2_train_score)\n",
        "print(rf_2_test_score)"
      ]
    },
    {
      "cell_type": "code",
      "execution_count": 377,
      "metadata": {
        "id": "H8GLZXaBaGHq"
      },
      "outputs": [],
      "source": [
        "# Ahí se ve mejor. Y el resultado se parece mucho a con el modelo anterior."
      ]
    },
    {
      "cell_type": "code",
      "source": [
        "\" ===================== Tercero Modelo: KNN - Means ===================== \""
      ],
      "metadata": {
        "colab": {
          "base_uri": "https://localhost:8080/",
          "height": 35
        },
        "id": "vmbgZOXTnTnY",
        "outputId": "883e3a9b-804b-4998-ea2b-dda6c0139128"
      },
      "execution_count": 378,
      "outputs": [
        {
          "output_type": "execute_result",
          "data": {
            "text/plain": [
              "' ===================== Tercero Modelo: KNN - Means ===================== '"
            ],
            "application/vnd.google.colaboratory.intrinsic+json": {
              "type": "string"
            }
          },
          "metadata": {},
          "execution_count": 378
        }
      ]
    },
    {
      "cell_type": "code",
      "source": [
        "# Correré la base de datos de nuevo y todo lo modificado para comenzar a trabajar con el otro modelo.\n",
        "\n",
        "# Cargamos la base de datps\n",
        "df = pd.read_csv(\"/content/SuicideChina.csv\")\n",
        "\n",
        "# Eliminamos las columnas innecesarias\n",
        "df = df.drop(columns = ['Unnamed: 0', 'Person_ID'])\n",
        "\n",
        "# Cambiamos las columnas que son categoricas como valores numericos:\n",
        "\n",
        "# Si fue Hospitalizado o no\n",
        "df[\"Hospitalised\"]= df[\"Hospitalised\"].replace(\"yes\", 1)\n",
        "df[\"Hospitalised\"]= df[\"Hospitalised\"].replace(\"no\", 0)\n",
        "\n",
        "# Si falleció o no\n",
        "df[\"Died\"]= df[\"Died\"].replace(\"yes\", 1)\n",
        "df[\"Died\"]= df[\"Died\"].replace(\"no\", 0)\n",
        "\n",
        "# si vivia en una zona urbana o rural\n",
        "df[\"Urban\"]= df[\"Urban\"].replace(\"yes\", 1)\n",
        "df[\"Urban\"]= df[\"Urban\"].replace(\"no\", 0)\n",
        "df[\"Urban\"]= df[\"Urban\"].replace(\"unknown\", 2)\n",
        "\n",
        "# De qué genero era\n",
        "df[\"Sex\"]= df[\"Sex\"].replace(\"female\", 1)\n",
        "df[\"Sex\"]= df[\"Sex\"].replace(\"male\", 0)\n",
        "\n",
        "# La educación que tenía\n",
        "df[\"Education\"]= df[\"Education\"].replace(\"iliterate\", 0)\n",
        "df[\"Education\"]= df[\"Education\"].replace(\"primary\", 1)\n",
        "df[\"Education\"]= df[\"Education\"].replace(\"Secondary\", 2)\n",
        "df[\"Education\"]= df[\"Education\"].replace(\"Tertiary\", 3)\n",
        "df[\"Education\"]= df[\"Education\"].replace(\"unknown\", 4)\n",
        "\n",
        "# A qué se dedicaba\n",
        "df[\"Occupation\"]= df[\"Occupation\"].replace(\"farming\", 1)\n",
        "df[\"Occupation\"]= df[\"Occupation\"].replace(\"household\", 2)\n",
        "df[\"Occupation\"]= df[\"Occupation\"].replace(\"others/unknown\", \"others\")\n",
        "df[\"Occupation\"]= df[\"Occupation\"].replace(\"others\", 3)\n",
        "df[\"Occupation\"]= df[\"Occupation\"].replace(\"professional\", 4)\n",
        "df[\"Occupation\"]= df[\"Occupation\"].replace(\"student\", 5)\n",
        "df[\"Occupation\"]= df[\"Occupation\"].replace(\"unemployed\", 6)\n",
        "df[\"Occupation\"]= df[\"Occupation\"].replace(\"business/service\", 7)\n",
        "df[\"Occupation\"]= df[\"Occupation\"].replace(\"worker\", 8)\n",
        "df[\"Occupation\"]= df[\"Occupation\"].replace(\"retiree\", 9)\n",
        "\n",
        "# El metodo que escogio para cometer suicidio (o intento de suicidio)\n",
        "df[\"method\"]= df[\"method\"].replace(\"Pesticide\", 1)\n",
        "df[\"method\"]= df[\"method\"].replace(\"Hanging\", 2)\n",
        "df[\"method\"]= df[\"method\"].replace(\"Other poison\", \"Poison unspec\")\n",
        "df[\"method\"]= df[\"method\"].replace(\"Poison unspec\", 3)\n",
        "df[\"method\"]= df[\"method\"].replace(\"unspecified\", 4)\n",
        "df[\"method\"]= df[\"method\"].replace(\"Cutting\", 5)\n",
        "df[\"method\"]= df[\"method\"].replace(\"Drowning\", 6)\n",
        "df[\"method\"]= df[\"method\"].replace(\"Jumping\", 7)\n",
        "df[\"method\"]= df[\"method\"].replace(\"Others\", 4)"
      ],
      "metadata": {
        "id": "T6Tr1nSOndeI"
      },
      "execution_count": 379,
      "outputs": []
    },
    {
      "cell_type": "code",
      "source": [
        "# Definimos el vector objetivo y las demas variables\n",
        "\n",
        "X = df.drop(columns='Died')\n",
        "y = df['Died']\n",
        "X.shape"
      ],
      "metadata": {
        "colab": {
          "base_uri": "https://localhost:8080/"
        },
        "id": "9I4IO6vRn7X5",
        "outputId": "3a558e94-a129-4ed0-fb1d-46a8b4b6e3d5"
      },
      "execution_count": 380,
      "outputs": [
        {
          "output_type": "execute_result",
          "data": {
            "text/plain": [
              "(2571, 9)"
            ]
          },
          "metadata": {},
          "execution_count": 380
        }
      ]
    },
    {
      "cell_type": "code",
      "source": [
        "# Aplicamos el train test split\n",
        "\n",
        "X_train, X_test, y_train, y_test = train_test_split(X, y, random_state = 42)"
      ],
      "metadata": {
        "id": "xKbcoD8uoIzS"
      },
      "execution_count": 381,
      "outputs": []
    },
    {
      "cell_type": "code",
      "source": [
        "# Aplicamos el scaler para estandarizar los datos\n",
        "\n",
        "scaler = StandardScaler()"
      ],
      "metadata": {
        "id": "GHaKxqEFoS44"
      },
      "execution_count": 382,
      "outputs": []
    },
    {
      "cell_type": "code",
      "source": [
        "# Entendemos, por el vector objetivo sobre el cual estamos trabajando, que tenemos 2 clusters (1 o 0 - si la persona\n",
        "# fallecio o no) dado que nuestro vector es \"Died\" lo cual tiene solo dos posibles valores."
      ],
      "metadata": {
        "id": "eZueBOW1o4eV"
      },
      "execution_count": 383,
      "outputs": []
    },
    {
      "cell_type": "code",
      "source": [
        "knn = KNeighborsClassifier(n_neighbors=2)"
      ],
      "metadata": {
        "id": "b4DhmHDeoZFO"
      },
      "execution_count": 384,
      "outputs": []
    },
    {
      "cell_type": "code",
      "source": [
        "# Observamos los hiperparametros\n",
        "\n",
        "knn.get_params()"
      ],
      "metadata": {
        "colab": {
          "base_uri": "https://localhost:8080/"
        },
        "id": "WuHCeY5Zo_eB",
        "outputId": "88e9091c-1f52-4857-c3a5-87540186c444"
      },
      "execution_count": 385,
      "outputs": [
        {
          "output_type": "execute_result",
          "data": {
            "text/plain": [
              "{'algorithm': 'auto',\n",
              " 'leaf_size': 30,\n",
              " 'metric': 'minkowski',\n",
              " 'metric_params': None,\n",
              " 'n_jobs': None,\n",
              " 'n_neighbors': 2,\n",
              " 'p': 2,\n",
              " 'weights': 'uniform'}"
            ]
          },
          "metadata": {},
          "execution_count": 385
        }
      ]
    },
    {
      "cell_type": "code",
      "source": [
        "# Lo que haremos a continuacion será poner en un pipeline el modelo y el scaler de los datos.\n",
        "\n",
        "knn_pipe = make_pipeline(scaler, knn)\n",
        "knn_pipe.fit(X_train, y_train)"
      ],
      "metadata": {
        "colab": {
          "base_uri": "https://localhost:8080/",
          "height": 126
        },
        "id": "jTTJk7KOpPoY",
        "outputId": "5a9120d8-be27-44f2-ea3b-ce04bfadaa78"
      },
      "execution_count": 386,
      "outputs": [
        {
          "output_type": "execute_result",
          "data": {
            "text/plain": [
              "Pipeline(steps=[('standardscaler', StandardScaler()),\n",
              "                ('kneighborsclassifier', KNeighborsClassifier(n_neighbors=2))])"
            ],
            "text/html": [
              "<style>#sk-container-id-15 {color: black;background-color: white;}#sk-container-id-15 pre{padding: 0;}#sk-container-id-15 div.sk-toggleable {background-color: white;}#sk-container-id-15 label.sk-toggleable__label {cursor: pointer;display: block;width: 100%;margin-bottom: 0;padding: 0.3em;box-sizing: border-box;text-align: center;}#sk-container-id-15 label.sk-toggleable__label-arrow:before {content: \"▸\";float: left;margin-right: 0.25em;color: #696969;}#sk-container-id-15 label.sk-toggleable__label-arrow:hover:before {color: black;}#sk-container-id-15 div.sk-estimator:hover label.sk-toggleable__label-arrow:before {color: black;}#sk-container-id-15 div.sk-toggleable__content {max-height: 0;max-width: 0;overflow: hidden;text-align: left;background-color: #f0f8ff;}#sk-container-id-15 div.sk-toggleable__content pre {margin: 0.2em;color: black;border-radius: 0.25em;background-color: #f0f8ff;}#sk-container-id-15 input.sk-toggleable__control:checked~div.sk-toggleable__content {max-height: 200px;max-width: 100%;overflow: auto;}#sk-container-id-15 input.sk-toggleable__control:checked~label.sk-toggleable__label-arrow:before {content: \"▾\";}#sk-container-id-15 div.sk-estimator input.sk-toggleable__control:checked~label.sk-toggleable__label {background-color: #d4ebff;}#sk-container-id-15 div.sk-label input.sk-toggleable__control:checked~label.sk-toggleable__label {background-color: #d4ebff;}#sk-container-id-15 input.sk-hidden--visually {border: 0;clip: rect(1px 1px 1px 1px);clip: rect(1px, 1px, 1px, 1px);height: 1px;margin: -1px;overflow: hidden;padding: 0;position: absolute;width: 1px;}#sk-container-id-15 div.sk-estimator {font-family: monospace;background-color: #f0f8ff;border: 1px dotted black;border-radius: 0.25em;box-sizing: border-box;margin-bottom: 0.5em;}#sk-container-id-15 div.sk-estimator:hover {background-color: #d4ebff;}#sk-container-id-15 div.sk-parallel-item::after {content: \"\";width: 100%;border-bottom: 1px solid gray;flex-grow: 1;}#sk-container-id-15 div.sk-label:hover label.sk-toggleable__label {background-color: #d4ebff;}#sk-container-id-15 div.sk-serial::before {content: \"\";position: absolute;border-left: 1px solid gray;box-sizing: border-box;top: 0;bottom: 0;left: 50%;z-index: 0;}#sk-container-id-15 div.sk-serial {display: flex;flex-direction: column;align-items: center;background-color: white;padding-right: 0.2em;padding-left: 0.2em;position: relative;}#sk-container-id-15 div.sk-item {position: relative;z-index: 1;}#sk-container-id-15 div.sk-parallel {display: flex;align-items: stretch;justify-content: center;background-color: white;position: relative;}#sk-container-id-15 div.sk-item::before, #sk-container-id-15 div.sk-parallel-item::before {content: \"\";position: absolute;border-left: 1px solid gray;box-sizing: border-box;top: 0;bottom: 0;left: 50%;z-index: -1;}#sk-container-id-15 div.sk-parallel-item {display: flex;flex-direction: column;z-index: 1;position: relative;background-color: white;}#sk-container-id-15 div.sk-parallel-item:first-child::after {align-self: flex-end;width: 50%;}#sk-container-id-15 div.sk-parallel-item:last-child::after {align-self: flex-start;width: 50%;}#sk-container-id-15 div.sk-parallel-item:only-child::after {width: 0;}#sk-container-id-15 div.sk-dashed-wrapped {border: 1px dashed gray;margin: 0 0.4em 0.5em 0.4em;box-sizing: border-box;padding-bottom: 0.4em;background-color: white;}#sk-container-id-15 div.sk-label label {font-family: monospace;font-weight: bold;display: inline-block;line-height: 1.2em;}#sk-container-id-15 div.sk-label-container {text-align: center;}#sk-container-id-15 div.sk-container {/* jupyter's `normalize.less` sets `[hidden] { display: none; }` but bootstrap.min.css set `[hidden] { display: none !important; }` so we also need the `!important` here to be able to override the default hidden behavior on the sphinx rendered scikit-learn.org. See: https://github.com/scikit-learn/scikit-learn/issues/21755 */display: inline-block !important;position: relative;}#sk-container-id-15 div.sk-text-repr-fallback {display: none;}</style><div id=\"sk-container-id-15\" class=\"sk-top-container\"><div class=\"sk-text-repr-fallback\"><pre>Pipeline(steps=[(&#x27;standardscaler&#x27;, StandardScaler()),\n",
              "                (&#x27;kneighborsclassifier&#x27;, KNeighborsClassifier(n_neighbors=2))])</pre><b>In a Jupyter environment, please rerun this cell to show the HTML representation or trust the notebook. <br />On GitHub, the HTML representation is unable to render, please try loading this page with nbviewer.org.</b></div><div class=\"sk-container\" hidden><div class=\"sk-item sk-dashed-wrapped\"><div class=\"sk-label-container\"><div class=\"sk-label sk-toggleable\"><input class=\"sk-toggleable__control sk-hidden--visually\" id=\"sk-estimator-id-35\" type=\"checkbox\" ><label for=\"sk-estimator-id-35\" class=\"sk-toggleable__label sk-toggleable__label-arrow\">Pipeline</label><div class=\"sk-toggleable__content\"><pre>Pipeline(steps=[(&#x27;standardscaler&#x27;, StandardScaler()),\n",
              "                (&#x27;kneighborsclassifier&#x27;, KNeighborsClassifier(n_neighbors=2))])</pre></div></div></div><div class=\"sk-serial\"><div class=\"sk-item\"><div class=\"sk-estimator sk-toggleable\"><input class=\"sk-toggleable__control sk-hidden--visually\" id=\"sk-estimator-id-36\" type=\"checkbox\" ><label for=\"sk-estimator-id-36\" class=\"sk-toggleable__label sk-toggleable__label-arrow\">StandardScaler</label><div class=\"sk-toggleable__content\"><pre>StandardScaler()</pre></div></div></div><div class=\"sk-item\"><div class=\"sk-estimator sk-toggleable\"><input class=\"sk-toggleable__control sk-hidden--visually\" id=\"sk-estimator-id-37\" type=\"checkbox\" ><label for=\"sk-estimator-id-37\" class=\"sk-toggleable__label sk-toggleable__label-arrow\">KNeighborsClassifier</label><div class=\"sk-toggleable__content\"><pre>KNeighborsClassifier(n_neighbors=2)</pre></div></div></div></div></div></div></div>"
            ]
          },
          "metadata": {},
          "execution_count": 386
        }
      ]
    },
    {
      "cell_type": "code",
      "source": [
        "# Ahora nos toca predecir los valores del conjunto de prueba.\n",
        "\n",
        "predictions = knn_pipe.predict(X_test)\n",
        "predictions"
      ],
      "metadata": {
        "colab": {
          "base_uri": "https://localhost:8080/"
        },
        "id": "Gug8SKDopbQI",
        "outputId": "159662f6-1b90-45c7-effd-d18c9d4451ad"
      },
      "execution_count": 387,
      "outputs": [
        {
          "output_type": "execute_result",
          "data": {
            "text/plain": [
              "array([0, 1, 0, 1, 0, 1, 0, 0, 1, 0, 1, 0, 0, 1, 0, 0, 0, 0, 1, 0, 1, 0,\n",
              "       1, 1, 0, 1, 1, 1, 0, 1, 1, 0, 0, 0, 1, 0, 1, 1, 0, 1, 1, 0, 1, 1,\n",
              "       0, 0, 0, 0, 0, 0, 0, 0, 1, 0, 0, 0, 1, 0, 0, 0, 1, 0, 0, 0, 1, 0,\n",
              "       0, 1, 0, 0, 1, 0, 0, 0, 0, 0, 0, 1, 0, 0, 0, 0, 1, 1, 0, 0, 0, 0,\n",
              "       0, 0, 1, 0, 1, 0, 0, 0, 0, 0, 0, 0, 1, 1, 0, 0, 0, 0, 1, 0, 0, 1,\n",
              "       0, 0, 0, 1, 1, 0, 0, 1, 0, 0, 0, 1, 0, 1, 1, 1, 0, 0, 1, 0, 0, 0,\n",
              "       1, 0, 1, 1, 0, 0, 0, 0, 1, 1, 1, 1, 0, 1, 0, 1, 0, 1, 0, 0, 1, 1,\n",
              "       0, 0, 1, 0, 0, 0, 1, 1, 0, 0, 0, 0, 0, 0, 1, 0, 0, 1, 0, 0, 1, 0,\n",
              "       1, 1, 1, 1, 0, 0, 1, 0, 1, 0, 1, 1, 1, 0, 1, 1, 1, 0, 0, 0, 0, 0,\n",
              "       1, 1, 0, 0, 0, 0, 0, 0, 0, 0, 0, 0, 1, 0, 0, 0, 0, 0, 1, 0, 1, 0,\n",
              "       1, 0, 0, 0, 1, 0, 1, 1, 0, 0, 1, 0, 1, 0, 0, 1, 0, 0, 0, 0, 0, 0,\n",
              "       0, 0, 0, 0, 1, 0, 1, 0, 0, 1, 1, 1, 0, 0, 0, 1, 0, 0, 0, 0, 1, 0,\n",
              "       0, 0, 0, 0, 0, 1, 0, 0, 0, 0, 1, 1, 0, 1, 0, 0, 0, 1, 0, 0, 1, 1,\n",
              "       1, 0, 1, 0, 0, 1, 0, 0, 0, 1, 0, 1, 0, 0, 0, 1, 1, 0, 1, 0, 0, 0,\n",
              "       0, 0, 1, 1, 1, 1, 0, 0, 1, 1, 1, 0, 0, 0, 0, 1, 1, 1, 0, 0, 0, 0,\n",
              "       0, 0, 0, 0, 0, 1, 1, 1, 0, 0, 1, 1, 1, 0, 1, 0, 0, 0, 0, 1, 1, 0,\n",
              "       0, 0, 0, 1, 1, 0, 0, 0, 0, 0, 0, 0, 1, 1, 0, 0, 0, 0, 0, 0, 0, 0,\n",
              "       1, 0, 1, 0, 0, 1, 1, 0, 0, 1, 1, 0, 1, 1, 1, 1, 1, 0, 0, 0, 0, 1,\n",
              "       1, 0, 1, 1, 1, 0, 0, 0, 0, 1, 0, 0, 0, 1, 0, 0, 0, 0, 0, 0, 1, 1,\n",
              "       0, 1, 1, 1, 1, 1, 0, 1, 0, 0, 0, 0, 1, 0, 1, 1, 1, 0, 0, 0, 1, 0,\n",
              "       0, 0, 0, 0, 1, 0, 0, 1, 0, 0, 1, 1, 0, 0, 1, 0, 0, 0, 1, 1, 1, 1,\n",
              "       0, 0, 1, 0, 0, 1, 1, 1, 1, 0, 0, 1, 0, 0, 0, 1, 0, 0, 0, 0, 0, 0,\n",
              "       0, 0, 0, 1, 0, 0, 0, 0, 1, 0, 0, 1, 0, 0, 0, 1, 1, 1, 1, 0, 0, 0,\n",
              "       0, 0, 1, 1, 0, 0, 1, 1, 0, 0, 0, 1, 0, 0, 1, 0, 0, 0, 0, 0, 1, 0,\n",
              "       0, 1, 0, 1, 0, 0, 0, 0, 0, 0, 1, 0, 0, 1, 1, 0, 1, 0, 0, 1, 1, 1,\n",
              "       0, 0, 0, 1, 0, 0, 1, 1, 1, 1, 1, 0, 1, 1, 0, 1, 0, 1, 1, 1, 0, 0,\n",
              "       0, 1, 0, 1, 1, 0, 0, 0, 1, 0, 1, 1, 1, 1, 0, 0, 1, 0, 0, 1, 0, 0,\n",
              "       0, 1, 0, 0, 0, 0, 0, 1, 0, 1, 1, 0, 0, 0, 0, 1, 0, 1, 1, 0, 0, 0,\n",
              "       0, 0, 1, 0, 0, 0, 1, 0, 1, 0, 0, 1, 1, 0, 1, 0, 0, 1, 0, 1, 0, 0,\n",
              "       1, 0, 1, 1, 0])"
            ]
          },
          "metadata": {},
          "execution_count": 387
        }
      ]
    },
    {
      "cell_type": "code",
      "source": [
        "# Y finalmente evaluaremos el rendimiento del modelo\n",
        "\n",
        "acc_score = knn_pipe.score(X_test, y_test)\n",
        "acc_score"
      ],
      "metadata": {
        "colab": {
          "base_uri": "https://localhost:8080/"
        },
        "id": "Ks_2qra0pmdW",
        "outputId": "c1d12c57-6a9a-47fb-9f0a-49d2f74595c2"
      },
      "execution_count": 388,
      "outputs": [
        {
          "output_type": "execute_result",
          "data": {
            "text/plain": [
              "0.864696734059098"
            ]
          },
          "metadata": {},
          "execution_count": 388
        }
      ]
    },
    {
      "cell_type": "code",
      "source": [
        "# El accuracy del modelo nos indica un 0,8646 lo cual es un muy buen numero. O sea que el modelo de KNN - neighbors\n",
        "# si nos ayuda a predecir.\n",
        "\n",
        "# De todas formas, aun obtenido el resultado, seguiremos indagando en los clusters. Es necesario mencionar que se tiene\n",
        "# conocimiento de lo siguiente: el modelo KNN-Neighbors se aplica a una base de datos en la cual se tenga el vector objetivo\n",
        "# (aprendizaje supervisado) a diferencia del KNN-MEANS donde el modelo no tiene un vector objetivo claro por lo que intenta\n",
        "# el mismo modelo crear uno en base a los clusters que detecte en la base de datos. Sabiendo esto, lo que quiero indagar es\n",
        "# cuántos clusters detecta el modelo en mi base de datos (a ver si acompaña con la logica de que sean 2).\n",
        "# Recordemos que mi vector objetivo es \"Died\" lo cual tiene 2 valores (1 o 0 - si falleció o no)."
      ],
      "metadata": {
        "id": "Rd52RBgUprzw"
      },
      "execution_count": 389,
      "outputs": []
    },
    {
      "cell_type": "code",
      "source": [
        "# Lo que hacemos ahora es crear el grafico del codo y el de silluete para saber el numero de clusteres optimos.\n",
        "\n",
        "ks = range(2,10)\n",
        "sils = []\n",
        "inertias = []\n",
        "for k in ks:\n",
        "  kmeans = KMeans(n_clusters=k, random_state=42)\n",
        "  kmeans.fit(X_scaled)\n",
        "  sils.append(silhouette_score(X_scaled, kmeans.labels_))\n",
        "  inertias.append(kmeans.inertia_)\n",
        "fig, axes = plt.subplots(1,2, figsize=(15,5))\n",
        "axes[0].plot(ks, sils)\n",
        "axes[0].set_title('Silhouette Scores')\n",
        "axes[0].set_xticks(ks)\n",
        "axes[1].plot(ks, inertias)\n",
        "axes[1].set_title('Inertia')\n",
        "axes[1].set_xticks(ks);"
      ],
      "metadata": {
        "colab": {
          "base_uri": "https://localhost:8080/",
          "height": 698
        },
        "id": "g0LUbrTuyGhd",
        "outputId": "f5cac4f3-aba7-4710-d965-9c95dff3dd28"
      },
      "execution_count": 390,
      "outputs": [
        {
          "output_type": "stream",
          "name": "stderr",
          "text": [
            "/usr/local/lib/python3.10/dist-packages/sklearn/cluster/_kmeans.py:870: FutureWarning: The default value of `n_init` will change from 10 to 'auto' in 1.4. Set the value of `n_init` explicitly to suppress the warning\n",
            "  warnings.warn(\n",
            "/usr/local/lib/python3.10/dist-packages/sklearn/cluster/_kmeans.py:870: FutureWarning: The default value of `n_init` will change from 10 to 'auto' in 1.4. Set the value of `n_init` explicitly to suppress the warning\n",
            "  warnings.warn(\n",
            "/usr/local/lib/python3.10/dist-packages/sklearn/cluster/_kmeans.py:870: FutureWarning: The default value of `n_init` will change from 10 to 'auto' in 1.4. Set the value of `n_init` explicitly to suppress the warning\n",
            "  warnings.warn(\n",
            "/usr/local/lib/python3.10/dist-packages/sklearn/cluster/_kmeans.py:870: FutureWarning: The default value of `n_init` will change from 10 to 'auto' in 1.4. Set the value of `n_init` explicitly to suppress the warning\n",
            "  warnings.warn(\n",
            "/usr/local/lib/python3.10/dist-packages/sklearn/cluster/_kmeans.py:870: FutureWarning: The default value of `n_init` will change from 10 to 'auto' in 1.4. Set the value of `n_init` explicitly to suppress the warning\n",
            "  warnings.warn(\n",
            "/usr/local/lib/python3.10/dist-packages/sklearn/cluster/_kmeans.py:870: FutureWarning: The default value of `n_init` will change from 10 to 'auto' in 1.4. Set the value of `n_init` explicitly to suppress the warning\n",
            "  warnings.warn(\n",
            "/usr/local/lib/python3.10/dist-packages/sklearn/cluster/_kmeans.py:870: FutureWarning: The default value of `n_init` will change from 10 to 'auto' in 1.4. Set the value of `n_init` explicitly to suppress the warning\n",
            "  warnings.warn(\n",
            "/usr/local/lib/python3.10/dist-packages/sklearn/cluster/_kmeans.py:870: FutureWarning: The default value of `n_init` will change from 10 to 'auto' in 1.4. Set the value of `n_init` explicitly to suppress the warning\n",
            "  warnings.warn(\n"
          ]
        },
        {
          "output_type": "display_data",
          "data": {
            "text/plain": [
              "<Figure size 1500x500 with 2 Axes>"
            ],
            "image/png": "[encoded data removed]"
          },
          "metadata": {}
        }
      ]
    },
    {
      "cell_type": "code",
      "source": [
        "# Aplicamos el modelo de KMeans con 4 clusters.\n",
        "kmeans = KMeans(n_clusters=4, random_state=42)\n",
        "kmeans.fit(X_scaled)\n",
        "\n",
        "# Agregamos el numero de clusteres al dataframe en su propia columna.\n",
        "df['cluster'] = kmeans.labels_\n",
        "df.head()"
      ],
      "metadata": {
        "colab": {
          "base_uri": "https://localhost:8080/",
          "height": 262
        },
        "id": "oyIYRU9IsI2N",
        "outputId": "80d97ad6-0ac0-427f-84b9-5afa3675eeb4"
      },
      "execution_count": 391,
      "outputs": [
        {
          "output_type": "stream",
          "name": "stderr",
          "text": [
            "/usr/local/lib/python3.10/dist-packages/sklearn/cluster/_kmeans.py:870: FutureWarning: The default value of `n_init` will change from 10 to 'auto' in 1.4. Set the value of `n_init` explicitly to suppress the warning\n",
            "  warnings.warn(\n"
          ]
        },
        {
          "output_type": "execute_result",
          "data": {
            "text/plain": [
              "   Hospitalised  Died  Urban  Year  Month  Sex  Age  Education  Occupation  \\\n",
              "0             1     0      0  2010     12    1   39          2           2   \n",
              "1             0     1      0  2009      3    0   83          1           1   \n",
              "2             0     1      0  2010      2    0   60          1           1   \n",
              "3             0     1      0  2011      1    0   73          1           1   \n",
              "4             1     0      0  2009      8    0   51          2           1   \n",
              "\n",
              "   method  cluster  \n",
              "0       3        1  \n",
              "1       2        3  \n",
              "2       2        3  \n",
              "3       2        3  \n",
              "4       1        1  "
            ],
            "text/html": [
              "\n",
              "  <div id=\"df-b5d0c9e5-95aa-463d-806a-b6a83cb81706\">\n",
              "    <div class=\"colab-df-container\">\n",
              "      <div>\n",
              "<style scoped>\n",
              "    .dataframe tbody tr th:only-of-type {\n",
              "        vertical-align: middle;\n",
              "    }\n",
              "\n",
              "    .dataframe tbody tr th {\n",
              "        vertical-align: top;\n",
              "    }\n",
              "\n",
              "    .dataframe thead th {\n",
              "        text-align: right;\n",
              "    }\n",
              "</style>\n",
              "<table border=\"1\" class=\"dataframe\">\n",
              "  <thead>\n",
              "    <tr style=\"text-align: right;\">\n",
              "      <th></th>\n",
              "      <th>Hospitalised</th>\n",
              "      <th>Died</th>\n",
              "      <th>Urban</th>\n",
              "      <th>Year</th>\n",
              "      <th>Month</th>\n",
              "      <th>Sex</th>\n",
              "      <th>Age</th>\n",
              "      <th>Education</th>\n",
              "      <th>Occupation</th>\n",
              "      <th>method</th>\n",
              "      <th>cluster</th>\n",
              "    </tr>\n",
              "  </thead>\n",
              "  <tbody>\n",
              "    <tr>\n",
              "      <th>0</th>\n",
              "      <td>1</td>\n",
              "      <td>0</td>\n",
              "      <td>0</td>\n",
              "      <td>2010</td>\n",
              "      <td>12</td>\n",
              "      <td>1</td>\n",
              "      <td>39</td>\n",
              "      <td>2</td>\n",
              "      <td>2</td>\n",
              "      <td>3</td>\n",
              "      <td>1</td>\n",
              "    </tr>\n",
              "    <tr>\n",
              "      <th>1</th>\n",
              "      <td>0</td>\n",
              "      <td>1</td>\n",
              "      <td>0</td>\n",
              "      <td>2009</td>\n",
              "      <td>3</td>\n",
              "      <td>0</td>\n",
              "      <td>83</td>\n",
              "      <td>1</td>\n",
              "      <td>1</td>\n",
              "      <td>2</td>\n",
              "      <td>3</td>\n",
              "    </tr>\n",
              "    <tr>\n",
              "      <th>2</th>\n",
              "      <td>0</td>\n",
              "      <td>1</td>\n",
              "      <td>0</td>\n",
              "      <td>2010</td>\n",
              "      <td>2</td>\n",
              "      <td>0</td>\n",
              "      <td>60</td>\n",
              "      <td>1</td>\n",
              "      <td>1</td>\n",
              "      <td>2</td>\n",
              "      <td>3</td>\n",
              "    </tr>\n",
              "    <tr>\n",
              "      <th>3</th>\n",
              "      <td>0</td>\n",
              "      <td>1</td>\n",
              "      <td>0</td>\n",
              "      <td>2011</td>\n",
              "      <td>1</td>\n",
              "      <td>0</td>\n",
              "      <td>73</td>\n",
              "      <td>1</td>\n",
              "      <td>1</td>\n",
              "      <td>2</td>\n",
              "      <td>3</td>\n",
              "    </tr>\n",
              "    <tr>\n",
              "      <th>4</th>\n",
              "      <td>1</td>\n",
              "      <td>0</td>\n",
              "      <td>0</td>\n",
              "      <td>2009</td>\n",
              "      <td>8</td>\n",
              "      <td>0</td>\n",
              "      <td>51</td>\n",
              "      <td>2</td>\n",
              "      <td>1</td>\n",
              "      <td>1</td>\n",
              "      <td>1</td>\n",
              "    </tr>\n",
              "  </tbody>\n",
              "</table>\n",
              "</div>\n",
              "      <button class=\"colab-df-convert\" onclick=\"convertToInteractive('df-b5d0c9e5-95aa-463d-806a-b6a83cb81706')\"\n",
              "              title=\"Convert this dataframe to an interactive table.\"\n",
              "              style=\"display:none;\">\n",
              "        \n",
              "  <svg xmlns=\"http://www.w3.org/2000/svg\" height=\"24px\"viewBox=\"0 0 24 24\"\n",
              "       width=\"24px\">\n",
              "    <path d=\"M0 0h24v24H0V0z\" fill=\"none\"/>\n",
              "    <path d=\"M18.56 5.44l.94 2.06.94-2.06 2.06-.94-2.06-.94-.94-2.06-.94 2.06-2.06.94zm-11 1L8.5 8.5l.94-2.06 2.06-.94-2.06-.94L8.5 2.5l-.94 2.06-2.06.94zm10 10l.94 2.06.94-2.06 2.06-.94-2.06-.94-.94-2.06-.94 2.06-2.06.94z\"/><path d=\"M17.41 7.96l-1.37-1.37c-.4-.4-.92-.59-1.43-.59-.52 0-1.04.2-1.43.59L10.3 9.45l-7.72 7.72c-.78.78-.78 2.05 0 2.83L4 21.41c.39.39.9.59 1.41.59.51 0 1.02-.2 1.41-.59l7.78-7.78 2.81-2.81c.8-.78.8-2.07 0-2.86zM5.41 20L4 18.59l7.72-7.72 1.47 1.35L5.41 20z\"/>\n",
              "  </svg>\n",
              "      </button>\n",
              "      \n",
              "  <style>\n",
              "    .colab-df-container {\n",
              "      display:flex;\n",
              "      flex-wrap:wrap;\n",
              "      gap: 12px;\n",
              "    }\n",
              "\n",
              "    .colab-df-convert {\n",
              "      background-color: #E8F0FE;\n",
              "      border: none;\n",
              "      border-radius: 50%;\n",
              "      cursor: pointer;\n",
              "      display: none;\n",
              "      fill: #1967D2;\n",
              "      height: 32px;\n",
              "      padding: 0 0 0 0;\n",
              "      width: 32px;\n",
              "    }\n",
              "\n",
              "    .colab-df-convert:hover {\n",
              "      background-color: #E2EBFA;\n",
              "      box-shadow: 0px 1px 2px rgba(60, 64, 67, 0.3), 0px 1px 3px 1px rgba(60, 64, 67, 0.15);\n",
              "      fill: #174EA6;\n",
              "    }\n",
              "\n",
              "    [theme=dark] .colab-df-convert {\n",
              "      background-color: #3B4455;\n",
              "      fill: #D2E3FC;\n",
              "    }\n",
              "\n",
              "    [theme=dark] .colab-df-convert:hover {\n",
              "      background-color: #434B5C;\n",
              "      box-shadow: 0px 1px 3px 1px rgba(0, 0, 0, 0.15);\n",
              "      filter: drop-shadow(0px 1px 2px rgba(0, 0, 0, 0.3));\n",
              "      fill: #FFFFFF;\n",
              "    }\n",
              "  </style>\n",
              "\n",
              "      <script>\n",
              "        const buttonEl =\n",
              "          document.querySelector('#df-b5d0c9e5-95aa-463d-806a-b6a83cb81706 button.colab-df-convert');\n",
              "        buttonEl.style.display =\n",
              "          google.colab.kernel.accessAllowed ? 'block' : 'none';\n",
              "\n",
              "        async function convertToInteractive(key) {\n",
              "          const element = document.querySelector('#df-b5d0c9e5-95aa-463d-806a-b6a83cb81706');\n",
              "          const dataTable =\n",
              "            await google.colab.kernel.invokeFunction('convertToInteractive',\n",
              "                                                     [key], {});\n",
              "          if (!dataTable) return;\n",
              "\n",
              "          const docLinkHtml = 'Like what you see? Visit the ' +\n",
              "            '<a target=\"_blank\" href=https://colab.research.google.com/notebooks/data_table.ipynb>data table notebook</a>'\n",
              "            + ' to learn more about interactive tables.';\n",
              "          element.innerHTML = '';\n",
              "          dataTable['output_type'] = 'display_data';\n",
              "          await google.colab.output.renderOutput(dataTable, element);\n",
              "          const docLink = document.createElement('div');\n",
              "          docLink.innerHTML = docLinkHtml;\n",
              "          element.appendChild(docLink);\n",
              "        }\n",
              "      </script>\n",
              "    </div>\n",
              "  </div>\n",
              "  "
            ]
          },
          "metadata": {},
          "execution_count": 391
        }
      ]
    },
    {
      "cell_type": "code",
      "source": [
        "# Lo que hacemos ahora, es que agrupamos el dataframe de acuerdo a los clusters (los 4 escogidos) y hacemos que nos muestre el promedio de cada columna (esto es para\n",
        "# tener una idea mas general de los valores).\n",
        "\n",
        "cluster_groups = df.groupby('cluster', as_index=False).mean()\n",
        "cluster_groups"
      ],
      "metadata": {
        "colab": {
          "base_uri": "https://localhost:8080/",
          "height": 175
        },
        "id": "H9_LeyC4rfiw",
        "outputId": "af70e586-40a4-44c1-b138-e66abbacc170"
      },
      "execution_count": 392,
      "outputs": [
        {
          "output_type": "execute_result",
          "data": {
            "text/plain": [
              "   cluster  Hospitalised      Died     Urban         Year     Month       Sex  \\\n",
              "0        0      0.717742  0.427419  0.459677  2010.137097  6.362903  0.419355   \n",
              "1        1      0.999100  0.073807  0.000000  2010.037804  6.471647  0.565257   \n",
              "2        2      0.932806  0.150198  1.280632  2009.972332  5.873518  0.569170   \n",
              "3        3      0.108957  1.000000  0.053555  2010.060018  6.212373  0.465374   \n",
              "\n",
              "         Age  Education  Occupation    method  \n",
              "0  33.250000   2.008065    5.580645  2.048387  \n",
              "1  45.600360   1.795680    1.306031  1.459046  \n",
              "2  42.201581   2.067194    1.588933  1.743083  \n",
              "3  64.498615   0.765466    1.094183  1.546630  "
            ],
            "text/html": [
              "\n",
              "  <div id=\"df-d41397e2-216c-423f-a552-451f17374a18\">\n",
              "    <div class=\"colab-df-container\">\n",
              "      <div>\n",
              "<style scoped>\n",
              "    .dataframe tbody tr th:only-of-type {\n",
              "        vertical-align: middle;\n",
              "    }\n",
              "\n",
              "    .dataframe tbody tr th {\n",
              "        vertical-align: top;\n",
              "    }\n",
              "\n",
              "    .dataframe thead th {\n",
              "        text-align: right;\n",
              "    }\n",
              "</style>\n",
              "<table border=\"1\" class=\"dataframe\">\n",
              "  <thead>\n",
              "    <tr style=\"text-align: right;\">\n",
              "      <th></th>\n",
              "      <th>cluster</th>\n",
              "      <th>Hospitalised</th>\n",
              "      <th>Died</th>\n",
              "      <th>Urban</th>\n",
              "      <th>Year</th>\n",
              "      <th>Month</th>\n",
              "      <th>Sex</th>\n",
              "      <th>Age</th>\n",
              "      <th>Education</th>\n",
              "      <th>Occupation</th>\n",
              "      <th>method</th>\n",
              "    </tr>\n",
              "  </thead>\n",
              "  <tbody>\n",
              "    <tr>\n",
              "      <th>0</th>\n",
              "      <td>0</td>\n",
              "      <td>0.717742</td>\n",
              "      <td>0.427419</td>\n",
              "      <td>0.459677</td>\n",
              "      <td>2010.137097</td>\n",
              "      <td>6.362903</td>\n",
              "      <td>0.419355</td>\n",
              "      <td>33.250000</td>\n",
              "      <td>2.008065</td>\n",
              "      <td>5.580645</td>\n",
              "      <td>2.048387</td>\n",
              "    </tr>\n",
              "    <tr>\n",
              "      <th>1</th>\n",
              "      <td>1</td>\n",
              "      <td>0.999100</td>\n",
              "      <td>0.073807</td>\n",
              "      <td>0.000000</td>\n",
              "      <td>2010.037804</td>\n",
              "      <td>6.471647</td>\n",
              "      <td>0.565257</td>\n",
              "      <td>45.600360</td>\n",
              "      <td>1.795680</td>\n",
              "      <td>1.306031</td>\n",
              "      <td>1.459046</td>\n",
              "    </tr>\n",
              "    <tr>\n",
              "      <th>2</th>\n",
              "      <td>2</td>\n",
              "      <td>0.932806</td>\n",
              "      <td>0.150198</td>\n",
              "      <td>1.280632</td>\n",
              "      <td>2009.972332</td>\n",
              "      <td>5.873518</td>\n",
              "      <td>0.569170</td>\n",
              "      <td>42.201581</td>\n",
              "      <td>2.067194</td>\n",
              "      <td>1.588933</td>\n",
              "      <td>1.743083</td>\n",
              "    </tr>\n",
              "    <tr>\n",
              "      <th>3</th>\n",
              "      <td>3</td>\n",
              "      <td>0.108957</td>\n",
              "      <td>1.000000</td>\n",
              "      <td>0.053555</td>\n",
              "      <td>2010.060018</td>\n",
              "      <td>6.212373</td>\n",
              "      <td>0.465374</td>\n",
              "      <td>64.498615</td>\n",
              "      <td>0.765466</td>\n",
              "      <td>1.094183</td>\n",
              "      <td>1.546630</td>\n",
              "    </tr>\n",
              "  </tbody>\n",
              "</table>\n",
              "</div>\n",
              "      <button class=\"colab-df-convert\" onclick=\"convertToInteractive('df-d41397e2-216c-423f-a552-451f17374a18')\"\n",
              "              title=\"Convert this dataframe to an interactive table.\"\n",
              "              style=\"display:none;\">\n",
              "        \n",
              "  <svg xmlns=\"http://www.w3.org/2000/svg\" height=\"24px\"viewBox=\"0 0 24 24\"\n",
              "       width=\"24px\">\n",
              "    <path d=\"M0 0h24v24H0V0z\" fill=\"none\"/>\n",
              "    <path d=\"M18.56 5.44l.94 2.06.94-2.06 2.06-.94-2.06-.94-.94-2.06-.94 2.06-2.06.94zm-11 1L8.5 8.5l.94-2.06 2.06-.94-2.06-.94L8.5 2.5l-.94 2.06-2.06.94zm10 10l.94 2.06.94-2.06 2.06-.94-2.06-.94-.94-2.06-.94 2.06-2.06.94z\"/><path d=\"M17.41 7.96l-1.37-1.37c-.4-.4-.92-.59-1.43-.59-.52 0-1.04.2-1.43.59L10.3 9.45l-7.72 7.72c-.78.78-.78 2.05 0 2.83L4 21.41c.39.39.9.59 1.41.59.51 0 1.02-.2 1.41-.59l7.78-7.78 2.81-2.81c.8-.78.8-2.07 0-2.86zM5.41 20L4 18.59l7.72-7.72 1.47 1.35L5.41 20z\"/>\n",
              "  </svg>\n",
              "      </button>\n",
              "      \n",
              "  <style>\n",
              "    .colab-df-container {\n",
              "      display:flex;\n",
              "      flex-wrap:wrap;\n",
              "      gap: 12px;\n",
              "    }\n",
              "\n",
              "    .colab-df-convert {\n",
              "      background-color: #E8F0FE;\n",
              "      border: none;\n",
              "      border-radius: 50%;\n",
              "      cursor: pointer;\n",
              "      display: none;\n",
              "      fill: #1967D2;\n",
              "      height: 32px;\n",
              "      padding: 0 0 0 0;\n",
              "      width: 32px;\n",
              "    }\n",
              "\n",
              "    .colab-df-convert:hover {\n",
              "      background-color: #E2EBFA;\n",
              "      box-shadow: 0px 1px 2px rgba(60, 64, 67, 0.3), 0px 1px 3px 1px rgba(60, 64, 67, 0.15);\n",
              "      fill: #174EA6;\n",
              "    }\n",
              "\n",
              "    [theme=dark] .colab-df-convert {\n",
              "      background-color: #3B4455;\n",
              "      fill: #D2E3FC;\n",
              "    }\n",
              "\n",
              "    [theme=dark] .colab-df-convert:hover {\n",
              "      background-color: #434B5C;\n",
              "      box-shadow: 0px 1px 3px 1px rgba(0, 0, 0, 0.15);\n",
              "      filter: drop-shadow(0px 1px 2px rgba(0, 0, 0, 0.3));\n",
              "      fill: #FFFFFF;\n",
              "    }\n",
              "  </style>\n",
              "\n",
              "      <script>\n",
              "        const buttonEl =\n",
              "          document.querySelector('#df-d41397e2-216c-423f-a552-451f17374a18 button.colab-df-convert');\n",
              "        buttonEl.style.display =\n",
              "          google.colab.kernel.accessAllowed ? 'block' : 'none';\n",
              "\n",
              "        async function convertToInteractive(key) {\n",
              "          const element = document.querySelector('#df-d41397e2-216c-423f-a552-451f17374a18');\n",
              "          const dataTable =\n",
              "            await google.colab.kernel.invokeFunction('convertToInteractive',\n",
              "                                                     [key], {});\n",
              "          if (!dataTable) return;\n",
              "\n",
              "          const docLinkHtml = 'Like what you see? Visit the ' +\n",
              "            '<a target=\"_blank\" href=https://colab.research.google.com/notebooks/data_table.ipynb>data table notebook</a>'\n",
              "            + ' to learn more about interactive tables.';\n",
              "          element.innerHTML = '';\n",
              "          dataTable['output_type'] = 'display_data';\n",
              "          await google.colab.output.renderOutput(dataTable, element);\n",
              "          const docLink = document.createElement('div');\n",
              "          docLink.innerHTML = docLinkHtml;\n",
              "          element.appendChild(docLink);\n",
              "        }\n",
              "      </script>\n",
              "    </div>\n",
              "  </div>\n",
              "  "
            ]
          },
          "metadata": {},
          "execution_count": 392
        }
      ]
    },
    {
      "cell_type": "code",
      "source": [
        "# Graficamos los clusteres obtenidos.\n",
        "\n",
        "fig, axes = plt.subplots(4,3, figsize = (30, 20))\n",
        "axes = axes.ravel()\n",
        "for i, col in enumerate(cluster_groups.columns[1:]):\n",
        "  axes[i].bar(cluster_groups['cluster'], cluster_groups[col])\n",
        "  axes[i].set_title(f'Mean {col}')"
      ],
      "metadata": {
        "colab": {
          "base_uri": "https://localhost:8080/",
          "height": 698
        },
        "id": "S1_8f2D7syAX",
        "outputId": "76dca987-c3ce-4b1c-f88d-b48906b7c494"
      },
      "execution_count": 393,
      "outputs": [
        {
          "output_type": "display_data",
          "data": {
            "text/plain": [
              "<Figure size 3000x2000 with 12 Axes>"
            ],
            "image/png": "[encoded data removed]"
          },
          "metadata": {}
        }
      ]
    },
    {
      "cell_type": "code",
      "source": [
        "# Esto es algo bien extraño. Da para investigar el hecho de que el modelo nos arroje 4 clusters como optimo, porque esto\n",
        "# significa que hay dos grupos que no estamos viendo. O sea que hay dos alternativas aparte de si fallecio o no en\n",
        "# nuestro dataset. En los graficos anteriores podemos comprender como se comportan los clusters por cada variable."
      ],
      "metadata": {
        "id": "yx9jWxQWyit4"
      },
      "execution_count": 394,
      "outputs": []
    },
    {
      "cell_type": "code",
      "source": [
        "\" ===================== Cuarto Modelo: Regresión Logística ===================== \""
      ],
      "metadata": {
        "colab": {
          "base_uri": "https://localhost:8080/",
          "height": 35
        },
        "id": "5FsuYQ_GzstT",
        "outputId": "a4a81f51-9599-472b-f06c-69622fed578f"
      },
      "execution_count": 395,
      "outputs": [
        {
          "output_type": "execute_result",
          "data": {
            "text/plain": [
              "' ===================== Cuarto Modelo: Regresión Logística ===================== '"
            ],
            "application/vnd.google.colaboratory.intrinsic+json": {
              "type": "string"
            }
          },
          "metadata": {},
          "execution_count": 395
        }
      ]
    },
    {
      "cell_type": "code",
      "source": [
        "# Correré la base de datos de nuevo y todo lo modificado para comenzar a trabajar con el otro modelo.\n",
        "\n",
        "# Cargamos la base de datps\n",
        "df = pd.read_csv(\"/content/SuicideChina.csv\")\n",
        "\n",
        "# Eliminamos las columnas innecesarias\n",
        "df = df.drop(columns = ['Unnamed: 0', 'Person_ID'])\n",
        "\n",
        "# Cambiamos las columnas que son categoricas como valores numericos:\n",
        "\n",
        "# Si fue Hospitalizado o no\n",
        "df[\"Hospitalised\"]= df[\"Hospitalised\"].replace(\"yes\", 1)\n",
        "df[\"Hospitalised\"]= df[\"Hospitalised\"].replace(\"no\", 0)\n",
        "\n",
        "# Si falleció o no\n",
        "df[\"Died\"]= df[\"Died\"].replace(\"yes\", 1)\n",
        "df[\"Died\"]= df[\"Died\"].replace(\"no\", 0)\n",
        "\n",
        "# si vivia en una zona urbana o rural\n",
        "df[\"Urban\"]= df[\"Urban\"].replace(\"yes\", 1)\n",
        "df[\"Urban\"]= df[\"Urban\"].replace(\"no\", 0)\n",
        "df[\"Urban\"]= df[\"Urban\"].replace(\"unknown\", 2)\n",
        "\n",
        "# De qué genero era\n",
        "df[\"Sex\"]= df[\"Sex\"].replace(\"female\", 1)\n",
        "df[\"Sex\"]= df[\"Sex\"].replace(\"male\", 0)\n",
        "\n",
        "# La educación que tenía\n",
        "df[\"Education\"]= df[\"Education\"].replace(\"iliterate\", 0)\n",
        "df[\"Education\"]= df[\"Education\"].replace(\"primary\", 1)\n",
        "df[\"Education\"]= df[\"Education\"].replace(\"Secondary\", 2)\n",
        "df[\"Education\"]= df[\"Education\"].replace(\"Tertiary\", 3)\n",
        "df[\"Education\"]= df[\"Education\"].replace(\"unknown\", 4)\n",
        "\n",
        "# A qué se dedicaba\n",
        "df[\"Occupation\"]= df[\"Occupation\"].replace(\"farming\", 1)\n",
        "df[\"Occupation\"]= df[\"Occupation\"].replace(\"household\", 2)\n",
        "df[\"Occupation\"]= df[\"Occupation\"].replace(\"others/unknown\", \"others\")\n",
        "df[\"Occupation\"]= df[\"Occupation\"].replace(\"others\", 3)\n",
        "df[\"Occupation\"]= df[\"Occupation\"].replace(\"professional\", 4)\n",
        "df[\"Occupation\"]= df[\"Occupation\"].replace(\"student\", 5)\n",
        "df[\"Occupation\"]= df[\"Occupation\"].replace(\"unemployed\", 6)\n",
        "df[\"Occupation\"]= df[\"Occupation\"].replace(\"business/service\", 7)\n",
        "df[\"Occupation\"]= df[\"Occupation\"].replace(\"worker\", 8)\n",
        "df[\"Occupation\"]= df[\"Occupation\"].replace(\"retiree\", 9)\n",
        "\n",
        "# El metodo que escogio para cometer suicidio (o intento de suicidio)\n",
        "df[\"method\"]= df[\"method\"].replace(\"Pesticide\", 1)\n",
        "df[\"method\"]= df[\"method\"].replace(\"Hanging\", 2)\n",
        "df[\"method\"]= df[\"method\"].replace(\"Other poison\", \"Poison unspec\")\n",
        "df[\"method\"]= df[\"method\"].replace(\"Poison unspec\", 3)\n",
        "df[\"method\"]= df[\"method\"].replace(\"unspecified\", 4)\n",
        "df[\"method\"]= df[\"method\"].replace(\"Cutting\", 5)\n",
        "df[\"method\"]= df[\"method\"].replace(\"Drowning\", 6)\n",
        "df[\"method\"]= df[\"method\"].replace(\"Jumping\", 7)\n",
        "df[\"method\"]= df[\"method\"].replace(\"Others\", 4)"
      ],
      "metadata": {
        "id": "mn71oHCg0Ew2"
      },
      "execution_count": 396,
      "outputs": []
    },
    {
      "cell_type": "code",
      "source": [
        "# 1) Separación\n",
        "\n",
        "X = df.drop(columns = 'Died')\n",
        "y = df['Died']"
      ],
      "metadata": {
        "id": "BMzcrGEa0aaz"
      },
      "execution_count": 397,
      "outputs": []
    },
    {
      "cell_type": "code",
      "source": [
        "# Aplicamos el train test split\n",
        "\n",
        "X_train, X_test, y_train, y_test = train_test_split(X, y, random_state=42)"
      ],
      "metadata": {
        "id": "AgoKyGbt0aXZ"
      },
      "execution_count": 398,
      "outputs": []
    },
    {
      "cell_type": "code",
      "source": [
        "# Escalar los datos\n",
        "\n",
        "scaler = StandardScaler()\n",
        "X_train = scaler.fit_transform(X_train)\n",
        "X_test = scaler.transform(X_test)"
      ],
      "metadata": {
        "id": "QqSkOjCL0aUC"
      },
      "execution_count": 399,
      "outputs": []
    },
    {
      "cell_type": "code",
      "source": [
        "# Creamos un pipeline. Ya escalamos los datos y este paso es bueno para evitar fugas.\n",
        "\n",
        "transformer = make_pipeline(StandardScaler())"
      ],
      "metadata": {
        "id": "2YaqhP5c0lG7"
      },
      "execution_count": 400,
      "outputs": []
    },
    {
      "cell_type": "code",
      "source": [
        "# Un pipeline dentro de otro añadiendole la regresion logistica.\n",
        "\n",
        "logreg = LogisticRegression()\n",
        "logreg_pipe = make_pipeline(transformer, logreg)\n",
        "logreg_pipe.fit(X_train, y_train)"
      ],
      "metadata": {
        "colab": {
          "base_uri": "https://localhost:8080/",
          "height": 151
        },
        "id": "RlMbbxKY0lET",
        "outputId": "c61dfbcf-96d4-4f8f-aa26-fad5a64439da"
      },
      "execution_count": 401,
      "outputs": [
        {
          "output_type": "execute_result",
          "data": {
            "text/plain": [
              "Pipeline(steps=[('pipeline',\n",
              "                 Pipeline(steps=[('standardscaler', StandardScaler())])),\n",
              "                ('logisticregression', LogisticRegression())])"
            ],
            "text/html": [
              "<style>#sk-container-id-16 {color: black;background-color: white;}#sk-container-id-16 pre{padding: 0;}#sk-container-id-16 div.sk-toggleable {background-color: white;}#sk-container-id-16 label.sk-toggleable__label {cursor: pointer;display: block;width: 100%;margin-bottom: 0;padding: 0.3em;box-sizing: border-box;text-align: center;}#sk-container-id-16 label.sk-toggleable__label-arrow:before {content: \"▸\";float: left;margin-right: 0.25em;color: #696969;}#sk-container-id-16 label.sk-toggleable__label-arrow:hover:before {color: black;}#sk-container-id-16 div.sk-estimator:hover label.sk-toggleable__label-arrow:before {color: black;}#sk-container-id-16 div.sk-toggleable__content {max-height: 0;max-width: 0;overflow: hidden;text-align: left;background-color: #f0f8ff;}#sk-container-id-16 div.sk-toggleable__content pre {margin: 0.2em;color: black;border-radius: 0.25em;background-color: #f0f8ff;}#sk-container-id-16 input.sk-toggleable__control:checked~div.sk-toggleable__content {max-height: 200px;max-width: 100%;overflow: auto;}#sk-container-id-16 input.sk-toggleable__control:checked~label.sk-toggleable__label-arrow:before {content: \"▾\";}#sk-container-id-16 div.sk-estimator input.sk-toggleable__control:checked~label.sk-toggleable__label {background-color: #d4ebff;}#sk-container-id-16 div.sk-label input.sk-toggleable__control:checked~label.sk-toggleable__label {background-color: #d4ebff;}#sk-container-id-16 input.sk-hidden--visually {border: 0;clip: rect(1px 1px 1px 1px);clip: rect(1px, 1px, 1px, 1px);height: 1px;margin: -1px;overflow: hidden;padding: 0;position: absolute;width: 1px;}#sk-container-id-16 div.sk-estimator {font-family: monospace;background-color: #f0f8ff;border: 1px dotted black;border-radius: 0.25em;box-sizing: border-box;margin-bottom: 0.5em;}#sk-container-id-16 div.sk-estimator:hover {background-color: #d4ebff;}#sk-container-id-16 div.sk-parallel-item::after {content: \"\";width: 100%;border-bottom: 1px solid gray;flex-grow: 1;}#sk-container-id-16 div.sk-label:hover label.sk-toggleable__label {background-color: #d4ebff;}#sk-container-id-16 div.sk-serial::before {content: \"\";position: absolute;border-left: 1px solid gray;box-sizing: border-box;top: 0;bottom: 0;left: 50%;z-index: 0;}#sk-container-id-16 div.sk-serial {display: flex;flex-direction: column;align-items: center;background-color: white;padding-right: 0.2em;padding-left: 0.2em;position: relative;}#sk-container-id-16 div.sk-item {position: relative;z-index: 1;}#sk-container-id-16 div.sk-parallel {display: flex;align-items: stretch;justify-content: center;background-color: white;position: relative;}#sk-container-id-16 div.sk-item::before, #sk-container-id-16 div.sk-parallel-item::before {content: \"\";position: absolute;border-left: 1px solid gray;box-sizing: border-box;top: 0;bottom: 0;left: 50%;z-index: -1;}#sk-container-id-16 div.sk-parallel-item {display: flex;flex-direction: column;z-index: 1;position: relative;background-color: white;}#sk-container-id-16 div.sk-parallel-item:first-child::after {align-self: flex-end;width: 50%;}#sk-container-id-16 div.sk-parallel-item:last-child::after {align-self: flex-start;width: 50%;}#sk-container-id-16 div.sk-parallel-item:only-child::after {width: 0;}#sk-container-id-16 div.sk-dashed-wrapped {border: 1px dashed gray;margin: 0 0.4em 0.5em 0.4em;box-sizing: border-box;padding-bottom: 0.4em;background-color: white;}#sk-container-id-16 div.sk-label label {font-family: monospace;font-weight: bold;display: inline-block;line-height: 1.2em;}#sk-container-id-16 div.sk-label-container {text-align: center;}#sk-container-id-16 div.sk-container {/* jupyter's `normalize.less` sets `[hidden] { display: none; }` but bootstrap.min.css set `[hidden] { display: none !important; }` so we also need the `!important` here to be able to override the default hidden behavior on the sphinx rendered scikit-learn.org. See: https://github.com/scikit-learn/scikit-learn/issues/21755 */display: inline-block !important;position: relative;}#sk-container-id-16 div.sk-text-repr-fallback {display: none;}</style><div id=\"sk-container-id-16\" class=\"sk-top-container\"><div class=\"sk-text-repr-fallback\"><pre>Pipeline(steps=[(&#x27;pipeline&#x27;,\n",
              "                 Pipeline(steps=[(&#x27;standardscaler&#x27;, StandardScaler())])),\n",
              "                (&#x27;logisticregression&#x27;, LogisticRegression())])</pre><b>In a Jupyter environment, please rerun this cell to show the HTML representation or trust the notebook. <br />On GitHub, the HTML representation is unable to render, please try loading this page with nbviewer.org.</b></div><div class=\"sk-container\" hidden><div class=\"sk-item sk-dashed-wrapped\"><div class=\"sk-label-container\"><div class=\"sk-label sk-toggleable\"><input class=\"sk-toggleable__control sk-hidden--visually\" id=\"sk-estimator-id-38\" type=\"checkbox\" ><label for=\"sk-estimator-id-38\" class=\"sk-toggleable__label sk-toggleable__label-arrow\">Pipeline</label><div class=\"sk-toggleable__content\"><pre>Pipeline(steps=[(&#x27;pipeline&#x27;,\n",
              "                 Pipeline(steps=[(&#x27;standardscaler&#x27;, StandardScaler())])),\n",
              "                (&#x27;logisticregression&#x27;, LogisticRegression())])</pre></div></div></div><div class=\"sk-serial\"><div class=\"sk-item\"><div class=\"sk-label-container\"><div class=\"sk-label sk-toggleable\"><input class=\"sk-toggleable__control sk-hidden--visually\" id=\"sk-estimator-id-39\" type=\"checkbox\" ><label for=\"sk-estimator-id-39\" class=\"sk-toggleable__label sk-toggleable__label-arrow\">pipeline: Pipeline</label><div class=\"sk-toggleable__content\"><pre>Pipeline(steps=[(&#x27;standardscaler&#x27;, StandardScaler())])</pre></div></div></div><div class=\"sk-serial\"><div class=\"sk-item\"><div class=\"sk-estimator sk-toggleable\"><input class=\"sk-toggleable__control sk-hidden--visually\" id=\"sk-estimator-id-40\" type=\"checkbox\" ><label for=\"sk-estimator-id-40\" class=\"sk-toggleable__label sk-toggleable__label-arrow\">StandardScaler</label><div class=\"sk-toggleable__content\"><pre>StandardScaler()</pre></div></div></div></div></div><div class=\"sk-item\"><div class=\"sk-estimator sk-toggleable\"><input class=\"sk-toggleable__control sk-hidden--visually\" id=\"sk-estimator-id-41\" type=\"checkbox\" ><label for=\"sk-estimator-id-41\" class=\"sk-toggleable__label sk-toggleable__label-arrow\">LogisticRegression</label><div class=\"sk-toggleable__content\"><pre>LogisticRegression()</pre></div></div></div></div></div></div></div>"
            ]
          },
          "metadata": {},
          "execution_count": 401
        }
      ]
    },
    {
      "cell_type": "code",
      "source": [
        "# Ahora obtenemos el resultado del modelo.\n",
        "\n",
        "print('Training accuracy:', logreg_pipe.score(X_train, y_train))\n",
        "print('Testing accuracy:', logreg_pipe.score(X_test, y_test))"
      ],
      "metadata": {
        "colab": {
          "base_uri": "https://localhost:8080/"
        },
        "id": "hq9FOWh60lBb",
        "outputId": "2d3bc0de-8dbc-478b-d452-ab4718a4be32"
      },
      "execution_count": 402,
      "outputs": [
        {
          "output_type": "stream",
          "name": "stdout",
          "text": [
            "Training accuracy: 0.9164937759336099\n",
            "Testing accuracy: 0.8864696734059098\n"
          ]
        }
      ]
    },
    {
      "cell_type": "code",
      "source": [
        "# No se ve que este sobreajustado y tampoco es un mal resultado,\n",
        "# de hecho, todo lo contrario, es uno de los mejores modelos que tenemos hasta el momento."
      ],
      "metadata": {
        "id": "yKQ6y8s11VBD"
      },
      "execution_count": 403,
      "outputs": []
    },
    {
      "cell_type": "code",
      "execution_count": 404,
      "metadata": {
        "id": "e9yZgXXCaGFY",
        "colab": {
          "base_uri": "https://localhost:8080/",
          "height": 35
        },
        "outputId": "3b7bc5e6-67db-48af-e623-7a16ebc94f64"
      },
      "outputs": [
        {
          "output_type": "execute_result",
          "data": {
            "text/plain": [
              "' ===================== Quinto Modelo: Redes Neuronales ===================== '"
            ],
            "application/vnd.google.colaboratory.intrinsic+json": {
              "type": "string"
            }
          },
          "metadata": {},
          "execution_count": 404
        }
      ],
      "source": [
        "\" ===================== Quinto Modelo: Redes Neuronales ===================== \""
      ]
    },
    {
      "cell_type": "code",
      "execution_count": 405,
      "metadata": {
        "id": "T6jU5TE4aGCt"
      },
      "outputs": [],
      "source": [
        "# Correré la base de datos de nuevo y todo lo modificado para comenzar a trabajar con el otro modelo.\n",
        "\n",
        "# Cargamos la base de datps\n",
        "df = pd.read_csv(\"/content/SuicideChina.csv\")\n",
        "\n",
        "# Eliminamos las columnas innecesarias\n",
        "df = df.drop(columns = ['Unnamed: 0', 'Person_ID'])\n",
        "\n",
        "# Cambiamos las columnas que son categoricas como valores numericos:\n",
        "\n",
        "# Si fue Hospitalizado o no\n",
        "df[\"Hospitalised\"]= df[\"Hospitalised\"].replace(\"yes\", 1)\n",
        "df[\"Hospitalised\"]= df[\"Hospitalised\"].replace(\"no\", 0)\n",
        "\n",
        "# Si falleció o no\n",
        "df[\"Died\"]= df[\"Died\"].replace(\"yes\", 1)\n",
        "df[\"Died\"]= df[\"Died\"].replace(\"no\", 0)\n",
        "\n",
        "# si vivia en una zona urbana o rural\n",
        "df[\"Urban\"]= df[\"Urban\"].replace(\"yes\", 1)\n",
        "df[\"Urban\"]= df[\"Urban\"].replace(\"no\", 0)\n",
        "df[\"Urban\"]= df[\"Urban\"].replace(\"unknown\", 2)\n",
        "\n",
        "# De qué genero era\n",
        "df[\"Sex\"]= df[\"Sex\"].replace(\"female\", 1)\n",
        "df[\"Sex\"]= df[\"Sex\"].replace(\"male\", 0)\n",
        "\n",
        "# La educación que tenía\n",
        "df[\"Education\"]= df[\"Education\"].replace(\"iliterate\", 0)\n",
        "df[\"Education\"]= df[\"Education\"].replace(\"primary\", 1)\n",
        "df[\"Education\"]= df[\"Education\"].replace(\"Secondary\", 2)\n",
        "df[\"Education\"]= df[\"Education\"].replace(\"Tertiary\", 3)\n",
        "df[\"Education\"]= df[\"Education\"].replace(\"unknown\", 4)\n",
        "\n",
        "# A qué se dedicaba\n",
        "df[\"Occupation\"]= df[\"Occupation\"].replace(\"farming\", 1)\n",
        "df[\"Occupation\"]= df[\"Occupation\"].replace(\"household\", 2)\n",
        "df[\"Occupation\"]= df[\"Occupation\"].replace(\"others/unknown\", \"others\")\n",
        "df[\"Occupation\"]= df[\"Occupation\"].replace(\"others\", 3)\n",
        "df[\"Occupation\"]= df[\"Occupation\"].replace(\"professional\", 4)\n",
        "df[\"Occupation\"]= df[\"Occupation\"].replace(\"student\", 5)\n",
        "df[\"Occupation\"]= df[\"Occupation\"].replace(\"unemployed\", 6)\n",
        "df[\"Occupation\"]= df[\"Occupation\"].replace(\"business/service\", 7)\n",
        "df[\"Occupation\"]= df[\"Occupation\"].replace(\"worker\", 8)\n",
        "df[\"Occupation\"]= df[\"Occupation\"].replace(\"retiree\", 9)\n",
        "\n",
        "# El metodo que escogio para cometer suicidio (o intento de suicidio)\n",
        "df[\"method\"]= df[\"method\"].replace(\"Pesticide\", 1)\n",
        "df[\"method\"]= df[\"method\"].replace(\"Hanging\", 2)\n",
        "df[\"method\"]= df[\"method\"].replace(\"Other poison\", \"Poison unspec\")\n",
        "df[\"method\"]= df[\"method\"].replace(\"Poison unspec\", 3)\n",
        "df[\"method\"]= df[\"method\"].replace(\"unspecified\", 4)\n",
        "df[\"method\"]= df[\"method\"].replace(\"Cutting\", 5)\n",
        "df[\"method\"]= df[\"method\"].replace(\"Drowning\", 6)\n",
        "df[\"method\"]= df[\"method\"].replace(\"Jumping\", 7)\n",
        "df[\"method\"]= df[\"method\"].replace(\"Others\", 4)"
      ]
    },
    {
      "cell_type": "code",
      "execution_count": 406,
      "metadata": {
        "id": "Ar9nMjL5g8tX"
      },
      "outputs": [],
      "source": [
        "# 1) Separación\n",
        "\n",
        "X = df.drop(columns = 'Died')\n",
        "y = df['Died']"
      ]
    },
    {
      "cell_type": "code",
      "source": [
        "# 2) Aplicamos el train test split\n",
        "\n",
        "X_train, X_test, y_train, y_test = train_test_split(X, y, random_state=3)"
      ],
      "metadata": {
        "id": "C1sYxn0K2EUn"
      },
      "execution_count": 407,
      "outputs": []
    },
    {
      "cell_type": "code",
      "execution_count": 408,
      "metadata": {
        "id": "t4YjFQKMg8rJ"
      },
      "outputs": [],
      "source": [
        "# 3) Escalar\n",
        "\n",
        "scaler = StandardScaler()\n",
        "scaled_df = scaler.fit_transform(X)"
      ]
    },
    {
      "cell_type": "code",
      "execution_count": 409,
      "metadata": {
        "id": "r1dzRffwg8cs",
        "colab": {
          "base_uri": "https://localhost:8080/"
        },
        "outputId": "5624754c-6961-4a1a-b85a-8cadc57b512f"
      },
      "outputs": [
        {
          "output_type": "execute_result",
          "data": {
            "text/plain": [
              "9"
            ]
          },
          "metadata": {},
          "execution_count": 409
        }
      ],
      "source": [
        "# 4) Debemos definir nuestra estructura de red. Tenemos 9 columnas (10 menos el vector objetivo), por lo que\n",
        "# ese será el maximo de neuronas en la primera capa.\n",
        "\n",
        "input_shape = X_train.shape[1]\n",
        "input_shape"
      ]
    },
    {
      "cell_type": "code",
      "execution_count": 410,
      "metadata": {
        "id": "_va7I5PPg8al"
      },
      "outputs": [],
      "source": [
        "# Utilizaremos un modelo secuencial:\n",
        "\n",
        "model = Sequential()"
      ]
    },
    {
      "cell_type": "code",
      "execution_count": 411,
      "metadata": {
        "id": "JX6W-kezg8Yb"
      },
      "outputs": [],
      "source": [
        "# Primera capa oculta\n",
        "model.add(Dense(9, # Tengo 9 neuronas en mi primera capa\n",
        "                input_dim = input_shape,\n",
        "                activation = 'relu'))\n",
        "# Capa de salida\n",
        "model.add(Dense(1, activation = 'sigmoid'))"
      ]
    },
    {
      "cell_type": "code",
      "execution_count": 412,
      "metadata": {
        "id": "rtgFXlRWg8WJ"
      },
      "outputs": [],
      "source": [
        "# Paso 2: Compilar\n",
        "\n",
        "model.compile(loss = 'bce', optimizer = 'adam')"
      ]
    },
    {
      "cell_type": "code",
      "execution_count": 413,
      "metadata": {
        "id": "fwAr-vong8UD",
        "colab": {
          "base_uri": "https://localhost:8080/"
        },
        "outputId": "f9ca7f73-71c1-4dd9-d13c-3913c274f6d0"
      },
      "outputs": [
        {
          "output_type": "stream",
          "name": "stdout",
          "text": [
            "Epoch 1/10\n",
            "61/61 [==============================] - 1s 3ms/step - loss: 78.1014 - val_loss: 9.9798\n",
            "Epoch 2/10\n",
            "61/61 [==============================] - 0s 2ms/step - loss: 2.1881 - val_loss: 0.8066\n",
            "Epoch 3/10\n",
            "61/61 [==============================] - 0s 2ms/step - loss: 0.7597 - val_loss: 0.7980\n",
            "Epoch 4/10\n",
            "61/61 [==============================] - 0s 2ms/step - loss: 0.7658 - val_loss: 0.7655\n",
            "Epoch 5/10\n",
            "61/61 [==============================] - 0s 2ms/step - loss: 0.7212 - val_loss: 0.6680\n",
            "Epoch 6/10\n",
            "61/61 [==============================] - 0s 2ms/step - loss: 0.7070 - val_loss: 0.8020\n",
            "Epoch 7/10\n",
            "61/61 [==============================] - 0s 2ms/step - loss: 0.6808 - val_loss: 0.6716\n",
            "Epoch 8/10\n",
            "61/61 [==============================] - 0s 2ms/step - loss: 0.6286 - val_loss: 0.5798\n",
            "Epoch 9/10\n",
            "61/61 [==============================] - 0s 2ms/step - loss: 0.5672 - val_loss: 0.5341\n",
            "Epoch 10/10\n",
            "61/61 [==============================] - 0s 2ms/step - loss: 0.5984 - val_loss: 0.6147\n"
          ]
        }
      ],
      "source": [
        "# Paso 3: Ajustar el modelo\n",
        "\n",
        "history = model.fit(X_train, y_train,\n",
        "                    validation_data = (X_test, y_test),\n",
        "                    epochs=10)"
      ]
    },
    {
      "cell_type": "code",
      "execution_count": 414,
      "metadata": {
        "id": "JwggC5t3jLyd",
        "colab": {
          "base_uri": "https://localhost:8080/",
          "height": 430
        },
        "outputId": "19899882-afea-4ee2-a83f-dcf82ffb3008"
      },
      "outputs": [
        {
          "output_type": "display_data",
          "data": {
            "text/plain": [
              "<Figure size 640x480 with 1 Axes>"
            ],
            "image/png": "[encoded data removed]"
          },
          "metadata": {}
        }
      ],
      "source": [
        "# Visualizamos el resultado\n",
        "\n",
        "plt.plot(history.history['loss'], label='Train loss')\n",
        "plt.plot(history.history['val_loss'], label='Test Loss')\n",
        "plt.legend();"
      ]
    },
    {
      "cell_type": "code",
      "execution_count": 415,
      "metadata": {
        "id": "sFXpmdCdjLwE",
        "colab": {
          "base_uri": "https://localhost:8080/"
        },
        "outputId": "23d26b87-4a1c-4191-e11f-50a85b1e1d49"
      },
      "outputs": [
        {
          "output_type": "stream",
          "name": "stdout",
          "text": [
            "21/21 [==============================] - 0s 997us/step - loss: 0.6147\n"
          ]
        },
        {
          "output_type": "execute_result",
          "data": {
            "text/plain": [
              "0.6147063374519348"
            ]
          },
          "metadata": {},
          "execution_count": 415
        }
      ],
      "source": [
        "loss = model.evaluate(X_test, y_test)\n",
        "loss"
      ]
    },
    {
      "cell_type": "code",
      "execution_count": 416,
      "metadata": {
        "id": "U5RnCAJ8jLts",
        "colab": {
          "base_uri": "https://localhost:8080/"
        },
        "outputId": "6674320e-e899-466b-c84a-e4a9a20c41d8"
      },
      "outputs": [
        {
          "output_type": "stream",
          "name": "stdout",
          "text": [
            "21/21 [==============================] - 0s 910us/step\n"
          ]
        },
        {
          "output_type": "execute_result",
          "data": {
            "text/plain": [
              "0.9118541033434651"
            ]
          },
          "metadata": {},
          "execution_count": 416
        }
      ],
      "source": [
        "# Obtener las predicciones del modelo\n",
        "y_pred = model.predict(X_test)\n",
        "\n",
        "# Redondear las predicciones a la clase correspondiente\n",
        "y_pred_rounded = np.round(y_pred)\n",
        "\n",
        "# Calcular el recall\n",
        "recall = recall_score(y_test, y_pred_rounded)\n",
        "\n",
        "recall"
      ]
    },
    {
      "cell_type": "code",
      "execution_count": 417,
      "metadata": {
        "id": "LETevylHjUtx",
        "colab": {
          "base_uri": "https://localhost:8080/"
        },
        "outputId": "05c08f86-85b1-4b18-ea3a-9161730e7b6b"
      },
      "outputs": [
        {
          "output_type": "stream",
          "name": "stdout",
          "text": [
            "21/21 [==============================] - 0s 788us/step\n"
          ]
        },
        {
          "output_type": "execute_result",
          "data": {
            "text/plain": [
              "0.6811819595645412"
            ]
          },
          "metadata": {},
          "execution_count": 417
        }
      ],
      "source": [
        "# Obtener las predicciones del modelo\n",
        "y_pred = model.predict(X_test)\n",
        "\n",
        "# Redondear las predicciones a la clase correspondiente\n",
        "y_pred_rounded = np.round(y_pred)\n",
        "\n",
        "# Calcular la precisión\n",
        "accuracy = accuracy_score(y_test, y_pred_rounded)\n",
        "\n",
        "accuracy"
      ]
    },
    {
      "cell_type": "code",
      "execution_count": 418,
      "metadata": {
        "id": "RabmgWZAjUsO"
      },
      "outputs": [],
      "source": [
        "# ===== Segunda version de redes neuronales ====="
      ]
    },
    {
      "cell_type": "code",
      "execution_count": 419,
      "metadata": {
        "id": "HoJoCBFujUqe"
      },
      "outputs": [],
      "source": [
        "# Primera capa oculta\n",
        "model.add(Dense(9, # Tengo 9 neuronas en mi primera capa\n",
        "                input_dim = input_shape,\n",
        "                activation = 'relu'))\n",
        "# Segunda capa oculta\n",
        "model.add(Dense(7, # Tengo 4 neuronas en mi segunda capa.\n",
        "                activation = 'relu'))\n",
        "# Tercera capa oculta\n",
        "model.add(Dense(4, # Tengo 4 neuronas en mi segunda capa.\n",
        "                activation = 'relu'))\n",
        "# Capa de salida\n",
        "model.add(Dense(1, activation = 'sigmoid'))"
      ]
    },
    {
      "cell_type": "code",
      "execution_count": 420,
      "metadata": {
        "id": "byQSkhu2jUoZ"
      },
      "outputs": [],
      "source": [
        "# Paso 2: Compilar\n",
        "\n",
        "model.compile(loss = 'bce', optimizer = 'adam')"
      ]
    },
    {
      "cell_type": "code",
      "execution_count": 421,
      "metadata": {
        "id": "0W8YoWyyjUmF",
        "colab": {
          "base_uri": "https://localhost:8080/"
        },
        "outputId": "0c219b4a-ab9c-42e8-8808-aab4c3f1146b"
      },
      "outputs": [
        {
          "output_type": "stream",
          "name": "stdout",
          "text": [
            "Epoch 1/10\n",
            "61/61 [==============================] - 1s 10ms/step - loss: 0.6927 - val_loss: 0.6943\n",
            "Epoch 2/10\n",
            "61/61 [==============================] - 0s 2ms/step - loss: 0.6925 - val_loss: 0.6943\n",
            "Epoch 3/10\n",
            "61/61 [==============================] - 0s 2ms/step - loss: 0.6925 - val_loss: 0.6943\n",
            "Epoch 4/10\n",
            "61/61 [==============================] - 0s 2ms/step - loss: 0.6925 - val_loss: 0.6949\n",
            "Epoch 5/10\n",
            "61/61 [==============================] - 0s 2ms/step - loss: 0.6925 - val_loss: 0.6949\n",
            "Epoch 6/10\n",
            "61/61 [==============================] - 0s 2ms/step - loss: 0.6926 - val_loss: 0.6950\n",
            "Epoch 7/10\n",
            "61/61 [==============================] - 0s 2ms/step - loss: 0.6925 - val_loss: 0.6948\n",
            "Epoch 8/10\n",
            "61/61 [==============================] - 0s 2ms/step - loss: 0.6925 - val_loss: 0.6947\n",
            "Epoch 9/10\n",
            "61/61 [==============================] - 0s 2ms/step - loss: 0.6925 - val_loss: 0.6945\n",
            "Epoch 10/10\n",
            "61/61 [==============================] - 0s 2ms/step - loss: 0.6925 - val_loss: 0.6946\n"
          ]
        }
      ],
      "source": [
        "# Paso 3: Ajustar el modelo\n",
        "\n",
        "history = model.fit(X_train, y_train,\n",
        "                    validation_data = (X_test, y_test),\n",
        "                    epochs=10)"
      ]
    },
    {
      "cell_type": "code",
      "execution_count": 422,
      "metadata": {
        "id": "QJke5ceOjUjn",
        "colab": {
          "base_uri": "https://localhost:8080/",
          "height": 430
        },
        "outputId": "79d8a3c5-15b2-4180-bd73-3af050e03aca"
      },
      "outputs": [
        {
          "output_type": "display_data",
          "data": {
            "text/plain": [
              "<Figure size 640x480 with 1 Axes>"
            ],
            "image/png": "[encoded data removed]"
          },
          "metadata": {}
        }
      ],
      "source": [
        "# Visualizamos el resultado\n",
        "\n",
        "plt.plot(history.history['loss'], label='Train loss')\n",
        "plt.plot(history.history['val_loss'], label='Test Loss')\n",
        "plt.legend();"
      ]
    },
    {
      "cell_type": "code",
      "execution_count": 423,
      "metadata": {
        "id": "_f-5z7F4ZeHG",
        "colab": {
          "base_uri": "https://localhost:8080/"
        },
        "outputId": "9efdd276-5cbd-4705-9562-873fb61a3b4a"
      },
      "outputs": [
        {
          "output_type": "stream",
          "name": "stdout",
          "text": [
            "21/21 [==============================] - 0s 982us/step - loss: 0.6946\n"
          ]
        },
        {
          "output_type": "execute_result",
          "data": {
            "text/plain": [
              "0.6945972442626953"
            ]
          },
          "metadata": {},
          "execution_count": 423
        }
      ],
      "source": [
        "loss = model.evaluate(X_test, y_test)\n",
        "loss"
      ]
    },
    {
      "cell_type": "code",
      "execution_count": 424,
      "metadata": {
        "id": "qcs8DAV-ZeE-",
        "colab": {
          "base_uri": "https://localhost:8080/"
        },
        "outputId": "8c388bb3-f929-46a8-8d9a-aaec5245901f"
      },
      "outputs": [
        {
          "output_type": "stream",
          "name": "stdout",
          "text": [
            "21/21 [==============================] - 0s 975us/step\n"
          ]
        },
        {
          "output_type": "execute_result",
          "data": {
            "text/plain": [
              "0.0"
            ]
          },
          "metadata": {},
          "execution_count": 424
        }
      ],
      "source": [
        "# Obtener las predicciones del modelo\n",
        "y_pred = model.predict(X_test)\n",
        "\n",
        "# Redondear las predicciones a la clase correspondiente\n",
        "y_pred_rounded = np.round(y_pred)\n",
        "\n",
        "# Calcular el recall\n",
        "recall = recall_score(y_test, y_pred_rounded)\n",
        "\n",
        "recall"
      ]
    },
    {
      "cell_type": "code",
      "execution_count": 425,
      "metadata": {
        "id": "jYYoTEu9ZeC2",
        "colab": {
          "base_uri": "https://localhost:8080/"
        },
        "outputId": "68897527-d46f-4c80-969d-6a35969c7fc8"
      },
      "outputs": [
        {
          "output_type": "stream",
          "name": "stdout",
          "text": [
            "21/21 [==============================] - 0s 872us/step\n"
          ]
        },
        {
          "output_type": "execute_result",
          "data": {
            "text/plain": [
              "0.48833592534992226"
            ]
          },
          "metadata": {},
          "execution_count": 425
        }
      ],
      "source": [
        "# Obtener las predicciones del modelo\n",
        "y_pred = model.predict(X_test)\n",
        "\n",
        "# Redondear las predicciones a la clase correspondiente\n",
        "y_pred_rounded = np.round(y_pred)\n",
        "\n",
        "# Calcular la precisión\n",
        "accuracy = accuracy_score(y_test, y_pred_rounded)\n",
        "\n",
        "accuracy"
      ]
    },
    {
      "cell_type": "code",
      "execution_count": 426,
      "metadata": {
        "id": "uBs8AVzmZeAv"
      },
      "outputs": [],
      "source": [
        "# ===== Tercera version de redes neuronales ====="
      ]
    },
    {
      "cell_type": "code",
      "execution_count": 427,
      "metadata": {
        "id": "-YZ5tEp5Zd-0"
      },
      "outputs": [],
      "source": [
        "# Agregamos una regularizacion\n",
        "\n",
        "model = keras.Sequential([\n",
        "    layers.Dense(9,\n",
        "                 input_dim=input_shape,\n",
        "                 activation='relu',\n",
        "                 kernel_regularizer=regularizers.l2(0.01)),\n",
        "    layers.Dense(4,\n",
        "                 activation='relu',\n",
        "                 kernel_regularizer=regularizers.l2(0.01)),\n",
        "    layers.Dense(1,\n",
        "                 activation='sigmoid')\n",
        "])"
      ]
    },
    {
      "cell_type": "code",
      "execution_count": 428,
      "metadata": {
        "id": "Sv6769GFZd8u"
      },
      "outputs": [],
      "source": [
        "# Paso 2: Compilar\n",
        "\n",
        "model.compile(loss = 'bce', optimizer = 'adam')"
      ]
    },
    {
      "cell_type": "code",
      "execution_count": 429,
      "metadata": {
        "id": "BzM6VPNeZd7i",
        "colab": {
          "base_uri": "https://localhost:8080/"
        },
        "outputId": "26e0c21f-d3ff-4f6c-987e-6587bf3fc624"
      },
      "outputs": [
        {
          "output_type": "stream",
          "name": "stdout",
          "text": [
            "Epoch 1/10\n",
            "61/61 [==============================] - 1s 4ms/step - loss: 109.0428 - val_loss: 77.0326\n",
            "Epoch 2/10\n",
            "61/61 [==============================] - 0s 2ms/step - loss: 50.9867 - val_loss: 34.1586\n",
            "Epoch 3/10\n",
            "61/61 [==============================] - 0s 2ms/step - loss: 19.0871 - val_loss: 6.6066\n",
            "Epoch 4/10\n",
            "61/61 [==============================] - 0s 2ms/step - loss: 1.5429 - val_loss: 0.7806\n",
            "Epoch 5/10\n",
            "61/61 [==============================] - 0s 2ms/step - loss: 0.7819 - val_loss: 0.7711\n",
            "Epoch 6/10\n",
            "61/61 [==============================] - 0s 2ms/step - loss: 0.7731 - val_loss: 0.7637\n",
            "Epoch 7/10\n",
            "61/61 [==============================] - 0s 2ms/step - loss: 0.7661 - val_loss: 0.7578\n",
            "Epoch 8/10\n",
            "61/61 [==============================] - 0s 2ms/step - loss: 0.7605 - val_loss: 0.7532\n",
            "Epoch 9/10\n",
            "61/61 [==============================] - 0s 2ms/step - loss: 0.7559 - val_loss: 0.7495\n",
            "Epoch 10/10\n",
            "61/61 [==============================] - 0s 2ms/step - loss: 0.7522 - val_loss: 0.7465\n"
          ]
        }
      ],
      "source": [
        "# Paso 3: Ajustar el modelo\n",
        "\n",
        "history = model.fit(X_train, y_train,\n",
        "                    validation_data = (X_test, y_test),\n",
        "                    epochs=10)"
      ]
    },
    {
      "cell_type": "code",
      "execution_count": 430,
      "metadata": {
        "id": "ifIYBpSgZd5m",
        "colab": {
          "base_uri": "https://localhost:8080/",
          "height": 430
        },
        "outputId": "2d271136-a099-446c-89e0-9a3265ade66a"
      },
      "outputs": [
        {
          "output_type": "display_data",
          "data": {
            "text/plain": [
              "<Figure size 640x480 with 1 Axes>"
            ],
            "image/png": "[encoded data removed]"
          },
          "metadata": {}
        }
      ],
      "source": [
        "# Visualizamos el resultado\n",
        "\n",
        "plt.plot(history.history['loss'], label='Train loss')\n",
        "plt.plot(history.history['val_loss'], label='Test Loss')\n",
        "plt.legend();"
      ]
    },
    {
      "cell_type": "code",
      "execution_count": 431,
      "metadata": {
        "id": "_6TjU0-IZd3n",
        "colab": {
          "base_uri": "https://localhost:8080/"
        },
        "outputId": "5749ee8e-1232-430d-cb14-bb8755bebf54"
      },
      "outputs": [
        {
          "output_type": "stream",
          "name": "stdout",
          "text": [
            "21/21 [==============================] - 0s 1ms/step - loss: 0.7465\n"
          ]
        },
        {
          "output_type": "execute_result",
          "data": {
            "text/plain": [
              "0.7464838027954102"
            ]
          },
          "metadata": {},
          "execution_count": 431
        }
      ],
      "source": [
        "loss = model.evaluate(X_test, y_test)\n",
        "loss"
      ]
    },
    {
      "cell_type": "code",
      "execution_count": 432,
      "metadata": {
        "id": "Ex6lO-FtZd1k",
        "colab": {
          "base_uri": "https://localhost:8080/"
        },
        "outputId": "e9843cb8-6286-4a15-f36a-2284c4769804"
      },
      "outputs": [
        {
          "output_type": "stream",
          "name": "stdout",
          "text": [
            "21/21 [==============================] - 0s 875us/step\n"
          ]
        },
        {
          "output_type": "execute_result",
          "data": {
            "text/plain": [
              "1.0"
            ]
          },
          "metadata": {},
          "execution_count": 432
        }
      ],
      "source": [
        "# Obtener las predicciones del modelo\n",
        "y_pred = model.predict(X_test)\n",
        "\n",
        "# Redondear las predicciones a la clase correspondiente\n",
        "y_pred_rounded = np.round(y_pred)\n",
        "\n",
        "# Calcular el recall\n",
        "recall = recall_score(y_test, y_pred_rounded)\n",
        "\n",
        "recall"
      ]
    },
    {
      "cell_type": "code",
      "execution_count": 433,
      "metadata": {
        "id": "lWINZUSVpsQP",
        "colab": {
          "base_uri": "https://localhost:8080/"
        },
        "outputId": "eefa08f2-7af4-492d-f81e-854f2bfe7415"
      },
      "outputs": [
        {
          "output_type": "stream",
          "name": "stdout",
          "text": [
            "21/21 [==============================] - 0s 922us/step\n"
          ]
        },
        {
          "output_type": "execute_result",
          "data": {
            "text/plain": [
              "0.5116640746500778"
            ]
          },
          "metadata": {},
          "execution_count": 433
        }
      ],
      "source": [
        "# Obtener las predicciones del modelo\n",
        "y_pred = model.predict(X_test)\n",
        "\n",
        "# Redondear las predicciones a la clase correspondiente\n",
        "y_pred_rounded = np.round(y_pred)\n",
        "\n",
        "# Calcular la precisión\n",
        "accuracy = accuracy_score(y_test, y_pred_rounded)\n",
        "\n",
        "accuracy"
      ]
    }
  ],
  "metadata": {
    "colab": {
      "provenance": [],
      "authorship_tag": "ABX9TyPSuRIvaqoQOQbGXo47uy9R",
      "include_colab_link": true
    },
    "kernelspec": {
      "display_name": "Python 3",
      "name": "python3"
    },
    "language_info": {
      "name": "python"
    }
  },
  "nbformat": 4,
  "nbformat_minor": 0
}