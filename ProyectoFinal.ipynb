{
  "cells": [
    {
      "cell_type": "code",
      "execution_count": null,
      "metadata": {
        "id": "ITMErI11TME5"
      },
      "outputs": [],
      "source": [
        "# ------------------------------- PROYECTO FINAL: TEMA: SUICIDIOS ------------------------------- #"
      ]
    },
    {
      "cell_type": "code",
      "execution_count": null,
      "metadata": {
        "id": "sNvTl1b0iHWW"
      },
      "outputs": [],
      "source": [
        "# Primero, cargaremos todas las librerias necesarias para trabajar en nuestro proyecto final. Entiendo que\n",
        "# puedo estar cargando mas de lo necesario, pero en estas circunstancias es mejor que sobre a que falte."
      ]
    },
    {
      "cell_type": "code",
      "execution_count": null,
      "metadata": {
        "id": "HoedRGPpiWs6"
      },
      "outputs": [],
      "source": [
        "# Importar las librerias más que necesarias:\n",
        "\n",
        "import numpy as np\n",
        "import pandas as pd\n",
        "import matplotlib.pyplot as plt\n",
        "import seaborn as sns\n",
        "from sklearn.model_selection import train_test_split\n",
        "from sklearn.preprocessing import StandardScaler\n",
        "from sklearn.pipeline import make_pipeline\n",
        "from sklearn.linear_model import LinearRegression\n",
        "from sklearn.linear_model import LogisticRegression\n",
        "from sklearn.neighbors import KNeighborsClassifier\n",
        "from sklearn.ensemble import RandomForestClassifier\n",
        "from sklearn.metrics import accuracy_score, precision_score, recall_score, classification_report, ConfusionMatrixDisplay\n",
        "from sklearn.compose import make_column_selector, make_column_transformer\n",
        "from sklearn.preprocessing import LabelEncoder\n",
        "from sklearn.preprocessing import OneHotEncoder\n",
        "from sklearn.impute import SimpleImputer\n",
        "from sklearn.metrics import mean_squared_error\n",
        "from sklearn.preprocessing import LabelEncoder, StandardScaler\n",
        "from sklearn.decomposition import PCA\n",
        "from sklearn.cluster import KMeans\n",
        "from sklearn.metrics import silhouette_score\n",
        "from tensorflow.keras.models import Sequential\n",
        "from tensorflow.keras.layers import Dense\n",
        "from sklearn.compose import ColumnTransformer\n",
        "from tensorflow import keras\n",
        "from tensorflow.keras import layers\n",
        "from tensorflow.keras import regularizers\n",
        "from sklearn.metrics import recall_score\n",
        "from sklearn.metrics import r2_score\n",
        "from sklearn.metrics import mean_absolute_error\n",
        "from sklearn.tree import DecisionTreeClassifier\n",
        "from sklearn.ensemble import RandomForestRegressor"
      ]
    },
    {
      "cell_type": "code",
      "execution_count": null,
      "metadata": {
        "id": "pzTWF4d2igSq"
      },
      "outputs": [],
      "source": [
        "# A continuacion cargaremos las bases de datos. En esta primera instancia, cargaré mas de una porque\n",
        "# quiero primero explorar los datos antes de tomar la decision sobre cuál trabajar."
      ]
    },
    {
      "cell_type": "code",
      "execution_count": null,
      "metadata": {
        "id": "pIbtXFYhjGO1"
      },
      "outputs": [],
      "source": [
        "# ===================== Primera base de datos: Suicidios en China ===================== #"
      ]
    },
    {
      "cell_type": "code",
      "execution_count": null,
      "metadata": {
        "id": "AArp2EMviw6x"
      },
      "outputs": [],
      "source": [
        "df_China = pd.read_csv(\"/content/SuicideChina.csv\")"
      ]
    },
    {
      "cell_type": "code",
      "execution_count": null,
      "metadata": {
        "id": "Pyz3n1FijPVa",
        "colab": {
          "base_uri": "https://localhost:8080/",
          "height": 206
        },
        "outputId": "b62dc101-26f1-4cc6-f3b3-2477a88c804c"
      },
      "outputs": [
        {
          "output_type": "execute_result",
          "data": {
            "text/plain": [
              "   Unnamed: 0  Person_ID Hospitalised Died Urban  Year  Month     Sex  Age  \\\n",
              "0           1          1          yes   no    no  2010     12  female   39   \n",
              "1           2          2           no  yes    no  2009      3    male   83   \n",
              "2           3          3           no  yes    no  2010      2    male   60   \n",
              "3           4          4           no  yes    no  2011      1    male   73   \n",
              "4           5          5          yes   no    no  2009      8    male   51   \n",
              "\n",
              "   Education Occupation        method  \n",
              "0  Secondary  household  Other poison  \n",
              "1    primary    farming       Hanging  \n",
              "2    primary    farming       Hanging  \n",
              "3    primary    farming       Hanging  \n",
              "4  Secondary    farming     Pesticide  "
            ],
            "text/html": [
              "\n",
              "  <div id=\"df-179a8ca9-1565-4706-8bee-17d8523edcfc\">\n",
              "    <div class=\"colab-df-container\">\n",
              "      <div>\n",
              "<style scoped>\n",
              "    .dataframe tbody tr th:only-of-type {\n",
              "        vertical-align: middle;\n",
              "    }\n",
              "\n",
              "    .dataframe tbody tr th {\n",
              "        vertical-align: top;\n",
              "    }\n",
              "\n",
              "    .dataframe thead th {\n",
              "        text-align: right;\n",
              "    }\n",
              "</style>\n",
              "<table border=\"1\" class=\"dataframe\">\n",
              "  <thead>\n",
              "    <tr style=\"text-align: right;\">\n",
              "      <th></th>\n",
              "      <th>Unnamed: 0</th>\n",
              "      <th>Person_ID</th>\n",
              "      <th>Hospitalised</th>\n",
              "      <th>Died</th>\n",
              "      <th>Urban</th>\n",
              "      <th>Year</th>\n",
              "      <th>Month</th>\n",
              "      <th>Sex</th>\n",
              "      <th>Age</th>\n",
              "      <th>Education</th>\n",
              "      <th>Occupation</th>\n",
              "      <th>method</th>\n",
              "    </tr>\n",
              "  </thead>\n",
              "  <tbody>\n",
              "    <tr>\n",
              "      <th>0</th>\n",
              "      <td>1</td>\n",
              "      <td>1</td>\n",
              "      <td>yes</td>\n",
              "      <td>no</td>\n",
              "      <td>no</td>\n",
              "      <td>2010</td>\n",
              "      <td>12</td>\n",
              "      <td>female</td>\n",
              "      <td>39</td>\n",
              "      <td>Secondary</td>\n",
              "      <td>household</td>\n",
              "      <td>Other poison</td>\n",
              "    </tr>\n",
              "    <tr>\n",
              "      <th>1</th>\n",
              "      <td>2</td>\n",
              "      <td>2</td>\n",
              "      <td>no</td>\n",
              "      <td>yes</td>\n",
              "      <td>no</td>\n",
              "      <td>2009</td>\n",
              "      <td>3</td>\n",
              "      <td>male</td>\n",
              "      <td>83</td>\n",
              "      <td>primary</td>\n",
              "      <td>farming</td>\n",
              "      <td>Hanging</td>\n",
              "    </tr>\n",
              "    <tr>\n",
              "      <th>2</th>\n",
              "      <td>3</td>\n",
              "      <td>3</td>\n",
              "      <td>no</td>\n",
              "      <td>yes</td>\n",
              "      <td>no</td>\n",
              "      <td>2010</td>\n",
              "      <td>2</td>\n",
              "      <td>male</td>\n",
              "      <td>60</td>\n",
              "      <td>primary</td>\n",
              "      <td>farming</td>\n",
              "      <td>Hanging</td>\n",
              "    </tr>\n",
              "    <tr>\n",
              "      <th>3</th>\n",
              "      <td>4</td>\n",
              "      <td>4</td>\n",
              "      <td>no</td>\n",
              "      <td>yes</td>\n",
              "      <td>no</td>\n",
              "      <td>2011</td>\n",
              "      <td>1</td>\n",
              "      <td>male</td>\n",
              "      <td>73</td>\n",
              "      <td>primary</td>\n",
              "      <td>farming</td>\n",
              "      <td>Hanging</td>\n",
              "    </tr>\n",
              "    <tr>\n",
              "      <th>4</th>\n",
              "      <td>5</td>\n",
              "      <td>5</td>\n",
              "      <td>yes</td>\n",
              "      <td>no</td>\n",
              "      <td>no</td>\n",
              "      <td>2009</td>\n",
              "      <td>8</td>\n",
              "      <td>male</td>\n",
              "      <td>51</td>\n",
              "      <td>Secondary</td>\n",
              "      <td>farming</td>\n",
              "      <td>Pesticide</td>\n",
              "    </tr>\n",
              "  </tbody>\n",
              "</table>\n",
              "</div>\n",
              "      <button class=\"colab-df-convert\" onclick=\"convertToInteractive('df-179a8ca9-1565-4706-8bee-17d8523edcfc')\"\n",
              "              title=\"Convert this dataframe to an interactive table.\"\n",
              "              style=\"display:none;\">\n",
              "        \n",
              "  <svg xmlns=\"http://www.w3.org/2000/svg\" height=\"24px\"viewBox=\"0 0 24 24\"\n",
              "       width=\"24px\">\n",
              "    <path d=\"M0 0h24v24H0V0z\" fill=\"none\"/>\n",
              "    <path d=\"M18.56 5.44l.94 2.06.94-2.06 2.06-.94-2.06-.94-.94-2.06-.94 2.06-2.06.94zm-11 1L8.5 8.5l.94-2.06 2.06-.94-2.06-.94L8.5 2.5l-.94 2.06-2.06.94zm10 10l.94 2.06.94-2.06 2.06-.94-2.06-.94-.94-2.06-.94 2.06-2.06.94z\"/><path d=\"M17.41 7.96l-1.37-1.37c-.4-.4-.92-.59-1.43-.59-.52 0-1.04.2-1.43.59L10.3 9.45l-7.72 7.72c-.78.78-.78 2.05 0 2.83L4 21.41c.39.39.9.59 1.41.59.51 0 1.02-.2 1.41-.59l7.78-7.78 2.81-2.81c.8-.78.8-2.07 0-2.86zM5.41 20L4 18.59l7.72-7.72 1.47 1.35L5.41 20z\"/>\n",
              "  </svg>\n",
              "      </button>\n",
              "      \n",
              "  <style>\n",
              "    .colab-df-container {\n",
              "      display:flex;\n",
              "      flex-wrap:wrap;\n",
              "      gap: 12px;\n",
              "    }\n",
              "\n",
              "    .colab-df-convert {\n",
              "      background-color: #E8F0FE;\n",
              "      border: none;\n",
              "      border-radius: 50%;\n",
              "      cursor: pointer;\n",
              "      display: none;\n",
              "      fill: #1967D2;\n",
              "      height: 32px;\n",
              "      padding: 0 0 0 0;\n",
              "      width: 32px;\n",
              "    }\n",
              "\n",
              "    .colab-df-convert:hover {\n",
              "      background-color: #E2EBFA;\n",
              "      box-shadow: 0px 1px 2px rgba(60, 64, 67, 0.3), 0px 1px 3px 1px rgba(60, 64, 67, 0.15);\n",
              "      fill: #174EA6;\n",
              "    }\n",
              "\n",
              "    [theme=dark] .colab-df-convert {\n",
              "      background-color: #3B4455;\n",
              "      fill: #D2E3FC;\n",
              "    }\n",
              "\n",
              "    [theme=dark] .colab-df-convert:hover {\n",
              "      background-color: #434B5C;\n",
              "      box-shadow: 0px 1px 3px 1px rgba(0, 0, 0, 0.15);\n",
              "      filter: drop-shadow(0px 1px 2px rgba(0, 0, 0, 0.3));\n",
              "      fill: #FFFFFF;\n",
              "    }\n",
              "  </style>\n",
              "\n",
              "      <script>\n",
              "        const buttonEl =\n",
              "          document.querySelector('#df-179a8ca9-1565-4706-8bee-17d8523edcfc button.colab-df-convert');\n",
              "        buttonEl.style.display =\n",
              "          google.colab.kernel.accessAllowed ? 'block' : 'none';\n",
              "\n",
              "        async function convertToInteractive(key) {\n",
              "          const element = document.querySelector('#df-179a8ca9-1565-4706-8bee-17d8523edcfc');\n",
              "          const dataTable =\n",
              "            await google.colab.kernel.invokeFunction('convertToInteractive',\n",
              "                                                     [key], {});\n",
              "          if (!dataTable) return;\n",
              "\n",
              "          const docLinkHtml = 'Like what you see? Visit the ' +\n",
              "            '<a target=\"_blank\" href=https://colab.research.google.com/notebooks/data_table.ipynb>data table notebook</a>'\n",
              "            + ' to learn more about interactive tables.';\n",
              "          element.innerHTML = '';\n",
              "          dataTable['output_type'] = 'display_data';\n",
              "          await google.colab.output.renderOutput(dataTable, element);\n",
              "          const docLink = document.createElement('div');\n",
              "          docLink.innerHTML = docLinkHtml;\n",
              "          element.appendChild(docLink);\n",
              "        }\n",
              "      </script>\n",
              "    </div>\n",
              "  </div>\n",
              "  "
            ]
          },
          "metadata": {},
          "execution_count": 7
        }
      ],
      "source": [
        "df_China.head()"
      ]
    },
    {
      "cell_type": "code",
      "execution_count": null,
      "metadata": {
        "id": "O7goTtg4jFeK",
        "colab": {
          "base_uri": "https://localhost:8080/"
        },
        "outputId": "dcec974e-8895-4c4a-e758-bd3e57fbb821"
      },
      "outputs": [
        {
          "output_type": "execute_result",
          "data": {
            "text/plain": [
              "(2571, 12)"
            ]
          },
          "metadata": {},
          "execution_count": 8
        }
      ],
      "source": [
        "df_China.shape"
      ]
    },
    {
      "cell_type": "code",
      "execution_count": null,
      "metadata": {
        "id": "UKGlqz42jWOi",
        "colab": {
          "base_uri": "https://localhost:8080/"
        },
        "outputId": "44920aa5-30f2-4315-cc7a-9561471fcaca"
      },
      "outputs": [
        {
          "output_type": "execute_result",
          "data": {
            "text/plain": [
              "0"
            ]
          },
          "metadata": {},
          "execution_count": 9
        }
      ],
      "source": [
        "df_China.duplicated().sum()"
      ]
    },
    {
      "cell_type": "code",
      "execution_count": null,
      "metadata": {
        "id": "c3ptdU3JjaG-",
        "colab": {
          "base_uri": "https://localhost:8080/"
        },
        "outputId": "a1a5f282-eb08-42f8-de0c-980dfeda7db5"
      },
      "outputs": [
        {
          "output_type": "execute_result",
          "data": {
            "text/plain": [
              "Unnamed: 0      0\n",
              "Person_ID       0\n",
              "Hospitalised    0\n",
              "Died            0\n",
              "Urban           0\n",
              "Year            0\n",
              "Month           0\n",
              "Sex             0\n",
              "Age             0\n",
              "Education       0\n",
              "Occupation      0\n",
              "method          0\n",
              "dtype: int64"
            ]
          },
          "metadata": {},
          "execution_count": 10
        }
      ],
      "source": [
        "df_China.isna().sum()"
      ]
    },
    {
      "cell_type": "code",
      "execution_count": null,
      "metadata": {
        "id": "7P2xVQKfjhPP",
        "colab": {
          "base_uri": "https://localhost:8080/"
        },
        "outputId": "fef532f5-1c55-4eef-af94-cc3620b331cc"
      },
      "outputs": [
        {
          "output_type": "stream",
          "name": "stdout",
          "text": [
            "<class 'pandas.core.frame.DataFrame'>\n",
            "RangeIndex: 2571 entries, 0 to 2570\n",
            "Data columns (total 12 columns):\n",
            " #   Column        Non-Null Count  Dtype \n",
            "---  ------        --------------  ----- \n",
            " 0   Unnamed: 0    2571 non-null   int64 \n",
            " 1   Person_ID     2571 non-null   int64 \n",
            " 2   Hospitalised  2571 non-null   object\n",
            " 3   Died          2571 non-null   object\n",
            " 4   Urban         2571 non-null   object\n",
            " 5   Year          2571 non-null   int64 \n",
            " 6   Month         2571 non-null   int64 \n",
            " 7   Sex           2571 non-null   object\n",
            " 8   Age           2571 non-null   int64 \n",
            " 9   Education     2571 non-null   object\n",
            " 10  Occupation    2571 non-null   object\n",
            " 11  method        2571 non-null   object\n",
            "dtypes: int64(5), object(7)\n",
            "memory usage: 241.2+ KB\n"
          ]
        }
      ],
      "source": [
        "df_China.info()"
      ]
    },
    {
      "cell_type": "code",
      "execution_count": null,
      "metadata": {
        "id": "bYnK5z_kjmVj",
        "colab": {
          "base_uri": "https://localhost:8080/"
        },
        "outputId": "bf13b0b5-d829-469f-87bb-a6a05d1f21f3"
      },
      "outputs": [
        {
          "output_type": "execute_result",
          "data": {
            "text/plain": [
              "Pesticide        1768\n",
              "Hanging           431\n",
              "Other poison      146\n",
              "Poison unspec     107\n",
              "unspecified        48\n",
              "Cutting            29\n",
              "Drowning           26\n",
              "Jumping            15\n",
              "Others              1\n",
              "Name: method, dtype: int64"
            ]
          },
          "metadata": {},
          "execution_count": 12
        }
      ],
      "source": [
        "df_China[\"method\"].value_counts()"
      ]
    },
    {
      "cell_type": "code",
      "execution_count": null,
      "metadata": {
        "id": "8DtdzVVbjwnG",
        "colab": {
          "base_uri": "https://localhost:8080/"
        },
        "outputId": "6991d714-d771-461e-be9a-bda1857570c1"
      },
      "outputs": [
        {
          "output_type": "execute_result",
          "data": {
            "text/plain": [
              "no     1315\n",
              "yes    1256\n",
              "Name: Died, dtype: int64"
            ]
          },
          "metadata": {},
          "execution_count": 13
        }
      ],
      "source": [
        "df_China[\"Died\"].value_counts()"
      ]
    },
    {
      "cell_type": "code",
      "execution_count": null,
      "metadata": {
        "id": "8jOk0Rc1j6Iv",
        "colab": {
          "base_uri": "https://localhost:8080/"
        },
        "outputId": "3f1b4348-9f73-492b-a666-256df68c5711"
      },
      "outputs": [
        {
          "output_type": "execute_result",
          "data": {
            "text/plain": [
              "2010    956\n",
              "2011    866\n",
              "2009    749\n",
              "Name: Year, dtype: int64"
            ]
          },
          "metadata": {},
          "execution_count": 14
        }
      ],
      "source": [
        "df_China[\"Year\"].value_counts()"
      ]
    },
    {
      "cell_type": "code",
      "execution_count": null,
      "metadata": {
        "id": "9nlD0fT6j70T",
        "colab": {
          "base_uri": "https://localhost:8080/"
        },
        "outputId": "0ef14d46-23d7-424d-c16c-cc51c73acdc5"
      },
      "outputs": [
        {
          "output_type": "execute_result",
          "data": {
            "text/plain": [
              "female    1328\n",
              "male      1243\n",
              "Name: Sex, dtype: int64"
            ]
          },
          "metadata": {},
          "execution_count": 15
        }
      ],
      "source": [
        "df_China[\"Sex\"].value_counts()"
      ]
    },
    {
      "cell_type": "code",
      "execution_count": null,
      "metadata": {
        "id": "4O95THDfj9CK",
        "colab": {
          "base_uri": "https://localhost:8080/"
        },
        "outputId": "24dac91f-1fd5-498d-aebf-54ff3b661b43"
      },
      "outputs": [
        {
          "output_type": "execute_result",
          "data": {
            "text/plain": [
              "count    2571.000000\n",
              "mean       52.630883\n",
              "std        19.783878\n",
              "min        12.000000\n",
              "25%        37.000000\n",
              "50%        53.000000\n",
              "75%        69.000000\n",
              "max       100.000000\n",
              "Name: Age, dtype: float64"
            ]
          },
          "metadata": {},
          "execution_count": 16
        }
      ],
      "source": [
        "df_China[\"Age\"].describe()"
      ]
    },
    {
      "cell_type": "code",
      "execution_count": null,
      "metadata": {
        "id": "3IC6ualdkWhM"
      },
      "outputs": [],
      "source": [
        "# Me resulta bastante interesante este dataset."
      ]
    },
    {
      "cell_type": "code",
      "execution_count": null,
      "metadata": {
        "id": "UM-RRFThkZrh"
      },
      "outputs": [],
      "source": [
        "# ===================== Segunda base de datos: Suicidios Rate ===================== #"
      ]
    },
    {
      "cell_type": "code",
      "execution_count": null,
      "metadata": {
        "id": "vImswiM_ki1d"
      },
      "outputs": [],
      "source": [
        "df_rate = pd.read_csv(\"/content/Suicide_Rate.csv\")"
      ]
    },
    {
      "cell_type": "code",
      "execution_count": null,
      "metadata": {
        "id": "UI06GDpFknSG",
        "colab": {
          "base_uri": "https://localhost:8080/",
          "height": 206
        },
        "outputId": "492f3a47-1395-4ab9-a09c-709477d23d1e"
      },
      "outputs": [
        {
          "output_type": "execute_result",
          "data": {
            "text/plain": [
              "  ParentLocation Location  Period         Sex  FactValueNumeric  \\\n",
              "0         Africa   Angola    2019  Both sexes             12.55   \n",
              "1         Africa   Angola    2019        Male             21.71   \n",
              "2         Africa   Angola    2019      Female              4.68   \n",
              "3         Africa   Angola    2018  Both sexes             12.35   \n",
              "4         Africa   Angola    2018        Male             21.28   \n",
              "\n",
              "   FactValueNumericLow  FactValueNumericHigh  \n",
              "0                 7.70                 19.43  \n",
              "1                13.48                 33.23  \n",
              "2                 2.74                  7.49  \n",
              "3                 7.58                 19.05  \n",
              "4                13.21                 32.49  "
            ],
            "text/html": [
              "\n",
              "  <div id=\"df-e0594a0a-6001-428a-abe2-6899e398b278\">\n",
              "    <div class=\"colab-df-container\">\n",
              "      <div>\n",
              "<style scoped>\n",
              "    .dataframe tbody tr th:only-of-type {\n",
              "        vertical-align: middle;\n",
              "    }\n",
              "\n",
              "    .dataframe tbody tr th {\n",
              "        vertical-align: top;\n",
              "    }\n",
              "\n",
              "    .dataframe thead th {\n",
              "        text-align: right;\n",
              "    }\n",
              "</style>\n",
              "<table border=\"1\" class=\"dataframe\">\n",
              "  <thead>\n",
              "    <tr style=\"text-align: right;\">\n",
              "      <th></th>\n",
              "      <th>ParentLocation</th>\n",
              "      <th>Location</th>\n",
              "      <th>Period</th>\n",
              "      <th>Sex</th>\n",
              "      <th>FactValueNumeric</th>\n",
              "      <th>FactValueNumericLow</th>\n",
              "      <th>FactValueNumericHigh</th>\n",
              "    </tr>\n",
              "  </thead>\n",
              "  <tbody>\n",
              "    <tr>\n",
              "      <th>0</th>\n",
              "      <td>Africa</td>\n",
              "      <td>Angola</td>\n",
              "      <td>2019</td>\n",
              "      <td>Both sexes</td>\n",
              "      <td>12.55</td>\n",
              "      <td>7.70</td>\n",
              "      <td>19.43</td>\n",
              "    </tr>\n",
              "    <tr>\n",
              "      <th>1</th>\n",
              "      <td>Africa</td>\n",
              "      <td>Angola</td>\n",
              "      <td>2019</td>\n",
              "      <td>Male</td>\n",
              "      <td>21.71</td>\n",
              "      <td>13.48</td>\n",
              "      <td>33.23</td>\n",
              "    </tr>\n",
              "    <tr>\n",
              "      <th>2</th>\n",
              "      <td>Africa</td>\n",
              "      <td>Angola</td>\n",
              "      <td>2019</td>\n",
              "      <td>Female</td>\n",
              "      <td>4.68</td>\n",
              "      <td>2.74</td>\n",
              "      <td>7.49</td>\n",
              "    </tr>\n",
              "    <tr>\n",
              "      <th>3</th>\n",
              "      <td>Africa</td>\n",
              "      <td>Angola</td>\n",
              "      <td>2018</td>\n",
              "      <td>Both sexes</td>\n",
              "      <td>12.35</td>\n",
              "      <td>7.58</td>\n",
              "      <td>19.05</td>\n",
              "    </tr>\n",
              "    <tr>\n",
              "      <th>4</th>\n",
              "      <td>Africa</td>\n",
              "      <td>Angola</td>\n",
              "      <td>2018</td>\n",
              "      <td>Male</td>\n",
              "      <td>21.28</td>\n",
              "      <td>13.21</td>\n",
              "      <td>32.49</td>\n",
              "    </tr>\n",
              "  </tbody>\n",
              "</table>\n",
              "</div>\n",
              "      <button class=\"colab-df-convert\" onclick=\"convertToInteractive('df-e0594a0a-6001-428a-abe2-6899e398b278')\"\n",
              "              title=\"Convert this dataframe to an interactive table.\"\n",
              "              style=\"display:none;\">\n",
              "        \n",
              "  <svg xmlns=\"http://www.w3.org/2000/svg\" height=\"24px\"viewBox=\"0 0 24 24\"\n",
              "       width=\"24px\">\n",
              "    <path d=\"M0 0h24v24H0V0z\" fill=\"none\"/>\n",
              "    <path d=\"M18.56 5.44l.94 2.06.94-2.06 2.06-.94-2.06-.94-.94-2.06-.94 2.06-2.06.94zm-11 1L8.5 8.5l.94-2.06 2.06-.94-2.06-.94L8.5 2.5l-.94 2.06-2.06.94zm10 10l.94 2.06.94-2.06 2.06-.94-2.06-.94-.94-2.06-.94 2.06-2.06.94z\"/><path d=\"M17.41 7.96l-1.37-1.37c-.4-.4-.92-.59-1.43-.59-.52 0-1.04.2-1.43.59L10.3 9.45l-7.72 7.72c-.78.78-.78 2.05 0 2.83L4 21.41c.39.39.9.59 1.41.59.51 0 1.02-.2 1.41-.59l7.78-7.78 2.81-2.81c.8-.78.8-2.07 0-2.86zM5.41 20L4 18.59l7.72-7.72 1.47 1.35L5.41 20z\"/>\n",
              "  </svg>\n",
              "      </button>\n",
              "      \n",
              "  <style>\n",
              "    .colab-df-container {\n",
              "      display:flex;\n",
              "      flex-wrap:wrap;\n",
              "      gap: 12px;\n",
              "    }\n",
              "\n",
              "    .colab-df-convert {\n",
              "      background-color: #E8F0FE;\n",
              "      border: none;\n",
              "      border-radius: 50%;\n",
              "      cursor: pointer;\n",
              "      display: none;\n",
              "      fill: #1967D2;\n",
              "      height: 32px;\n",
              "      padding: 0 0 0 0;\n",
              "      width: 32px;\n",
              "    }\n",
              "\n",
              "    .colab-df-convert:hover {\n",
              "      background-color: #E2EBFA;\n",
              "      box-shadow: 0px 1px 2px rgba(60, 64, 67, 0.3), 0px 1px 3px 1px rgba(60, 64, 67, 0.15);\n",
              "      fill: #174EA6;\n",
              "    }\n",
              "\n",
              "    [theme=dark] .colab-df-convert {\n",
              "      background-color: #3B4455;\n",
              "      fill: #D2E3FC;\n",
              "    }\n",
              "\n",
              "    [theme=dark] .colab-df-convert:hover {\n",
              "      background-color: #434B5C;\n",
              "      box-shadow: 0px 1px 3px 1px rgba(0, 0, 0, 0.15);\n",
              "      filter: drop-shadow(0px 1px 2px rgba(0, 0, 0, 0.3));\n",
              "      fill: #FFFFFF;\n",
              "    }\n",
              "  </style>\n",
              "\n",
              "      <script>\n",
              "        const buttonEl =\n",
              "          document.querySelector('#df-e0594a0a-6001-428a-abe2-6899e398b278 button.colab-df-convert');\n",
              "        buttonEl.style.display =\n",
              "          google.colab.kernel.accessAllowed ? 'block' : 'none';\n",
              "\n",
              "        async function convertToInteractive(key) {\n",
              "          const element = document.querySelector('#df-e0594a0a-6001-428a-abe2-6899e398b278');\n",
              "          const dataTable =\n",
              "            await google.colab.kernel.invokeFunction('convertToInteractive',\n",
              "                                                     [key], {});\n",
              "          if (!dataTable) return;\n",
              "\n",
              "          const docLinkHtml = 'Like what you see? Visit the ' +\n",
              "            '<a target=\"_blank\" href=https://colab.research.google.com/notebooks/data_table.ipynb>data table notebook</a>'\n",
              "            + ' to learn more about interactive tables.';\n",
              "          element.innerHTML = '';\n",
              "          dataTable['output_type'] = 'display_data';\n",
              "          await google.colab.output.renderOutput(dataTable, element);\n",
              "          const docLink = document.createElement('div');\n",
              "          docLink.innerHTML = docLinkHtml;\n",
              "          element.appendChild(docLink);\n",
              "        }\n",
              "      </script>\n",
              "    </div>\n",
              "  </div>\n",
              "  "
            ]
          },
          "metadata": {},
          "execution_count": 20
        }
      ],
      "source": [
        "df_rate.head()"
      ]
    },
    {
      "cell_type": "code",
      "execution_count": null,
      "metadata": {
        "id": "SjPZvN-Dkuww",
        "colab": {
          "base_uri": "https://localhost:8080/"
        },
        "outputId": "4602fcd1-aaf6-4f5a-90dd-5d6c6b3d43db"
      },
      "outputs": [
        {
          "output_type": "execute_result",
          "data": {
            "text/plain": [
              "Europe                   3000\n",
              "Africa                   2820\n",
              "Americas                 1980\n",
              "Eastern Mediterranean    1260\n",
              "Western Pacific          1260\n",
              "South-East Asia           660\n",
              "Name: ParentLocation, dtype: int64"
            ]
          },
          "metadata": {},
          "execution_count": 21
        }
      ],
      "source": [
        "df_rate[\"ParentLocation\"].value_counts()"
      ]
    },
    {
      "cell_type": "code",
      "execution_count": null,
      "metadata": {
        "id": "RrMkgJVilos1",
        "colab": {
          "base_uri": "https://localhost:8080/",
          "height": 300
        },
        "outputId": "ec02828f-cf44-434c-f913-7eb902e71257"
      },
      "outputs": [
        {
          "output_type": "execute_result",
          "data": {
            "text/plain": [
              "            Period  FactValueNumeric  FactValueNumericLow  \\\n",
              "count    60.000000         60.000000            60.000000   \n",
              "mean   2009.500000         10.030833             7.924500   \n",
              "std       5.814943          3.017365             2.140704   \n",
              "min    2000.000000          4.800000             3.760000   \n",
              "25%    2004.750000          7.575000             6.290000   \n",
              "50%    2009.500000          9.825000             8.090000   \n",
              "75%    2014.250000         12.530000             9.900000   \n",
              "max    2019.000000         15.480000            12.640000   \n",
              "\n",
              "       FactValueNumericHigh  \n",
              "count             60.000000  \n",
              "mean              12.043000  \n",
              "std                3.465703  \n",
              "min                5.940000  \n",
              "25%                9.060000  \n",
              "50%               12.050000  \n",
              "75%               14.892500  \n",
              "max               18.030000  "
            ],
            "text/html": [
              "\n",
              "  <div id=\"df-525b9e02-7f4e-4f34-803c-c85b51a97bdf\">\n",
              "    <div class=\"colab-df-container\">\n",
              "      <div>\n",
              "<style scoped>\n",
              "    .dataframe tbody tr th:only-of-type {\n",
              "        vertical-align: middle;\n",
              "    }\n",
              "\n",
              "    .dataframe tbody tr th {\n",
              "        vertical-align: top;\n",
              "    }\n",
              "\n",
              "    .dataframe thead th {\n",
              "        text-align: right;\n",
              "    }\n",
              "</style>\n",
              "<table border=\"1\" class=\"dataframe\">\n",
              "  <thead>\n",
              "    <tr style=\"text-align: right;\">\n",
              "      <th></th>\n",
              "      <th>Period</th>\n",
              "      <th>FactValueNumeric</th>\n",
              "      <th>FactValueNumericLow</th>\n",
              "      <th>FactValueNumericHigh</th>\n",
              "    </tr>\n",
              "  </thead>\n",
              "  <tbody>\n",
              "    <tr>\n",
              "      <th>count</th>\n",
              "      <td>60.000000</td>\n",
              "      <td>60.000000</td>\n",
              "      <td>60.000000</td>\n",
              "      <td>60.000000</td>\n",
              "    </tr>\n",
              "    <tr>\n",
              "      <th>mean</th>\n",
              "      <td>2009.500000</td>\n",
              "      <td>10.030833</td>\n",
              "      <td>7.924500</td>\n",
              "      <td>12.043000</td>\n",
              "    </tr>\n",
              "    <tr>\n",
              "      <th>std</th>\n",
              "      <td>5.814943</td>\n",
              "      <td>3.017365</td>\n",
              "      <td>2.140704</td>\n",
              "      <td>3.465703</td>\n",
              "    </tr>\n",
              "    <tr>\n",
              "      <th>min</th>\n",
              "      <td>2000.000000</td>\n",
              "      <td>4.800000</td>\n",
              "      <td>3.760000</td>\n",
              "      <td>5.940000</td>\n",
              "    </tr>\n",
              "    <tr>\n",
              "      <th>25%</th>\n",
              "      <td>2004.750000</td>\n",
              "      <td>7.575000</td>\n",
              "      <td>6.290000</td>\n",
              "      <td>9.060000</td>\n",
              "    </tr>\n",
              "    <tr>\n",
              "      <th>50%</th>\n",
              "      <td>2009.500000</td>\n",
              "      <td>9.825000</td>\n",
              "      <td>8.090000</td>\n",
              "      <td>12.050000</td>\n",
              "    </tr>\n",
              "    <tr>\n",
              "      <th>75%</th>\n",
              "      <td>2014.250000</td>\n",
              "      <td>12.530000</td>\n",
              "      <td>9.900000</td>\n",
              "      <td>14.892500</td>\n",
              "    </tr>\n",
              "    <tr>\n",
              "      <th>max</th>\n",
              "      <td>2019.000000</td>\n",
              "      <td>15.480000</td>\n",
              "      <td>12.640000</td>\n",
              "      <td>18.030000</td>\n",
              "    </tr>\n",
              "  </tbody>\n",
              "</table>\n",
              "</div>\n",
              "      <button class=\"colab-df-convert\" onclick=\"convertToInteractive('df-525b9e02-7f4e-4f34-803c-c85b51a97bdf')\"\n",
              "              title=\"Convert this dataframe to an interactive table.\"\n",
              "              style=\"display:none;\">\n",
              "        \n",
              "  <svg xmlns=\"http://www.w3.org/2000/svg\" height=\"24px\"viewBox=\"0 0 24 24\"\n",
              "       width=\"24px\">\n",
              "    <path d=\"M0 0h24v24H0V0z\" fill=\"none\"/>\n",
              "    <path d=\"M18.56 5.44l.94 2.06.94-2.06 2.06-.94-2.06-.94-.94-2.06-.94 2.06-2.06.94zm-11 1L8.5 8.5l.94-2.06 2.06-.94-2.06-.94L8.5 2.5l-.94 2.06-2.06.94zm10 10l.94 2.06.94-2.06 2.06-.94-2.06-.94-.94-2.06-.94 2.06-2.06.94z\"/><path d=\"M17.41 7.96l-1.37-1.37c-.4-.4-.92-.59-1.43-.59-.52 0-1.04.2-1.43.59L10.3 9.45l-7.72 7.72c-.78.78-.78 2.05 0 2.83L4 21.41c.39.39.9.59 1.41.59.51 0 1.02-.2 1.41-.59l7.78-7.78 2.81-2.81c.8-.78.8-2.07 0-2.86zM5.41 20L4 18.59l7.72-7.72 1.47 1.35L5.41 20z\"/>\n",
              "  </svg>\n",
              "      </button>\n",
              "      \n",
              "  <style>\n",
              "    .colab-df-container {\n",
              "      display:flex;\n",
              "      flex-wrap:wrap;\n",
              "      gap: 12px;\n",
              "    }\n",
              "\n",
              "    .colab-df-convert {\n",
              "      background-color: #E8F0FE;\n",
              "      border: none;\n",
              "      border-radius: 50%;\n",
              "      cursor: pointer;\n",
              "      display: none;\n",
              "      fill: #1967D2;\n",
              "      height: 32px;\n",
              "      padding: 0 0 0 0;\n",
              "      width: 32px;\n",
              "    }\n",
              "\n",
              "    .colab-df-convert:hover {\n",
              "      background-color: #E2EBFA;\n",
              "      box-shadow: 0px 1px 2px rgba(60, 64, 67, 0.3), 0px 1px 3px 1px rgba(60, 64, 67, 0.15);\n",
              "      fill: #174EA6;\n",
              "    }\n",
              "\n",
              "    [theme=dark] .colab-df-convert {\n",
              "      background-color: #3B4455;\n",
              "      fill: #D2E3FC;\n",
              "    }\n",
              "\n",
              "    [theme=dark] .colab-df-convert:hover {\n",
              "      background-color: #434B5C;\n",
              "      box-shadow: 0px 1px 3px 1px rgba(0, 0, 0, 0.15);\n",
              "      filter: drop-shadow(0px 1px 2px rgba(0, 0, 0, 0.3));\n",
              "      fill: #FFFFFF;\n",
              "    }\n",
              "  </style>\n",
              "\n",
              "      <script>\n",
              "        const buttonEl =\n",
              "          document.querySelector('#df-525b9e02-7f4e-4f34-803c-c85b51a97bdf button.colab-df-convert');\n",
              "        buttonEl.style.display =\n",
              "          google.colab.kernel.accessAllowed ? 'block' : 'none';\n",
              "\n",
              "        async function convertToInteractive(key) {\n",
              "          const element = document.querySelector('#df-525b9e02-7f4e-4f34-803c-c85b51a97bdf');\n",
              "          const dataTable =\n",
              "            await google.colab.kernel.invokeFunction('convertToInteractive',\n",
              "                                                     [key], {});\n",
              "          if (!dataTable) return;\n",
              "\n",
              "          const docLinkHtml = 'Like what you see? Visit the ' +\n",
              "            '<a target=\"_blank\" href=https://colab.research.google.com/notebooks/data_table.ipynb>data table notebook</a>'\n",
              "            + ' to learn more about interactive tables.';\n",
              "          element.innerHTML = '';\n",
              "          dataTable['output_type'] = 'display_data';\n",
              "          await google.colab.output.renderOutput(dataTable, element);\n",
              "          const docLink = document.createElement('div');\n",
              "          docLink.innerHTML = docLinkHtml;\n",
              "          element.appendChild(docLink);\n",
              "        }\n",
              "      </script>\n",
              "    </div>\n",
              "  </div>\n",
              "  "
            ]
          },
          "metadata": {},
          "execution_count": 22
        }
      ],
      "source": [
        "df_rate.loc[(df_rate['Location'] == \"China\")].describe()"
      ]
    },
    {
      "cell_type": "code",
      "execution_count": null,
      "metadata": {
        "id": "-YulVEubmEx9"
      },
      "outputs": [],
      "source": [
        "# En este codigo que no me gustó tanto tengo 60 datos de China. Pero las demas columnas siento que\n",
        "# no me proporcionan informacion relevante que pudiera añadir al database original."
      ]
    },
    {
      "cell_type": "code",
      "execution_count": null,
      "metadata": {
        "id": "jqPZMJJ4mIBk"
      },
      "outputs": [],
      "source": [
        "# ===================== Segunda base de datos: Master (suicidios) ===================== #"
      ]
    },
    {
      "cell_type": "code",
      "execution_count": null,
      "metadata": {
        "id": "CbSGlPI7mPwk"
      },
      "outputs": [],
      "source": [
        "df_master = pd.read_csv(\"/content/master.csv\")"
      ]
    },
    {
      "cell_type": "code",
      "execution_count": null,
      "metadata": {
        "id": "EdN3OLGumVwr",
        "colab": {
          "base_uri": "https://localhost:8080/",
          "height": 206
        },
        "outputId": "82f6cd5b-248b-43b2-fd54-614b1cfc3d51"
      },
      "outputs": [
        {
          "output_type": "execute_result",
          "data": {
            "text/plain": [
              "   country  year     sex          age  suicides_no  population  \\\n",
              "0  Albania  1987    male  15-24 years           21      312900   \n",
              "1  Albania  1987    male  35-54 years           16      308000   \n",
              "2  Albania  1987  female  15-24 years           14      289700   \n",
              "3  Albania  1987    male    75+ years            1       21800   \n",
              "4  Albania  1987    male  25-34 years            9      274300   \n",
              "\n",
              "   suicides/100k pop country-year  HDI for year  gdp_for_year ($)   \\\n",
              "0               6.71  Albania1987           NaN      2,156,624,900   \n",
              "1               5.19  Albania1987           NaN      2,156,624,900   \n",
              "2               4.83  Albania1987           NaN      2,156,624,900   \n",
              "3               4.59  Albania1987           NaN      2,156,624,900   \n",
              "4               3.28  Albania1987           NaN      2,156,624,900   \n",
              "\n",
              "   gdp_per_capita ($)       generation  \n",
              "0                 796     Generation X  \n",
              "1                 796           Silent  \n",
              "2                 796     Generation X  \n",
              "3                 796  G.I. Generation  \n",
              "4                 796          Boomers  "
            ],
            "text/html": [
              "\n",
              "  <div id=\"df-955b0171-abaa-4ed2-985f-24577d601f20\">\n",
              "    <div class=\"colab-df-container\">\n",
              "      <div>\n",
              "<style scoped>\n",
              "    .dataframe tbody tr th:only-of-type {\n",
              "        vertical-align: middle;\n",
              "    }\n",
              "\n",
              "    .dataframe tbody tr th {\n",
              "        vertical-align: top;\n",
              "    }\n",
              "\n",
              "    .dataframe thead th {\n",
              "        text-align: right;\n",
              "    }\n",
              "</style>\n",
              "<table border=\"1\" class=\"dataframe\">\n",
              "  <thead>\n",
              "    <tr style=\"text-align: right;\">\n",
              "      <th></th>\n",
              "      <th>country</th>\n",
              "      <th>year</th>\n",
              "      <th>sex</th>\n",
              "      <th>age</th>\n",
              "      <th>suicides_no</th>\n",
              "      <th>population</th>\n",
              "      <th>suicides/100k pop</th>\n",
              "      <th>country-year</th>\n",
              "      <th>HDI for year</th>\n",
              "      <th>gdp_for_year ($)</th>\n",
              "      <th>gdp_per_capita ($)</th>\n",
              "      <th>generation</th>\n",
              "    </tr>\n",
              "  </thead>\n",
              "  <tbody>\n",
              "    <tr>\n",
              "      <th>0</th>\n",
              "      <td>Albania</td>\n",
              "      <td>1987</td>\n",
              "      <td>male</td>\n",
              "      <td>15-24 years</td>\n",
              "      <td>21</td>\n",
              "      <td>312900</td>\n",
              "      <td>6.71</td>\n",
              "      <td>Albania1987</td>\n",
              "      <td>NaN</td>\n",
              "      <td>2,156,624,900</td>\n",
              "      <td>796</td>\n",
              "      <td>Generation X</td>\n",
              "    </tr>\n",
              "    <tr>\n",
              "      <th>1</th>\n",
              "      <td>Albania</td>\n",
              "      <td>1987</td>\n",
              "      <td>male</td>\n",
              "      <td>35-54 years</td>\n",
              "      <td>16</td>\n",
              "      <td>308000</td>\n",
              "      <td>5.19</td>\n",
              "      <td>Albania1987</td>\n",
              "      <td>NaN</td>\n",
              "      <td>2,156,624,900</td>\n",
              "      <td>796</td>\n",
              "      <td>Silent</td>\n",
              "    </tr>\n",
              "    <tr>\n",
              "      <th>2</th>\n",
              "      <td>Albania</td>\n",
              "      <td>1987</td>\n",
              "      <td>female</td>\n",
              "      <td>15-24 years</td>\n",
              "      <td>14</td>\n",
              "      <td>289700</td>\n",
              "      <td>4.83</td>\n",
              "      <td>Albania1987</td>\n",
              "      <td>NaN</td>\n",
              "      <td>2,156,624,900</td>\n",
              "      <td>796</td>\n",
              "      <td>Generation X</td>\n",
              "    </tr>\n",
              "    <tr>\n",
              "      <th>3</th>\n",
              "      <td>Albania</td>\n",
              "      <td>1987</td>\n",
              "      <td>male</td>\n",
              "      <td>75+ years</td>\n",
              "      <td>1</td>\n",
              "      <td>21800</td>\n",
              "      <td>4.59</td>\n",
              "      <td>Albania1987</td>\n",
              "      <td>NaN</td>\n",
              "      <td>2,156,624,900</td>\n",
              "      <td>796</td>\n",
              "      <td>G.I. Generation</td>\n",
              "    </tr>\n",
              "    <tr>\n",
              "      <th>4</th>\n",
              "      <td>Albania</td>\n",
              "      <td>1987</td>\n",
              "      <td>male</td>\n",
              "      <td>25-34 years</td>\n",
              "      <td>9</td>\n",
              "      <td>274300</td>\n",
              "      <td>3.28</td>\n",
              "      <td>Albania1987</td>\n",
              "      <td>NaN</td>\n",
              "      <td>2,156,624,900</td>\n",
              "      <td>796</td>\n",
              "      <td>Boomers</td>\n",
              "    </tr>\n",
              "  </tbody>\n",
              "</table>\n",
              "</div>\n",
              "      <button class=\"colab-df-convert\" onclick=\"convertToInteractive('df-955b0171-abaa-4ed2-985f-24577d601f20')\"\n",
              "              title=\"Convert this dataframe to an interactive table.\"\n",
              "              style=\"display:none;\">\n",
              "        \n",
              "  <svg xmlns=\"http://www.w3.org/2000/svg\" height=\"24px\"viewBox=\"0 0 24 24\"\n",
              "       width=\"24px\">\n",
              "    <path d=\"M0 0h24v24H0V0z\" fill=\"none\"/>\n",
              "    <path d=\"M18.56 5.44l.94 2.06.94-2.06 2.06-.94-2.06-.94-.94-2.06-.94 2.06-2.06.94zm-11 1L8.5 8.5l.94-2.06 2.06-.94-2.06-.94L8.5 2.5l-.94 2.06-2.06.94zm10 10l.94 2.06.94-2.06 2.06-.94-2.06-.94-.94-2.06-.94 2.06-2.06.94z\"/><path d=\"M17.41 7.96l-1.37-1.37c-.4-.4-.92-.59-1.43-.59-.52 0-1.04.2-1.43.59L10.3 9.45l-7.72 7.72c-.78.78-.78 2.05 0 2.83L4 21.41c.39.39.9.59 1.41.59.51 0 1.02-.2 1.41-.59l7.78-7.78 2.81-2.81c.8-.78.8-2.07 0-2.86zM5.41 20L4 18.59l7.72-7.72 1.47 1.35L5.41 20z\"/>\n",
              "  </svg>\n",
              "      </button>\n",
              "      \n",
              "  <style>\n",
              "    .colab-df-container {\n",
              "      display:flex;\n",
              "      flex-wrap:wrap;\n",
              "      gap: 12px;\n",
              "    }\n",
              "\n",
              "    .colab-df-convert {\n",
              "      background-color: #E8F0FE;\n",
              "      border: none;\n",
              "      border-radius: 50%;\n",
              "      cursor: pointer;\n",
              "      display: none;\n",
              "      fill: #1967D2;\n",
              "      height: 32px;\n",
              "      padding: 0 0 0 0;\n",
              "      width: 32px;\n",
              "    }\n",
              "\n",
              "    .colab-df-convert:hover {\n",
              "      background-color: #E2EBFA;\n",
              "      box-shadow: 0px 1px 2px rgba(60, 64, 67, 0.3), 0px 1px 3px 1px rgba(60, 64, 67, 0.15);\n",
              "      fill: #174EA6;\n",
              "    }\n",
              "\n",
              "    [theme=dark] .colab-df-convert {\n",
              "      background-color: #3B4455;\n",
              "      fill: #D2E3FC;\n",
              "    }\n",
              "\n",
              "    [theme=dark] .colab-df-convert:hover {\n",
              "      background-color: #434B5C;\n",
              "      box-shadow: 0px 1px 3px 1px rgba(0, 0, 0, 0.15);\n",
              "      filter: drop-shadow(0px 1px 2px rgba(0, 0, 0, 0.3));\n",
              "      fill: #FFFFFF;\n",
              "    }\n",
              "  </style>\n",
              "\n",
              "      <script>\n",
              "        const buttonEl =\n",
              "          document.querySelector('#df-955b0171-abaa-4ed2-985f-24577d601f20 button.colab-df-convert');\n",
              "        buttonEl.style.display =\n",
              "          google.colab.kernel.accessAllowed ? 'block' : 'none';\n",
              "\n",
              "        async function convertToInteractive(key) {\n",
              "          const element = document.querySelector('#df-955b0171-abaa-4ed2-985f-24577d601f20');\n",
              "          const dataTable =\n",
              "            await google.colab.kernel.invokeFunction('convertToInteractive',\n",
              "                                                     [key], {});\n",
              "          if (!dataTable) return;\n",
              "\n",
              "          const docLinkHtml = 'Like what you see? Visit the ' +\n",
              "            '<a target=\"_blank\" href=https://colab.research.google.com/notebooks/data_table.ipynb>data table notebook</a>'\n",
              "            + ' to learn more about interactive tables.';\n",
              "          element.innerHTML = '';\n",
              "          dataTable['output_type'] = 'display_data';\n",
              "          await google.colab.output.renderOutput(dataTable, element);\n",
              "          const docLink = document.createElement('div');\n",
              "          docLink.innerHTML = docLinkHtml;\n",
              "          element.appendChild(docLink);\n",
              "        }\n",
              "      </script>\n",
              "    </div>\n",
              "  </div>\n",
              "  "
            ]
          },
          "metadata": {},
          "execution_count": 26
        }
      ],
      "source": [
        "df_master.head()"
      ]
    },
    {
      "cell_type": "code",
      "execution_count": null,
      "metadata": {
        "id": "yJ3kHvarmer0",
        "colab": {
          "base_uri": "https://localhost:8080/"
        },
        "outputId": "bd202e8b-7e09-4a6a-f51b-d8f08326f08c"
      },
      "outputs": [
        {
          "output_type": "stream",
          "name": "stdout",
          "text": [
            "<class 'pandas.core.frame.DataFrame'>\n",
            "RangeIndex: 27820 entries, 0 to 27819\n",
            "Data columns (total 12 columns):\n",
            " #   Column              Non-Null Count  Dtype  \n",
            "---  ------              --------------  -----  \n",
            " 0   country             27820 non-null  object \n",
            " 1   year                27820 non-null  int64  \n",
            " 2   sex                 27820 non-null  object \n",
            " 3   age                 27820 non-null  object \n",
            " 4   suicides_no         27820 non-null  int64  \n",
            " 5   population          27820 non-null  int64  \n",
            " 6   suicides/100k pop   27820 non-null  float64\n",
            " 7   country-year        27820 non-null  object \n",
            " 8   HDI for year        8364 non-null   float64\n",
            " 9    gdp_for_year ($)   27820 non-null  object \n",
            " 10  gdp_per_capita ($)  27820 non-null  int64  \n",
            " 11  generation          27820 non-null  object \n",
            "dtypes: float64(2), int64(4), object(6)\n",
            "memory usage: 2.5+ MB\n"
          ]
        }
      ],
      "source": [
        "df_master.info()"
      ]
    },
    {
      "cell_type": "code",
      "execution_count": null,
      "metadata": {
        "id": "kVjvpghSmjfm",
        "colab": {
          "base_uri": "https://localhost:8080/"
        },
        "outputId": "0c42a859-9b02-4d96-a704-e78408a5f3d7"
      },
      "outputs": [
        {
          "output_type": "execute_result",
          "data": {
            "text/plain": [
              "(27820, 12)"
            ]
          },
          "metadata": {},
          "execution_count": 28
        }
      ],
      "source": [
        "df_master.shape"
      ]
    },
    {
      "cell_type": "code",
      "execution_count": null,
      "metadata": {
        "id": "pjqh5uZlmriv",
        "colab": {
          "base_uri": "https://localhost:8080/"
        },
        "outputId": "8099637f-d710-438c-c6c2-272818bf4836"
      },
      "outputs": [
        {
          "output_type": "execute_result",
          "data": {
            "text/plain": [
              "Mauritius                 382\n",
              "Austria                   382\n",
              "Netherlands               382\n",
              "Iceland                   382\n",
              "Brazil                    372\n",
              "                         ... \n",
              "Bosnia and Herzegovina     24\n",
              "Cabo Verde                 12\n",
              "Dominica                   12\n",
              "Macau                      12\n",
              "Mongolia                   10\n",
              "Name: country, Length: 101, dtype: int64"
            ]
          },
          "metadata": {},
          "execution_count": 29
        }
      ],
      "source": [
        "df_master[\"country\"].value_counts()"
      ]
    },
    {
      "cell_type": "code",
      "execution_count": null,
      "metadata": {
        "id": "3_snrzVvmm6H",
        "colab": {
          "base_uri": "https://localhost:8080/",
          "height": 300
        },
        "outputId": "ecc57383-5f69-4233-98ce-16c21d20aceb"
      },
      "outputs": [
        {
          "output_type": "execute_result",
          "data": {
            "text/plain": [
              "       year  suicides_no  population  suicides/100k pop  HDI for year  \\\n",
              "count   0.0          0.0         0.0                0.0           0.0   \n",
              "mean    NaN          NaN         NaN                NaN           NaN   \n",
              "std     NaN          NaN         NaN                NaN           NaN   \n",
              "min     NaN          NaN         NaN                NaN           NaN   \n",
              "25%     NaN          NaN         NaN                NaN           NaN   \n",
              "50%     NaN          NaN         NaN                NaN           NaN   \n",
              "75%     NaN          NaN         NaN                NaN           NaN   \n",
              "max     NaN          NaN         NaN                NaN           NaN   \n",
              "\n",
              "       gdp_per_capita ($)  \n",
              "count                 0.0  \n",
              "mean                  NaN  \n",
              "std                   NaN  \n",
              "min                   NaN  \n",
              "25%                   NaN  \n",
              "50%                   NaN  \n",
              "75%                   NaN  \n",
              "max                   NaN  "
            ],
            "text/html": [
              "\n",
              "  <div id=\"df-2fe5578f-6ef7-4b96-8b2e-a45df7199b90\">\n",
              "    <div class=\"colab-df-container\">\n",
              "      <div>\n",
              "<style scoped>\n",
              "    .dataframe tbody tr th:only-of-type {\n",
              "        vertical-align: middle;\n",
              "    }\n",
              "\n",
              "    .dataframe tbody tr th {\n",
              "        vertical-align: top;\n",
              "    }\n",
              "\n",
              "    .dataframe thead th {\n",
              "        text-align: right;\n",
              "    }\n",
              "</style>\n",
              "<table border=\"1\" class=\"dataframe\">\n",
              "  <thead>\n",
              "    <tr style=\"text-align: right;\">\n",
              "      <th></th>\n",
              "      <th>year</th>\n",
              "      <th>suicides_no</th>\n",
              "      <th>population</th>\n",
              "      <th>suicides/100k pop</th>\n",
              "      <th>HDI for year</th>\n",
              "      <th>gdp_per_capita ($)</th>\n",
              "    </tr>\n",
              "  </thead>\n",
              "  <tbody>\n",
              "    <tr>\n",
              "      <th>count</th>\n",
              "      <td>0.0</td>\n",
              "      <td>0.0</td>\n",
              "      <td>0.0</td>\n",
              "      <td>0.0</td>\n",
              "      <td>0.0</td>\n",
              "      <td>0.0</td>\n",
              "    </tr>\n",
              "    <tr>\n",
              "      <th>mean</th>\n",
              "      <td>NaN</td>\n",
              "      <td>NaN</td>\n",
              "      <td>NaN</td>\n",
              "      <td>NaN</td>\n",
              "      <td>NaN</td>\n",
              "      <td>NaN</td>\n",
              "    </tr>\n",
              "    <tr>\n",
              "      <th>std</th>\n",
              "      <td>NaN</td>\n",
              "      <td>NaN</td>\n",
              "      <td>NaN</td>\n",
              "      <td>NaN</td>\n",
              "      <td>NaN</td>\n",
              "      <td>NaN</td>\n",
              "    </tr>\n",
              "    <tr>\n",
              "      <th>min</th>\n",
              "      <td>NaN</td>\n",
              "      <td>NaN</td>\n",
              "      <td>NaN</td>\n",
              "      <td>NaN</td>\n",
              "      <td>NaN</td>\n",
              "      <td>NaN</td>\n",
              "    </tr>\n",
              "    <tr>\n",
              "      <th>25%</th>\n",
              "      <td>NaN</td>\n",
              "      <td>NaN</td>\n",
              "      <td>NaN</td>\n",
              "      <td>NaN</td>\n",
              "      <td>NaN</td>\n",
              "      <td>NaN</td>\n",
              "    </tr>\n",
              "    <tr>\n",
              "      <th>50%</th>\n",
              "      <td>NaN</td>\n",
              "      <td>NaN</td>\n",
              "      <td>NaN</td>\n",
              "      <td>NaN</td>\n",
              "      <td>NaN</td>\n",
              "      <td>NaN</td>\n",
              "    </tr>\n",
              "    <tr>\n",
              "      <th>75%</th>\n",
              "      <td>NaN</td>\n",
              "      <td>NaN</td>\n",
              "      <td>NaN</td>\n",
              "      <td>NaN</td>\n",
              "      <td>NaN</td>\n",
              "      <td>NaN</td>\n",
              "    </tr>\n",
              "    <tr>\n",
              "      <th>max</th>\n",
              "      <td>NaN</td>\n",
              "      <td>NaN</td>\n",
              "      <td>NaN</td>\n",
              "      <td>NaN</td>\n",
              "      <td>NaN</td>\n",
              "      <td>NaN</td>\n",
              "    </tr>\n",
              "  </tbody>\n",
              "</table>\n",
              "</div>\n",
              "      <button class=\"colab-df-convert\" onclick=\"convertToInteractive('df-2fe5578f-6ef7-4b96-8b2e-a45df7199b90')\"\n",
              "              title=\"Convert this dataframe to an interactive table.\"\n",
              "              style=\"display:none;\">\n",
              "        \n",
              "  <svg xmlns=\"http://www.w3.org/2000/svg\" height=\"24px\"viewBox=\"0 0 24 24\"\n",
              "       width=\"24px\">\n",
              "    <path d=\"M0 0h24v24H0V0z\" fill=\"none\"/>\n",
              "    <path d=\"M18.56 5.44l.94 2.06.94-2.06 2.06-.94-2.06-.94-.94-2.06-.94 2.06-2.06.94zm-11 1L8.5 8.5l.94-2.06 2.06-.94-2.06-.94L8.5 2.5l-.94 2.06-2.06.94zm10 10l.94 2.06.94-2.06 2.06-.94-2.06-.94-.94-2.06-.94 2.06-2.06.94z\"/><path d=\"M17.41 7.96l-1.37-1.37c-.4-.4-.92-.59-1.43-.59-.52 0-1.04.2-1.43.59L10.3 9.45l-7.72 7.72c-.78.78-.78 2.05 0 2.83L4 21.41c.39.39.9.59 1.41.59.51 0 1.02-.2 1.41-.59l7.78-7.78 2.81-2.81c.8-.78.8-2.07 0-2.86zM5.41 20L4 18.59l7.72-7.72 1.47 1.35L5.41 20z\"/>\n",
              "  </svg>\n",
              "      </button>\n",
              "      \n",
              "  <style>\n",
              "    .colab-df-container {\n",
              "      display:flex;\n",
              "      flex-wrap:wrap;\n",
              "      gap: 12px;\n",
              "    }\n",
              "\n",
              "    .colab-df-convert {\n",
              "      background-color: #E8F0FE;\n",
              "      border: none;\n",
              "      border-radius: 50%;\n",
              "      cursor: pointer;\n",
              "      display: none;\n",
              "      fill: #1967D2;\n",
              "      height: 32px;\n",
              "      padding: 0 0 0 0;\n",
              "      width: 32px;\n",
              "    }\n",
              "\n",
              "    .colab-df-convert:hover {\n",
              "      background-color: #E2EBFA;\n",
              "      box-shadow: 0px 1px 2px rgba(60, 64, 67, 0.3), 0px 1px 3px 1px rgba(60, 64, 67, 0.15);\n",
              "      fill: #174EA6;\n",
              "    }\n",
              "\n",
              "    [theme=dark] .colab-df-convert {\n",
              "      background-color: #3B4455;\n",
              "      fill: #D2E3FC;\n",
              "    }\n",
              "\n",
              "    [theme=dark] .colab-df-convert:hover {\n",
              "      background-color: #434B5C;\n",
              "      box-shadow: 0px 1px 3px 1px rgba(0, 0, 0, 0.15);\n",
              "      filter: drop-shadow(0px 1px 2px rgba(0, 0, 0, 0.3));\n",
              "      fill: #FFFFFF;\n",
              "    }\n",
              "  </style>\n",
              "\n",
              "      <script>\n",
              "        const buttonEl =\n",
              "          document.querySelector('#df-2fe5578f-6ef7-4b96-8b2e-a45df7199b90 button.colab-df-convert');\n",
              "        buttonEl.style.display =\n",
              "          google.colab.kernel.accessAllowed ? 'block' : 'none';\n",
              "\n",
              "        async function convertToInteractive(key) {\n",
              "          const element = document.querySelector('#df-2fe5578f-6ef7-4b96-8b2e-a45df7199b90');\n",
              "          const dataTable =\n",
              "            await google.colab.kernel.invokeFunction('convertToInteractive',\n",
              "                                                     [key], {});\n",
              "          if (!dataTable) return;\n",
              "\n",
              "          const docLinkHtml = 'Like what you see? Visit the ' +\n",
              "            '<a target=\"_blank\" href=https://colab.research.google.com/notebooks/data_table.ipynb>data table notebook</a>'\n",
              "            + ' to learn more about interactive tables.';\n",
              "          element.innerHTML = '';\n",
              "          dataTable['output_type'] = 'display_data';\n",
              "          await google.colab.output.renderOutput(dataTable, element);\n",
              "          const docLink = document.createElement('div');\n",
              "          docLink.innerHTML = docLinkHtml;\n",
              "          element.appendChild(docLink);\n",
              "        }\n",
              "      </script>\n",
              "    </div>\n",
              "  </div>\n",
              "  "
            ]
          },
          "metadata": {},
          "execution_count": 30
        }
      ],
      "source": [
        "df_master.loc[(df_master['country'] == \"China\")].describe()"
      ]
    },
    {
      "cell_type": "code",
      "execution_count": null,
      "metadata": {
        "id": "8taxsdlonOqJ",
        "colab": {
          "base_uri": "https://localhost:8080/"
        },
        "outputId": "0e39ae21-c9c6-42c0-98be-ba0cfca0ba1b"
      },
      "outputs": [
        {
          "output_type": "execute_result",
          "data": {
            "text/plain": [
              "2009    1068\n",
              "2010    1056\n",
              "2001    1056\n",
              "2002    1032\n",
              "2000    1032\n",
              "2011    1032\n",
              "2007    1032\n",
              "2003    1032\n",
              "2008    1020\n",
              "2006    1020\n",
              "2004    1008\n",
              "2005    1008\n",
              "1999     996\n",
              "2012     972\n",
              "2013     960\n",
              "1998     948\n",
              "1995     936\n",
              "2014     936\n",
              "1997     924\n",
              "1996     924\n",
              "1994     816\n",
              "1993     780\n",
              "1992     780\n",
              "1990     768\n",
              "1991     768\n",
              "2015     744\n",
              "1987     648\n",
              "1989     624\n",
              "1988     588\n",
              "1986     576\n",
              "1985     576\n",
              "2016     160\n",
              "Name: year, dtype: int64"
            ]
          },
          "metadata": {},
          "execution_count": 31
        }
      ],
      "source": [
        "df_master[\"year\"].value_counts()"
      ]
    },
    {
      "cell_type": "code",
      "execution_count": null,
      "metadata": {
        "id": "jcrT0_LYpc3I"
      },
      "outputs": [],
      "source": [
        "# Pense que podia de alguna forma vincular esta base de datos con la de los suicidios en China, pero no me\n",
        "# reconoce el pais China cuando intento buscarlo."
      ]
    },
    {
      "cell_type": "code",
      "execution_count": null,
      "metadata": {
        "id": "ByM3y0ryT35a",
        "colab": {
          "base_uri": "https://localhost:8080/",
          "height": 35
        },
        "outputId": "11b31a8b-6909-4c19-9fd9-304de2e9f8ad"
      },
      "outputs": [
        {
          "output_type": "execute_result",
          "data": {
            "text/plain": [
              "' ===================== Conclusion: Suicidios en China ===================== '"
            ],
            "application/vnd.google.colaboratory.intrinsic+json": {
              "type": "string"
            }
          },
          "metadata": {},
          "execution_count": 33
        }
      ],
      "source": [
        "\" ===================== Conclusion: Suicidios en China ===================== \"\n",
        "\n",
        "# Una vez explorada las bases de datos, la decision final es que se va a trabajar sobre la base que se\n",
        "# titula Suicidios en China."
      ]
    },
    {
      "cell_type": "code",
      "execution_count": null,
      "metadata": {
        "id": "oyX7SJjwp4Kg"
      },
      "outputs": [],
      "source": [
        "# ****************************************************************************************************************\n",
        "# ===================================== Primera parte: Revision de la Data ===================================== #\n",
        "# ****************************************************************************************************************"
      ]
    },
    {
      "cell_type": "code",
      "execution_count": null,
      "metadata": {
        "id": "HFgIds6gpzus"
      },
      "outputs": [],
      "source": [
        "df = pd.read_csv(\"/content/SuicideChina.csv\")"
      ]
    },
    {
      "cell_type": "code",
      "execution_count": null,
      "metadata": {
        "id": "yncKo4r0r1jd",
        "colab": {
          "base_uri": "https://localhost:8080/",
          "height": 363
        },
        "outputId": "6b96bce5-e3d1-4552-9177-53a10461a512"
      },
      "outputs": [
        {
          "output_type": "execute_result",
          "data": {
            "text/plain": [
              "   Unnamed: 0  Person_ID Hospitalised Died Urban  Year  Month     Sex  Age  \\\n",
              "0           1          1          yes   no    no  2010     12  female   39   \n",
              "1           2          2           no  yes    no  2009      3    male   83   \n",
              "2           3          3           no  yes    no  2010      2    male   60   \n",
              "3           4          4           no  yes    no  2011      1    male   73   \n",
              "4           5          5          yes   no    no  2009      8    male   51   \n",
              "5           6          6           no  yes    no  2009     11    male   62   \n",
              "6           7          7           no  yes    no  2010      1  female   90   \n",
              "7           8          8          yes   no    no  2010     10    male   54   \n",
              "8           9          9           no  yes    no  2010      7    male   66   \n",
              "9          10         10          yes   no    no  2011      1  female   30   \n",
              "\n",
              "   Education      Occupation         method  \n",
              "0  Secondary       household   Other poison  \n",
              "1    primary         farming        Hanging  \n",
              "2    primary         farming        Hanging  \n",
              "3    primary         farming        Hanging  \n",
              "4  Secondary         farming      Pesticide  \n",
              "5  iliterate         farming      Pesticide  \n",
              "6  iliterate         farming      Pesticide  \n",
              "7  Secondary         farming      Pesticide  \n",
              "8    primary         farming        Hanging  \n",
              "9  Secondary  others/unknown  Poison unspec  "
            ],
            "text/html": [
              "\n",
              "  <div id=\"df-329c219d-fba6-48b3-ba80-4d2789f077a0\">\n",
              "    <div class=\"colab-df-container\">\n",
              "      <div>\n",
              "<style scoped>\n",
              "    .dataframe tbody tr th:only-of-type {\n",
              "        vertical-align: middle;\n",
              "    }\n",
              "\n",
              "    .dataframe tbody tr th {\n",
              "        vertical-align: top;\n",
              "    }\n",
              "\n",
              "    .dataframe thead th {\n",
              "        text-align: right;\n",
              "    }\n",
              "</style>\n",
              "<table border=\"1\" class=\"dataframe\">\n",
              "  <thead>\n",
              "    <tr style=\"text-align: right;\">\n",
              "      <th></th>\n",
              "      <th>Unnamed: 0</th>\n",
              "      <th>Person_ID</th>\n",
              "      <th>Hospitalised</th>\n",
              "      <th>Died</th>\n",
              "      <th>Urban</th>\n",
              "      <th>Year</th>\n",
              "      <th>Month</th>\n",
              "      <th>Sex</th>\n",
              "      <th>Age</th>\n",
              "      <th>Education</th>\n",
              "      <th>Occupation</th>\n",
              "      <th>method</th>\n",
              "    </tr>\n",
              "  </thead>\n",
              "  <tbody>\n",
              "    <tr>\n",
              "      <th>0</th>\n",
              "      <td>1</td>\n",
              "      <td>1</td>\n",
              "      <td>yes</td>\n",
              "      <td>no</td>\n",
              "      <td>no</td>\n",
              "      <td>2010</td>\n",
              "      <td>12</td>\n",
              "      <td>female</td>\n",
              "      <td>39</td>\n",
              "      <td>Secondary</td>\n",
              "      <td>household</td>\n",
              "      <td>Other poison</td>\n",
              "    </tr>\n",
              "    <tr>\n",
              "      <th>1</th>\n",
              "      <td>2</td>\n",
              "      <td>2</td>\n",
              "      <td>no</td>\n",
              "      <td>yes</td>\n",
              "      <td>no</td>\n",
              "      <td>2009</td>\n",
              "      <td>3</td>\n",
              "      <td>male</td>\n",
              "      <td>83</td>\n",
              "      <td>primary</td>\n",
              "      <td>farming</td>\n",
              "      <td>Hanging</td>\n",
              "    </tr>\n",
              "    <tr>\n",
              "      <th>2</th>\n",
              "      <td>3</td>\n",
              "      <td>3</td>\n",
              "      <td>no</td>\n",
              "      <td>yes</td>\n",
              "      <td>no</td>\n",
              "      <td>2010</td>\n",
              "      <td>2</td>\n",
              "      <td>male</td>\n",
              "      <td>60</td>\n",
              "      <td>primary</td>\n",
              "      <td>farming</td>\n",
              "      <td>Hanging</td>\n",
              "    </tr>\n",
              "    <tr>\n",
              "      <th>3</th>\n",
              "      <td>4</td>\n",
              "      <td>4</td>\n",
              "      <td>no</td>\n",
              "      <td>yes</td>\n",
              "      <td>no</td>\n",
              "      <td>2011</td>\n",
              "      <td>1</td>\n",
              "      <td>male</td>\n",
              "      <td>73</td>\n",
              "      <td>primary</td>\n",
              "      <td>farming</td>\n",
              "      <td>Hanging</td>\n",
              "    </tr>\n",
              "    <tr>\n",
              "      <th>4</th>\n",
              "      <td>5</td>\n",
              "      <td>5</td>\n",
              "      <td>yes</td>\n",
              "      <td>no</td>\n",
              "      <td>no</td>\n",
              "      <td>2009</td>\n",
              "      <td>8</td>\n",
              "      <td>male</td>\n",
              "      <td>51</td>\n",
              "      <td>Secondary</td>\n",
              "      <td>farming</td>\n",
              "      <td>Pesticide</td>\n",
              "    </tr>\n",
              "    <tr>\n",
              "      <th>5</th>\n",
              "      <td>6</td>\n",
              "      <td>6</td>\n",
              "      <td>no</td>\n",
              "      <td>yes</td>\n",
              "      <td>no</td>\n",
              "      <td>2009</td>\n",
              "      <td>11</td>\n",
              "      <td>male</td>\n",
              "      <td>62</td>\n",
              "      <td>iliterate</td>\n",
              "      <td>farming</td>\n",
              "      <td>Pesticide</td>\n",
              "    </tr>\n",
              "    <tr>\n",
              "      <th>6</th>\n",
              "      <td>7</td>\n",
              "      <td>7</td>\n",
              "      <td>no</td>\n",
              "      <td>yes</td>\n",
              "      <td>no</td>\n",
              "      <td>2010</td>\n",
              "      <td>1</td>\n",
              "      <td>female</td>\n",
              "      <td>90</td>\n",
              "      <td>iliterate</td>\n",
              "      <td>farming</td>\n",
              "      <td>Pesticide</td>\n",
              "    </tr>\n",
              "    <tr>\n",
              "      <th>7</th>\n",
              "      <td>8</td>\n",
              "      <td>8</td>\n",
              "      <td>yes</td>\n",
              "      <td>no</td>\n",
              "      <td>no</td>\n",
              "      <td>2010</td>\n",
              "      <td>10</td>\n",
              "      <td>male</td>\n",
              "      <td>54</td>\n",
              "      <td>Secondary</td>\n",
              "      <td>farming</td>\n",
              "      <td>Pesticide</td>\n",
              "    </tr>\n",
              "    <tr>\n",
              "      <th>8</th>\n",
              "      <td>9</td>\n",
              "      <td>9</td>\n",
              "      <td>no</td>\n",
              "      <td>yes</td>\n",
              "      <td>no</td>\n",
              "      <td>2010</td>\n",
              "      <td>7</td>\n",
              "      <td>male</td>\n",
              "      <td>66</td>\n",
              "      <td>primary</td>\n",
              "      <td>farming</td>\n",
              "      <td>Hanging</td>\n",
              "    </tr>\n",
              "    <tr>\n",
              "      <th>9</th>\n",
              "      <td>10</td>\n",
              "      <td>10</td>\n",
              "      <td>yes</td>\n",
              "      <td>no</td>\n",
              "      <td>no</td>\n",
              "      <td>2011</td>\n",
              "      <td>1</td>\n",
              "      <td>female</td>\n",
              "      <td>30</td>\n",
              "      <td>Secondary</td>\n",
              "      <td>others/unknown</td>\n",
              "      <td>Poison unspec</td>\n",
              "    </tr>\n",
              "  </tbody>\n",
              "</table>\n",
              "</div>\n",
              "      <button class=\"colab-df-convert\" onclick=\"convertToInteractive('df-329c219d-fba6-48b3-ba80-4d2789f077a0')\"\n",
              "              title=\"Convert this dataframe to an interactive table.\"\n",
              "              style=\"display:none;\">\n",
              "        \n",
              "  <svg xmlns=\"http://www.w3.org/2000/svg\" height=\"24px\"viewBox=\"0 0 24 24\"\n",
              "       width=\"24px\">\n",
              "    <path d=\"M0 0h24v24H0V0z\" fill=\"none\"/>\n",
              "    <path d=\"M18.56 5.44l.94 2.06.94-2.06 2.06-.94-2.06-.94-.94-2.06-.94 2.06-2.06.94zm-11 1L8.5 8.5l.94-2.06 2.06-.94-2.06-.94L8.5 2.5l-.94 2.06-2.06.94zm10 10l.94 2.06.94-2.06 2.06-.94-2.06-.94-.94-2.06-.94 2.06-2.06.94z\"/><path d=\"M17.41 7.96l-1.37-1.37c-.4-.4-.92-.59-1.43-.59-.52 0-1.04.2-1.43.59L10.3 9.45l-7.72 7.72c-.78.78-.78 2.05 0 2.83L4 21.41c.39.39.9.59 1.41.59.51 0 1.02-.2 1.41-.59l7.78-7.78 2.81-2.81c.8-.78.8-2.07 0-2.86zM5.41 20L4 18.59l7.72-7.72 1.47 1.35L5.41 20z\"/>\n",
              "  </svg>\n",
              "      </button>\n",
              "      \n",
              "  <style>\n",
              "    .colab-df-container {\n",
              "      display:flex;\n",
              "      flex-wrap:wrap;\n",
              "      gap: 12px;\n",
              "    }\n",
              "\n",
              "    .colab-df-convert {\n",
              "      background-color: #E8F0FE;\n",
              "      border: none;\n",
              "      border-radius: 50%;\n",
              "      cursor: pointer;\n",
              "      display: none;\n",
              "      fill: #1967D2;\n",
              "      height: 32px;\n",
              "      padding: 0 0 0 0;\n",
              "      width: 32px;\n",
              "    }\n",
              "\n",
              "    .colab-df-convert:hover {\n",
              "      background-color: #E2EBFA;\n",
              "      box-shadow: 0px 1px 2px rgba(60, 64, 67, 0.3), 0px 1px 3px 1px rgba(60, 64, 67, 0.15);\n",
              "      fill: #174EA6;\n",
              "    }\n",
              "\n",
              "    [theme=dark] .colab-df-convert {\n",
              "      background-color: #3B4455;\n",
              "      fill: #D2E3FC;\n",
              "    }\n",
              "\n",
              "    [theme=dark] .colab-df-convert:hover {\n",
              "      background-color: #434B5C;\n",
              "      box-shadow: 0px 1px 3px 1px rgba(0, 0, 0, 0.15);\n",
              "      filter: drop-shadow(0px 1px 2px rgba(0, 0, 0, 0.3));\n",
              "      fill: #FFFFFF;\n",
              "    }\n",
              "  </style>\n",
              "\n",
              "      <script>\n",
              "        const buttonEl =\n",
              "          document.querySelector('#df-329c219d-fba6-48b3-ba80-4d2789f077a0 button.colab-df-convert');\n",
              "        buttonEl.style.display =\n",
              "          google.colab.kernel.accessAllowed ? 'block' : 'none';\n",
              "\n",
              "        async function convertToInteractive(key) {\n",
              "          const element = document.querySelector('#df-329c219d-fba6-48b3-ba80-4d2789f077a0');\n",
              "          const dataTable =\n",
              "            await google.colab.kernel.invokeFunction('convertToInteractive',\n",
              "                                                     [key], {});\n",
              "          if (!dataTable) return;\n",
              "\n",
              "          const docLinkHtml = 'Like what you see? Visit the ' +\n",
              "            '<a target=\"_blank\" href=https://colab.research.google.com/notebooks/data_table.ipynb>data table notebook</a>'\n",
              "            + ' to learn more about interactive tables.';\n",
              "          element.innerHTML = '';\n",
              "          dataTable['output_type'] = 'display_data';\n",
              "          await google.colab.output.renderOutput(dataTable, element);\n",
              "          const docLink = document.createElement('div');\n",
              "          docLink.innerHTML = docLinkHtml;\n",
              "          element.appendChild(docLink);\n",
              "        }\n",
              "      </script>\n",
              "    </div>\n",
              "  </div>\n",
              "  "
            ]
          },
          "metadata": {},
          "execution_count": 36
        }
      ],
      "source": [
        "df.head(10)"
      ]
    },
    {
      "cell_type": "code",
      "execution_count": null,
      "metadata": {
        "id": "eMKKNvwOptMn",
        "colab": {
          "base_uri": "https://localhost:8080/"
        },
        "outputId": "6a2e83d9-d5f4-4672-a6dd-38dd9e447882"
      },
      "outputs": [
        {
          "output_type": "execute_result",
          "data": {
            "text/plain": [
              "(2571, 12)"
            ]
          },
          "metadata": {},
          "execution_count": 37
        }
      ],
      "source": [
        "df.shape"
      ]
    },
    {
      "cell_type": "code",
      "execution_count": null,
      "metadata": {
        "id": "sTr1A6La1CMe",
        "colab": {
          "base_uri": "https://localhost:8080/"
        },
        "outputId": "f8992cfc-2644-4037-ab0d-292457e8d39b"
      },
      "outputs": [
        {
          "output_type": "execute_result",
          "data": {
            "text/plain": [
              "yes    1553\n",
              "no     1018\n",
              "Name: Hospitalised, dtype: int64"
            ]
          },
          "metadata": {},
          "execution_count": 38
        }
      ],
      "source": [
        "df[\"Hospitalised\"].value_counts()"
      ]
    },
    {
      "cell_type": "code",
      "execution_count": null,
      "metadata": {
        "id": "aE1hn1Pe1Jdo",
        "colab": {
          "base_uri": "https://localhost:8080/"
        },
        "outputId": "a83e1c8e-3ede-4c4e-f732-3167698d5bc5"
      },
      "outputs": [
        {
          "output_type": "execute_result",
          "data": {
            "text/plain": [
              "no     1315\n",
              "yes    1256\n",
              "Name: Died, dtype: int64"
            ]
          },
          "metadata": {},
          "execution_count": 39
        }
      ],
      "source": [
        "df[\"Died\"].value_counts()"
      ]
    },
    {
      "cell_type": "code",
      "execution_count": null,
      "metadata": {
        "id": "qJOlwSF11J00",
        "colab": {
          "base_uri": "https://localhost:8080/"
        },
        "outputId": "a3487012-1460-4f04-f325-88c0c61f60ec"
      },
      "outputs": [
        {
          "output_type": "execute_result",
          "data": {
            "text/plain": [
              "no         2213\n",
              "yes         277\n",
              "unknown      81\n",
              "Name: Urban, dtype: int64"
            ]
          },
          "metadata": {},
          "execution_count": 40
        }
      ],
      "source": [
        "df[\"Urban\"].value_counts()"
      ]
    },
    {
      "cell_type": "code",
      "execution_count": null,
      "metadata": {
        "id": "_Y5jj-za1P7l",
        "colab": {
          "base_uri": "https://localhost:8080/"
        },
        "outputId": "8c92b64f-1b18-41c3-9a4e-f398ccf490c1"
      },
      "outputs": [
        {
          "output_type": "execute_result",
          "data": {
            "text/plain": [
              "2010    956\n",
              "2011    866\n",
              "2009    749\n",
              "Name: Year, dtype: int64"
            ]
          },
          "metadata": {},
          "execution_count": 41
        }
      ],
      "source": [
        "df[\"Year\"].value_counts()"
      ]
    },
    {
      "cell_type": "code",
      "execution_count": null,
      "metadata": {
        "id": "SPTBGjao1KjE",
        "colab": {
          "base_uri": "https://localhost:8080/"
        },
        "outputId": "7f57352b-a5c5-43c2-9f91-c47e8c98633e"
      },
      "outputs": [
        {
          "output_type": "execute_result",
          "data": {
            "text/plain": [
              "6     284\n",
              "5     263\n",
              "7     247\n",
              "9     241\n",
              "8     229\n",
              "10    211\n",
              "2     208\n",
              "4     208\n",
              "1     201\n",
              "3     190\n",
              "11    153\n",
              "12    136\n",
              "Name: Month, dtype: int64"
            ]
          },
          "metadata": {},
          "execution_count": 42
        }
      ],
      "source": [
        "df[\"Month\"].value_counts()"
      ]
    },
    {
      "cell_type": "code",
      "execution_count": null,
      "metadata": {
        "id": "amhaz5uf1Wga",
        "colab": {
          "base_uri": "https://localhost:8080/"
        },
        "outputId": "29177223-8057-4c4d-a23f-9423c74cc629"
      },
      "outputs": [
        {
          "output_type": "execute_result",
          "data": {
            "text/plain": [
              "female    1328\n",
              "male      1243\n",
              "Name: Sex, dtype: int64"
            ]
          },
          "metadata": {},
          "execution_count": 43
        }
      ],
      "source": [
        "df[\"Sex\"].value_counts()"
      ]
    },
    {
      "cell_type": "code",
      "execution_count": null,
      "metadata": {
        "id": "pD6usRXm1WWX",
        "colab": {
          "base_uri": "https://localhost:8080/"
        },
        "outputId": "dab1087d-0df9-4aba-8b71-9dc282ff1391"
      },
      "outputs": [
        {
          "output_type": "execute_result",
          "data": {
            "text/plain": [
              "count    2571.000000\n",
              "mean       52.630883\n",
              "std        19.783878\n",
              "min        12.000000\n",
              "25%        37.000000\n",
              "50%        53.000000\n",
              "75%        69.000000\n",
              "max       100.000000\n",
              "Name: Age, dtype: float64"
            ]
          },
          "metadata": {},
          "execution_count": 44
        }
      ],
      "source": [
        "df[\"Age\"].describe()"
      ]
    },
    {
      "cell_type": "code",
      "execution_count": null,
      "metadata": {
        "id": "C83IFhYO1WNz",
        "colab": {
          "base_uri": "https://localhost:8080/"
        },
        "outputId": "24a444f5-8d66-4dea-91aa-d19706a671e2"
      },
      "outputs": [
        {
          "output_type": "execute_result",
          "data": {
            "text/plain": [
              "Secondary    1280\n",
              "primary       659\n",
              "iliterate     533\n",
              "unknown        80\n",
              "Tertiary       19\n",
              "Name: Education, dtype: int64"
            ]
          },
          "metadata": {},
          "execution_count": 45
        }
      ],
      "source": [
        "df[\"Education\"].value_counts()"
      ]
    },
    {
      "cell_type": "code",
      "execution_count": null,
      "metadata": {
        "id": "RA6vZIbL1WCK",
        "colab": {
          "base_uri": "https://localhost:8080/"
        },
        "outputId": "9208bd90-684e-42be-8f82-a84c7d2726b1"
      },
      "outputs": [
        {
          "output_type": "execute_result",
          "data": {
            "text/plain": [
              "farming             2032\n",
              "household            248\n",
              "others/unknown       156\n",
              "professional          37\n",
              "student               35\n",
              "unemployed            30\n",
              "business/service      21\n",
              "worker                 6\n",
              "others                 3\n",
              "retiree                3\n",
              "Name: Occupation, dtype: int64"
            ]
          },
          "metadata": {},
          "execution_count": 46
        }
      ],
      "source": [
        "df[\"Occupation\"].value_counts()"
      ]
    },
    {
      "cell_type": "code",
      "execution_count": null,
      "metadata": {
        "id": "w-tC9L471V1t",
        "colab": {
          "base_uri": "https://localhost:8080/"
        },
        "outputId": "c296e6ee-1892-4ad3-eb20-993d0356d76b"
      },
      "outputs": [
        {
          "output_type": "execute_result",
          "data": {
            "text/plain": [
              "Pesticide        1768\n",
              "Hanging           431\n",
              "Other poison      146\n",
              "Poison unspec     107\n",
              "unspecified        48\n",
              "Cutting            29\n",
              "Drowning           26\n",
              "Jumping            15\n",
              "Others              1\n",
              "Name: method, dtype: int64"
            ]
          },
          "metadata": {},
          "execution_count": 47
        }
      ],
      "source": [
        "df[\"method\"].value_counts()"
      ]
    },
    {
      "cell_type": "code",
      "execution_count": null,
      "metadata": {
        "id": "TX7cj2k57u7N"
      },
      "outputs": [],
      "source": [
        "df = df.drop(columns = ['Unnamed: 0', 'Person_ID'])"
      ]
    },
    {
      "cell_type": "code",
      "execution_count": null,
      "metadata": {
        "id": "5NJPZ6L67yE0",
        "colab": {
          "base_uri": "https://localhost:8080/",
          "height": 206
        },
        "outputId": "99091f8a-69bd-4c89-c575-7ae6a55e8654"
      },
      "outputs": [
        {
          "output_type": "execute_result",
          "data": {
            "text/plain": [
              "  Hospitalised Died Urban  Year  Month     Sex  Age  Education Occupation  \\\n",
              "0          yes   no    no  2010     12  female   39  Secondary  household   \n",
              "1           no  yes    no  2009      3    male   83    primary    farming   \n",
              "2           no  yes    no  2010      2    male   60    primary    farming   \n",
              "3           no  yes    no  2011      1    male   73    primary    farming   \n",
              "4          yes   no    no  2009      8    male   51  Secondary    farming   \n",
              "\n",
              "         method  \n",
              "0  Other poison  \n",
              "1       Hanging  \n",
              "2       Hanging  \n",
              "3       Hanging  \n",
              "4     Pesticide  "
            ],
            "text/html": [
              "\n",
              "  <div id=\"df-475022ff-9307-4bbf-b736-e0b7f38a5415\">\n",
              "    <div class=\"colab-df-container\">\n",
              "      <div>\n",
              "<style scoped>\n",
              "    .dataframe tbody tr th:only-of-type {\n",
              "        vertical-align: middle;\n",
              "    }\n",
              "\n",
              "    .dataframe tbody tr th {\n",
              "        vertical-align: top;\n",
              "    }\n",
              "\n",
              "    .dataframe thead th {\n",
              "        text-align: right;\n",
              "    }\n",
              "</style>\n",
              "<table border=\"1\" class=\"dataframe\">\n",
              "  <thead>\n",
              "    <tr style=\"text-align: right;\">\n",
              "      <th></th>\n",
              "      <th>Hospitalised</th>\n",
              "      <th>Died</th>\n",
              "      <th>Urban</th>\n",
              "      <th>Year</th>\n",
              "      <th>Month</th>\n",
              "      <th>Sex</th>\n",
              "      <th>Age</th>\n",
              "      <th>Education</th>\n",
              "      <th>Occupation</th>\n",
              "      <th>method</th>\n",
              "    </tr>\n",
              "  </thead>\n",
              "  <tbody>\n",
              "    <tr>\n",
              "      <th>0</th>\n",
              "      <td>yes</td>\n",
              "      <td>no</td>\n",
              "      <td>no</td>\n",
              "      <td>2010</td>\n",
              "      <td>12</td>\n",
              "      <td>female</td>\n",
              "      <td>39</td>\n",
              "      <td>Secondary</td>\n",
              "      <td>household</td>\n",
              "      <td>Other poison</td>\n",
              "    </tr>\n",
              "    <tr>\n",
              "      <th>1</th>\n",
              "      <td>no</td>\n",
              "      <td>yes</td>\n",
              "      <td>no</td>\n",
              "      <td>2009</td>\n",
              "      <td>3</td>\n",
              "      <td>male</td>\n",
              "      <td>83</td>\n",
              "      <td>primary</td>\n",
              "      <td>farming</td>\n",
              "      <td>Hanging</td>\n",
              "    </tr>\n",
              "    <tr>\n",
              "      <th>2</th>\n",
              "      <td>no</td>\n",
              "      <td>yes</td>\n",
              "      <td>no</td>\n",
              "      <td>2010</td>\n",
              "      <td>2</td>\n",
              "      <td>male</td>\n",
              "      <td>60</td>\n",
              "      <td>primary</td>\n",
              "      <td>farming</td>\n",
              "      <td>Hanging</td>\n",
              "    </tr>\n",
              "    <tr>\n",
              "      <th>3</th>\n",
              "      <td>no</td>\n",
              "      <td>yes</td>\n",
              "      <td>no</td>\n",
              "      <td>2011</td>\n",
              "      <td>1</td>\n",
              "      <td>male</td>\n",
              "      <td>73</td>\n",
              "      <td>primary</td>\n",
              "      <td>farming</td>\n",
              "      <td>Hanging</td>\n",
              "    </tr>\n",
              "    <tr>\n",
              "      <th>4</th>\n",
              "      <td>yes</td>\n",
              "      <td>no</td>\n",
              "      <td>no</td>\n",
              "      <td>2009</td>\n",
              "      <td>8</td>\n",
              "      <td>male</td>\n",
              "      <td>51</td>\n",
              "      <td>Secondary</td>\n",
              "      <td>farming</td>\n",
              "      <td>Pesticide</td>\n",
              "    </tr>\n",
              "  </tbody>\n",
              "</table>\n",
              "</div>\n",
              "      <button class=\"colab-df-convert\" onclick=\"convertToInteractive('df-475022ff-9307-4bbf-b736-e0b7f38a5415')\"\n",
              "              title=\"Convert this dataframe to an interactive table.\"\n",
              "              style=\"display:none;\">\n",
              "        \n",
              "  <svg xmlns=\"http://www.w3.org/2000/svg\" height=\"24px\"viewBox=\"0 0 24 24\"\n",
              "       width=\"24px\">\n",
              "    <path d=\"M0 0h24v24H0V0z\" fill=\"none\"/>\n",
              "    <path d=\"M18.56 5.44l.94 2.06.94-2.06 2.06-.94-2.06-.94-.94-2.06-.94 2.06-2.06.94zm-11 1L8.5 8.5l.94-2.06 2.06-.94-2.06-.94L8.5 2.5l-.94 2.06-2.06.94zm10 10l.94 2.06.94-2.06 2.06-.94-2.06-.94-.94-2.06-.94 2.06-2.06.94z\"/><path d=\"M17.41 7.96l-1.37-1.37c-.4-.4-.92-.59-1.43-.59-.52 0-1.04.2-1.43.59L10.3 9.45l-7.72 7.72c-.78.78-.78 2.05 0 2.83L4 21.41c.39.39.9.59 1.41.59.51 0 1.02-.2 1.41-.59l7.78-7.78 2.81-2.81c.8-.78.8-2.07 0-2.86zM5.41 20L4 18.59l7.72-7.72 1.47 1.35L5.41 20z\"/>\n",
              "  </svg>\n",
              "      </button>\n",
              "      \n",
              "  <style>\n",
              "    .colab-df-container {\n",
              "      display:flex;\n",
              "      flex-wrap:wrap;\n",
              "      gap: 12px;\n",
              "    }\n",
              "\n",
              "    .colab-df-convert {\n",
              "      background-color: #E8F0FE;\n",
              "      border: none;\n",
              "      border-radius: 50%;\n",
              "      cursor: pointer;\n",
              "      display: none;\n",
              "      fill: #1967D2;\n",
              "      height: 32px;\n",
              "      padding: 0 0 0 0;\n",
              "      width: 32px;\n",
              "    }\n",
              "\n",
              "    .colab-df-convert:hover {\n",
              "      background-color: #E2EBFA;\n",
              "      box-shadow: 0px 1px 2px rgba(60, 64, 67, 0.3), 0px 1px 3px 1px rgba(60, 64, 67, 0.15);\n",
              "      fill: #174EA6;\n",
              "    }\n",
              "\n",
              "    [theme=dark] .colab-df-convert {\n",
              "      background-color: #3B4455;\n",
              "      fill: #D2E3FC;\n",
              "    }\n",
              "\n",
              "    [theme=dark] .colab-df-convert:hover {\n",
              "      background-color: #434B5C;\n",
              "      box-shadow: 0px 1px 3px 1px rgba(0, 0, 0, 0.15);\n",
              "      filter: drop-shadow(0px 1px 2px rgba(0, 0, 0, 0.3));\n",
              "      fill: #FFFFFF;\n",
              "    }\n",
              "  </style>\n",
              "\n",
              "      <script>\n",
              "        const buttonEl =\n",
              "          document.querySelector('#df-475022ff-9307-4bbf-b736-e0b7f38a5415 button.colab-df-convert');\n",
              "        buttonEl.style.display =\n",
              "          google.colab.kernel.accessAllowed ? 'block' : 'none';\n",
              "\n",
              "        async function convertToInteractive(key) {\n",
              "          const element = document.querySelector('#df-475022ff-9307-4bbf-b736-e0b7f38a5415');\n",
              "          const dataTable =\n",
              "            await google.colab.kernel.invokeFunction('convertToInteractive',\n",
              "                                                     [key], {});\n",
              "          if (!dataTable) return;\n",
              "\n",
              "          const docLinkHtml = 'Like what you see? Visit the ' +\n",
              "            '<a target=\"_blank\" href=https://colab.research.google.com/notebooks/data_table.ipynb>data table notebook</a>'\n",
              "            + ' to learn more about interactive tables.';\n",
              "          element.innerHTML = '';\n",
              "          dataTable['output_type'] = 'display_data';\n",
              "          await google.colab.output.renderOutput(dataTable, element);\n",
              "          const docLink = document.createElement('div');\n",
              "          docLink.innerHTML = docLinkHtml;\n",
              "          element.appendChild(docLink);\n",
              "        }\n",
              "      </script>\n",
              "    </div>\n",
              "  </div>\n",
              "  "
            ]
          },
          "metadata": {},
          "execution_count": 49
        }
      ],
      "source": [
        "df.head()"
      ]
    },
    {
      "cell_type": "code",
      "execution_count": null,
      "metadata": {
        "id": "0M-RJO2K8NWD",
        "colab": {
          "base_uri": "https://localhost:8080/",
          "height": 1000
        },
        "outputId": "af5aa0c1-bace-49f9-f963-d7794cf123bc"
      },
      "outputs": [
        {
          "output_type": "display_data",
          "data": {
            "text/plain": [
              "<Figure size 900x300 with 1 Axes>"
            ],
            "image/png": "[encoded data removed]"
          },
          "metadata": {}
        },
        {
          "output_type": "stream",
          "name": "stdout",
          "text": [
            "Hospitalised: \n",
            " yes    1553\n",
            "no     1018\n",
            "Name: Hospitalised, dtype: int64\n"
          ]
        },
        {
          "output_type": "display_data",
          "data": {
            "text/plain": [
              "<Figure size 900x300 with 1 Axes>"
            ],
            "image/png": "[encoded data removed]"
          },
          "metadata": {}
        },
        {
          "output_type": "stream",
          "name": "stdout",
          "text": [
            "Died: \n",
            " no     1315\n",
            "yes    1256\n",
            "Name: Died, dtype: int64\n"
          ]
        },
        {
          "output_type": "display_data",
          "data": {
            "text/plain": [
              "<Figure size 900x300 with 1 Axes>"
            ],
            "image/png": "[encoded data removed]"
          },
          "metadata": {}
        },
        {
          "output_type": "stream",
          "name": "stdout",
          "text": [
            "Urban: \n",
            " no         2213\n",
            "yes         277\n",
            "unknown      81\n",
            "Name: Urban, dtype: int64\n"
          ]
        },
        {
          "output_type": "display_data",
          "data": {
            "text/plain": [
              "<Figure size 900x300 with 1 Axes>"
            ],
            "image/png": "[encoded data removed]"
          },
          "metadata": {}
        },
        {
          "output_type": "stream",
          "name": "stdout",
          "text": [
            "Sex: \n",
            " female    1328\n",
            "male      1243\n",
            "Name: Sex, dtype: int64\n"
          ]
        },
        {
          "output_type": "display_data",
          "data": {
            "text/plain": [
              "<Figure size 900x300 with 1 Axes>"
            ],
            "image/png": "[encoded data removed]"
          },
          "metadata": {}
        },
        {
          "output_type": "stream",
          "name": "stdout",
          "text": [
            "Education: \n",
            " Secondary    1280\n",
            "primary       659\n",
            "iliterate     533\n",
            "unknown        80\n",
            "Tertiary       19\n",
            "Name: Education, dtype: int64\n"
          ]
        },
        {
          "output_type": "display_data",
          "data": {
            "text/plain": [
              "<Figure size 900x300 with 1 Axes>"
            ],
            "image/png": "[encoded data removed]"
          },
          "metadata": {}
        },
        {
          "output_type": "stream",
          "name": "stdout",
          "text": [
            "Occupation: \n",
            " farming             2032\n",
            "household            248\n",
            "others/unknown       156\n",
            "professional          37\n",
            "student               35\n",
            "unemployed            30\n",
            "business/service      21\n",
            "worker                 6\n",
            "others                 3\n",
            "retiree                3\n",
            "Name: Occupation, dtype: int64\n"
          ]
        },
        {
          "output_type": "display_data",
          "data": {
            "text/plain": [
              "<Figure size 900x300 with 1 Axes>"
            ],
            "image/png": "[encoded data removed]"
          },
          "metadata": {}
        },
        {
          "output_type": "stream",
          "name": "stdout",
          "text": [
            "method: \n",
            " Pesticide        1768\n",
            "Hanging           431\n",
            "Other poison      146\n",
            "Poison unspec     107\n",
            "unspecified        48\n",
            "Cutting            29\n",
            "Drowning           26\n",
            "Jumping            15\n",
            "Others              1\n",
            "Name: method, dtype: int64\n"
          ]
        },
        {
          "output_type": "display_data",
          "data": {
            "text/plain": [
              "<Figure size 900x300 with 1 Axes>"
            ],
            "image/png": "[encoded data removed]"
          },
          "metadata": {}
        },
        {
          "output_type": "stream",
          "name": "stdout",
          "text": [
            "Year: \n",
            " 2010    956\n",
            "2011    866\n",
            "2009    749\n",
            "Name: Year, dtype: int64\n"
          ]
        },
        {
          "output_type": "display_data",
          "data": {
            "text/plain": [
              "<Figure size 900x300 with 1 Axes>"
            ],
            "image/png": "[encoded data removed]"
          },
          "metadata": {}
        },
        {
          "output_type": "stream",
          "name": "stdout",
          "text": [
            "Month: \n",
            " 6     284\n",
            "5     263\n",
            "7     247\n",
            "9     241\n",
            "8     229\n",
            "10    211\n",
            "2     208\n",
            "4     208\n",
            "1     201\n",
            "3     190\n",
            "11    153\n",
            "12    136\n",
            "Name: Month, dtype: int64\n"
          ]
        }
      ],
      "source": [
        "def bar_plot(variable):\n",
        "    \"\"\"\n",
        "    input: variable ex: \"Sex\"\n",
        "    output: bar plot & Value count.\n",
        "    \"\"\"\n",
        "    # get feature.\n",
        "    var = df[variable]\n",
        "    # count number of categorical variable(value / sample)\n",
        "    varValue = var.value_counts()\n",
        "\n",
        "    #visualization\n",
        "    plt.figure(figsize = (9,3))\n",
        "    plt.bar(varValue.index, varValue)\n",
        "    plt.xticks(varValue.index, varValue.index.values, rotation = 45)\n",
        "    plt.ylabel(\"Frequency\")\n",
        "    plt.title(variable)\n",
        "    plt.show()\n",
        "    print(\"{}: \\n {}\".format(variable, varValue))\n",
        "category1 = [\"Hospitalised\",\"Died\",\"Urban\", \"Sex\", \"Education\", \"Occupation\",\"method\", \"Year\", \"Month\"]\n",
        "for c in category1:\n",
        "    bar_plot(c)"
      ]
    },
    {
      "cell_type": "code",
      "execution_count": null,
      "metadata": {
        "id": "BCYmm2wH8een",
        "colab": {
          "base_uri": "https://localhost:8080/",
          "height": 333
        },
        "outputId": "a6a8b6be-a58b-40c1-ca21-17eec28d497b"
      },
      "outputs": [
        {
          "output_type": "display_data",
          "data": {
            "text/plain": [
              "<Figure size 900x300 with 1 Axes>"
            ],
            "image/png": "[encoded data removed]"
          },
          "metadata": {}
        }
      ],
      "source": [
        "plt.figure(figsize = (9,3))\n",
        "plt.hist(df[\"Age\"], bins = 50)\n",
        "plt.xlabel(\"Edad\")\n",
        "plt.ylabel(\"Frecuencia\")\n",
        "plt.title(\"Distribucion de la edad de suicidios\")\n",
        "plt.grid()\n",
        "plt.show()"
      ]
    },
    {
      "cell_type": "code",
      "execution_count": null,
      "metadata": {
        "id": "P4wH9NWMAyR2",
        "colab": {
          "base_uri": "https://localhost:8080/",
          "height": 206
        },
        "outputId": "d701cd50-e10a-45f8-93e1-1fe38ed79cc3"
      },
      "outputs": [
        {
          "output_type": "execute_result",
          "data": {
            "text/plain": [
              "  Hospitalised Died Urban  Year  Month     Sex  Age  Education Occupation  \\\n",
              "0          yes   no    no  2010     12  female   39  Secondary  household   \n",
              "1           no  yes    no  2009      3    male   83    primary    farming   \n",
              "2           no  yes    no  2010      2    male   60    primary    farming   \n",
              "3           no  yes    no  2011      1    male   73    primary    farming   \n",
              "4          yes   no    no  2009      8    male   51  Secondary    farming   \n",
              "\n",
              "         method  \n",
              "0  Other poison  \n",
              "1       Hanging  \n",
              "2       Hanging  \n",
              "3       Hanging  \n",
              "4     Pesticide  "
            ],
            "text/html": [
              "\n",
              "  <div id=\"df-b8674f8c-3d9a-4b0e-b067-2b75c7f09f9b\">\n",
              "    <div class=\"colab-df-container\">\n",
              "      <div>\n",
              "<style scoped>\n",
              "    .dataframe tbody tr th:only-of-type {\n",
              "        vertical-align: middle;\n",
              "    }\n",
              "\n",
              "    .dataframe tbody tr th {\n",
              "        vertical-align: top;\n",
              "    }\n",
              "\n",
              "    .dataframe thead th {\n",
              "        text-align: right;\n",
              "    }\n",
              "</style>\n",
              "<table border=\"1\" class=\"dataframe\">\n",
              "  <thead>\n",
              "    <tr style=\"text-align: right;\">\n",
              "      <th></th>\n",
              "      <th>Hospitalised</th>\n",
              "      <th>Died</th>\n",
              "      <th>Urban</th>\n",
              "      <th>Year</th>\n",
              "      <th>Month</th>\n",
              "      <th>Sex</th>\n",
              "      <th>Age</th>\n",
              "      <th>Education</th>\n",
              "      <th>Occupation</th>\n",
              "      <th>method</th>\n",
              "    </tr>\n",
              "  </thead>\n",
              "  <tbody>\n",
              "    <tr>\n",
              "      <th>0</th>\n",
              "      <td>yes</td>\n",
              "      <td>no</td>\n",
              "      <td>no</td>\n",
              "      <td>2010</td>\n",
              "      <td>12</td>\n",
              "      <td>female</td>\n",
              "      <td>39</td>\n",
              "      <td>Secondary</td>\n",
              "      <td>household</td>\n",
              "      <td>Other poison</td>\n",
              "    </tr>\n",
              "    <tr>\n",
              "      <th>1</th>\n",
              "      <td>no</td>\n",
              "      <td>yes</td>\n",
              "      <td>no</td>\n",
              "      <td>2009</td>\n",
              "      <td>3</td>\n",
              "      <td>male</td>\n",
              "      <td>83</td>\n",
              "      <td>primary</td>\n",
              "      <td>farming</td>\n",
              "      <td>Hanging</td>\n",
              "    </tr>\n",
              "    <tr>\n",
              "      <th>2</th>\n",
              "      <td>no</td>\n",
              "      <td>yes</td>\n",
              "      <td>no</td>\n",
              "      <td>2010</td>\n",
              "      <td>2</td>\n",
              "      <td>male</td>\n",
              "      <td>60</td>\n",
              "      <td>primary</td>\n",
              "      <td>farming</td>\n",
              "      <td>Hanging</td>\n",
              "    </tr>\n",
              "    <tr>\n",
              "      <th>3</th>\n",
              "      <td>no</td>\n",
              "      <td>yes</td>\n",
              "      <td>no</td>\n",
              "      <td>2011</td>\n",
              "      <td>1</td>\n",
              "      <td>male</td>\n",
              "      <td>73</td>\n",
              "      <td>primary</td>\n",
              "      <td>farming</td>\n",
              "      <td>Hanging</td>\n",
              "    </tr>\n",
              "    <tr>\n",
              "      <th>4</th>\n",
              "      <td>yes</td>\n",
              "      <td>no</td>\n",
              "      <td>no</td>\n",
              "      <td>2009</td>\n",
              "      <td>8</td>\n",
              "      <td>male</td>\n",
              "      <td>51</td>\n",
              "      <td>Secondary</td>\n",
              "      <td>farming</td>\n",
              "      <td>Pesticide</td>\n",
              "    </tr>\n",
              "  </tbody>\n",
              "</table>\n",
              "</div>\n",
              "      <button class=\"colab-df-convert\" onclick=\"convertToInteractive('df-b8674f8c-3d9a-4b0e-b067-2b75c7f09f9b')\"\n",
              "              title=\"Convert this dataframe to an interactive table.\"\n",
              "              style=\"display:none;\">\n",
              "        \n",
              "  <svg xmlns=\"http://www.w3.org/2000/svg\" height=\"24px\"viewBox=\"0 0 24 24\"\n",
              "       width=\"24px\">\n",
              "    <path d=\"M0 0h24v24H0V0z\" fill=\"none\"/>\n",
              "    <path d=\"M18.56 5.44l.94 2.06.94-2.06 2.06-.94-2.06-.94-.94-2.06-.94 2.06-2.06.94zm-11 1L8.5 8.5l.94-2.06 2.06-.94-2.06-.94L8.5 2.5l-.94 2.06-2.06.94zm10 10l.94 2.06.94-2.06 2.06-.94-2.06-.94-.94-2.06-.94 2.06-2.06.94z\"/><path d=\"M17.41 7.96l-1.37-1.37c-.4-.4-.92-.59-1.43-.59-.52 0-1.04.2-1.43.59L10.3 9.45l-7.72 7.72c-.78.78-.78 2.05 0 2.83L4 21.41c.39.39.9.59 1.41.59.51 0 1.02-.2 1.41-.59l7.78-7.78 2.81-2.81c.8-.78.8-2.07 0-2.86zM5.41 20L4 18.59l7.72-7.72 1.47 1.35L5.41 20z\"/>\n",
              "  </svg>\n",
              "      </button>\n",
              "      \n",
              "  <style>\n",
              "    .colab-df-container {\n",
              "      display:flex;\n",
              "      flex-wrap:wrap;\n",
              "      gap: 12px;\n",
              "    }\n",
              "\n",
              "    .colab-df-convert {\n",
              "      background-color: #E8F0FE;\n",
              "      border: none;\n",
              "      border-radius: 50%;\n",
              "      cursor: pointer;\n",
              "      display: none;\n",
              "      fill: #1967D2;\n",
              "      height: 32px;\n",
              "      padding: 0 0 0 0;\n",
              "      width: 32px;\n",
              "    }\n",
              "\n",
              "    .colab-df-convert:hover {\n",
              "      background-color: #E2EBFA;\n",
              "      box-shadow: 0px 1px 2px rgba(60, 64, 67, 0.3), 0px 1px 3px 1px rgba(60, 64, 67, 0.15);\n",
              "      fill: #174EA6;\n",
              "    }\n",
              "\n",
              "    [theme=dark] .colab-df-convert {\n",
              "      background-color: #3B4455;\n",
              "      fill: #D2E3FC;\n",
              "    }\n",
              "\n",
              "    [theme=dark] .colab-df-convert:hover {\n",
              "      background-color: #434B5C;\n",
              "      box-shadow: 0px 1px 3px 1px rgba(0, 0, 0, 0.15);\n",
              "      filter: drop-shadow(0px 1px 2px rgba(0, 0, 0, 0.3));\n",
              "      fill: #FFFFFF;\n",
              "    }\n",
              "  </style>\n",
              "\n",
              "      <script>\n",
              "        const buttonEl =\n",
              "          document.querySelector('#df-b8674f8c-3d9a-4b0e-b067-2b75c7f09f9b button.colab-df-convert');\n",
              "        buttonEl.style.display =\n",
              "          google.colab.kernel.accessAllowed ? 'block' : 'none';\n",
              "\n",
              "        async function convertToInteractive(key) {\n",
              "          const element = document.querySelector('#df-b8674f8c-3d9a-4b0e-b067-2b75c7f09f9b');\n",
              "          const dataTable =\n",
              "            await google.colab.kernel.invokeFunction('convertToInteractive',\n",
              "                                                     [key], {});\n",
              "          if (!dataTable) return;\n",
              "\n",
              "          const docLinkHtml = 'Like what you see? Visit the ' +\n",
              "            '<a target=\"_blank\" href=https://colab.research.google.com/notebooks/data_table.ipynb>data table notebook</a>'\n",
              "            + ' to learn more about interactive tables.';\n",
              "          element.innerHTML = '';\n",
              "          dataTable['output_type'] = 'display_data';\n",
              "          await google.colab.output.renderOutput(dataTable, element);\n",
              "          const docLink = document.createElement('div');\n",
              "          docLink.innerHTML = docLinkHtml;\n",
              "          element.appendChild(docLink);\n",
              "        }\n",
              "      </script>\n",
              "    </div>\n",
              "  </div>\n",
              "  "
            ]
          },
          "metadata": {},
          "execution_count": 52
        }
      ],
      "source": [
        "df.head()"
      ]
    },
    {
      "cell_type": "code",
      "execution_count": null,
      "metadata": {
        "id": "M4Q3jDPYA0Kd"
      },
      "outputs": [],
      "source": [
        "df[\"Hospitalised\"]= df[\"Hospitalised\"].replace(\"yes\", 1)\n",
        "df[\"Hospitalised\"]= df[\"Hospitalised\"].replace(\"no\", 0)"
      ]
    },
    {
      "cell_type": "code",
      "execution_count": null,
      "metadata": {
        "id": "Oz8VcUJaBU4k"
      },
      "outputs": [],
      "source": [
        "df[\"Died\"]= df[\"Died\"].replace(\"yes\", 1)\n",
        "df[\"Died\"]= df[\"Died\"].replace(\"no\", 0)"
      ]
    },
    {
      "cell_type": "code",
      "execution_count": null,
      "metadata": {
        "id": "UDC7mFmbBb7I"
      },
      "outputs": [],
      "source": [
        "df[\"Urban\"]= df[\"Urban\"].replace(\"yes\", 1)\n",
        "df[\"Urban\"]= df[\"Urban\"].replace(\"no\", 0)\n",
        "df[\"Urban\"]= df[\"Urban\"].replace(\"unknown\", 2)"
      ]
    },
    {
      "cell_type": "code",
      "execution_count": null,
      "metadata": {
        "id": "yBYq_a5XBjIW"
      },
      "outputs": [],
      "source": [
        "df[\"Sex\"]= df[\"Sex\"].replace(\"female\", 1)\n",
        "df[\"Sex\"]= df[\"Sex\"].replace(\"male\", 0)"
      ]
    },
    {
      "cell_type": "code",
      "execution_count": null,
      "metadata": {
        "id": "qatCRghsBrlt"
      },
      "outputs": [],
      "source": [
        "df[\"Education\"]= df[\"Education\"].replace(\"iliterate\", 0)\n",
        "df[\"Education\"]= df[\"Education\"].replace(\"primary\", 1)\n",
        "df[\"Education\"]= df[\"Education\"].replace(\"Secondary\", 2)\n",
        "df[\"Education\"]= df[\"Education\"].replace(\"Tertiary\", 3)\n",
        "df[\"Education\"]= df[\"Education\"].replace(\"unknown\", 4)"
      ]
    },
    {
      "cell_type": "code",
      "execution_count": null,
      "metadata": {
        "id": "7D_vi5FJB6Kz"
      },
      "outputs": [],
      "source": [
        "df[\"Occupation\"]= df[\"Occupation\"].replace(\"farming\", 1)\n",
        "df[\"Occupation\"]= df[\"Occupation\"].replace(\"household\", 2)\n",
        "df[\"Occupation\"]= df[\"Occupation\"].replace(\"others/unknown\", \"others\")\n",
        "df[\"Occupation\"]= df[\"Occupation\"].replace(\"others\", 3)\n",
        "df[\"Occupation\"]= df[\"Occupation\"].replace(\"professional\", 4)\n",
        "df[\"Occupation\"]= df[\"Occupation\"].replace(\"student\", 5)\n",
        "df[\"Occupation\"]= df[\"Occupation\"].replace(\"unemployed\", 6)\n",
        "df[\"Occupation\"]= df[\"Occupation\"].replace(\"business/service\", 7)\n",
        "df[\"Occupation\"]= df[\"Occupation\"].replace(\"worker\", 8)\n",
        "df[\"Occupation\"]= df[\"Occupation\"].replace(\"retiree\", 9)"
      ]
    },
    {
      "cell_type": "code",
      "execution_count": null,
      "metadata": {
        "id": "Yj8YEPCLCvqd"
      },
      "outputs": [],
      "source": [
        "df[\"method\"]= df[\"method\"].replace(\"Pesticide\", 1)\n",
        "df[\"method\"]= df[\"method\"].replace(\"Hanging\", 2)\n",
        "df[\"method\"]= df[\"method\"].replace(\"Other poison\", \"Poison unspec\")\n",
        "df[\"method\"]= df[\"method\"].replace(\"Poison unspec\", 3)\n",
        "df[\"method\"]= df[\"method\"].replace(\"unspecified\", 4)\n",
        "df[\"method\"]= df[\"method\"].replace(\"Cutting\", 5)\n",
        "df[\"method\"]= df[\"method\"].replace(\"Drowning\", 6)\n",
        "df[\"method\"]= df[\"method\"].replace(\"Jumping\", 7)\n",
        "df[\"method\"]= df[\"method\"].replace(\"Others\", 4)"
      ]
    },
    {
      "cell_type": "code",
      "execution_count": null,
      "metadata": {
        "id": "9rLgFAEwDdEJ",
        "colab": {
          "base_uri": "https://localhost:8080/",
          "height": 206
        },
        "outputId": "4a5f477a-2269-434b-d2be-e6217e5fe0c5"
      },
      "outputs": [
        {
          "output_type": "execute_result",
          "data": {
            "text/plain": [
              "   Hospitalised  Died  Urban  Year  Month  Sex  Age  Education  Occupation  \\\n",
              "0             1     0      0  2010     12    1   39          2           2   \n",
              "1             0     1      0  2009      3    0   83          1           1   \n",
              "2             0     1      0  2010      2    0   60          1           1   \n",
              "3             0     1      0  2011      1    0   73          1           1   \n",
              "4             1     0      0  2009      8    0   51          2           1   \n",
              "\n",
              "   method  \n",
              "0       3  \n",
              "1       2  \n",
              "2       2  \n",
              "3       2  \n",
              "4       1  "
            ],
            "text/html": [
              "\n",
              "  <div id=\"df-64adc59a-27cd-46fc-83be-709fc81aba0a\">\n",
              "    <div class=\"colab-df-container\">\n",
              "      <div>\n",
              "<style scoped>\n",
              "    .dataframe tbody tr th:only-of-type {\n",
              "        vertical-align: middle;\n",
              "    }\n",
              "\n",
              "    .dataframe tbody tr th {\n",
              "        vertical-align: top;\n",
              "    }\n",
              "\n",
              "    .dataframe thead th {\n",
              "        text-align: right;\n",
              "    }\n",
              "</style>\n",
              "<table border=\"1\" class=\"dataframe\">\n",
              "  <thead>\n",
              "    <tr style=\"text-align: right;\">\n",
              "      <th></th>\n",
              "      <th>Hospitalised</th>\n",
              "      <th>Died</th>\n",
              "      <th>Urban</th>\n",
              "      <th>Year</th>\n",
              "      <th>Month</th>\n",
              "      <th>Sex</th>\n",
              "      <th>Age</th>\n",
              "      <th>Education</th>\n",
              "      <th>Occupation</th>\n",
              "      <th>method</th>\n",
              "    </tr>\n",
              "  </thead>\n",
              "  <tbody>\n",
              "    <tr>\n",
              "      <th>0</th>\n",
              "      <td>1</td>\n",
              "      <td>0</td>\n",
              "      <td>0</td>\n",
              "      <td>2010</td>\n",
              "      <td>12</td>\n",
              "      <td>1</td>\n",
              "      <td>39</td>\n",
              "      <td>2</td>\n",
              "      <td>2</td>\n",
              "      <td>3</td>\n",
              "    </tr>\n",
              "    <tr>\n",
              "      <th>1</th>\n",
              "      <td>0</td>\n",
              "      <td>1</td>\n",
              "      <td>0</td>\n",
              "      <td>2009</td>\n",
              "      <td>3</td>\n",
              "      <td>0</td>\n",
              "      <td>83</td>\n",
              "      <td>1</td>\n",
              "      <td>1</td>\n",
              "      <td>2</td>\n",
              "    </tr>\n",
              "    <tr>\n",
              "      <th>2</th>\n",
              "      <td>0</td>\n",
              "      <td>1</td>\n",
              "      <td>0</td>\n",
              "      <td>2010</td>\n",
              "      <td>2</td>\n",
              "      <td>0</td>\n",
              "      <td>60</td>\n",
              "      <td>1</td>\n",
              "      <td>1</td>\n",
              "      <td>2</td>\n",
              "    </tr>\n",
              "    <tr>\n",
              "      <th>3</th>\n",
              "      <td>0</td>\n",
              "      <td>1</td>\n",
              "      <td>0</td>\n",
              "      <td>2011</td>\n",
              "      <td>1</td>\n",
              "      <td>0</td>\n",
              "      <td>73</td>\n",
              "      <td>1</td>\n",
              "      <td>1</td>\n",
              "      <td>2</td>\n",
              "    </tr>\n",
              "    <tr>\n",
              "      <th>4</th>\n",
              "      <td>1</td>\n",
              "      <td>0</td>\n",
              "      <td>0</td>\n",
              "      <td>2009</td>\n",
              "      <td>8</td>\n",
              "      <td>0</td>\n",
              "      <td>51</td>\n",
              "      <td>2</td>\n",
              "      <td>1</td>\n",
              "      <td>1</td>\n",
              "    </tr>\n",
              "  </tbody>\n",
              "</table>\n",
              "</div>\n",
              "      <button class=\"colab-df-convert\" onclick=\"convertToInteractive('df-64adc59a-27cd-46fc-83be-709fc81aba0a')\"\n",
              "              title=\"Convert this dataframe to an interactive table.\"\n",
              "              style=\"display:none;\">\n",
              "        \n",
              "  <svg xmlns=\"http://www.w3.org/2000/svg\" height=\"24px\"viewBox=\"0 0 24 24\"\n",
              "       width=\"24px\">\n",
              "    <path d=\"M0 0h24v24H0V0z\" fill=\"none\"/>\n",
              "    <path d=\"M18.56 5.44l.94 2.06.94-2.06 2.06-.94-2.06-.94-.94-2.06-.94 2.06-2.06.94zm-11 1L8.5 8.5l.94-2.06 2.06-.94-2.06-.94L8.5 2.5l-.94 2.06-2.06.94zm10 10l.94 2.06.94-2.06 2.06-.94-2.06-.94-.94-2.06-.94 2.06-2.06.94z\"/><path d=\"M17.41 7.96l-1.37-1.37c-.4-.4-.92-.59-1.43-.59-.52 0-1.04.2-1.43.59L10.3 9.45l-7.72 7.72c-.78.78-.78 2.05 0 2.83L4 21.41c.39.39.9.59 1.41.59.51 0 1.02-.2 1.41-.59l7.78-7.78 2.81-2.81c.8-.78.8-2.07 0-2.86zM5.41 20L4 18.59l7.72-7.72 1.47 1.35L5.41 20z\"/>\n",
              "  </svg>\n",
              "      </button>\n",
              "      \n",
              "  <style>\n",
              "    .colab-df-container {\n",
              "      display:flex;\n",
              "      flex-wrap:wrap;\n",
              "      gap: 12px;\n",
              "    }\n",
              "\n",
              "    .colab-df-convert {\n",
              "      background-color: #E8F0FE;\n",
              "      border: none;\n",
              "      border-radius: 50%;\n",
              "      cursor: pointer;\n",
              "      display: none;\n",
              "      fill: #1967D2;\n",
              "      height: 32px;\n",
              "      padding: 0 0 0 0;\n",
              "      width: 32px;\n",
              "    }\n",
              "\n",
              "    .colab-df-convert:hover {\n",
              "      background-color: #E2EBFA;\n",
              "      box-shadow: 0px 1px 2px rgba(60, 64, 67, 0.3), 0px 1px 3px 1px rgba(60, 64, 67, 0.15);\n",
              "      fill: #174EA6;\n",
              "    }\n",
              "\n",
              "    [theme=dark] .colab-df-convert {\n",
              "      background-color: #3B4455;\n",
              "      fill: #D2E3FC;\n",
              "    }\n",
              "\n",
              "    [theme=dark] .colab-df-convert:hover {\n",
              "      background-color: #434B5C;\n",
              "      box-shadow: 0px 1px 3px 1px rgba(0, 0, 0, 0.15);\n",
              "      filter: drop-shadow(0px 1px 2px rgba(0, 0, 0, 0.3));\n",
              "      fill: #FFFFFF;\n",
              "    }\n",
              "  </style>\n",
              "\n",
              "      <script>\n",
              "        const buttonEl =\n",
              "          document.querySelector('#df-64adc59a-27cd-46fc-83be-709fc81aba0a button.colab-df-convert');\n",
              "        buttonEl.style.display =\n",
              "          google.colab.kernel.accessAllowed ? 'block' : 'none';\n",
              "\n",
              "        async function convertToInteractive(key) {\n",
              "          const element = document.querySelector('#df-64adc59a-27cd-46fc-83be-709fc81aba0a');\n",
              "          const dataTable =\n",
              "            await google.colab.kernel.invokeFunction('convertToInteractive',\n",
              "                                                     [key], {});\n",
              "          if (!dataTable) return;\n",
              "\n",
              "          const docLinkHtml = 'Like what you see? Visit the ' +\n",
              "            '<a target=\"_blank\" href=https://colab.research.google.com/notebooks/data_table.ipynb>data table notebook</a>'\n",
              "            + ' to learn more about interactive tables.';\n",
              "          element.innerHTML = '';\n",
              "          dataTable['output_type'] = 'display_data';\n",
              "          await google.colab.output.renderOutput(dataTable, element);\n",
              "          const docLink = document.createElement('div');\n",
              "          docLink.innerHTML = docLinkHtml;\n",
              "          element.appendChild(docLink);\n",
              "        }\n",
              "      </script>\n",
              "    </div>\n",
              "  </div>\n",
              "  "
            ]
          },
          "metadata": {},
          "execution_count": 60
        }
      ],
      "source": [
        "df.head()"
      ]
    },
    {
      "cell_type": "code",
      "execution_count": null,
      "metadata": {
        "id": "QtV-RPhRDgq0",
        "colab": {
          "base_uri": "https://localhost:8080/",
          "height": 523
        },
        "outputId": "bb4856b6-aeb7-47b2-a080-8bed2289d9c6"
      },
      "outputs": [
        {
          "output_type": "display_data",
          "data": {
            "text/plain": [
              "<Figure size 640x480 with 2 Axes>"
            ],
            "image/png": "[encoded data removed]"
          },
          "metadata": {}
        }
      ],
      "source": [
        "Correlacion = df.corr()\n",
        "sns.heatmap(Correlacion, cmap='Greens', annot=True)\n",
        "plt.title(\"Correlacion en base de datos de suicidios en Shandong\")\n",
        "plt.show()"
      ]
    },
    {
      "cell_type": "code",
      "execution_count": null,
      "metadata": {
        "id": "s-9oJnSmObVS",
        "colab": {
          "base_uri": "https://localhost:8080/"
        },
        "outputId": "b8beaab9-4a3f-4518-e6f9-f1f54a19d69c"
      },
      "outputs": [
        {
          "output_type": "stream",
          "name": "stdout",
          "text": [
            "<class 'pandas.core.frame.DataFrame'>\n",
            "RangeIndex: 2571 entries, 0 to 2570\n",
            "Data columns (total 10 columns):\n",
            " #   Column        Non-Null Count  Dtype\n",
            "---  ------        --------------  -----\n",
            " 0   Hospitalised  2571 non-null   int64\n",
            " 1   Died          2571 non-null   int64\n",
            " 2   Urban         2571 non-null   int64\n",
            " 3   Year          2571 non-null   int64\n",
            " 4   Month         2571 non-null   int64\n",
            " 5   Sex           2571 non-null   int64\n",
            " 6   Age           2571 non-null   int64\n",
            " 7   Education     2571 non-null   int64\n",
            " 8   Occupation    2571 non-null   int64\n",
            " 9   method        2571 non-null   int64\n",
            "dtypes: int64(10)\n",
            "memory usage: 201.0 KB\n"
          ]
        }
      ],
      "source": [
        "df.info()"
      ]
    },
    {
      "cell_type": "code",
      "execution_count": null,
      "metadata": {
        "id": "-7iz-mhJOV8y"
      },
      "outputs": [],
      "source": [
        "# Hasta aqui, terminamos de revisar los datos. Estos estan bien, son todos integer, no hay missing\n",
        "# value, no hay NaN, no hay datos duplicados. Podemos aplicar modelos."
      ]
    },
    {
      "cell_type": "code",
      "execution_count": null,
      "metadata": {
        "id": "C62qv76pOl4M"
      },
      "outputs": [],
      "source": [
        "# ****************************************************************************************************************\n",
        "# ================================ Segunda parte: Metrica y Modelos Aplicados ================================ #\n",
        "# ****************************************************************************************************************"
      ]
    },
    {
      "cell_type": "code",
      "execution_count": null,
      "metadata": {
        "id": "8344kmE-St8i",
        "colab": {
          "base_uri": "https://localhost:8080/",
          "height": 35
        },
        "outputId": "ab5626e7-a577-4b09-9e2d-32cf5e0e7f7b"
      },
      "outputs": [
        {
          "output_type": "execute_result",
          "data": {
            "text/plain": [
              "' ===================== Primer Modelo: Arboles de Decisión ===================== '"
            ],
            "application/vnd.google.colaboratory.intrinsic+json": {
              "type": "string"
            }
          },
          "metadata": {},
          "execution_count": 65
        }
      ],
      "source": [
        "\" ===================== Primer Modelo: Arboles de Decisión ===================== \""
      ]
    },
    {
      "cell_type": "code",
      "execution_count": null,
      "metadata": {
        "id": "U2Ojj-AKSt0J"
      },
      "outputs": [],
      "source": [
        "# Correré la base de datos de nuevo y todo lo modificado para comenzar a trabajar con el otro modelo.\n",
        "\n",
        "# Cargamos la base de datps\n",
        "df = pd.read_csv(\"/content/SuicideChina.csv\")\n",
        "\n",
        "# Eliminamos las columnas innecesarias\n",
        "df = df.drop(columns = ['Unnamed: 0', 'Person_ID'])\n",
        "\n",
        "# Cambiamos las columnas que son categoricas como valores numericos:\n",
        "\n",
        "# Si fue Hospitalizado o no\n",
        "df[\"Hospitalised\"]= df[\"Hospitalised\"].replace(\"yes\", 1)\n",
        "df[\"Hospitalised\"]= df[\"Hospitalised\"].replace(\"no\", 0)\n",
        "\n",
        "# Si falleció o no\n",
        "df[\"Died\"]= df[\"Died\"].replace(\"yes\", 1)\n",
        "df[\"Died\"]= df[\"Died\"].replace(\"no\", 0)\n",
        "\n",
        "# si vivia en una zona urbana o rural\n",
        "df[\"Urban\"]= df[\"Urban\"].replace(\"yes\", 1)\n",
        "df[\"Urban\"]= df[\"Urban\"].replace(\"no\", 0)\n",
        "df[\"Urban\"]= df[\"Urban\"].replace(\"unknown\", 2)\n",
        "\n",
        "# De qué genero era\n",
        "df[\"Sex\"]= df[\"Sex\"].replace(\"female\", 1)\n",
        "df[\"Sex\"]= df[\"Sex\"].replace(\"male\", 0)\n",
        "\n",
        "# La educación que tenía\n",
        "df[\"Education\"]= df[\"Education\"].replace(\"iliterate\", 0)\n",
        "df[\"Education\"]= df[\"Education\"].replace(\"primary\", 1)\n",
        "df[\"Education\"]= df[\"Education\"].replace(\"Secondary\", 2)\n",
        "df[\"Education\"]= df[\"Education\"].replace(\"Tertiary\", 3)\n",
        "df[\"Education\"]= df[\"Education\"].replace(\"unknown\", 4)\n",
        "\n",
        "# A qué se dedicaba\n",
        "df[\"Occupation\"]= df[\"Occupation\"].replace(\"farming\", 1)\n",
        "df[\"Occupation\"]= df[\"Occupation\"].replace(\"household\", 2)\n",
        "df[\"Occupation\"]= df[\"Occupation\"].replace(\"others/unknown\", \"others\")\n",
        "df[\"Occupation\"]= df[\"Occupation\"].replace(\"others\", 3)\n",
        "df[\"Occupation\"]= df[\"Occupation\"].replace(\"professional\", 4)\n",
        "df[\"Occupation\"]= df[\"Occupation\"].replace(\"student\", 5)\n",
        "df[\"Occupation\"]= df[\"Occupation\"].replace(\"unemployed\", 6)\n",
        "df[\"Occupation\"]= df[\"Occupation\"].replace(\"business/service\", 7)\n",
        "df[\"Occupation\"]= df[\"Occupation\"].replace(\"worker\", 8)\n",
        "df[\"Occupation\"]= df[\"Occupation\"].replace(\"retiree\", 9)\n",
        "\n",
        "# El metodo que escogio para cometer suicidio (o intento de suicidio)\n",
        "df[\"method\"]= df[\"method\"].replace(\"Pesticide\", 1)\n",
        "df[\"method\"]= df[\"method\"].replace(\"Hanging\", 2)\n",
        "df[\"method\"]= df[\"method\"].replace(\"Other poison\", \"Poison unspec\")\n",
        "df[\"method\"]= df[\"method\"].replace(\"Poison unspec\", 3)\n",
        "df[\"method\"]= df[\"method\"].replace(\"unspecified\", 4)\n",
        "df[\"method\"]= df[\"method\"].replace(\"Cutting\", 5)\n",
        "df[\"method\"]= df[\"method\"].replace(\"Drowning\", 6)\n",
        "df[\"method\"]= df[\"method\"].replace(\"Jumping\", 7)\n",
        "df[\"method\"]= df[\"method\"].replace(\"Others\", 4)"
      ]
    },
    {
      "cell_type": "code",
      "execution_count": null,
      "metadata": {
        "id": "QkdHdip1Stwj"
      },
      "outputs": [],
      "source": [
        "# Variable objetivo: \"Died\"\n",
        "\n",
        "y = df['Died']\n",
        "X = df.drop(columns = 'Died')"
      ]
    },
    {
      "cell_type": "code",
      "execution_count": null,
      "metadata": {
        "id": "O06wyKE_Stud"
      },
      "outputs": [],
      "source": [
        "# Hacemos el test train split\n",
        "\n",
        "X_train, X_test, y_train, y_test = train_test_split(X, y, random_state=42)"
      ]
    },
    {
      "cell_type": "code",
      "execution_count": null,
      "metadata": {
        "id": "P-bsBt2zStsM"
      },
      "outputs": [],
      "source": [
        "# Aplicamos el modelo de arboles de decision\n",
        "\n",
        "DecisionTreeClassifier,\n",
        "dec_tree = DecisionTreeClassifier(random_state = 42)"
      ]
    },
    {
      "cell_type": "code",
      "execution_count": null,
      "metadata": {
        "id": "6OJWrPJSW77P",
        "colab": {
          "base_uri": "https://localhost:8080/",
          "height": 75
        },
        "outputId": "8b13fa42-2dec-4c45-809e-a3c75095bf7f"
      },
      "outputs": [
        {
          "output_type": "execute_result",
          "data": {
            "text/plain": [
              "DecisionTreeClassifier(random_state=42)"
            ],
            "text/html": [
              "<style>#sk-container-id-1 {color: black;background-color: white;}#sk-container-id-1 pre{padding: 0;}#sk-container-id-1 div.sk-toggleable {background-color: white;}#sk-container-id-1 label.sk-toggleable__label {cursor: pointer;display: block;width: 100%;margin-bottom: 0;padding: 0.3em;box-sizing: border-box;text-align: center;}#sk-container-id-1 label.sk-toggleable__label-arrow:before {content: \"▸\";float: left;margin-right: 0.25em;color: #696969;}#sk-container-id-1 label.sk-toggleable__label-arrow:hover:before {color: black;}#sk-container-id-1 div.sk-estimator:hover label.sk-toggleable__label-arrow:before {color: black;}#sk-container-id-1 div.sk-toggleable__content {max-height: 0;max-width: 0;overflow: hidden;text-align: left;background-color: #f0f8ff;}#sk-container-id-1 div.sk-toggleable__content pre {margin: 0.2em;color: black;border-radius: 0.25em;background-color: #f0f8ff;}#sk-container-id-1 input.sk-toggleable__control:checked~div.sk-toggleable__content {max-height: 200px;max-width: 100%;overflow: auto;}#sk-container-id-1 input.sk-toggleable__control:checked~label.sk-toggleable__label-arrow:before {content: \"▾\";}#sk-container-id-1 div.sk-estimator input.sk-toggleable__control:checked~label.sk-toggleable__label {background-color: #d4ebff;}#sk-container-id-1 div.sk-label input.sk-toggleable__control:checked~label.sk-toggleable__label {background-color: #d4ebff;}#sk-container-id-1 input.sk-hidden--visually {border: 0;clip: rect(1px 1px 1px 1px);clip: rect(1px, 1px, 1px, 1px);height: 1px;margin: -1px;overflow: hidden;padding: 0;position: absolute;width: 1px;}#sk-container-id-1 div.sk-estimator {font-family: monospace;background-color: #f0f8ff;border: 1px dotted black;border-radius: 0.25em;box-sizing: border-box;margin-bottom: 0.5em;}#sk-container-id-1 div.sk-estimator:hover {background-color: #d4ebff;}#sk-container-id-1 div.sk-parallel-item::after {content: \"\";width: 100%;border-bottom: 1px solid gray;flex-grow: 1;}#sk-container-id-1 div.sk-label:hover label.sk-toggleable__label {background-color: #d4ebff;}#sk-container-id-1 div.sk-serial::before {content: \"\";position: absolute;border-left: 1px solid gray;box-sizing: border-box;top: 0;bottom: 0;left: 50%;z-index: 0;}#sk-container-id-1 div.sk-serial {display: flex;flex-direction: column;align-items: center;background-color: white;padding-right: 0.2em;padding-left: 0.2em;position: relative;}#sk-container-id-1 div.sk-item {position: relative;z-index: 1;}#sk-container-id-1 div.sk-parallel {display: flex;align-items: stretch;justify-content: center;background-color: white;position: relative;}#sk-container-id-1 div.sk-item::before, #sk-container-id-1 div.sk-parallel-item::before {content: \"\";position: absolute;border-left: 1px solid gray;box-sizing: border-box;top: 0;bottom: 0;left: 50%;z-index: -1;}#sk-container-id-1 div.sk-parallel-item {display: flex;flex-direction: column;z-index: 1;position: relative;background-color: white;}#sk-container-id-1 div.sk-parallel-item:first-child::after {align-self: flex-end;width: 50%;}#sk-container-id-1 div.sk-parallel-item:last-child::after {align-self: flex-start;width: 50%;}#sk-container-id-1 div.sk-parallel-item:only-child::after {width: 0;}#sk-container-id-1 div.sk-dashed-wrapped {border: 1px dashed gray;margin: 0 0.4em 0.5em 0.4em;box-sizing: border-box;padding-bottom: 0.4em;background-color: white;}#sk-container-id-1 div.sk-label label {font-family: monospace;font-weight: bold;display: inline-block;line-height: 1.2em;}#sk-container-id-1 div.sk-label-container {text-align: center;}#sk-container-id-1 div.sk-container {/* jupyter's `normalize.less` sets `[hidden] { display: none; }` but bootstrap.min.css set `[hidden] { display: none !important; }` so we also need the `!important` here to be able to override the default hidden behavior on the sphinx rendered scikit-learn.org. See: https://github.com/scikit-learn/scikit-learn/issues/21755 */display: inline-block !important;position: relative;}#sk-container-id-1 div.sk-text-repr-fallback {display: none;}</style><div id=\"sk-container-id-1\" class=\"sk-top-container\"><div class=\"sk-text-repr-fallback\"><pre>DecisionTreeClassifier(random_state=42)</pre><b>In a Jupyter environment, please rerun this cell to show the HTML representation or trust the notebook. <br />On GitHub, the HTML representation is unable to render, please try loading this page with nbviewer.org.</b></div><div class=\"sk-container\" hidden><div class=\"sk-item\"><div class=\"sk-estimator sk-toggleable\"><input class=\"sk-toggleable__control sk-hidden--visually\" id=\"sk-estimator-id-1\" type=\"checkbox\" checked><label for=\"sk-estimator-id-1\" class=\"sk-toggleable__label sk-toggleable__label-arrow\">DecisionTreeClassifier</label><div class=\"sk-toggleable__content\"><pre>DecisionTreeClassifier(random_state=42)</pre></div></div></div></div></div>"
            ]
          },
          "metadata": {},
          "execution_count": 70
        }
      ],
      "source": [
        "# Ajustamos el modelo utilizando los datos de entrenamiento\n",
        "\n",
        "dec_tree.fit(X_train, y_train)"
      ]
    },
    {
      "cell_type": "code",
      "execution_count": null,
      "metadata": {
        "id": "cIP5XNqbW75t"
      },
      "outputs": [],
      "source": [
        "# Predecir los valores objetivos para el conjunto de entrenamiento y de prueba.\n",
        "\n",
        "train_preds = dec_tree.predict(X_train)\n",
        "test_preds = dec_tree.predict(X_test)"
      ]
    },
    {
      "cell_type": "code",
      "execution_count": null,
      "metadata": {
        "id": "jWOY7uRzW73Y",
        "colab": {
          "base_uri": "https://localhost:8080/"
        },
        "outputId": "5276bfd0-450b-471c-b198-c802ec93695d"
      },
      "outputs": [
        {
          "output_type": "stream",
          "name": "stdout",
          "text": [
            "0.9984439834024896\n",
            "0.8444790046656299\n"
          ]
        }
      ],
      "source": [
        "# Y finalmente toca evaluar el modelo:\n",
        "\n",
        "train_score = dec_tree.score(X_train, y_train)\n",
        "test_score = dec_tree.score(X_test, y_test)\n",
        "print(train_score)\n",
        "print(test_score)"
      ]
    },
    {
      "cell_type": "code",
      "execution_count": null,
      "metadata": {
        "id": "PrRJADQ-Ze4S",
        "colab": {
          "base_uri": "https://localhost:8080/",
          "height": 35
        },
        "outputId": "9707cb36-2073-4cf0-d04e-84df8344eee0"
      },
      "outputs": [
        {
          "output_type": "execute_result",
          "data": {
            "text/plain": [
              "' ===================== Segundo Modelo: Random Forest ===================== '"
            ],
            "application/vnd.google.colaboratory.intrinsic+json": {
              "type": "string"
            }
          },
          "metadata": {},
          "execution_count": 73
        }
      ],
      "source": [
        "\" ===================== Segundo Modelo: Random Forest ===================== \""
      ]
    },
    {
      "cell_type": "code",
      "execution_count": null,
      "metadata": {
        "id": "gYycpz8OZe2L"
      },
      "outputs": [],
      "source": [
        "# Correré la base de datos de nuevo y todo lo modificado para comenzar a trabajar con el otro modelo.\n",
        "\n",
        "# Cargamos la base de datps\n",
        "df = pd.read_csv(\"/content/SuicideChina.csv\")\n",
        "\n",
        "# Eliminamos las columnas innecesarias\n",
        "df = df.drop(columns = ['Unnamed: 0', 'Person_ID'])\n",
        "\n",
        "# Cambiamos las columnas que son categoricas como valores numericos:\n",
        "\n",
        "# Si fue Hospitalizado o no\n",
        "df[\"Hospitalised\"]= df[\"Hospitalised\"].replace(\"yes\", 1)\n",
        "df[\"Hospitalised\"]= df[\"Hospitalised\"].replace(\"no\", 0)\n",
        "\n",
        "# Si falleció o no\n",
        "df[\"Died\"]= df[\"Died\"].replace(\"yes\", 1)\n",
        "df[\"Died\"]= df[\"Died\"].replace(\"no\", 0)\n",
        "\n",
        "# si vivia en una zona urbana o rural\n",
        "df[\"Urban\"]= df[\"Urban\"].replace(\"yes\", 1)\n",
        "df[\"Urban\"]= df[\"Urban\"].replace(\"no\", 0)\n",
        "df[\"Urban\"]= df[\"Urban\"].replace(\"unknown\", 2)\n",
        "\n",
        "# De qué genero era\n",
        "df[\"Sex\"]= df[\"Sex\"].replace(\"female\", 1)\n",
        "df[\"Sex\"]= df[\"Sex\"].replace(\"male\", 0)\n",
        "\n",
        "# La educación que tenía\n",
        "df[\"Education\"]= df[\"Education\"].replace(\"iliterate\", 0)\n",
        "df[\"Education\"]= df[\"Education\"].replace(\"primary\", 1)\n",
        "df[\"Education\"]= df[\"Education\"].replace(\"Secondary\", 2)\n",
        "df[\"Education\"]= df[\"Education\"].replace(\"Tertiary\", 3)\n",
        "df[\"Education\"]= df[\"Education\"].replace(\"unknown\", 4)\n",
        "\n",
        "# A qué se dedicaba\n",
        "df[\"Occupation\"]= df[\"Occupation\"].replace(\"farming\", 1)\n",
        "df[\"Occupation\"]= df[\"Occupation\"].replace(\"household\", 2)\n",
        "df[\"Occupation\"]= df[\"Occupation\"].replace(\"others/unknown\", \"others\")\n",
        "df[\"Occupation\"]= df[\"Occupation\"].replace(\"others\", 3)\n",
        "df[\"Occupation\"]= df[\"Occupation\"].replace(\"professional\", 4)\n",
        "df[\"Occupation\"]= df[\"Occupation\"].replace(\"student\", 5)\n",
        "df[\"Occupation\"]= df[\"Occupation\"].replace(\"unemployed\", 6)\n",
        "df[\"Occupation\"]= df[\"Occupation\"].replace(\"business/service\", 7)\n",
        "df[\"Occupation\"]= df[\"Occupation\"].replace(\"worker\", 8)\n",
        "df[\"Occupation\"]= df[\"Occupation\"].replace(\"retiree\", 9)\n",
        "\n",
        "# El metodo que escogio para cometer suicidio (o intento de suicidio)\n",
        "df[\"method\"]= df[\"method\"].replace(\"Pesticide\", 1)\n",
        "df[\"method\"]= df[\"method\"].replace(\"Hanging\", 2)\n",
        "df[\"method\"]= df[\"method\"].replace(\"Other poison\", \"Poison unspec\")\n",
        "df[\"method\"]= df[\"method\"].replace(\"Poison unspec\", 3)\n",
        "df[\"method\"]= df[\"method\"].replace(\"unspecified\", 4)\n",
        "df[\"method\"]= df[\"method\"].replace(\"Cutting\", 5)\n",
        "df[\"method\"]= df[\"method\"].replace(\"Drowning\", 6)\n",
        "df[\"method\"]= df[\"method\"].replace(\"Jumping\", 7)\n",
        "df[\"method\"]= df[\"method\"].replace(\"Others\", 4)"
      ]
    },
    {
      "cell_type": "code",
      "execution_count": null,
      "metadata": {
        "id": "rKDSeUEvZez5"
      },
      "outputs": [],
      "source": [
        "# Ordenen los datos en matriz de características y vector objetivo\n",
        "\n",
        "X = df.drop(columns = 'Died')\n",
        "y = df['Died']\n",
        "\n",
        "# Dividan los datos para la validación\n",
        "\n",
        "X_train, X_test, y_train, y_test = train_test_split(X, y, random_state=42)"
      ]
    },
    {
      "cell_type": "code",
      "execution_count": null,
      "metadata": {
        "id": "KqVxf9baZexy"
      },
      "outputs": [],
      "source": [
        "# Aplicamos el modelo\n",
        "\n",
        "rf = RandomForestClassifier(random_state = 42)"
      ]
    },
    {
      "cell_type": "code",
      "execution_count": null,
      "metadata": {
        "id": "rz_UyDQ5Zevs",
        "colab": {
          "base_uri": "https://localhost:8080/"
        },
        "outputId": "c3d5b346-45bb-4445-a5f6-f138a2034e16"
      },
      "outputs": [
        {
          "output_type": "execute_result",
          "data": {
            "text/plain": [
              "{'bootstrap': True,\n",
              " 'ccp_alpha': 0.0,\n",
              " 'class_weight': None,\n",
              " 'criterion': 'gini',\n",
              " 'max_depth': None,\n",
              " 'max_features': 'sqrt',\n",
              " 'max_leaf_nodes': None,\n",
              " 'max_samples': None,\n",
              " 'min_impurity_decrease': 0.0,\n",
              " 'min_samples_leaf': 1,\n",
              " 'min_samples_split': 2,\n",
              " 'min_weight_fraction_leaf': 0.0,\n",
              " 'n_estimators': 100,\n",
              " 'n_jobs': None,\n",
              " 'oob_score': False,\n",
              " 'random_state': 42,\n",
              " 'verbose': 0,\n",
              " 'warm_start': False}"
            ]
          },
          "metadata": {},
          "execution_count": 77
        }
      ],
      "source": [
        "# Vemos hiperparametros\n",
        "\n",
        "rf.get_params()"
      ]
    },
    {
      "cell_type": "code",
      "execution_count": null,
      "metadata": {
        "id": "rPXuiqLiZer-",
        "colab": {
          "base_uri": "https://localhost:8080/",
          "height": 75
        },
        "outputId": "f9488d8e-28d8-4fd0-f693-16e6418045af"
      },
      "outputs": [
        {
          "output_type": "execute_result",
          "data": {
            "text/plain": [
              "RandomForestClassifier(random_state=42)"
            ],
            "text/html": [
              "<style>#sk-container-id-2 {color: black;background-color: white;}#sk-container-id-2 pre{padding: 0;}#sk-container-id-2 div.sk-toggleable {background-color: white;}#sk-container-id-2 label.sk-toggleable__label {cursor: pointer;display: block;width: 100%;margin-bottom: 0;padding: 0.3em;box-sizing: border-box;text-align: center;}#sk-container-id-2 label.sk-toggleable__label-arrow:before {content: \"▸\";float: left;margin-right: 0.25em;color: #696969;}#sk-container-id-2 label.sk-toggleable__label-arrow:hover:before {color: black;}#sk-container-id-2 div.sk-estimator:hover label.sk-toggleable__label-arrow:before {color: black;}#sk-container-id-2 div.sk-toggleable__content {max-height: 0;max-width: 0;overflow: hidden;text-align: left;background-color: #f0f8ff;}#sk-container-id-2 div.sk-toggleable__content pre {margin: 0.2em;color: black;border-radius: 0.25em;background-color: #f0f8ff;}#sk-container-id-2 input.sk-toggleable__control:checked~div.sk-toggleable__content {max-height: 200px;max-width: 100%;overflow: auto;}#sk-container-id-2 input.sk-toggleable__control:checked~label.sk-toggleable__label-arrow:before {content: \"▾\";}#sk-container-id-2 div.sk-estimator input.sk-toggleable__control:checked~label.sk-toggleable__label {background-color: #d4ebff;}#sk-container-id-2 div.sk-label input.sk-toggleable__control:checked~label.sk-toggleable__label {background-color: #d4ebff;}#sk-container-id-2 input.sk-hidden--visually {border: 0;clip: rect(1px 1px 1px 1px);clip: rect(1px, 1px, 1px, 1px);height: 1px;margin: -1px;overflow: hidden;padding: 0;position: absolute;width: 1px;}#sk-container-id-2 div.sk-estimator {font-family: monospace;background-color: #f0f8ff;border: 1px dotted black;border-radius: 0.25em;box-sizing: border-box;margin-bottom: 0.5em;}#sk-container-id-2 div.sk-estimator:hover {background-color: #d4ebff;}#sk-container-id-2 div.sk-parallel-item::after {content: \"\";width: 100%;border-bottom: 1px solid gray;flex-grow: 1;}#sk-container-id-2 div.sk-label:hover label.sk-toggleable__label {background-color: #d4ebff;}#sk-container-id-2 div.sk-serial::before {content: \"\";position: absolute;border-left: 1px solid gray;box-sizing: border-box;top: 0;bottom: 0;left: 50%;z-index: 0;}#sk-container-id-2 div.sk-serial {display: flex;flex-direction: column;align-items: center;background-color: white;padding-right: 0.2em;padding-left: 0.2em;position: relative;}#sk-container-id-2 div.sk-item {position: relative;z-index: 1;}#sk-container-id-2 div.sk-parallel {display: flex;align-items: stretch;justify-content: center;background-color: white;position: relative;}#sk-container-id-2 div.sk-item::before, #sk-container-id-2 div.sk-parallel-item::before {content: \"\";position: absolute;border-left: 1px solid gray;box-sizing: border-box;top: 0;bottom: 0;left: 50%;z-index: -1;}#sk-container-id-2 div.sk-parallel-item {display: flex;flex-direction: column;z-index: 1;position: relative;background-color: white;}#sk-container-id-2 div.sk-parallel-item:first-child::after {align-self: flex-end;width: 50%;}#sk-container-id-2 div.sk-parallel-item:last-child::after {align-self: flex-start;width: 50%;}#sk-container-id-2 div.sk-parallel-item:only-child::after {width: 0;}#sk-container-id-2 div.sk-dashed-wrapped {border: 1px dashed gray;margin: 0 0.4em 0.5em 0.4em;box-sizing: border-box;padding-bottom: 0.4em;background-color: white;}#sk-container-id-2 div.sk-label label {font-family: monospace;font-weight: bold;display: inline-block;line-height: 1.2em;}#sk-container-id-2 div.sk-label-container {text-align: center;}#sk-container-id-2 div.sk-container {/* jupyter's `normalize.less` sets `[hidden] { display: none; }` but bootstrap.min.css set `[hidden] { display: none !important; }` so we also need the `!important` here to be able to override the default hidden behavior on the sphinx rendered scikit-learn.org. See: https://github.com/scikit-learn/scikit-learn/issues/21755 */display: inline-block !important;position: relative;}#sk-container-id-2 div.sk-text-repr-fallback {display: none;}</style><div id=\"sk-container-id-2\" class=\"sk-top-container\"><div class=\"sk-text-repr-fallback\"><pre>RandomForestClassifier(random_state=42)</pre><b>In a Jupyter environment, please rerun this cell to show the HTML representation or trust the notebook. <br />On GitHub, the HTML representation is unable to render, please try loading this page with nbviewer.org.</b></div><div class=\"sk-container\" hidden><div class=\"sk-item\"><div class=\"sk-estimator sk-toggleable\"><input class=\"sk-toggleable__control sk-hidden--visually\" id=\"sk-estimator-id-2\" type=\"checkbox\" checked><label for=\"sk-estimator-id-2\" class=\"sk-toggleable__label sk-toggleable__label-arrow\">RandomForestClassifier</label><div class=\"sk-toggleable__content\"><pre>RandomForestClassifier(random_state=42)</pre></div></div></div></div></div>"
            ]
          },
          "metadata": {},
          "execution_count": 78
        }
      ],
      "source": [
        "# Aprende relacion entre X e y\n",
        "\n",
        "rf.fit(X_train, y_train)"
      ]
    },
    {
      "cell_type": "code",
      "execution_count": null,
      "metadata": {
        "id": "5wXXj1vRZep6",
        "colab": {
          "base_uri": "https://localhost:8080/"
        },
        "outputId": "4ced7378-773d-48d6-eea6-326459c5a79e"
      },
      "outputs": [
        {
          "output_type": "execute_result",
          "data": {
            "text/plain": [
              "array([0, 1, 0, 1, 0, 1, 0, 0, 1, 0, 1, 0, 0, 1, 0, 0, 0, 1, 1, 0, 1, 0,\n",
              "       1, 1, 0, 1, 1, 1, 1, 1, 1, 1, 0, 0, 1, 0, 1, 1, 0, 1, 1, 0, 1, 1,\n",
              "       0, 0, 0, 0, 0, 0, 0, 0, 1, 0, 0, 0, 1, 0, 0, 0, 1, 0, 1, 0, 1, 0,\n",
              "       1, 1, 0, 0, 1, 0, 0, 0, 0, 0, 1, 1, 0, 0, 0, 0, 1, 1, 0, 0, 0, 0,\n",
              "       0, 0, 1, 0, 1, 0, 0, 0, 0, 0, 0, 0, 1, 1, 0, 0, 0, 0, 1, 0, 0, 1,\n",
              "       0, 0, 0, 1, 1, 0, 0, 1, 0, 0, 0, 1, 0, 1, 1, 1, 1, 0, 1, 0, 0, 0,\n",
              "       1, 0, 1, 1, 0, 0, 0, 0, 1, 1, 1, 1, 0, 1, 0, 1, 0, 1, 0, 0, 1, 1,\n",
              "       0, 0, 1, 0, 1, 0, 1, 1, 0, 0, 0, 0, 0, 0, 1, 0, 0, 1, 0, 0, 1, 0,\n",
              "       1, 1, 1, 1, 0, 0, 1, 0, 1, 1, 1, 1, 1, 0, 1, 1, 1, 0, 0, 0, 0, 0,\n",
              "       1, 1, 0, 0, 0, 0, 0, 0, 0, 0, 0, 0, 1, 0, 0, 0, 0, 0, 1, 0, 1, 0,\n",
              "       1, 0, 0, 0, 1, 0, 1, 1, 0, 0, 1, 0, 1, 0, 0, 1, 0, 0, 1, 0, 0, 0,\n",
              "       0, 0, 0, 0, 1, 0, 0, 0, 0, 1, 1, 1, 0, 0, 0, 1, 0, 0, 0, 0, 1, 0,\n",
              "       0, 0, 0, 0, 0, 1, 0, 0, 0, 0, 1, 1, 0, 1, 0, 1, 0, 1, 0, 0, 1, 1,\n",
              "       1, 0, 1, 0, 0, 1, 0, 0, 0, 1, 0, 1, 0, 0, 0, 1, 1, 0, 0, 0, 0, 0,\n",
              "       0, 0, 1, 1, 1, 1, 0, 0, 1, 1, 1, 0, 0, 0, 0, 1, 1, 1, 0, 0, 0, 0,\n",
              "       0, 0, 0, 0, 0, 1, 1, 1, 0, 0, 1, 1, 1, 0, 1, 0, 0, 0, 0, 1, 1, 0,\n",
              "       0, 0, 1, 1, 1, 0, 0, 1, 0, 0, 1, 0, 1, 1, 0, 0, 0, 0, 0, 0, 1, 0,\n",
              "       1, 0, 1, 0, 0, 1, 1, 0, 0, 1, 1, 0, 1, 1, 1, 1, 1, 0, 0, 0, 0, 1,\n",
              "       1, 0, 1, 1, 1, 0, 0, 0, 0, 1, 0, 0, 0, 1, 0, 1, 1, 0, 0, 1, 1, 1,\n",
              "       0, 1, 1, 1, 0, 1, 0, 1, 0, 1, 0, 0, 1, 0, 1, 1, 1, 0, 0, 0, 1, 0,\n",
              "       0, 0, 0, 0, 1, 0, 0, 1, 0, 0, 1, 1, 0, 1, 1, 0, 0, 0, 1, 1, 1, 1,\n",
              "       0, 0, 1, 0, 0, 1, 1, 1, 1, 0, 0, 1, 0, 0, 0, 1, 0, 0, 0, 0, 0, 0,\n",
              "       0, 0, 0, 1, 0, 0, 0, 0, 1, 0, 0, 1, 0, 0, 1, 1, 1, 1, 1, 0, 0, 0,\n",
              "       0, 0, 1, 1, 0, 0, 1, 1, 0, 0, 0, 1, 0, 0, 1, 0, 0, 0, 0, 1, 1, 0,\n",
              "       0, 1, 0, 1, 0, 0, 0, 0, 1, 0, 1, 0, 0, 1, 1, 0, 1, 0, 0, 1, 1, 1,\n",
              "       0, 0, 0, 1, 0, 1, 1, 1, 1, 1, 1, 0, 1, 1, 0, 1, 0, 1, 1, 1, 0, 0,\n",
              "       0, 1, 0, 1, 1, 0, 0, 0, 1, 0, 1, 1, 1, 0, 0, 0, 1, 0, 0, 1, 0, 0,\n",
              "       0, 1, 0, 0, 0, 0, 0, 1, 0, 1, 1, 0, 0, 0, 0, 1, 0, 1, 1, 1, 0, 0,\n",
              "       0, 0, 1, 0, 0, 0, 1, 0, 1, 0, 0, 1, 1, 0, 1, 0, 0, 1, 0, 1, 0, 0,\n",
              "       1, 0, 1, 1, 0])"
            ]
          },
          "metadata": {},
          "execution_count": 79
        }
      ],
      "source": [
        "# Predecir los valores para y\n",
        "\n",
        "rf.predict(X_test)"
      ]
    },
    {
      "cell_type": "code",
      "execution_count": null,
      "metadata": {
        "id": "By0NfsfgZenz",
        "colab": {
          "base_uri": "https://localhost:8080/"
        },
        "outputId": "df610653-3451-4a74-d6a3-07574051ac19"
      },
      "outputs": [
        {
          "output_type": "stream",
          "name": "stdout",
          "text": [
            "0.9984439834024896\n",
            "0.8724727838258165\n"
          ]
        }
      ],
      "source": [
        "# Evaluar el modelo\n",
        "\n",
        "rf_train_score = rf.score(X_train, y_train)\n",
        "rf_test_score = rf.score(X_test, y_test)\n",
        "print(rf_train_score)\n",
        "print(rf_test_score)"
      ]
    },
    {
      "cell_type": "code",
      "execution_count": null,
      "metadata": {
        "id": "bjZuRzUYaGQm"
      },
      "outputs": [],
      "source": [
        "# Afinaremos el modelo porque parece estar sobreajustado"
      ]
    },
    {
      "cell_type": "code",
      "execution_count": null,
      "metadata": {
        "id": "QdzDQEayaGOg",
        "colab": {
          "base_uri": "https://localhost:8080/"
        },
        "outputId": "979cede8-a58b-4fcf-b8a2-f4fafeb29e3c"
      },
      "outputs": [
        {
          "output_type": "stream",
          "name": "stdout",
          "text": [
            "0.9154564315352697\n",
            "0.8833592534992224\n"
          ]
        }
      ],
      "source": [
        "rf_2 = RandomForestClassifier(max_depth = 2, random_state = 42)\n",
        "rf_2.fit(X_train, y_train)\n",
        "rf_2_train_score = rf_2.score(X_train, y_train)\n",
        "rf_2_test_score = rf_2.score(X_test, y_test)\n",
        "print(rf_2_train_score)\n",
        "print(rf_2_test_score)"
      ]
    },
    {
      "cell_type": "code",
      "execution_count": null,
      "metadata": {
        "id": "H8GLZXaBaGHq"
      },
      "outputs": [],
      "source": [
        "# Ahí se ve mejor. Y el resultado se parece mucho a con el modelo anterior."
      ]
    },
    {
      "cell_type": "code",
      "execution_count": null,
      "metadata": {
        "id": "e9yZgXXCaGFY",
        "colab": {
          "base_uri": "https://localhost:8080/",
          "height": 35
        },
        "outputId": "c9984f80-9126-499b-d1ea-b0a268f50af2"
      },
      "outputs": [
        {
          "output_type": "execute_result",
          "data": {
            "text/plain": [
              "' ===================== Tercero Modelo: Redes Neuronales ===================== '"
            ],
            "application/vnd.google.colaboratory.intrinsic+json": {
              "type": "string"
            }
          },
          "metadata": {},
          "execution_count": 84
        }
      ],
      "source": [
        "\" ===================== Tercero Modelo: Redes Neuronales ===================== \""
      ]
    },
    {
      "cell_type": "code",
      "execution_count": null,
      "metadata": {
        "id": "T6jU5TE4aGCt"
      },
      "outputs": [],
      "source": [
        "# Correré la base de datos de nuevo y todo lo modificado para comenzar a trabajar con el otro modelo.\n",
        "\n",
        "# Cargamos la base de datps\n",
        "df = pd.read_csv(\"/content/SuicideChina.csv\")\n",
        "\n",
        "# Eliminamos las columnas innecesarias\n",
        "df = df.drop(columns = ['Unnamed: 0', 'Person_ID'])\n",
        "\n",
        "# Cambiamos las columnas que son categoricas como valores numericos:\n",
        "\n",
        "# Si fue Hospitalizado o no\n",
        "df[\"Hospitalised\"]= df[\"Hospitalised\"].replace(\"yes\", 1)\n",
        "df[\"Hospitalised\"]= df[\"Hospitalised\"].replace(\"no\", 0)\n",
        "\n",
        "# Si falleció o no\n",
        "df[\"Died\"]= df[\"Died\"].replace(\"yes\", 1)\n",
        "df[\"Died\"]= df[\"Died\"].replace(\"no\", 0)\n",
        "\n",
        "# si vivia en una zona urbana o rural\n",
        "df[\"Urban\"]= df[\"Urban\"].replace(\"yes\", 1)\n",
        "df[\"Urban\"]= df[\"Urban\"].replace(\"no\", 0)\n",
        "df[\"Urban\"]= df[\"Urban\"].replace(\"unknown\", 2)\n",
        "\n",
        "# De qué genero era\n",
        "df[\"Sex\"]= df[\"Sex\"].replace(\"female\", 1)\n",
        "df[\"Sex\"]= df[\"Sex\"].replace(\"male\", 0)\n",
        "\n",
        "# La educación que tenía\n",
        "df[\"Education\"]= df[\"Education\"].replace(\"iliterate\", 0)\n",
        "df[\"Education\"]= df[\"Education\"].replace(\"primary\", 1)\n",
        "df[\"Education\"]= df[\"Education\"].replace(\"Secondary\", 2)\n",
        "df[\"Education\"]= df[\"Education\"].replace(\"Tertiary\", 3)\n",
        "df[\"Education\"]= df[\"Education\"].replace(\"unknown\", 4)\n",
        "\n",
        "# A qué se dedicaba\n",
        "df[\"Occupation\"]= df[\"Occupation\"].replace(\"farming\", 1)\n",
        "df[\"Occupation\"]= df[\"Occupation\"].replace(\"household\", 2)\n",
        "df[\"Occupation\"]= df[\"Occupation\"].replace(\"others/unknown\", \"others\")\n",
        "df[\"Occupation\"]= df[\"Occupation\"].replace(\"others\", 3)\n",
        "df[\"Occupation\"]= df[\"Occupation\"].replace(\"professional\", 4)\n",
        "df[\"Occupation\"]= df[\"Occupation\"].replace(\"student\", 5)\n",
        "df[\"Occupation\"]= df[\"Occupation\"].replace(\"unemployed\", 6)\n",
        "df[\"Occupation\"]= df[\"Occupation\"].replace(\"business/service\", 7)\n",
        "df[\"Occupation\"]= df[\"Occupation\"].replace(\"worker\", 8)\n",
        "df[\"Occupation\"]= df[\"Occupation\"].replace(\"retiree\", 9)\n",
        "\n",
        "# El metodo que escogio para cometer suicidio (o intento de suicidio)\n",
        "df[\"method\"]= df[\"method\"].replace(\"Pesticide\", 1)\n",
        "df[\"method\"]= df[\"method\"].replace(\"Hanging\", 2)\n",
        "df[\"method\"]= df[\"method\"].replace(\"Other poison\", \"Poison unspec\")\n",
        "df[\"method\"]= df[\"method\"].replace(\"Poison unspec\", 3)\n",
        "df[\"method\"]= df[\"method\"].replace(\"unspecified\", 4)\n",
        "df[\"method\"]= df[\"method\"].replace(\"Cutting\", 5)\n",
        "df[\"method\"]= df[\"method\"].replace(\"Drowning\", 6)\n",
        "df[\"method\"]= df[\"method\"].replace(\"Jumping\", 7)\n",
        "df[\"method\"]= df[\"method\"].replace(\"Others\", 4)"
      ]
    },
    {
      "cell_type": "code",
      "execution_count": null,
      "metadata": {
        "id": "NNT04btsg835",
        "colab": {
          "base_uri": "https://localhost:8080/",
          "height": 206
        },
        "outputId": "90062f00-ce51-4ae5-b5fa-ef789c89f5fa"
      },
      "outputs": [
        {
          "output_type": "execute_result",
          "data": {
            "text/plain": [
              "   Hospitalised      Died     Urban      Year     Month       Sex       Age  \\\n",
              "0      0.809633 -0.977309 -0.377489 -0.057513  1.780720  0.967468 -0.689123   \n",
              "1     -1.235128  1.023218 -0.377489 -1.321323 -1.030118 -1.033626  1.535342   \n",
              "2     -1.235128  1.023218 -0.377489 -0.057513 -1.342434 -1.033626  0.372553   \n",
              "3     -1.235128  1.023218 -0.377489  1.206297 -1.654749 -1.033626  1.029782   \n",
              "4      0.809633 -0.977309 -0.377489 -1.321323  0.531458 -1.033626 -0.082451   \n",
              "\n",
              "   Education  Occupation    method  \n",
              "0   0.649998    0.488736  1.398833  \n",
              "1  -0.430950   -0.401165  0.432578  \n",
              "2  -0.430950   -0.401165  0.432578  \n",
              "3  -0.430950   -0.401165  0.432578  \n",
              "4   0.649998   -0.401165 -0.533676  "
            ],
            "text/html": [
              "\n",
              "  <div id=\"df-ffd05104-cf80-40e3-a883-8522c1950b05\">\n",
              "    <div class=\"colab-df-container\">\n",
              "      <div>\n",
              "<style scoped>\n",
              "    .dataframe tbody tr th:only-of-type {\n",
              "        vertical-align: middle;\n",
              "    }\n",
              "\n",
              "    .dataframe tbody tr th {\n",
              "        vertical-align: top;\n",
              "    }\n",
              "\n",
              "    .dataframe thead th {\n",
              "        text-align: right;\n",
              "    }\n",
              "</style>\n",
              "<table border=\"1\" class=\"dataframe\">\n",
              "  <thead>\n",
              "    <tr style=\"text-align: right;\">\n",
              "      <th></th>\n",
              "      <th>Hospitalised</th>\n",
              "      <th>Died</th>\n",
              "      <th>Urban</th>\n",
              "      <th>Year</th>\n",
              "      <th>Month</th>\n",
              "      <th>Sex</th>\n",
              "      <th>Age</th>\n",
              "      <th>Education</th>\n",
              "      <th>Occupation</th>\n",
              "      <th>method</th>\n",
              "    </tr>\n",
              "  </thead>\n",
              "  <tbody>\n",
              "    <tr>\n",
              "      <th>0</th>\n",
              "      <td>0.809633</td>\n",
              "      <td>-0.977309</td>\n",
              "      <td>-0.377489</td>\n",
              "      <td>-0.057513</td>\n",
              "      <td>1.780720</td>\n",
              "      <td>0.967468</td>\n",
              "      <td>-0.689123</td>\n",
              "      <td>0.649998</td>\n",
              "      <td>0.488736</td>\n",
              "      <td>1.398833</td>\n",
              "    </tr>\n",
              "    <tr>\n",
              "      <th>1</th>\n",
              "      <td>-1.235128</td>\n",
              "      <td>1.023218</td>\n",
              "      <td>-0.377489</td>\n",
              "      <td>-1.321323</td>\n",
              "      <td>-1.030118</td>\n",
              "      <td>-1.033626</td>\n",
              "      <td>1.535342</td>\n",
              "      <td>-0.430950</td>\n",
              "      <td>-0.401165</td>\n",
              "      <td>0.432578</td>\n",
              "    </tr>\n",
              "    <tr>\n",
              "      <th>2</th>\n",
              "      <td>-1.235128</td>\n",
              "      <td>1.023218</td>\n",
              "      <td>-0.377489</td>\n",
              "      <td>-0.057513</td>\n",
              "      <td>-1.342434</td>\n",
              "      <td>-1.033626</td>\n",
              "      <td>0.372553</td>\n",
              "      <td>-0.430950</td>\n",
              "      <td>-0.401165</td>\n",
              "      <td>0.432578</td>\n",
              "    </tr>\n",
              "    <tr>\n",
              "      <th>3</th>\n",
              "      <td>-1.235128</td>\n",
              "      <td>1.023218</td>\n",
              "      <td>-0.377489</td>\n",
              "      <td>1.206297</td>\n",
              "      <td>-1.654749</td>\n",
              "      <td>-1.033626</td>\n",
              "      <td>1.029782</td>\n",
              "      <td>-0.430950</td>\n",
              "      <td>-0.401165</td>\n",
              "      <td>0.432578</td>\n",
              "    </tr>\n",
              "    <tr>\n",
              "      <th>4</th>\n",
              "      <td>0.809633</td>\n",
              "      <td>-0.977309</td>\n",
              "      <td>-0.377489</td>\n",
              "      <td>-1.321323</td>\n",
              "      <td>0.531458</td>\n",
              "      <td>-1.033626</td>\n",
              "      <td>-0.082451</td>\n",
              "      <td>0.649998</td>\n",
              "      <td>-0.401165</td>\n",
              "      <td>-0.533676</td>\n",
              "    </tr>\n",
              "  </tbody>\n",
              "</table>\n",
              "</div>\n",
              "      <button class=\"colab-df-convert\" onclick=\"convertToInteractive('df-ffd05104-cf80-40e3-a883-8522c1950b05')\"\n",
              "              title=\"Convert this dataframe to an interactive table.\"\n",
              "              style=\"display:none;\">\n",
              "        \n",
              "  <svg xmlns=\"http://www.w3.org/2000/svg\" height=\"24px\"viewBox=\"0 0 24 24\"\n",
              "       width=\"24px\">\n",
              "    <path d=\"M0 0h24v24H0V0z\" fill=\"none\"/>\n",
              "    <path d=\"M18.56 5.44l.94 2.06.94-2.06 2.06-.94-2.06-.94-.94-2.06-.94 2.06-2.06.94zm-11 1L8.5 8.5l.94-2.06 2.06-.94-2.06-.94L8.5 2.5l-.94 2.06-2.06.94zm10 10l.94 2.06.94-2.06 2.06-.94-2.06-.94-.94-2.06-.94 2.06-2.06.94z\"/><path d=\"M17.41 7.96l-1.37-1.37c-.4-.4-.92-.59-1.43-.59-.52 0-1.04.2-1.43.59L10.3 9.45l-7.72 7.72c-.78.78-.78 2.05 0 2.83L4 21.41c.39.39.9.59 1.41.59.51 0 1.02-.2 1.41-.59l7.78-7.78 2.81-2.81c.8-.78.8-2.07 0-2.86zM5.41 20L4 18.59l7.72-7.72 1.47 1.35L5.41 20z\"/>\n",
              "  </svg>\n",
              "      </button>\n",
              "      \n",
              "  <style>\n",
              "    .colab-df-container {\n",
              "      display:flex;\n",
              "      flex-wrap:wrap;\n",
              "      gap: 12px;\n",
              "    }\n",
              "\n",
              "    .colab-df-convert {\n",
              "      background-color: #E8F0FE;\n",
              "      border: none;\n",
              "      border-radius: 50%;\n",
              "      cursor: pointer;\n",
              "      display: none;\n",
              "      fill: #1967D2;\n",
              "      height: 32px;\n",
              "      padding: 0 0 0 0;\n",
              "      width: 32px;\n",
              "    }\n",
              "\n",
              "    .colab-df-convert:hover {\n",
              "      background-color: #E2EBFA;\n",
              "      box-shadow: 0px 1px 2px rgba(60, 64, 67, 0.3), 0px 1px 3px 1px rgba(60, 64, 67, 0.15);\n",
              "      fill: #174EA6;\n",
              "    }\n",
              "\n",
              "    [theme=dark] .colab-df-convert {\n",
              "      background-color: #3B4455;\n",
              "      fill: #D2E3FC;\n",
              "    }\n",
              "\n",
              "    [theme=dark] .colab-df-convert:hover {\n",
              "      background-color: #434B5C;\n",
              "      box-shadow: 0px 1px 3px 1px rgba(0, 0, 0, 0.15);\n",
              "      filter: drop-shadow(0px 1px 2px rgba(0, 0, 0, 0.3));\n",
              "      fill: #FFFFFF;\n",
              "    }\n",
              "  </style>\n",
              "\n",
              "      <script>\n",
              "        const buttonEl =\n",
              "          document.querySelector('#df-ffd05104-cf80-40e3-a883-8522c1950b05 button.colab-df-convert');\n",
              "        buttonEl.style.display =\n",
              "          google.colab.kernel.accessAllowed ? 'block' : 'none';\n",
              "\n",
              "        async function convertToInteractive(key) {\n",
              "          const element = document.querySelector('#df-ffd05104-cf80-40e3-a883-8522c1950b05');\n",
              "          const dataTable =\n",
              "            await google.colab.kernel.invokeFunction('convertToInteractive',\n",
              "                                                     [key], {});\n",
              "          if (!dataTable) return;\n",
              "\n",
              "          const docLinkHtml = 'Like what you see? Visit the ' +\n",
              "            '<a target=\"_blank\" href=https://colab.research.google.com/notebooks/data_table.ipynb>data table notebook</a>'\n",
              "            + ' to learn more about interactive tables.';\n",
              "          element.innerHTML = '';\n",
              "          dataTable['output_type'] = 'display_data';\n",
              "          await google.colab.output.renderOutput(dataTable, element);\n",
              "          const docLink = document.createElement('div');\n",
              "          docLink.innerHTML = docLinkHtml;\n",
              "          element.appendChild(docLink);\n",
              "        }\n",
              "      </script>\n",
              "    </div>\n",
              "  </div>\n",
              "  "
            ]
          },
          "metadata": {},
          "execution_count": 86
        }
      ],
      "source": [
        "# Vamos a escalar los datos, para prepararlos para el modelo:\n",
        "\n",
        "scaler = StandardScaler()\n",
        "X_scaled = pd.DataFrame(scaler.fit_transform(df), columns=df.columns)\n",
        "X_scaled.head()"
      ]
    },
    {
      "cell_type": "code",
      "execution_count": null,
      "metadata": {
        "colab": {
          "base_uri": "https://localhost:8080/",
          "height": 766
        },
        "id": "DVcV_FMHg82J",
        "outputId": "16424db3-3fc2-4a34-8933-ade7ce23fc4b"
      },
      "outputs": [
        {
          "output_type": "stream",
          "name": "stderr",
          "text": [
            "/usr/local/lib/python3.10/dist-packages/sklearn/cluster/_kmeans.py:870: FutureWarning: The default value of `n_init` will change from 10 to 'auto' in 1.4. Set the value of `n_init` explicitly to suppress the warning\n",
            "  warnings.warn(\n",
            "/usr/local/lib/python3.10/dist-packages/sklearn/cluster/_kmeans.py:870: FutureWarning: The default value of `n_init` will change from 10 to 'auto' in 1.4. Set the value of `n_init` explicitly to suppress the warning\n",
            "  warnings.warn(\n",
            "/usr/local/lib/python3.10/dist-packages/sklearn/cluster/_kmeans.py:870: FutureWarning: The default value of `n_init` will change from 10 to 'auto' in 1.4. Set the value of `n_init` explicitly to suppress the warning\n",
            "  warnings.warn(\n",
            "/usr/local/lib/python3.10/dist-packages/sklearn/cluster/_kmeans.py:870: FutureWarning: The default value of `n_init` will change from 10 to 'auto' in 1.4. Set the value of `n_init` explicitly to suppress the warning\n",
            "  warnings.warn(\n",
            "/usr/local/lib/python3.10/dist-packages/sklearn/cluster/_kmeans.py:870: FutureWarning: The default value of `n_init` will change from 10 to 'auto' in 1.4. Set the value of `n_init` explicitly to suppress the warning\n",
            "  warnings.warn(\n",
            "/usr/local/lib/python3.10/dist-packages/sklearn/cluster/_kmeans.py:870: FutureWarning: The default value of `n_init` will change from 10 to 'auto' in 1.4. Set the value of `n_init` explicitly to suppress the warning\n",
            "  warnings.warn(\n",
            "/usr/local/lib/python3.10/dist-packages/sklearn/cluster/_kmeans.py:870: FutureWarning: The default value of `n_init` will change from 10 to 'auto' in 1.4. Set the value of `n_init` explicitly to suppress the warning\n",
            "  warnings.warn(\n",
            "/usr/local/lib/python3.10/dist-packages/sklearn/cluster/_kmeans.py:870: FutureWarning: The default value of `n_init` will change from 10 to 'auto' in 1.4. Set the value of `n_init` explicitly to suppress the warning\n",
            "  warnings.warn(\n"
          ]
        },
        {
          "output_type": "display_data",
          "data": {
            "text/plain": [
              "<Figure size 1500x500 with 2 Axes>"
            ],
            "image/png": "[encoded data removed]"
          },
          "metadata": {}
        }
      ],
      "source": [
        "# Lo que hacemos ahora es crear el grafico del codo y el de silluete para saber el numero de clusteres optimos.\n",
        "\n",
        "ks = range(2,10)\n",
        "sils = []\n",
        "inertias = []\n",
        "for k in ks:\n",
        "  kmeans = KMeans(n_clusters=k, random_state=42)\n",
        "  kmeans.fit(X_scaled)\n",
        "  sils.append(silhouette_score(X_scaled, kmeans.labels_))\n",
        "  inertias.append(kmeans.inertia_)\n",
        "fig, axes = plt.subplots(1,2, figsize=(15,5))\n",
        "axes[0].plot(ks, sils)\n",
        "axes[0].set_title('Silhouette Scores')\n",
        "axes[0].set_xticks(ks)\n",
        "axes[1].plot(ks, inertias)\n",
        "axes[1].set_title('Inertia')\n",
        "axes[1].set_xticks(ks);"
      ]
    },
    {
      "cell_type": "code",
      "execution_count": null,
      "metadata": {
        "id": "f5cFezOMg80C",
        "colab": {
          "base_uri": "https://localhost:8080/",
          "height": 261
        },
        "outputId": "8013590c-f7d3-4ee3-eaa5-2df150c54a0a"
      },
      "outputs": [
        {
          "output_type": "stream",
          "name": "stderr",
          "text": [
            "/usr/local/lib/python3.10/dist-packages/sklearn/cluster/_kmeans.py:870: FutureWarning: The default value of `n_init` will change from 10 to 'auto' in 1.4. Set the value of `n_init` explicitly to suppress the warning\n",
            "  warnings.warn(\n"
          ]
        },
        {
          "output_type": "execute_result",
          "data": {
            "text/plain": [
              "   Hospitalised  Died  Urban  Year  Month  Sex  Age  Education  Occupation  \\\n",
              "0             1     0      0  2010     12    1   39          2           2   \n",
              "1             0     1      0  2009      3    0   83          1           1   \n",
              "2             0     1      0  2010      2    0   60          1           1   \n",
              "3             0     1      0  2011      1    0   73          1           1   \n",
              "4             1     0      0  2009      8    0   51          2           1   \n",
              "\n",
              "   method  cluster  \n",
              "0       3        1  \n",
              "1       2        3  \n",
              "2       2        3  \n",
              "3       2        3  \n",
              "4       1        1  "
            ],
            "text/html": [
              "\n",
              "  <div id=\"df-cb8c8808-50c3-49c4-bafb-f0a46b35dba0\">\n",
              "    <div class=\"colab-df-container\">\n",
              "      <div>\n",
              "<style scoped>\n",
              "    .dataframe tbody tr th:only-of-type {\n",
              "        vertical-align: middle;\n",
              "    }\n",
              "\n",
              "    .dataframe tbody tr th {\n",
              "        vertical-align: top;\n",
              "    }\n",
              "\n",
              "    .dataframe thead th {\n",
              "        text-align: right;\n",
              "    }\n",
              "</style>\n",
              "<table border=\"1\" class=\"dataframe\">\n",
              "  <thead>\n",
              "    <tr style=\"text-align: right;\">\n",
              "      <th></th>\n",
              "      <th>Hospitalised</th>\n",
              "      <th>Died</th>\n",
              "      <th>Urban</th>\n",
              "      <th>Year</th>\n",
              "      <th>Month</th>\n",
              "      <th>Sex</th>\n",
              "      <th>Age</th>\n",
              "      <th>Education</th>\n",
              "      <th>Occupation</th>\n",
              "      <th>method</th>\n",
              "      <th>cluster</th>\n",
              "    </tr>\n",
              "  </thead>\n",
              "  <tbody>\n",
              "    <tr>\n",
              "      <th>0</th>\n",
              "      <td>1</td>\n",
              "      <td>0</td>\n",
              "      <td>0</td>\n",
              "      <td>2010</td>\n",
              "      <td>12</td>\n",
              "      <td>1</td>\n",
              "      <td>39</td>\n",
              "      <td>2</td>\n",
              "      <td>2</td>\n",
              "      <td>3</td>\n",
              "      <td>1</td>\n",
              "    </tr>\n",
              "    <tr>\n",
              "      <th>1</th>\n",
              "      <td>0</td>\n",
              "      <td>1</td>\n",
              "      <td>0</td>\n",
              "      <td>2009</td>\n",
              "      <td>3</td>\n",
              "      <td>0</td>\n",
              "      <td>83</td>\n",
              "      <td>1</td>\n",
              "      <td>1</td>\n",
              "      <td>2</td>\n",
              "      <td>3</td>\n",
              "    </tr>\n",
              "    <tr>\n",
              "      <th>2</th>\n",
              "      <td>0</td>\n",
              "      <td>1</td>\n",
              "      <td>0</td>\n",
              "      <td>2010</td>\n",
              "      <td>2</td>\n",
              "      <td>0</td>\n",
              "      <td>60</td>\n",
              "      <td>1</td>\n",
              "      <td>1</td>\n",
              "      <td>2</td>\n",
              "      <td>3</td>\n",
              "    </tr>\n",
              "    <tr>\n",
              "      <th>3</th>\n",
              "      <td>0</td>\n",
              "      <td>1</td>\n",
              "      <td>0</td>\n",
              "      <td>2011</td>\n",
              "      <td>1</td>\n",
              "      <td>0</td>\n",
              "      <td>73</td>\n",
              "      <td>1</td>\n",
              "      <td>1</td>\n",
              "      <td>2</td>\n",
              "      <td>3</td>\n",
              "    </tr>\n",
              "    <tr>\n",
              "      <th>4</th>\n",
              "      <td>1</td>\n",
              "      <td>0</td>\n",
              "      <td>0</td>\n",
              "      <td>2009</td>\n",
              "      <td>8</td>\n",
              "      <td>0</td>\n",
              "      <td>51</td>\n",
              "      <td>2</td>\n",
              "      <td>1</td>\n",
              "      <td>1</td>\n",
              "      <td>1</td>\n",
              "    </tr>\n",
              "  </tbody>\n",
              "</table>\n",
              "</div>\n",
              "      <button class=\"colab-df-convert\" onclick=\"convertToInteractive('df-cb8c8808-50c3-49c4-bafb-f0a46b35dba0')\"\n",
              "              title=\"Convert this dataframe to an interactive table.\"\n",
              "              style=\"display:none;\">\n",
              "        \n",
              "  <svg xmlns=\"http://www.w3.org/2000/svg\" height=\"24px\"viewBox=\"0 0 24 24\"\n",
              "       width=\"24px\">\n",
              "    <path d=\"M0 0h24v24H0V0z\" fill=\"none\"/>\n",
              "    <path d=\"M18.56 5.44l.94 2.06.94-2.06 2.06-.94-2.06-.94-.94-2.06-.94 2.06-2.06.94zm-11 1L8.5 8.5l.94-2.06 2.06-.94-2.06-.94L8.5 2.5l-.94 2.06-2.06.94zm10 10l.94 2.06.94-2.06 2.06-.94-2.06-.94-.94-2.06-.94 2.06-2.06.94z\"/><path d=\"M17.41 7.96l-1.37-1.37c-.4-.4-.92-.59-1.43-.59-.52 0-1.04.2-1.43.59L10.3 9.45l-7.72 7.72c-.78.78-.78 2.05 0 2.83L4 21.41c.39.39.9.59 1.41.59.51 0 1.02-.2 1.41-.59l7.78-7.78 2.81-2.81c.8-.78.8-2.07 0-2.86zM5.41 20L4 18.59l7.72-7.72 1.47 1.35L5.41 20z\"/>\n",
              "  </svg>\n",
              "      </button>\n",
              "      \n",
              "  <style>\n",
              "    .colab-df-container {\n",
              "      display:flex;\n",
              "      flex-wrap:wrap;\n",
              "      gap: 12px;\n",
              "    }\n",
              "\n",
              "    .colab-df-convert {\n",
              "      background-color: #E8F0FE;\n",
              "      border: none;\n",
              "      border-radius: 50%;\n",
              "      cursor: pointer;\n",
              "      display: none;\n",
              "      fill: #1967D2;\n",
              "      height: 32px;\n",
              "      padding: 0 0 0 0;\n",
              "      width: 32px;\n",
              "    }\n",
              "\n",
              "    .colab-df-convert:hover {\n",
              "      background-color: #E2EBFA;\n",
              "      box-shadow: 0px 1px 2px rgba(60, 64, 67, 0.3), 0px 1px 3px 1px rgba(60, 64, 67, 0.15);\n",
              "      fill: #174EA6;\n",
              "    }\n",
              "\n",
              "    [theme=dark] .colab-df-convert {\n",
              "      background-color: #3B4455;\n",
              "      fill: #D2E3FC;\n",
              "    }\n",
              "\n",
              "    [theme=dark] .colab-df-convert:hover {\n",
              "      background-color: #434B5C;\n",
              "      box-shadow: 0px 1px 3px 1px rgba(0, 0, 0, 0.15);\n",
              "      filter: drop-shadow(0px 1px 2px rgba(0, 0, 0, 0.3));\n",
              "      fill: #FFFFFF;\n",
              "    }\n",
              "  </style>\n",
              "\n",
              "      <script>\n",
              "        const buttonEl =\n",
              "          document.querySelector('#df-cb8c8808-50c3-49c4-bafb-f0a46b35dba0 button.colab-df-convert');\n",
              "        buttonEl.style.display =\n",
              "          google.colab.kernel.accessAllowed ? 'block' : 'none';\n",
              "\n",
              "        async function convertToInteractive(key) {\n",
              "          const element = document.querySelector('#df-cb8c8808-50c3-49c4-bafb-f0a46b35dba0');\n",
              "          const dataTable =\n",
              "            await google.colab.kernel.invokeFunction('convertToInteractive',\n",
              "                                                     [key], {});\n",
              "          if (!dataTable) return;\n",
              "\n",
              "          const docLinkHtml = 'Like what you see? Visit the ' +\n",
              "            '<a target=\"_blank\" href=https://colab.research.google.com/notebooks/data_table.ipynb>data table notebook</a>'\n",
              "            + ' to learn more about interactive tables.';\n",
              "          element.innerHTML = '';\n",
              "          dataTable['output_type'] = 'display_data';\n",
              "          await google.colab.output.renderOutput(dataTable, element);\n",
              "          const docLink = document.createElement('div');\n",
              "          docLink.innerHTML = docLinkHtml;\n",
              "          element.appendChild(docLink);\n",
              "        }\n",
              "      </script>\n",
              "    </div>\n",
              "  </div>\n",
              "  "
            ]
          },
          "metadata": {},
          "execution_count": 88
        }
      ],
      "source": [
        "# Ahora aplicamos el modelo kmeans con 4 clusteres:\n",
        "kmeans = KMeans(n_clusters=4, random_state=42)\n",
        "kmeans.fit(X_scaled)\n",
        "\n",
        "# Agregamos el numero de clusteres al dataframe en su propia columna.\n",
        "df['cluster'] = kmeans.labels_\n",
        "df.head()"
      ]
    },
    {
      "cell_type": "code",
      "execution_count": null,
      "metadata": {
        "id": "sfeEdNeog8xw",
        "colab": {
          "base_uri": "https://localhost:8080/",
          "height": 175
        },
        "outputId": "3c2ad808-aa13-47fd-e10b-2bd0f83f8005"
      },
      "outputs": [
        {
          "output_type": "execute_result",
          "data": {
            "text/plain": [
              "   cluster  Hospitalised      Died     Urban         Year     Month       Sex  \\\n",
              "0        0      0.717742  0.427419  0.459677  2010.137097  6.362903  0.419355   \n",
              "1        1      0.999100  0.073807  0.000000  2010.037804  6.471647  0.565257   \n",
              "2        2      0.932806  0.150198  1.280632  2009.972332  5.873518  0.569170   \n",
              "3        3      0.108957  1.000000  0.053555  2010.060018  6.212373  0.465374   \n",
              "\n",
              "         Age  Education  Occupation    method  \n",
              "0  33.250000   2.008065    5.580645  2.048387  \n",
              "1  45.600360   1.795680    1.306031  1.459046  \n",
              "2  42.201581   2.067194    1.588933  1.743083  \n",
              "3  64.498615   0.765466    1.094183  1.546630  "
            ],
            "text/html": [
              "\n",
              "  <div id=\"df-c20daed1-9af7-4888-aefa-d3aee2f92a53\">\n",
              "    <div class=\"colab-df-container\">\n",
              "      <div>\n",
              "<style scoped>\n",
              "    .dataframe tbody tr th:only-of-type {\n",
              "        vertical-align: middle;\n",
              "    }\n",
              "\n",
              "    .dataframe tbody tr th {\n",
              "        vertical-align: top;\n",
              "    }\n",
              "\n",
              "    .dataframe thead th {\n",
              "        text-align: right;\n",
              "    }\n",
              "</style>\n",
              "<table border=\"1\" class=\"dataframe\">\n",
              "  <thead>\n",
              "    <tr style=\"text-align: right;\">\n",
              "      <th></th>\n",
              "      <th>cluster</th>\n",
              "      <th>Hospitalised</th>\n",
              "      <th>Died</th>\n",
              "      <th>Urban</th>\n",
              "      <th>Year</th>\n",
              "      <th>Month</th>\n",
              "      <th>Sex</th>\n",
              "      <th>Age</th>\n",
              "      <th>Education</th>\n",
              "      <th>Occupation</th>\n",
              "      <th>method</th>\n",
              "    </tr>\n",
              "  </thead>\n",
              "  <tbody>\n",
              "    <tr>\n",
              "      <th>0</th>\n",
              "      <td>0</td>\n",
              "      <td>0.717742</td>\n",
              "      <td>0.427419</td>\n",
              "      <td>0.459677</td>\n",
              "      <td>2010.137097</td>\n",
              "      <td>6.362903</td>\n",
              "      <td>0.419355</td>\n",
              "      <td>33.250000</td>\n",
              "      <td>2.008065</td>\n",
              "      <td>5.580645</td>\n",
              "      <td>2.048387</td>\n",
              "    </tr>\n",
              "    <tr>\n",
              "      <th>1</th>\n",
              "      <td>1</td>\n",
              "      <td>0.999100</td>\n",
              "      <td>0.073807</td>\n",
              "      <td>0.000000</td>\n",
              "      <td>2010.037804</td>\n",
              "      <td>6.471647</td>\n",
              "      <td>0.565257</td>\n",
              "      <td>45.600360</td>\n",
              "      <td>1.795680</td>\n",
              "      <td>1.306031</td>\n",
              "      <td>1.459046</td>\n",
              "    </tr>\n",
              "    <tr>\n",
              "      <th>2</th>\n",
              "      <td>2</td>\n",
              "      <td>0.932806</td>\n",
              "      <td>0.150198</td>\n",
              "      <td>1.280632</td>\n",
              "      <td>2009.972332</td>\n",
              "      <td>5.873518</td>\n",
              "      <td>0.569170</td>\n",
              "      <td>42.201581</td>\n",
              "      <td>2.067194</td>\n",
              "      <td>1.588933</td>\n",
              "      <td>1.743083</td>\n",
              "    </tr>\n",
              "    <tr>\n",
              "      <th>3</th>\n",
              "      <td>3</td>\n",
              "      <td>0.108957</td>\n",
              "      <td>1.000000</td>\n",
              "      <td>0.053555</td>\n",
              "      <td>2010.060018</td>\n",
              "      <td>6.212373</td>\n",
              "      <td>0.465374</td>\n",
              "      <td>64.498615</td>\n",
              "      <td>0.765466</td>\n",
              "      <td>1.094183</td>\n",
              "      <td>1.546630</td>\n",
              "    </tr>\n",
              "  </tbody>\n",
              "</table>\n",
              "</div>\n",
              "      <button class=\"colab-df-convert\" onclick=\"convertToInteractive('df-c20daed1-9af7-4888-aefa-d3aee2f92a53')\"\n",
              "              title=\"Convert this dataframe to an interactive table.\"\n",
              "              style=\"display:none;\">\n",
              "        \n",
              "  <svg xmlns=\"http://www.w3.org/2000/svg\" height=\"24px\"viewBox=\"0 0 24 24\"\n",
              "       width=\"24px\">\n",
              "    <path d=\"M0 0h24v24H0V0z\" fill=\"none\"/>\n",
              "    <path d=\"M18.56 5.44l.94 2.06.94-2.06 2.06-.94-2.06-.94-.94-2.06-.94 2.06-2.06.94zm-11 1L8.5 8.5l.94-2.06 2.06-.94-2.06-.94L8.5 2.5l-.94 2.06-2.06.94zm10 10l.94 2.06.94-2.06 2.06-.94-2.06-.94-.94-2.06-.94 2.06-2.06.94z\"/><path d=\"M17.41 7.96l-1.37-1.37c-.4-.4-.92-.59-1.43-.59-.52 0-1.04.2-1.43.59L10.3 9.45l-7.72 7.72c-.78.78-.78 2.05 0 2.83L4 21.41c.39.39.9.59 1.41.59.51 0 1.02-.2 1.41-.59l7.78-7.78 2.81-2.81c.8-.78.8-2.07 0-2.86zM5.41 20L4 18.59l7.72-7.72 1.47 1.35L5.41 20z\"/>\n",
              "  </svg>\n",
              "      </button>\n",
              "      \n",
              "  <style>\n",
              "    .colab-df-container {\n",
              "      display:flex;\n",
              "      flex-wrap:wrap;\n",
              "      gap: 12px;\n",
              "    }\n",
              "\n",
              "    .colab-df-convert {\n",
              "      background-color: #E8F0FE;\n",
              "      border: none;\n",
              "      border-radius: 50%;\n",
              "      cursor: pointer;\n",
              "      display: none;\n",
              "      fill: #1967D2;\n",
              "      height: 32px;\n",
              "      padding: 0 0 0 0;\n",
              "      width: 32px;\n",
              "    }\n",
              "\n",
              "    .colab-df-convert:hover {\n",
              "      background-color: #E2EBFA;\n",
              "      box-shadow: 0px 1px 2px rgba(60, 64, 67, 0.3), 0px 1px 3px 1px rgba(60, 64, 67, 0.15);\n",
              "      fill: #174EA6;\n",
              "    }\n",
              "\n",
              "    [theme=dark] .colab-df-convert {\n",
              "      background-color: #3B4455;\n",
              "      fill: #D2E3FC;\n",
              "    }\n",
              "\n",
              "    [theme=dark] .colab-df-convert:hover {\n",
              "      background-color: #434B5C;\n",
              "      box-shadow: 0px 1px 3px 1px rgba(0, 0, 0, 0.15);\n",
              "      filter: drop-shadow(0px 1px 2px rgba(0, 0, 0, 0.3));\n",
              "      fill: #FFFFFF;\n",
              "    }\n",
              "  </style>\n",
              "\n",
              "      <script>\n",
              "        const buttonEl =\n",
              "          document.querySelector('#df-c20daed1-9af7-4888-aefa-d3aee2f92a53 button.colab-df-convert');\n",
              "        buttonEl.style.display =\n",
              "          google.colab.kernel.accessAllowed ? 'block' : 'none';\n",
              "\n",
              "        async function convertToInteractive(key) {\n",
              "          const element = document.querySelector('#df-c20daed1-9af7-4888-aefa-d3aee2f92a53');\n",
              "          const dataTable =\n",
              "            await google.colab.kernel.invokeFunction('convertToInteractive',\n",
              "                                                     [key], {});\n",
              "          if (!dataTable) return;\n",
              "\n",
              "          const docLinkHtml = 'Like what you see? Visit the ' +\n",
              "            '<a target=\"_blank\" href=https://colab.research.google.com/notebooks/data_table.ipynb>data table notebook</a>'\n",
              "            + ' to learn more about interactive tables.';\n",
              "          element.innerHTML = '';\n",
              "          dataTable['output_type'] = 'display_data';\n",
              "          await google.colab.output.renderOutput(dataTable, element);\n",
              "          const docLink = document.createElement('div');\n",
              "          docLink.innerHTML = docLinkHtml;\n",
              "          element.appendChild(docLink);\n",
              "        }\n",
              "      </script>\n",
              "    </div>\n",
              "  </div>\n",
              "  "
            ]
          },
          "metadata": {},
          "execution_count": 89
        }
      ],
      "source": [
        "# Lo que hacemos ahora, es que agrupamos el dataframe de acuerdo a los clusters (los 4 escogidos) y hacemos que nos muestre el promedio de cada columna (esto es para\n",
        "# tener una idea mas general de los valores).\n",
        "\n",
        "cluster_groups = df.groupby('cluster', as_index=False).mean()\n",
        "cluster_groups"
      ]
    },
    {
      "cell_type": "code",
      "execution_count": null,
      "metadata": {
        "id": "40B7B5Ilg8vm",
        "colab": {
          "base_uri": "https://localhost:8080/",
          "height": 1000
        },
        "outputId": "251ceb82-429a-44cf-fed7-e0699ff79758"
      },
      "outputs": [
        {
          "output_type": "display_data",
          "data": {
            "text/plain": [
              "<Figure size 3000x2000 with 12 Axes>"
            ],
            "image/png": "[encoded data removed]"
          },
          "metadata": {}
        }
      ],
      "source": [
        "# Graficamos los clusteres obtenidos.\n",
        "\n",
        "fig, axes = plt.subplots(4,3, figsize = (30, 20))\n",
        "axes = axes.ravel()\n",
        "for i, col in enumerate(cluster_groups.columns[1:]):\n",
        "  axes[i].bar(cluster_groups['cluster'], cluster_groups[col])\n",
        "  axes[i].set_title(f'Mean {col}')"
      ]
    },
    {
      "cell_type": "code",
      "execution_count": null,
      "metadata": {
        "id": "1AeWzK3fmWpw"
      },
      "outputs": [],
      "source": [
        "# Ahora vamos a las redes neuronales, antes era kmeans"
      ]
    },
    {
      "cell_type": "code",
      "execution_count": null,
      "metadata": {
        "id": "Ar9nMjL5g8tX"
      },
      "outputs": [],
      "source": [
        "# 1) Separación\n",
        "\n",
        "X = df.drop(columns = 'Died')\n",
        "y = df['Died']"
      ]
    },
    {
      "cell_type": "code",
      "execution_count": null,
      "metadata": {
        "id": "t4YjFQKMg8rJ"
      },
      "outputs": [],
      "source": [
        "# 2) Escalar\n",
        "\n",
        "scaler = StandardScaler()\n",
        "scaled_df = scaler.fit_transform(X)"
      ]
    },
    {
      "cell_type": "code",
      "execution_count": null,
      "metadata": {
        "id": "B9kbK3nrg8pI",
        "colab": {
          "base_uri": "https://localhost:8080/",
          "height": 1000
        },
        "outputId": "3c6eed92-4e01-4815-85e1-6e010649de13"
      },
      "outputs": [
        {
          "output_type": "stream",
          "name": "stderr",
          "text": [
            "/usr/local/lib/python3.10/dist-packages/sklearn/cluster/_kmeans.py:870: FutureWarning: The default value of `n_init` will change from 10 to 'auto' in 1.4. Set the value of `n_init` explicitly to suppress the warning\n",
            "  warnings.warn(\n",
            "/usr/local/lib/python3.10/dist-packages/sklearn/cluster/_kmeans.py:870: FutureWarning: The default value of `n_init` will change from 10 to 'auto' in 1.4. Set the value of `n_init` explicitly to suppress the warning\n",
            "  warnings.warn(\n",
            "/usr/local/lib/python3.10/dist-packages/sklearn/cluster/_kmeans.py:870: FutureWarning: The default value of `n_init` will change from 10 to 'auto' in 1.4. Set the value of `n_init` explicitly to suppress the warning\n",
            "  warnings.warn(\n",
            "/usr/local/lib/python3.10/dist-packages/sklearn/cluster/_kmeans.py:870: FutureWarning: The default value of `n_init` will change from 10 to 'auto' in 1.4. Set the value of `n_init` explicitly to suppress the warning\n",
            "  warnings.warn(\n",
            "/usr/local/lib/python3.10/dist-packages/sklearn/cluster/_kmeans.py:870: FutureWarning: The default value of `n_init` will change from 10 to 'auto' in 1.4. Set the value of `n_init` explicitly to suppress the warning\n",
            "  warnings.warn(\n",
            "/usr/local/lib/python3.10/dist-packages/sklearn/cluster/_kmeans.py:870: FutureWarning: The default value of `n_init` will change from 10 to 'auto' in 1.4. Set the value of `n_init` explicitly to suppress the warning\n",
            "  warnings.warn(\n",
            "/usr/local/lib/python3.10/dist-packages/sklearn/cluster/_kmeans.py:870: FutureWarning: The default value of `n_init` will change from 10 to 'auto' in 1.4. Set the value of `n_init` explicitly to suppress the warning\n",
            "  warnings.warn(\n",
            "/usr/local/lib/python3.10/dist-packages/sklearn/cluster/_kmeans.py:870: FutureWarning: The default value of `n_init` will change from 10 to 'auto' in 1.4. Set the value of `n_init` explicitly to suppress the warning\n",
            "  warnings.warn(\n",
            "/usr/local/lib/python3.10/dist-packages/sklearn/cluster/_kmeans.py:870: FutureWarning: The default value of `n_init` will change from 10 to 'auto' in 1.4. Set the value of `n_init` explicitly to suppress the warning\n",
            "  warnings.warn(\n",
            "/usr/local/lib/python3.10/dist-packages/sklearn/cluster/_kmeans.py:870: FutureWarning: The default value of `n_init` will change from 10 to 'auto' in 1.4. Set the value of `n_init` explicitly to suppress the warning\n",
            "  warnings.warn(\n",
            "/usr/local/lib/python3.10/dist-packages/sklearn/cluster/_kmeans.py:870: FutureWarning: The default value of `n_init` will change from 10 to 'auto' in 1.4. Set the value of `n_init` explicitly to suppress the warning\n",
            "  warnings.warn(\n",
            "/usr/local/lib/python3.10/dist-packages/sklearn/cluster/_kmeans.py:870: FutureWarning: The default value of `n_init` will change from 10 to 'auto' in 1.4. Set the value of `n_init` explicitly to suppress the warning\n",
            "  warnings.warn(\n",
            "/usr/local/lib/python3.10/dist-packages/sklearn/cluster/_kmeans.py:870: FutureWarning: The default value of `n_init` will change from 10 to 'auto' in 1.4. Set the value of `n_init` explicitly to suppress the warning\n",
            "  warnings.warn(\n",
            "/usr/local/lib/python3.10/dist-packages/sklearn/cluster/_kmeans.py:870: FutureWarning: The default value of `n_init` will change from 10 to 'auto' in 1.4. Set the value of `n_init` explicitly to suppress the warning\n",
            "  warnings.warn(\n",
            "/usr/local/lib/python3.10/dist-packages/sklearn/cluster/_kmeans.py:870: FutureWarning: The default value of `n_init` will change from 10 to 'auto' in 1.4. Set the value of `n_init` explicitly to suppress the warning\n",
            "  warnings.warn(\n",
            "/usr/local/lib/python3.10/dist-packages/sklearn/cluster/_kmeans.py:870: FutureWarning: The default value of `n_init` will change from 10 to 'auto' in 1.4. Set the value of `n_init` explicitly to suppress the warning\n",
            "  warnings.warn(\n",
            "/usr/local/lib/python3.10/dist-packages/sklearn/cluster/_kmeans.py:870: FutureWarning: The default value of `n_init` will change from 10 to 'auto' in 1.4. Set the value of `n_init` explicitly to suppress the warning\n",
            "  warnings.warn(\n",
            "/usr/local/lib/python3.10/dist-packages/sklearn/cluster/_kmeans.py:870: FutureWarning: The default value of `n_init` will change from 10 to 'auto' in 1.4. Set the value of `n_init` explicitly to suppress the warning\n",
            "  warnings.warn(\n",
            "/usr/local/lib/python3.10/dist-packages/sklearn/cluster/_kmeans.py:870: FutureWarning: The default value of `n_init` will change from 10 to 'auto' in 1.4. Set the value of `n_init` explicitly to suppress the warning\n",
            "  warnings.warn(\n",
            "/usr/local/lib/python3.10/dist-packages/sklearn/cluster/_kmeans.py:870: FutureWarning: The default value of `n_init` will change from 10 to 'auto' in 1.4. Set the value of `n_init` explicitly to suppress the warning\n",
            "  warnings.warn(\n",
            "/usr/local/lib/python3.10/dist-packages/sklearn/cluster/_kmeans.py:870: FutureWarning: The default value of `n_init` will change from 10 to 'auto' in 1.4. Set the value of `n_init` explicitly to suppress the warning\n",
            "  warnings.warn(\n",
            "/usr/local/lib/python3.10/dist-packages/sklearn/cluster/_kmeans.py:870: FutureWarning: The default value of `n_init` will change from 10 to 'auto' in 1.4. Set the value of `n_init` explicitly to suppress the warning\n",
            "  warnings.warn(\n"
          ]
        },
        {
          "output_type": "display_data",
          "data": {
            "text/plain": [
              "<Figure size 640x480 with 1 Axes>"
            ],
            "image/png": "[encoded data removed]"
          },
          "metadata": {}
        }
      ],
      "source": [
        "sse = [] # Suma de errores cuadrados\n",
        "\n",
        "for k in range(1, 23):\n",
        "    kmeans = KMeans(n_clusters=k, random_state=0)\n",
        "    kmeans.fit(df)\n",
        "    sse.append(kmeans.inertia_)\n",
        "\n",
        "# Graficar el gráfico del codo\n",
        "plt.plot(range(1, 23), sse, marker='o')\n",
        "plt.xlabel('Número de grupos (k)')\n",
        "plt.ylabel('Suma de errores cuadrados')\n",
        "plt.title('Gráfico del Codo')\n",
        "plt.show();"
      ]
    },
    {
      "cell_type": "code",
      "execution_count": null,
      "metadata": {
        "id": "kHpdaYHsg8nA",
        "colab": {
          "base_uri": "https://localhost:8080/",
          "height": 804
        },
        "outputId": "06b7351e-24a0-486a-ebab-9cd569695728"
      },
      "outputs": [
        {
          "output_type": "stream",
          "name": "stderr",
          "text": [
            "/usr/local/lib/python3.10/dist-packages/sklearn/cluster/_kmeans.py:870: FutureWarning: The default value of `n_init` will change from 10 to 'auto' in 1.4. Set the value of `n_init` explicitly to suppress the warning\n",
            "  warnings.warn(\n",
            "/usr/local/lib/python3.10/dist-packages/sklearn/cluster/_kmeans.py:870: FutureWarning: The default value of `n_init` will change from 10 to 'auto' in 1.4. Set the value of `n_init` explicitly to suppress the warning\n",
            "  warnings.warn(\n",
            "/usr/local/lib/python3.10/dist-packages/sklearn/cluster/_kmeans.py:870: FutureWarning: The default value of `n_init` will change from 10 to 'auto' in 1.4. Set the value of `n_init` explicitly to suppress the warning\n",
            "  warnings.warn(\n",
            "/usr/local/lib/python3.10/dist-packages/sklearn/cluster/_kmeans.py:870: FutureWarning: The default value of `n_init` will change from 10 to 'auto' in 1.4. Set the value of `n_init` explicitly to suppress the warning\n",
            "  warnings.warn(\n",
            "/usr/local/lib/python3.10/dist-packages/sklearn/cluster/_kmeans.py:870: FutureWarning: The default value of `n_init` will change from 10 to 'auto' in 1.4. Set the value of `n_init` explicitly to suppress the warning\n",
            "  warnings.warn(\n",
            "/usr/local/lib/python3.10/dist-packages/sklearn/cluster/_kmeans.py:870: FutureWarning: The default value of `n_init` will change from 10 to 'auto' in 1.4. Set the value of `n_init` explicitly to suppress the warning\n",
            "  warnings.warn(\n",
            "/usr/local/lib/python3.10/dist-packages/sklearn/cluster/_kmeans.py:870: FutureWarning: The default value of `n_init` will change from 10 to 'auto' in 1.4. Set the value of `n_init` explicitly to suppress the warning\n",
            "  warnings.warn(\n",
            "/usr/local/lib/python3.10/dist-packages/sklearn/cluster/_kmeans.py:870: FutureWarning: The default value of `n_init` will change from 10 to 'auto' in 1.4. Set the value of `n_init` explicitly to suppress the warning\n",
            "  warnings.warn(\n",
            "/usr/local/lib/python3.10/dist-packages/sklearn/cluster/_kmeans.py:870: FutureWarning: The default value of `n_init` will change from 10 to 'auto' in 1.4. Set the value of `n_init` explicitly to suppress the warning\n",
            "  warnings.warn(\n"
          ]
        },
        {
          "output_type": "display_data",
          "data": {
            "text/plain": [
              "<Figure size 640x480 with 1 Axes>"
            ],
            "image/png": "[encoded data removed]"
          },
          "metadata": {}
        }
      ],
      "source": [
        "sse = [] # Suma de errores cuadrados\n",
        "\n",
        "for k in range(1, 10):\n",
        "    kmeans = KMeans(n_clusters=k, random_state=0)\n",
        "    kmeans.fit(df)\n",
        "    sse.append(kmeans.inertia_)\n",
        "\n",
        "# Graficar el gráfico del codo\n",
        "plt.plot(range(1, 10), sse, marker='o')\n",
        "plt.xlabel('Número de grupos (k)')\n",
        "plt.ylabel('Suma de errores cuadrados')\n",
        "plt.title('Gráfico del Codo')\n",
        "plt.show();"
      ]
    },
    {
      "cell_type": "code",
      "execution_count": null,
      "metadata": {
        "id": "uHYlBAIUg8kv"
      },
      "outputs": [],
      "source": [
        "# Ahora podemos dividir los datos con el test train split\n",
        "\n",
        "X_train, X_test, y_train, y_test = train_test_split(X, y, random_state=42)"
      ]
    },
    {
      "cell_type": "code",
      "execution_count": null,
      "metadata": {
        "id": "f2TrceOgg8io"
      },
      "outputs": [],
      "source": [
        "# Creamos un pipeline. Ya escalamos los datos y este paso es bueno para evitar fugas.\n",
        "\n",
        "transformer = make_pipeline(StandardScaler())"
      ]
    },
    {
      "cell_type": "code",
      "execution_count": null,
      "metadata": {
        "id": "Z4ze7PH-g8gh",
        "colab": {
          "base_uri": "https://localhost:8080/",
          "height": 151
        },
        "outputId": "08b9760d-e57a-4b59-841d-7e1feb59c021"
      },
      "outputs": [
        {
          "output_type": "execute_result",
          "data": {
            "text/plain": [
              "Pipeline(steps=[('pipeline',\n",
              "                 Pipeline(steps=[('standardscaler', StandardScaler())])),\n",
              "                ('logisticregression', LogisticRegression())])"
            ],
            "text/html": [
              "<style>#sk-container-id-3 {color: black;background-color: white;}#sk-container-id-3 pre{padding: 0;}#sk-container-id-3 div.sk-toggleable {background-color: white;}#sk-container-id-3 label.sk-toggleable__label {cursor: pointer;display: block;width: 100%;margin-bottom: 0;padding: 0.3em;box-sizing: border-box;text-align: center;}#sk-container-id-3 label.sk-toggleable__label-arrow:before {content: \"▸\";float: left;margin-right: 0.25em;color: #696969;}#sk-container-id-3 label.sk-toggleable__label-arrow:hover:before {color: black;}#sk-container-id-3 div.sk-estimator:hover label.sk-toggleable__label-arrow:before {color: black;}#sk-container-id-3 div.sk-toggleable__content {max-height: 0;max-width: 0;overflow: hidden;text-align: left;background-color: #f0f8ff;}#sk-container-id-3 div.sk-toggleable__content pre {margin: 0.2em;color: black;border-radius: 0.25em;background-color: #f0f8ff;}#sk-container-id-3 input.sk-toggleable__control:checked~div.sk-toggleable__content {max-height: 200px;max-width: 100%;overflow: auto;}#sk-container-id-3 input.sk-toggleable__control:checked~label.sk-toggleable__label-arrow:before {content: \"▾\";}#sk-container-id-3 div.sk-estimator input.sk-toggleable__control:checked~label.sk-toggleable__label {background-color: #d4ebff;}#sk-container-id-3 div.sk-label input.sk-toggleable__control:checked~label.sk-toggleable__label {background-color: #d4ebff;}#sk-container-id-3 input.sk-hidden--visually {border: 0;clip: rect(1px 1px 1px 1px);clip: rect(1px, 1px, 1px, 1px);height: 1px;margin: -1px;overflow: hidden;padding: 0;position: absolute;width: 1px;}#sk-container-id-3 div.sk-estimator {font-family: monospace;background-color: #f0f8ff;border: 1px dotted black;border-radius: 0.25em;box-sizing: border-box;margin-bottom: 0.5em;}#sk-container-id-3 div.sk-estimator:hover {background-color: #d4ebff;}#sk-container-id-3 div.sk-parallel-item::after {content: \"\";width: 100%;border-bottom: 1px solid gray;flex-grow: 1;}#sk-container-id-3 div.sk-label:hover label.sk-toggleable__label {background-color: #d4ebff;}#sk-container-id-3 div.sk-serial::before {content: \"\";position: absolute;border-left: 1px solid gray;box-sizing: border-box;top: 0;bottom: 0;left: 50%;z-index: 0;}#sk-container-id-3 div.sk-serial {display: flex;flex-direction: column;align-items: center;background-color: white;padding-right: 0.2em;padding-left: 0.2em;position: relative;}#sk-container-id-3 div.sk-item {position: relative;z-index: 1;}#sk-container-id-3 div.sk-parallel {display: flex;align-items: stretch;justify-content: center;background-color: white;position: relative;}#sk-container-id-3 div.sk-item::before, #sk-container-id-3 div.sk-parallel-item::before {content: \"\";position: absolute;border-left: 1px solid gray;box-sizing: border-box;top: 0;bottom: 0;left: 50%;z-index: -1;}#sk-container-id-3 div.sk-parallel-item {display: flex;flex-direction: column;z-index: 1;position: relative;background-color: white;}#sk-container-id-3 div.sk-parallel-item:first-child::after {align-self: flex-end;width: 50%;}#sk-container-id-3 div.sk-parallel-item:last-child::after {align-self: flex-start;width: 50%;}#sk-container-id-3 div.sk-parallel-item:only-child::after {width: 0;}#sk-container-id-3 div.sk-dashed-wrapped {border: 1px dashed gray;margin: 0 0.4em 0.5em 0.4em;box-sizing: border-box;padding-bottom: 0.4em;background-color: white;}#sk-container-id-3 div.sk-label label {font-family: monospace;font-weight: bold;display: inline-block;line-height: 1.2em;}#sk-container-id-3 div.sk-label-container {text-align: center;}#sk-container-id-3 div.sk-container {/* jupyter's `normalize.less` sets `[hidden] { display: none; }` but bootstrap.min.css set `[hidden] { display: none !important; }` so we also need the `!important` here to be able to override the default hidden behavior on the sphinx rendered scikit-learn.org. See: https://github.com/scikit-learn/scikit-learn/issues/21755 */display: inline-block !important;position: relative;}#sk-container-id-3 div.sk-text-repr-fallback {display: none;}</style><div id=\"sk-container-id-3\" class=\"sk-top-container\"><div class=\"sk-text-repr-fallback\"><pre>Pipeline(steps=[(&#x27;pipeline&#x27;,\n",
              "                 Pipeline(steps=[(&#x27;standardscaler&#x27;, StandardScaler())])),\n",
              "                (&#x27;logisticregression&#x27;, LogisticRegression())])</pre><b>In a Jupyter environment, please rerun this cell to show the HTML representation or trust the notebook. <br />On GitHub, the HTML representation is unable to render, please try loading this page with nbviewer.org.</b></div><div class=\"sk-container\" hidden><div class=\"sk-item sk-dashed-wrapped\"><div class=\"sk-label-container\"><div class=\"sk-label sk-toggleable\"><input class=\"sk-toggleable__control sk-hidden--visually\" id=\"sk-estimator-id-3\" type=\"checkbox\" ><label for=\"sk-estimator-id-3\" class=\"sk-toggleable__label sk-toggleable__label-arrow\">Pipeline</label><div class=\"sk-toggleable__content\"><pre>Pipeline(steps=[(&#x27;pipeline&#x27;,\n",
              "                 Pipeline(steps=[(&#x27;standardscaler&#x27;, StandardScaler())])),\n",
              "                (&#x27;logisticregression&#x27;, LogisticRegression())])</pre></div></div></div><div class=\"sk-serial\"><div class=\"sk-item\"><div class=\"sk-label-container\"><div class=\"sk-label sk-toggleable\"><input class=\"sk-toggleable__control sk-hidden--visually\" id=\"sk-estimator-id-4\" type=\"checkbox\" ><label for=\"sk-estimator-id-4\" class=\"sk-toggleable__label sk-toggleable__label-arrow\">pipeline: Pipeline</label><div class=\"sk-toggleable__content\"><pre>Pipeline(steps=[(&#x27;standardscaler&#x27;, StandardScaler())])</pre></div></div></div><div class=\"sk-serial\"><div class=\"sk-item\"><div class=\"sk-estimator sk-toggleable\"><input class=\"sk-toggleable__control sk-hidden--visually\" id=\"sk-estimator-id-5\" type=\"checkbox\" ><label for=\"sk-estimator-id-5\" class=\"sk-toggleable__label sk-toggleable__label-arrow\">StandardScaler</label><div class=\"sk-toggleable__content\"><pre>StandardScaler()</pre></div></div></div></div></div><div class=\"sk-item\"><div class=\"sk-estimator sk-toggleable\"><input class=\"sk-toggleable__control sk-hidden--visually\" id=\"sk-estimator-id-6\" type=\"checkbox\" ><label for=\"sk-estimator-id-6\" class=\"sk-toggleable__label sk-toggleable__label-arrow\">LogisticRegression</label><div class=\"sk-toggleable__content\"><pre>LogisticRegression()</pre></div></div></div></div></div></div></div>"
            ]
          },
          "metadata": {},
          "execution_count": 98
        }
      ],
      "source": [
        "# Un pipeline dentro de otro añadiendole la regresion logistica.\n",
        "\n",
        "logreg = LogisticRegression()\n",
        "logreg_pipe = make_pipeline(transformer, logreg)\n",
        "logreg_pipe.fit(X_train, y_train)"
      ]
    },
    {
      "cell_type": "code",
      "execution_count": null,
      "metadata": {
        "id": "EEBXSsjBg8ew",
        "colab": {
          "base_uri": "https://localhost:8080/"
        },
        "outputId": "6b81be54-c40b-4478-ffa6-d3220c8841a0"
      },
      "outputs": [
        {
          "output_type": "stream",
          "name": "stdout",
          "text": [
            "Training accuracy: 0.9590248962655602\n",
            "Testing accuracy: 0.9346811819595645\n"
          ]
        }
      ],
      "source": [
        "print('Training accuracy:', logreg_pipe.score(X_train, y_train))\n",
        "print('Testing accuracy:', logreg_pipe.score(X_test, y_test))"
      ]
    },
    {
      "cell_type": "code",
      "execution_count": null,
      "metadata": {
        "id": "pCLEFl1742Iu"
      },
      "outputs": [],
      "source": []
    },
    {
      "cell_type": "code",
      "execution_count": null,
      "metadata": {
        "id": "r1dzRffwg8cs",
        "colab": {
          "base_uri": "https://localhost:8080/"
        },
        "outputId": "059c1189-bae0-4546-b51e-0df576a2d39e"
      },
      "outputs": [
        {
          "output_type": "execute_result",
          "data": {
            "text/plain": [
              "10"
            ]
          },
          "metadata": {},
          "execution_count": 100
        }
      ],
      "source": [
        "# Debemos definir nuestra estructura de red. Tenemos 7 columnas, por lo que ese será el maximo de neuronas en la primera capa.\n",
        "\n",
        "input_shape = X_train.shape[1]\n",
        "input_shape"
      ]
    },
    {
      "cell_type": "code",
      "execution_count": null,
      "metadata": {
        "id": "_va7I5PPg8al"
      },
      "outputs": [],
      "source": [
        "# En el examen, nos piden que utilicemos un modelo secuencial:\n",
        "\n",
        "model = Sequential()"
      ]
    },
    {
      "cell_type": "code",
      "execution_count": null,
      "metadata": {
        "id": "JX6W-kezg8Yb"
      },
      "outputs": [],
      "source": [
        "# Primera capa oculta\n",
        "model.add(Dense(10, # Tengo 10 neuronas en mi primera capa\n",
        "                input_dim = input_shape,\n",
        "                activation = 'relu'))\n",
        "# Capa de salida\n",
        "model.add(Dense(1, activation = 'sigmoid'))"
      ]
    },
    {
      "cell_type": "code",
      "execution_count": null,
      "metadata": {
        "id": "rtgFXlRWg8WJ"
      },
      "outputs": [],
      "source": [
        "# Paso 2: Compilar\n",
        "\n",
        "model.compile(loss = 'bce', optimizer = 'adam')"
      ]
    },
    {
      "cell_type": "code",
      "execution_count": null,
      "metadata": {
        "id": "fwAr-vong8UD",
        "colab": {
          "base_uri": "https://localhost:8080/"
        },
        "outputId": "a07d89c2-f6a7-4e13-de61-74852ed563af"
      },
      "outputs": [
        {
          "output_type": "stream",
          "name": "stdout",
          "text": [
            "Epoch 1/10\n",
            "61/61 [==============================] - 1s 6ms/step - loss: 547.7231 - val_loss: 413.1172\n",
            "Epoch 2/10\n",
            "61/61 [==============================] - 0s 4ms/step - loss: 315.9663 - val_loss: 204.5061\n",
            "Epoch 3/10\n",
            "61/61 [==============================] - 0s 3ms/step - loss: 114.1504 - val_loss: 19.1106\n",
            "Epoch 4/10\n",
            "61/61 [==============================] - 0s 3ms/step - loss: 5.5125 - val_loss: 4.0721\n",
            "Epoch 5/10\n",
            "61/61 [==============================] - 0s 3ms/step - loss: 4.0996 - val_loss: 4.0675\n",
            "Epoch 6/10\n",
            "61/61 [==============================] - 0s 3ms/step - loss: 3.9902 - val_loss: 3.7789\n",
            "Epoch 7/10\n",
            "61/61 [==============================] - 0s 2ms/step - loss: 3.8648 - val_loss: 3.9362\n",
            "Epoch 8/10\n",
            "61/61 [==============================] - 0s 3ms/step - loss: 3.7868 - val_loss: 3.6341\n",
            "Epoch 9/10\n",
            "61/61 [==============================] - 0s 3ms/step - loss: 3.6271 - val_loss: 3.4593\n",
            "Epoch 10/10\n",
            "61/61 [==============================] - 0s 3ms/step - loss: 3.4772 - val_loss: 3.3438\n"
          ]
        }
      ],
      "source": [
        "# Paso 3: Ajustar el modelo\n",
        "\n",
        "history = model.fit(X_train, y_train,\n",
        "                    validation_data = (X_test, y_test),\n",
        "                    epochs=10)"
      ]
    },
    {
      "cell_type": "code",
      "execution_count": null,
      "metadata": {
        "id": "JwggC5t3jLyd",
        "colab": {
          "base_uri": "https://localhost:8080/",
          "height": 430
        },
        "outputId": "9ce6252a-f7a4-48c3-8ce0-7b2226b0f92c"
      },
      "outputs": [
        {
          "output_type": "display_data",
          "data": {
            "text/plain": [
              "<Figure size 640x480 with 1 Axes>"
            ],
            "image/png": "[encoded data removed]"
          },
          "metadata": {}
        }
      ],
      "source": [
        "# Visualizamos el resultado\n",
        "\n",
        "plt.plot(history.history['loss'], label='Train loss')\n",
        "plt.plot(history.history['val_loss'], label='Test Loss')\n",
        "plt.legend();"
      ]
    },
    {
      "cell_type": "code",
      "execution_count": null,
      "metadata": {
        "id": "sFXpmdCdjLwE",
        "colab": {
          "base_uri": "https://localhost:8080/"
        },
        "outputId": "35333859-7d0e-4942-e5d5-03a272507f53"
      },
      "outputs": [
        {
          "output_type": "stream",
          "name": "stdout",
          "text": [
            "21/21 [==============================] - 0s 2ms/step - loss: 3.3438\n"
          ]
        },
        {
          "output_type": "execute_result",
          "data": {
            "text/plain": [
              "3.343798875808716"
            ]
          },
          "metadata": {},
          "execution_count": 106
        }
      ],
      "source": [
        "loss = model.evaluate(X_test, y_test)\n",
        "loss"
      ]
    },
    {
      "cell_type": "code",
      "execution_count": null,
      "metadata": {
        "id": "U5RnCAJ8jLts",
        "colab": {
          "base_uri": "https://localhost:8080/"
        },
        "outputId": "70f67272-8866-4217-d3b4-1ebb91d33185"
      },
      "outputs": [
        {
          "output_type": "stream",
          "name": "stdout",
          "text": [
            "21/21 [==============================] - 0s 2ms/step\n"
          ]
        },
        {
          "output_type": "execute_result",
          "data": {
            "text/plain": [
              "0.7508090614886731"
            ]
          },
          "metadata": {},
          "execution_count": 107
        }
      ],
      "source": [
        "# Obtener las predicciones del modelo\n",
        "y_pred = model.predict(X_test)\n",
        "\n",
        "# Redondear las predicciones a la clase correspondiente\n",
        "y_pred_rounded = np.round(y_pred)\n",
        "\n",
        "# Calcular el recall\n",
        "recall = recall_score(y_test, y_pred_rounded)\n",
        "\n",
        "recall"
      ]
    },
    {
      "cell_type": "code",
      "execution_count": null,
      "metadata": {
        "id": "LETevylHjUtx",
        "colab": {
          "base_uri": "https://localhost:8080/"
        },
        "outputId": "2a0237bb-7742-42d2-e5d3-ddf17f1bedd9"
      },
      "outputs": [
        {
          "output_type": "stream",
          "name": "stdout",
          "text": [
            "21/21 [==============================] - 0s 2ms/step\n"
          ]
        },
        {
          "output_type": "execute_result",
          "data": {
            "text/plain": [
              "0.7122861586314152"
            ]
          },
          "metadata": {},
          "execution_count": 108
        }
      ],
      "source": [
        "# Obtener las predicciones del modelo\n",
        "y_pred = model.predict(X_test)\n",
        "\n",
        "# Redondear las predicciones a la clase correspondiente\n",
        "y_pred_rounded = np.round(y_pred)\n",
        "\n",
        "# Calcular la precisión\n",
        "accuracy = accuracy_score(y_test, y_pred_rounded)\n",
        "\n",
        "accuracy"
      ]
    },
    {
      "cell_type": "code",
      "execution_count": null,
      "metadata": {
        "id": "RabmgWZAjUsO"
      },
      "outputs": [],
      "source": [
        "# ===== Segunda version de redes neuronales ====="
      ]
    },
    {
      "cell_type": "code",
      "execution_count": null,
      "metadata": {
        "id": "HoJoCBFujUqe"
      },
      "outputs": [],
      "source": [
        "# Primera capa oculta\n",
        "model.add(Dense(10, # Tengo 70 neuronas en mi primera capa\n",
        "                input_dim = input_shape,\n",
        "                activation = 'relu'))\n",
        "# Segunda capa oculta\n",
        "model.add(Dense(7, # Tengo 4 neuronas en mi segunda capa.\n",
        "                activation = 'relu'))\n",
        "# Tercera capa oculta\n",
        "model.add(Dense(4, # Tengo 4 neuronas en mi segunda capa.\n",
        "                activation = 'relu'))\n",
        "# Capa de salida\n",
        "model.add(Dense(1, activation = 'sigmoid'))"
      ]
    },
    {
      "cell_type": "code",
      "execution_count": null,
      "metadata": {
        "id": "byQSkhu2jUoZ"
      },
      "outputs": [],
      "source": [
        "# Paso 2: Compilar\n",
        "\n",
        "model.compile(loss = 'bce', optimizer = 'adam')"
      ]
    },
    {
      "cell_type": "code",
      "execution_count": null,
      "metadata": {
        "id": "0W8YoWyyjUmF",
        "colab": {
          "base_uri": "https://localhost:8080/"
        },
        "outputId": "752833c0-00ee-4bca-c859-b15b1f5b626b"
      },
      "outputs": [
        {
          "output_type": "stream",
          "name": "stdout",
          "text": [
            "Epoch 1/10\n",
            "61/61 [==============================] - 3s 6ms/step - loss: 0.6934 - val_loss: 0.6926\n",
            "Epoch 2/10\n",
            "61/61 [==============================] - 0s 4ms/step - loss: 0.6931 - val_loss: 0.6925\n",
            "Epoch 3/10\n",
            "61/61 [==============================] - 0s 4ms/step - loss: 0.6932 - val_loss: 0.6925\n",
            "Epoch 4/10\n",
            "61/61 [==============================] - 0s 4ms/step - loss: 0.6932 - val_loss: 0.6926\n",
            "Epoch 5/10\n",
            "61/61 [==============================] - 0s 4ms/step - loss: 0.6931 - val_loss: 0.6927\n",
            "Epoch 6/10\n",
            "61/61 [==============================] - 0s 4ms/step - loss: 0.6932 - val_loss: 0.6927\n",
            "Epoch 7/10\n",
            "61/61 [==============================] - 0s 4ms/step - loss: 0.6931 - val_loss: 0.6928\n",
            "Epoch 8/10\n",
            "61/61 [==============================] - 0s 4ms/step - loss: 0.6931 - val_loss: 0.6926\n",
            "Epoch 9/10\n",
            "61/61 [==============================] - 0s 3ms/step - loss: 0.6931 - val_loss: 0.6926\n",
            "Epoch 10/10\n",
            "61/61 [==============================] - 0s 3ms/step - loss: 0.6932 - val_loss: 0.6927\n"
          ]
        }
      ],
      "source": [
        "# Paso 3: Ajustar el modelo\n",
        "\n",
        "history = model.fit(X_train, y_train,\n",
        "                    validation_data = (X_test, y_test),\n",
        "                    epochs=10)"
      ]
    },
    {
      "cell_type": "code",
      "execution_count": null,
      "metadata": {
        "id": "QJke5ceOjUjn",
        "colab": {
          "base_uri": "https://localhost:8080/",
          "height": 430
        },
        "outputId": "d1bee5e8-cb26-48ee-e832-76842a721ae8"
      },
      "outputs": [
        {
          "output_type": "display_data",
          "data": {
            "text/plain": [
              "<Figure size 640x480 with 1 Axes>"
            ],
            "image/png": "[encoded data removed]"
          },
          "metadata": {}
        }
      ],
      "source": [
        "# Visualizamos el resultado\n",
        "\n",
        "plt.plot(history.history['loss'], label='Train loss')\n",
        "plt.plot(history.history['val_loss'], label='Test Loss')\n",
        "plt.legend();"
      ]
    },
    {
      "cell_type": "code",
      "execution_count": null,
      "metadata": {
        "id": "_f-5z7F4ZeHG",
        "colab": {
          "base_uri": "https://localhost:8080/"
        },
        "outputId": "73b1aa61-0974-4f23-f43b-fb2ce0d5cd63"
      },
      "outputs": [
        {
          "output_type": "stream",
          "name": "stdout",
          "text": [
            "21/21 [==============================] - 0s 2ms/step - loss: 0.6927\n"
          ]
        },
        {
          "output_type": "execute_result",
          "data": {
            "text/plain": [
              "0.6927295327186584"
            ]
          },
          "metadata": {},
          "execution_count": 114
        }
      ],
      "source": [
        "loss = model.evaluate(X_test, y_test)\n",
        "loss"
      ]
    },
    {
      "cell_type": "code",
      "execution_count": null,
      "metadata": {
        "id": "qcs8DAV-ZeE-",
        "colab": {
          "base_uri": "https://localhost:8080/"
        },
        "outputId": "dd10381d-3846-478e-f51b-ccc6187bbb96"
      },
      "outputs": [
        {
          "output_type": "stream",
          "name": "stdout",
          "text": [
            "21/21 [==============================] - 0s 2ms/step\n"
          ]
        },
        {
          "output_type": "execute_result",
          "data": {
            "text/plain": [
              "0.0"
            ]
          },
          "metadata": {},
          "execution_count": 115
        }
      ],
      "source": [
        "# Obtener las predicciones del modelo\n",
        "y_pred = model.predict(X_test)\n",
        "\n",
        "# Redondear las predicciones a la clase correspondiente\n",
        "y_pred_rounded = np.round(y_pred)\n",
        "\n",
        "# Calcular el recall\n",
        "recall = recall_score(y_test, y_pred_rounded)\n",
        "\n",
        "recall"
      ]
    },
    {
      "cell_type": "code",
      "execution_count": null,
      "metadata": {
        "id": "jYYoTEu9ZeC2",
        "colab": {
          "base_uri": "https://localhost:8080/"
        },
        "outputId": "96dcd21e-e9fb-479a-a817-f1f3108429cf"
      },
      "outputs": [
        {
          "output_type": "stream",
          "name": "stdout",
          "text": [
            "21/21 [==============================] - 0s 1ms/step\n"
          ]
        },
        {
          "output_type": "execute_result",
          "data": {
            "text/plain": [
              "0.5194401244167963"
            ]
          },
          "metadata": {},
          "execution_count": 116
        }
      ],
      "source": [
        "# Obtener las predicciones del modelo\n",
        "y_pred = model.predict(X_test)\n",
        "\n",
        "# Redondear las predicciones a la clase correspondiente\n",
        "y_pred_rounded = np.round(y_pred)\n",
        "\n",
        "# Calcular la precisión\n",
        "accuracy = accuracy_score(y_test, y_pred_rounded)\n",
        "\n",
        "accuracy"
      ]
    },
    {
      "cell_type": "code",
      "execution_count": null,
      "metadata": {
        "id": "uBs8AVzmZeAv"
      },
      "outputs": [],
      "source": [
        "# ===== Tercera version de redes neuronales ====="
      ]
    },
    {
      "cell_type": "code",
      "execution_count": null,
      "metadata": {
        "id": "-YZ5tEp5Zd-0"
      },
      "outputs": [],
      "source": [
        "# Agregamos una regularizacion\n",
        "\n",
        "model = keras.Sequential([\n",
        "    layers.Dense(10,\n",
        "                 input_dim=input_shape,\n",
        "                 activation='relu',\n",
        "                 kernel_regularizer=regularizers.l2(0.01)),\n",
        "    layers.Dense(4,\n",
        "                 activation='relu',\n",
        "                 kernel_regularizer=regularizers.l2(0.01)),\n",
        "    layers.Dense(1,\n",
        "                 activation='sigmoid')\n",
        "])"
      ]
    },
    {
      "cell_type": "code",
      "execution_count": null,
      "metadata": {
        "id": "Sv6769GFZd8u"
      },
      "outputs": [],
      "source": [
        "# Paso 2: Compilar\n",
        "\n",
        "model.compile(loss = 'bce', optimizer = 'adam')"
      ]
    },
    {
      "cell_type": "code",
      "execution_count": null,
      "metadata": {
        "id": "BzM6VPNeZd7i",
        "colab": {
          "base_uri": "https://localhost:8080/"
        },
        "outputId": "f62669dd-46a9-49ee-c0f5-19b6dcbcff2e"
      },
      "outputs": [
        {
          "output_type": "stream",
          "name": "stdout",
          "text": [
            "Epoch 1/10\n",
            "61/61 [==============================] - 1s 6ms/step - loss: 209.8644 - val_loss: 98.0651\n",
            "Epoch 2/10\n",
            "61/61 [==============================] - 0s 3ms/step - loss: 33.2545 - val_loss: 0.8329\n",
            "Epoch 3/10\n",
            "61/61 [==============================] - 0s 3ms/step - loss: 0.8269 - val_loss: 0.8187\n",
            "Epoch 4/10\n",
            "61/61 [==============================] - 0s 3ms/step - loss: 0.8140 - val_loss: 0.8071\n",
            "Epoch 5/10\n",
            "61/61 [==============================] - 0s 4ms/step - loss: 0.8036 - val_loss: 0.7979\n",
            "Epoch 6/10\n",
            "61/61 [==============================] - 0s 3ms/step - loss: 0.7952 - val_loss: 0.7904\n",
            "Epoch 7/10\n",
            "61/61 [==============================] - 0s 3ms/step - loss: 0.7884 - val_loss: 0.7844\n",
            "Epoch 8/10\n",
            "61/61 [==============================] - 0s 3ms/step - loss: 0.7830 - val_loss: 0.7796\n",
            "Epoch 9/10\n",
            "61/61 [==============================] - 0s 3ms/step - loss: 0.7786 - val_loss: 0.7758\n",
            "Epoch 10/10\n",
            "61/61 [==============================] - 0s 3ms/step - loss: 0.7752 - val_loss: 0.7727\n"
          ]
        }
      ],
      "source": [
        "# Paso 3: Ajustar el modelo\n",
        "\n",
        "history = model.fit(X_train, y_train,\n",
        "                    validation_data = (X_test, y_test),\n",
        "                    epochs=10)"
      ]
    },
    {
      "cell_type": "code",
      "execution_count": null,
      "metadata": {
        "id": "ifIYBpSgZd5m",
        "colab": {
          "base_uri": "https://localhost:8080/",
          "height": 430
        },
        "outputId": "7be69954-3050-476b-d272-f5a26e30f03d"
      },
      "outputs": [
        {
          "output_type": "display_data",
          "data": {
            "text/plain": [
              "<Figure size 640x480 with 1 Axes>"
            ],
            "image/png": "[encoded data removed]"
          },
          "metadata": {}
        }
      ],
      "source": [
        "# Visualizamos el resultado\n",
        "\n",
        "plt.plot(history.history['loss'], label='Train loss')\n",
        "plt.plot(history.history['val_loss'], label='Test Loss')\n",
        "plt.legend();"
      ]
    },
    {
      "cell_type": "code",
      "execution_count": null,
      "metadata": {
        "id": "_6TjU0-IZd3n",
        "colab": {
          "base_uri": "https://localhost:8080/"
        },
        "outputId": "bb025b2e-ee28-4cb4-f00e-084264f9fab7"
      },
      "outputs": [
        {
          "output_type": "stream",
          "name": "stdout",
          "text": [
            "21/21 [==============================] - 0s 2ms/step - loss: 0.7727\n"
          ]
        },
        {
          "output_type": "execute_result",
          "data": {
            "text/plain": [
              "0.7727442383766174"
            ]
          },
          "metadata": {},
          "execution_count": 122
        }
      ],
      "source": [
        "loss = model.evaluate(X_test, y_test)\n",
        "loss"
      ]
    },
    {
      "cell_type": "code",
      "execution_count": null,
      "metadata": {
        "id": "Ex6lO-FtZd1k",
        "colab": {
          "base_uri": "https://localhost:8080/"
        },
        "outputId": "afbcfc6c-9252-4473-fade-2e7dea16211a"
      },
      "outputs": [
        {
          "output_type": "stream",
          "name": "stdout",
          "text": [
            "21/21 [==============================] - 0s 2ms/step\n"
          ]
        },
        {
          "output_type": "execute_result",
          "data": {
            "text/plain": [
              "0.0"
            ]
          },
          "metadata": {},
          "execution_count": 123
        }
      ],
      "source": [
        "# Obtener las predicciones del modelo\n",
        "y_pred = model.predict(X_test)\n",
        "\n",
        "# Redondear las predicciones a la clase correspondiente\n",
        "y_pred_rounded = np.round(y_pred)\n",
        "\n",
        "# Calcular el recall\n",
        "recall = recall_score(y_test, y_pred_rounded)\n",
        "\n",
        "recall"
      ]
    },
    {
      "cell_type": "code",
      "execution_count": null,
      "metadata": {
        "id": "lWINZUSVpsQP",
        "colab": {
          "base_uri": "https://localhost:8080/"
        },
        "outputId": "17810b20-9e52-49e3-a60d-572be49c3be4"
      },
      "outputs": [
        {
          "output_type": "stream",
          "name": "stdout",
          "text": [
            "21/21 [==============================] - 0s 2ms/step\n"
          ]
        },
        {
          "output_type": "execute_result",
          "data": {
            "text/plain": [
              "0.5194401244167963"
            ]
          },
          "metadata": {},
          "execution_count": 124
        }
      ],
      "source": [
        "# Obtener las predicciones del modelo\n",
        "y_pred = model.predict(X_test)\n",
        "\n",
        "# Redondear las predicciones a la clase correspondiente\n",
        "y_pred_rounded = np.round(y_pred)\n",
        "\n",
        "# Calcular la precisión\n",
        "accuracy = accuracy_score(y_test, y_pred_rounded)\n",
        "\n",
        "accuracy"
      ]
    }
  ],
  "metadata": {
    "colab": {
      "provenance": []
    },
    "kernelspec": {
      "display_name": "Python 3",
      "name": "python3"
    },
    "language_info": {
      "name": "python"
    }
  },
  "nbformat": 4,
  "nbformat_minor": 0
}